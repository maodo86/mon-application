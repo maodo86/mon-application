{
 "cells": [
  {
   "cell_type": "code",
   "execution_count": 1,
   "metadata": {},
   "outputs": [],
   "source": [
    "import numpy as np\n",
    "import pandas as pd\n",
    "import time"
   ]
  },
  {
   "cell_type": "code",
   "execution_count": 2,
   "metadata": {},
   "outputs": [],
   "source": [
    "# B---CIBLE\n",
    "N_ETATS = 5   \n",
    "ACTIONS = ['gauche', 'droite']     \n",
    "EPSILON = 0.9  \n",
    "ALPHA = 0.1  \n",
    "GAMMA = 0.7   \n",
    "MAX_CYCLES = 5   \n",
    "TPS_MOUV = 0.5 "
   ]
  },
  {
   "cell_type": "code",
   "execution_count": 3,
   "metadata": {},
   "outputs": [],
   "source": [
    "def Construire_q_table(n_etats, actions):\n",
    "    table = pd.DataFrame(\n",
    "        np.zeros((n_etats, len(actions))),     \n",
    "        columns=actions,    \n",
    "    )\n",
    "    return table"
   ]
  },
  {
   "cell_type": "code",
   "execution_count": 4,
   "metadata": {},
   "outputs": [],
   "source": [
    "def choix_action(etat, q_table):\n",
    "    etat_actions = q_table.iloc[etat, :]\n",
    "    if (np.random.uniform() > EPSILON) or ((etat_actions == 0).all()): \n",
    "        nom_action = np.random.choice(ACTIONS)\n",
    "    else:   \n",
    "        nom_action = etat_actions.idxmax()    \n",
    "    return nom_action"
   ]
  },
  {
   "cell_type": "code",
   "execution_count": 5,
   "metadata": {},
   "outputs": [],
   "source": [
    "def nouv_etat_r(S, A):\n",
    "    if A == 'droite':    \n",
    "        if S == N_ETATS - 2:  \n",
    "            S_ = 'cible'\n",
    "            R = 1\n",
    "        else:\n",
    "            S_ = S + 1\n",
    "            R = 0\n",
    "    else:   \n",
    "        R = 0\n",
    "        if S == 0:\n",
    "            S_ = S  \n",
    "        else:\n",
    "            S_ = S - 1\n",
    "    return S_, R"
   ]
  },
  {
   "cell_type": "code",
   "execution_count": 6,
   "metadata": {},
   "outputs": [],
   "source": [
    "def maj_env(S, cycle, c_etape):\n",
    "    env_list = ['-']*(N_ETATS-1) + ['Cible']  \n",
    "    if S == 'cible':\n",
    "        interaction = 'Cycle %s: nombre_pas = %s' % (cycle+1, c_etape)\n",
    "        print('\\r{}'.format(interaction), end='')\n",
    "        time.sleep(2)\n",
    "        print('\\r                                ', end='')\n",
    "    else:\n",
    "        env_list[S] = 'B'\n",
    "        interaction = ''.join(env_list)\n",
    "        print('\\r{}'.format(interaction), end='')\n",
    "        time.sleep(TPS_MOUV)"
   ]
  },
  {
   "cell_type": "code",
   "execution_count": 7,
   "metadata": {},
   "outputs": [],
   "source": [
    "def rl():\n",
    "    q_table = Construire_q_table(N_ETATS, ACTIONS)\n",
    "    for cycle in range(MAX_CYCLES):\n",
    "        c_etape = 0\n",
    "        S = 0\n",
    "        fin_cycle = False\n",
    "        maj_env(S, cycle, c_etape)\n",
    "        while not fin_cycle:\n",
    "\n",
    "            A = choix_action(S, q_table)\n",
    "            S_, R = nouv_etat_r(S, A) \n",
    "            q_pred = q_table.loc[S, A]\n",
    "            if S_ != 'cible':\n",
    "                q_cible = R + GAMMA * q_table.iloc[S_, :].max()   \n",
    "            else:\n",
    "                q_cible = R    \n",
    "                fin_cycle = True   \n",
    "\n",
    "            q_table.loc[S, A] += ALPHA * (q_cible - q_pred)  \n",
    "            S = S_  \n",
    "\n",
    "            maj_env(S, cycle, c_etape+1)\n",
    "            c_etape += 1\n",
    "    return q_table"
   ]
  },
  {
   "cell_type": "code",
   "execution_count": null,
   "metadata": {},
   "outputs": [
    {
     "name": "stdout",
     "output_type": "stream",
     "text": [
      "B---Cible                       "
     ]
    }
   ],
   "source": [
    "if __name__ == \"__main__\":\n",
    "    q_table = rl()\n",
    "    print('\\r\\nQ-table:\\n')\n",
    "    print(q_table)"
   ]
  }
 ],
 "metadata": {
  "kernelspec": {
   "display_name": "Python 3",
   "language": "python",
   "name": "python3"
  },
  "language_info": {
   "codemirror_mode": {
    "name": "ipython",
    "version": 3
   },
   "file_extension": ".py",
   "mimetype": "text/x-python",
   "name": "python",
   "nbconvert_exporter": "python",
   "pygments_lexer": "ipython3",
   "version": "3.8.5"
  }
 },
 "nbformat": 4,
 "nbformat_minor": 2
}
