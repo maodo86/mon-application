{
 "cells": [
  {
   "cell_type": "markdown",
   "metadata": {
    "id": "voy7zco-rOXG"
   },
   "source": [
    "# <font color=red> Importation des outils et des données"
   ]
  },
  {
   "cell_type": "code",
   "execution_count": 1,
   "metadata": {
    "executionInfo": {
     "elapsed": 836,
     "status": "ok",
     "timestamp": 1609327341990,
     "user": {
      "displayName": "J.A DATATECH CONSULTING",
      "photoUrl": "https://lh3.googleusercontent.com/a-/AOh14Gi9wsjK7psnF8z3uOCEcA2yFkP2ckMODUtZxShO=s64",
      "userId": "06410945177748020218"
     },
     "user_tz": -60
    },
    "id": "DEQE7k1KqRJ4"
   },
   "outputs": [],
   "source": [
    "# Importation des librairies\n",
    "import numpy as np\n",
    "import pandas as pd\n",
    "import matplotlib.pyplot as plt\n",
    "import seaborn as sns\n",
    "\n"
   ]
  },
  {
   "cell_type": "code",
   "execution_count": 2,
   "metadata": {
    "colab": {
     "base_uri": "https://localhost:8080/"
    },
    "executionInfo": {
     "elapsed": 1784,
     "status": "ok",
     "timestamp": 1609327342948,
     "user": {
      "displayName": "J.A DATATECH CONSULTING",
      "photoUrl": "https://lh3.googleusercontent.com/a-/AOh14Gi9wsjK7psnF8z3uOCEcA2yFkP2ckMODUtZxShO=s64",
      "userId": "06410945177748020218"
     },
     "user_tz": -60
    },
    "id": "FnGXp9KNqo04",
    "outputId": "864d8d04-0618-4bf8-84a7-d130e5cdd4c8"
   },
   "outputs": [
    {
     "data": {
      "text/plain": [
       "['anagrams',\n",
       " 'anscombe',\n",
       " 'attention',\n",
       " 'brain_networks',\n",
       " 'car_crashes',\n",
       " 'diamonds',\n",
       " 'dots',\n",
       " 'exercise',\n",
       " 'flights',\n",
       " 'fmri',\n",
       " 'gammas',\n",
       " 'geyser',\n",
       " 'iris',\n",
       " 'mpg',\n",
       " 'penguins',\n",
       " 'planets',\n",
       " 'tips',\n",
       " 'titanic']"
      ]
     },
     "execution_count": 2,
     "metadata": {},
     "output_type": "execute_result"
    }
   ],
   "source": [
    "# Données se trouvant dans Seaborn\n",
    "sns.get_dataset_names()"
   ]
  },
  {
   "cell_type": "code",
   "execution_count": 3,
   "metadata": {
    "colab": {
     "base_uri": "https://localhost:8080/",
     "height": 203
    },
    "executionInfo": {
     "elapsed": 1772,
     "status": "ok",
     "timestamp": 1609327342949,
     "user": {
      "displayName": "J.A DATATECH CONSULTING",
      "photoUrl": "https://lh3.googleusercontent.com/a-/AOh14Gi9wsjK7psnF8z3uOCEcA2yFkP2ckMODUtZxShO=s64",
      "userId": "06410945177748020218"
     },
     "user_tz": -60
    },
    "id": "yMRhf2WfqjdV",
    "outputId": "03bb155e-7038-42c4-a7aa-b71fd67483d3"
   },
   "outputs": [
    {
     "data": {
      "text/html": [
       "<div>\n",
       "<style scoped>\n",
       "    .dataframe tbody tr th:only-of-type {\n",
       "        vertical-align: middle;\n",
       "    }\n",
       "\n",
       "    .dataframe tbody tr th {\n",
       "        vertical-align: top;\n",
       "    }\n",
       "\n",
       "    .dataframe thead th {\n",
       "        text-align: right;\n",
       "    }\n",
       "</style>\n",
       "<table border=\"1\" class=\"dataframe\">\n",
       "  <thead>\n",
       "    <tr style=\"text-align: right;\">\n",
       "      <th></th>\n",
       "      <th>total_bill</th>\n",
       "      <th>tip</th>\n",
       "      <th>sex</th>\n",
       "      <th>smoker</th>\n",
       "      <th>day</th>\n",
       "      <th>time</th>\n",
       "      <th>size</th>\n",
       "    </tr>\n",
       "  </thead>\n",
       "  <tbody>\n",
       "    <tr>\n",
       "      <th>0</th>\n",
       "      <td>16.99</td>\n",
       "      <td>1.01</td>\n",
       "      <td>Female</td>\n",
       "      <td>No</td>\n",
       "      <td>Sun</td>\n",
       "      <td>Dinner</td>\n",
       "      <td>2</td>\n",
       "    </tr>\n",
       "    <tr>\n",
       "      <th>1</th>\n",
       "      <td>10.34</td>\n",
       "      <td>1.66</td>\n",
       "      <td>Male</td>\n",
       "      <td>No</td>\n",
       "      <td>Sun</td>\n",
       "      <td>Dinner</td>\n",
       "      <td>3</td>\n",
       "    </tr>\n",
       "    <tr>\n",
       "      <th>2</th>\n",
       "      <td>21.01</td>\n",
       "      <td>3.50</td>\n",
       "      <td>Male</td>\n",
       "      <td>No</td>\n",
       "      <td>Sun</td>\n",
       "      <td>Dinner</td>\n",
       "      <td>3</td>\n",
       "    </tr>\n",
       "    <tr>\n",
       "      <th>3</th>\n",
       "      <td>23.68</td>\n",
       "      <td>3.31</td>\n",
       "      <td>Male</td>\n",
       "      <td>No</td>\n",
       "      <td>Sun</td>\n",
       "      <td>Dinner</td>\n",
       "      <td>2</td>\n",
       "    </tr>\n",
       "    <tr>\n",
       "      <th>4</th>\n",
       "      <td>24.59</td>\n",
       "      <td>3.61</td>\n",
       "      <td>Female</td>\n",
       "      <td>No</td>\n",
       "      <td>Sun</td>\n",
       "      <td>Dinner</td>\n",
       "      <td>4</td>\n",
       "    </tr>\n",
       "  </tbody>\n",
       "</table>\n",
       "</div>"
      ],
      "text/plain": [
       "   total_bill   tip     sex smoker  day    time  size\n",
       "0       16.99  1.01  Female     No  Sun  Dinner     2\n",
       "1       10.34  1.66    Male     No  Sun  Dinner     3\n",
       "2       21.01  3.50    Male     No  Sun  Dinner     3\n",
       "3       23.68  3.31    Male     No  Sun  Dinner     2\n",
       "4       24.59  3.61  Female     No  Sun  Dinner     4"
      ]
     },
     "execution_count": 3,
     "metadata": {},
     "output_type": "execute_result"
    }
   ],
   "source": [
    "# Importation du jeu de données 'tips'\n",
    "df = sns.load_dataset('tips')\n",
    "df.head()\n"
   ]
  },
  {
   "cell_type": "code",
   "execution_count": 4,
   "metadata": {
    "colab": {
     "base_uri": "https://localhost:8080/"
    },
    "executionInfo": {
     "elapsed": 1763,
     "status": "ok",
     "timestamp": 1609327342950,
     "user": {
      "displayName": "J.A DATATECH CONSULTING",
      "photoUrl": "https://lh3.googleusercontent.com/a-/AOh14Gi9wsjK7psnF8z3uOCEcA2yFkP2ckMODUtZxShO=s64",
      "userId": "06410945177748020218"
     },
     "user_tz": -60
    },
    "id": "5b-gAy4AuZsL",
    "outputId": "36bf68f3-1b84-4daf-a77f-0f107bf0ce87"
   },
   "outputs": [
    {
     "name": "stdout",
     "output_type": "stream",
     "text": [
      "<class 'pandas.core.frame.DataFrame'>\n",
      "RangeIndex: 244 entries, 0 to 243\n",
      "Data columns (total 7 columns):\n",
      " #   Column      Non-Null Count  Dtype   \n",
      "---  ------      --------------  -----   \n",
      " 0   total_bill  244 non-null    float64 \n",
      " 1   tip         244 non-null    float64 \n",
      " 2   sex         244 non-null    category\n",
      " 3   smoker      244 non-null    category\n",
      " 4   day         244 non-null    category\n",
      " 5   time        244 non-null    category\n",
      " 6   size        244 non-null    int64   \n",
      "dtypes: category(4), float64(2), int64(1)\n",
      "memory usage: 7.3 KB\n"
     ]
    }
   ],
   "source": [
    "# Structure des données: tip signifie pourboir\n",
    "df.info()"
   ]
  },
  {
   "cell_type": "markdown",
   "metadata": {
    "id": "MfLRJfKh7F4i"
   },
   "source": [
    "# <font color=red> Paramètres statistiques usuels"
   ]
  },
  {
   "cell_type": "code",
   "execution_count": 5,
   "metadata": {
    "colab": {
     "base_uri": "https://localhost:8080/"
    },
    "executionInfo": {
     "elapsed": 1752,
     "status": "ok",
     "timestamp": 1609327342951,
     "user": {
      "displayName": "J.A DATATECH CONSULTING",
      "photoUrl": "https://lh3.googleusercontent.com/a-/AOh14Gi9wsjK7psnF8z3uOCEcA2yFkP2ckMODUtZxShO=s64",
      "userId": "06410945177748020218"
     },
     "user_tz": -60
    },
    "id": "KAcR931x71JB",
    "outputId": "b0806c05-e66a-4f03-bb0f-78e77f1c7895"
   },
   "outputs": [
    {
     "data": {
      "text/plain": [
       "2.9982786885245902"
      ]
     },
     "execution_count": 5,
     "metadata": {},
     "output_type": "execute_result"
    }
   ],
   "source": [
    "# Pourboire moyen \n",
    "df['tip'].mean()\n"
   ]
  },
  {
   "cell_type": "code",
   "execution_count": 6,
   "metadata": {
    "colab": {
     "base_uri": "https://localhost:8080/"
    },
    "executionInfo": {
     "elapsed": 1742,
     "status": "ok",
     "timestamp": 1609327342952,
     "user": {
      "displayName": "J.A DATATECH CONSULTING",
      "photoUrl": "https://lh3.googleusercontent.com/a-/AOh14Gi9wsjK7psnF8z3uOCEcA2yFkP2ckMODUtZxShO=s64",
      "userId": "06410945177748020218"
     },
     "user_tz": -60
    },
    "id": "t2ekNY8H8oQF",
    "outputId": "7c685abd-b445-4d73-f504-7aff8cb1a4e4"
   },
   "outputs": [
    {
     "data": {
      "text/plain": [
       "2.9"
      ]
     },
     "execution_count": 6,
     "metadata": {},
     "output_type": "execute_result"
    }
   ],
   "source": [
    "# Pourboire médian\n",
    "df['tip'].median()\n"
   ]
  },
  {
   "cell_type": "code",
   "execution_count": 7,
   "metadata": {
    "colab": {
     "base_uri": "https://localhost:8080/"
    },
    "executionInfo": {
     "elapsed": 1733,
     "status": "ok",
     "timestamp": 1609327342953,
     "user": {
      "displayName": "J.A DATATECH CONSULTING",
      "photoUrl": "https://lh3.googleusercontent.com/a-/AOh14Gi9wsjK7psnF8z3uOCEcA2yFkP2ckMODUtZxShO=s64",
      "userId": "06410945177748020218"
     },
     "user_tz": -60
    },
    "id": "euvRVAqk-UwQ",
    "outputId": "3fd35e05-e091-4dac-d066-4e1c97c74757"
   },
   "outputs": [
    {
     "data": {
      "text/plain": [
       "1.0"
      ]
     },
     "execution_count": 7,
     "metadata": {},
     "output_type": "execute_result"
    }
   ],
   "source": [
    "# Pourboire minimum\n",
    "df['tip'].min()\n"
   ]
  },
  {
   "cell_type": "code",
   "execution_count": 8,
   "metadata": {
    "colab": {
     "base_uri": "https://localhost:8080/"
    },
    "executionInfo": {
     "elapsed": 1724,
     "status": "ok",
     "timestamp": 1609327342954,
     "user": {
      "displayName": "J.A DATATECH CONSULTING",
      "photoUrl": "https://lh3.googleusercontent.com/a-/AOh14Gi9wsjK7psnF8z3uOCEcA2yFkP2ckMODUtZxShO=s64",
      "userId": "06410945177748020218"
     },
     "user_tz": -60
    },
    "id": "tre6YixO-byl",
    "outputId": "8f134656-762d-40af-87bb-b3763053bb4d"
   },
   "outputs": [
    {
     "data": {
      "text/plain": [
       "10.0"
      ]
     },
     "execution_count": 8,
     "metadata": {},
     "output_type": "execute_result"
    }
   ],
   "source": [
    "# Pourboire maximum\n",
    "df['tip'].max()\n"
   ]
  },
  {
   "cell_type": "code",
   "execution_count": 9,
   "metadata": {
    "colab": {
     "base_uri": "https://localhost:8080/"
    },
    "executionInfo": {
     "elapsed": 1712,
     "status": "ok",
     "timestamp": 1609327342955,
     "user": {
      "displayName": "J.A DATATECH CONSULTING",
      "photoUrl": "https://lh3.googleusercontent.com/a-/AOh14Gi9wsjK7psnF8z3uOCEcA2yFkP2ckMODUtZxShO=s64",
      "userId": "06410945177748020218"
     },
     "user_tz": -60
    },
    "id": "3eKfqme6-geC",
    "outputId": "04d98562-7de3-4a05-8816-e084432d0198"
   },
   "outputs": [
    {
     "data": {
      "text/plain": [
       "2.00    33\n",
       "3.00    23\n",
       "4.00    12\n",
       "5.00    10\n",
       "2.50    10\n",
       "        ..\n",
       "2.83     1\n",
       "1.58     1\n",
       "3.71     1\n",
       "3.35     1\n",
       "2.18     1\n",
       "Name: tip, Length: 123, dtype: int64"
      ]
     },
     "execution_count": 9,
     "metadata": {},
     "output_type": "execute_result"
    }
   ],
   "source": [
    "# Distribution de fréquence de la variable 'tip'\n",
    "df['tip'].value_counts()\n"
   ]
  },
  {
   "cell_type": "code",
   "execution_count": 10,
   "metadata": {
    "colab": {
     "base_uri": "https://localhost:8080/"
    },
    "executionInfo": {
     "elapsed": 1701,
     "status": "ok",
     "timestamp": 1609327342956,
     "user": {
      "displayName": "J.A DATATECH CONSULTING",
      "photoUrl": "https://lh3.googleusercontent.com/a-/AOh14Gi9wsjK7psnF8z3uOCEcA2yFkP2ckMODUtZxShO=s64",
      "userId": "06410945177748020218"
     },
     "user_tz": -60
    },
    "id": "mr8EIQEq_m2I",
    "outputId": "b886f619-7af5-4ac6-d3e5-8b628a798289"
   },
   "outputs": [
    {
     "data": {
      "text/plain": [
       "Dinner    176\n",
       "Lunch      68\n",
       "Name: time, dtype: int64"
      ]
     },
     "execution_count": 10,
     "metadata": {},
     "output_type": "execute_result"
    }
   ],
   "source": [
    "# Distribution de fréquence de la variable 'time'\n",
    "df['time'].value_counts()\n"
   ]
  },
  {
   "cell_type": "code",
   "execution_count": 11,
   "metadata": {
    "colab": {
     "base_uri": "https://localhost:8080/"
    },
    "executionInfo": {
     "elapsed": 1691,
     "status": "ok",
     "timestamp": 1609327342957,
     "user": {
      "displayName": "J.A DATATECH CONSULTING",
      "photoUrl": "https://lh3.googleusercontent.com/a-/AOh14Gi9wsjK7psnF8z3uOCEcA2yFkP2ckMODUtZxShO=s64",
      "userId": "06410945177748020218"
     },
     "user_tz": -60
    },
    "id": "nxDXrz9VBsDz",
    "outputId": "fceeb988-350d-4a37-f5ef-599465753692"
   },
   "outputs": [
    {
     "data": {
      "text/plain": [
       "Dinner    72.131148\n",
       "Lunch     27.868852\n",
       "Name: time, dtype: float64"
      ]
     },
     "execution_count": 11,
     "metadata": {},
     "output_type": "execute_result"
    }
   ],
   "source": [
    "# Distribution de fréquence de la variable 'time' (en %)\n",
    "df['time'].value_counts(normalize=True)*100\n"
   ]
  },
  {
   "cell_type": "code",
   "execution_count": 12,
   "metadata": {
    "colab": {
     "base_uri": "https://localhost:8080/"
    },
    "executionInfo": {
     "elapsed": 1679,
     "status": "ok",
     "timestamp": 1609327342958,
     "user": {
      "displayName": "J.A DATATECH CONSULTING",
      "photoUrl": "https://lh3.googleusercontent.com/a-/AOh14Gi9wsjK7psnF8z3uOCEcA2yFkP2ckMODUtZxShO=s64",
      "userId": "06410945177748020218"
     },
     "user_tz": -60
    },
    "id": "hIMHyp0RCKHp",
    "outputId": "77c7a468-127c-4256-bccd-2d47986ba5cf"
   },
   "outputs": [
    {
     "data": {
      "text/plain": [
       "9.0"
      ]
     },
     "execution_count": 12,
     "metadata": {},
     "output_type": "execute_result"
    }
   ],
   "source": [
    "# Etendue de la variable 'tip'\n",
    "df['tip'].max()-df['tip'].min()\n"
   ]
  },
  {
   "cell_type": "code",
   "execution_count": 13,
   "metadata": {
    "colab": {
     "base_uri": "https://localhost:8080/"
    },
    "executionInfo": {
     "elapsed": 1669,
     "status": "ok",
     "timestamp": 1609327342959,
     "user": {
      "displayName": "J.A DATATECH CONSULTING",
      "photoUrl": "https://lh3.googleusercontent.com/a-/AOh14Gi9wsjK7psnF8z3uOCEcA2yFkP2ckMODUtZxShO=s64",
      "userId": "06410945177748020218"
     },
     "user_tz": -60
    },
    "id": "peaDLEbGEg4m",
    "outputId": "ff6ca479-b859-4803-a965-8b12fb2c9e9b"
   },
   "outputs": [
    {
     "data": {
      "text/plain": [
       "1.9144546380624725"
      ]
     },
     "execution_count": 13,
     "metadata": {},
     "output_type": "execute_result"
    }
   ],
   "source": [
    "# Variance de la variable 'tip'\n",
    "df['tip'].var()"
   ]
  },
  {
   "cell_type": "code",
   "execution_count": 14,
   "metadata": {
    "colab": {
     "base_uri": "https://localhost:8080/"
    },
    "executionInfo": {
     "elapsed": 1660,
     "status": "ok",
     "timestamp": 1609327342960,
     "user": {
      "displayName": "J.A DATATECH CONSULTING",
      "photoUrl": "https://lh3.googleusercontent.com/a-/AOh14Gi9wsjK7psnF8z3uOCEcA2yFkP2ckMODUtZxShO=s64",
      "userId": "06410945177748020218"
     },
     "user_tz": -60
    },
    "id": "NiGVTUtZEsOV",
    "outputId": "cb9fc3bd-8ce2-46ff-fafa-e3f7737a4a48"
   },
   "outputs": [
    {
     "data": {
      "text/plain": [
       "1.3836381890011826"
      ]
     },
     "execution_count": 14,
     "metadata": {},
     "output_type": "execute_result"
    }
   ],
   "source": [
    "# Ecart-type de la variable 'tip'\n",
    "df['tip'].std()\n"
   ]
  },
  {
   "cell_type": "code",
   "execution_count": 15,
   "metadata": {
    "colab": {
     "base_uri": "https://localhost:8080/"
    },
    "executionInfo": {
     "elapsed": 1651,
     "status": "ok",
     "timestamp": 1609327342961,
     "user": {
      "displayName": "J.A DATATECH CONSULTING",
      "photoUrl": "https://lh3.googleusercontent.com/a-/AOh14Gi9wsjK7psnF8z3uOCEcA2yFkP2ckMODUtZxShO=s64",
      "userId": "06410945177748020218"
     },
     "user_tz": -60
    },
    "id": "as10SwreEzsH",
    "outputId": "40dd1b07-87ff-4a13-cd64-3be5fe995ba3"
   },
   "outputs": [
    {
     "data": {
      "text/plain": [
       "True"
      ]
     },
     "execution_count": 15,
     "metadata": {},
     "output_type": "execute_result"
    }
   ],
   "source": [
    "# Vérifions que l'écart-type est bel et bien la racine caréée de la variance\n",
    "df['tip'].std()==(df['tip'].var())**0.5"
   ]
  },
  {
   "cell_type": "code",
   "execution_count": 16,
   "metadata": {
    "colab": {
     "base_uri": "https://localhost:8080/",
     "height": 296
    },
    "executionInfo": {
     "elapsed": 1638,
     "status": "ok",
     "timestamp": 1609327342961,
     "user": {
      "displayName": "J.A DATATECH CONSULTING",
      "photoUrl": "https://lh3.googleusercontent.com/a-/AOh14Gi9wsjK7psnF8z3uOCEcA2yFkP2ckMODUtZxShO=s64",
      "userId": "06410945177748020218"
     },
     "user_tz": -60
    },
    "id": "LvVHGonpFBN_",
    "outputId": "16a3a1c9-2c59-487f-da69-0515da210349"
   },
   "outputs": [
    {
     "data": {
      "text/html": [
       "<div>\n",
       "<style scoped>\n",
       "    .dataframe tbody tr th:only-of-type {\n",
       "        vertical-align: middle;\n",
       "    }\n",
       "\n",
       "    .dataframe tbody tr th {\n",
       "        vertical-align: top;\n",
       "    }\n",
       "\n",
       "    .dataframe thead th {\n",
       "        text-align: right;\n",
       "    }\n",
       "</style>\n",
       "<table border=\"1\" class=\"dataframe\">\n",
       "  <thead>\n",
       "    <tr style=\"text-align: right;\">\n",
       "      <th></th>\n",
       "      <th>count</th>\n",
       "      <th>mean</th>\n",
       "      <th>std</th>\n",
       "      <th>min</th>\n",
       "      <th>25%</th>\n",
       "      <th>50%</th>\n",
       "      <th>75%</th>\n",
       "      <th>max</th>\n",
       "    </tr>\n",
       "  </thead>\n",
       "  <tbody>\n",
       "    <tr>\n",
       "      <th>total_bill</th>\n",
       "      <td>244.0</td>\n",
       "      <td>19.785943</td>\n",
       "      <td>8.902412</td>\n",
       "      <td>3.07</td>\n",
       "      <td>13.3475</td>\n",
       "      <td>17.795</td>\n",
       "      <td>24.1275</td>\n",
       "      <td>50.81</td>\n",
       "    </tr>\n",
       "    <tr>\n",
       "      <th>tip</th>\n",
       "      <td>244.0</td>\n",
       "      <td>2.998279</td>\n",
       "      <td>1.383638</td>\n",
       "      <td>1.00</td>\n",
       "      <td>2.0000</td>\n",
       "      <td>2.900</td>\n",
       "      <td>3.5625</td>\n",
       "      <td>10.00</td>\n",
       "    </tr>\n",
       "    <tr>\n",
       "      <th>size</th>\n",
       "      <td>244.0</td>\n",
       "      <td>2.569672</td>\n",
       "      <td>0.951100</td>\n",
       "      <td>1.00</td>\n",
       "      <td>2.0000</td>\n",
       "      <td>2.000</td>\n",
       "      <td>3.0000</td>\n",
       "      <td>6.00</td>\n",
       "    </tr>\n",
       "  </tbody>\n",
       "</table>\n",
       "</div>"
      ],
      "text/plain": [
       "            count       mean       std   min      25%     50%      75%    max\n",
       "total_bill  244.0  19.785943  8.902412  3.07  13.3475  17.795  24.1275  50.81\n",
       "tip         244.0   2.998279  1.383638  1.00   2.0000   2.900   3.5625  10.00\n",
       "size        244.0   2.569672  0.951100  1.00   2.0000   2.000   3.0000   6.00"
      ]
     },
     "execution_count": 16,
     "metadata": {},
     "output_type": "execute_result"
    }
   ],
   "source": [
    "# Table de statistiques descriptives\n",
    "\n",
    "df.describe().transpose()"
   ]
  },
  {
   "cell_type": "code",
   "execution_count": 17,
   "metadata": {
    "colab": {
     "base_uri": "https://localhost:8080/"
    },
    "executionInfo": {
     "elapsed": 1627,
     "status": "ok",
     "timestamp": 1609327342962,
     "user": {
      "displayName": "J.A DATATECH CONSULTING",
      "photoUrl": "https://lh3.googleusercontent.com/a-/AOh14Gi9wsjK7psnF8z3uOCEcA2yFkP2ckMODUtZxShO=s64",
      "userId": "06410945177748020218"
     },
     "user_tz": -60
    },
    "id": "mDCuzjiTJ9rB",
    "outputId": "4ee20219-8146-4e41-9911-bb96182ae945"
   },
   "outputs": [
    {
     "name": "stdout",
     "output_type": "stream",
     "text": [
      "1er quartile : 13.3475\n",
      "2eme quartile : 17.795\n",
      "3eme quartile : 24.127499999999998\n"
     ]
    }
   ],
   "source": [
    "# Quartiles de la variable 'total_bill' : méthode .quantile()\n",
    "print(\"1er quartile :\", df['total_bill'].quantile(0.25))\n",
    "print(\"2eme quartile :\", df['total_bill'].quantile(0.5))\n",
    "print(\"3eme quartile :\", df['total_bill'].quantile(0.75))"
   ]
  },
  {
   "cell_type": "code",
   "execution_count": 18,
   "metadata": {
    "colab": {
     "base_uri": "https://localhost:8080/"
    },
    "executionInfo": {
     "elapsed": 1618,
     "status": "ok",
     "timestamp": 1609327342964,
     "user": {
      "displayName": "J.A DATATECH CONSULTING",
      "photoUrl": "https://lh3.googleusercontent.com/a-/AOh14Gi9wsjK7psnF8z3uOCEcA2yFkP2ckMODUtZxShO=s64",
      "userId": "06410945177748020218"
     },
     "user_tz": -60
    },
    "id": "6Cu1SalYKeVe",
    "outputId": "78546e6c-9118-439d-9ad3-4e80b0f91dcc"
   },
   "outputs": [
    {
     "name": "stdout",
     "output_type": "stream",
     "text": [
      "1er quartile : 13.3475\n",
      "2eme quartile : 17.795\n",
      "3eme quartile : 24.127499999999998\n"
     ]
    }
   ],
   "source": [
    "# Quartiles de la variable 'total_bill' : fonction quantile() de numpy\n",
    "print(\"1er quartile :\", np.quantile(df['total_bill'], 0.25))\n",
    "print(\"2eme quartile :\", np.quantile(df['total_bill'], 0.5))\n",
    "print(\"3eme quartile :\", np.quantile(df['total_bill'], 0.75))"
   ]
  },
  {
   "cell_type": "code",
   "execution_count": 19,
   "metadata": {
    "colab": {
     "base_uri": "https://localhost:8080/"
    },
    "executionInfo": {
     "elapsed": 1609,
     "status": "ok",
     "timestamp": 1609327342965,
     "user": {
      "displayName": "J.A DATATECH CONSULTING",
      "photoUrl": "https://lh3.googleusercontent.com/a-/AOh14Gi9wsjK7psnF8z3uOCEcA2yFkP2ckMODUtZxShO=s64",
      "userId": "06410945177748020218"
     },
     "user_tz": -60
    },
    "id": "5BDSWgm1K8Cg",
    "outputId": "fe74f508-6cbc-4829-91d4-715c6e817f29"
   },
   "outputs": [
    {
     "name": "stdout",
     "output_type": "stream",
     "text": [
      "1er quartile : 13.3475\n",
      "2eme quartile : 17.795\n",
      "3eme quartile : 24.127499999999998\n"
     ]
    }
   ],
   "source": [
    "# Quartile de la variable 'total_bill' : fonction percentile() de numpy\n",
    "print(\"1er quartile :\", np.percentile(df['total_bill'], 25))\n",
    "print(\"2eme quartile :\", np.percentile(df['total_bill'], 50))\n",
    "print(\"3eme quartile :\", np.percentile(df['total_bill'], 75))\n"
   ]
  },
  {
   "cell_type": "code",
   "execution_count": 20,
   "metadata": {
    "colab": {
     "base_uri": "https://localhost:8080/"
    },
    "executionInfo": {
     "elapsed": 1599,
     "status": "ok",
     "timestamp": 1609327342966,
     "user": {
      "displayName": "J.A DATATECH CONSULTING",
      "photoUrl": "https://lh3.googleusercontent.com/a-/AOh14Gi9wsjK7psnF8z3uOCEcA2yFkP2ckMODUtZxShO=s64",
      "userId": "06410945177748020218"
     },
     "user_tz": -60
    },
    "id": "B4G6BAkYrnHm",
    "outputId": "00cb7d3c-6772-4ce2-f6d0-8c81d0af2f92"
   },
   "outputs": [
    {
     "data": {
      "text/plain": [
       "array([13.3475, 17.795 , 24.1275])"
      ]
     },
     "execution_count": 20,
     "metadata": {},
     "output_type": "execute_result"
    }
   ],
   "source": [
    "# Tous les quartiles en une seule ligne de code\n",
    "np.percentile(df['total_bill'], [25, 50, 75])\n"
   ]
  },
  {
   "cell_type": "code",
   "execution_count": 21,
   "metadata": {},
   "outputs": [
    {
     "data": {
      "text/plain": [
       "array([13.3475, 17.795 , 24.1275])"
      ]
     },
     "execution_count": 21,
     "metadata": {},
     "output_type": "execute_result"
    }
   ],
   "source": [
    "np.quantile(df['total_bill'], [0.25, 0.5, 0.75])"
   ]
  },
  {
   "cell_type": "code",
   "execution_count": 22,
   "metadata": {},
   "outputs": [
    {
     "data": {
      "text/plain": [
       "0.25    13.3475\n",
       "0.50    17.7950\n",
       "0.75    24.1275\n",
       "Name: total_bill, dtype: float64"
      ]
     },
     "execution_count": 22,
     "metadata": {},
     "output_type": "execute_result"
    }
   ],
   "source": [
    "df['total_bill'].quantile([0.25, 0.5, 0.75])"
   ]
  },
  {
   "cell_type": "code",
   "execution_count": 23,
   "metadata": {
    "colab": {
     "base_uri": "https://localhost:8080/"
    },
    "executionInfo": {
     "elapsed": 1588,
     "status": "ok",
     "timestamp": 1609327342967,
     "user": {
      "displayName": "J.A DATATECH CONSULTING",
      "photoUrl": "https://lh3.googleusercontent.com/a-/AOh14Gi9wsjK7psnF8z3uOCEcA2yFkP2ckMODUtZxShO=s64",
      "userId": "06410945177748020218"
     },
     "user_tz": -60
    },
    "id": "QpxO0fHU0vrB",
    "outputId": "dfa19bc6-7a93-4b16-ae8e-011a4cefe536"
   },
   "outputs": [
    {
     "data": {
      "text/plain": [
       "0.2    12.636\n",
       "0.3    14.249\n",
       "0.4    16.222\n",
       "0.5    17.795\n",
       "0.6    19.818\n",
       "0.7    22.508\n",
       "0.8    26.098\n",
       "0.9    32.235\n",
       "Name: total_bill, dtype: float64"
      ]
     },
     "execution_count": 23,
     "metadata": {},
     "output_type": "execute_result"
    }
   ],
   "source": [
    "# On peut aussi calculer des quintiles\n",
    "\n",
    "df['total_bill'].quantile([0.2, 0.3, 0.4, 0.5, 0.6, 0.7, 0.8, 0.9])"
   ]
  },
  {
   "cell_type": "code",
   "execution_count": 24,
   "metadata": {
    "colab": {
     "base_uri": "https://localhost:8080/"
    },
    "executionInfo": {
     "elapsed": 1822,
     "status": "ok",
     "timestamp": 1609327343217,
     "user": {
      "displayName": "J.A DATATECH CONSULTING",
      "photoUrl": "https://lh3.googleusercontent.com/a-/AOh14Gi9wsjK7psnF8z3uOCEcA2yFkP2ckMODUtZxShO=s64",
      "userId": "06410945177748020218"
     },
     "user_tz": -60
    },
    "id": "L9Boay-NXtxy",
    "outputId": "dadebff7-f58b-4b50-e91f-bdd6989e452b"
   },
   "outputs": [
    {
     "data": {
      "text/plain": [
       "10.779999999999998"
      ]
     },
     "execution_count": 24,
     "metadata": {},
     "output_type": "execute_result"
    }
   ],
   "source": [
    "# IQR de la variable 'total_bill'\n",
    "np.quantile(df['total_bill'], 0.75)-np.quantile(df['total_bill'], 0.25)\n"
   ]
  },
  {
   "cell_type": "code",
   "execution_count": 25,
   "metadata": {
    "colab": {
     "base_uri": "https://localhost:8080/"
    },
    "executionInfo": {
     "elapsed": 1813,
     "status": "ok",
     "timestamp": 1609327343218,
     "user": {
      "displayName": "J.A DATATECH CONSULTING",
      "photoUrl": "https://lh3.googleusercontent.com/a-/AOh14Gi9wsjK7psnF8z3uOCEcA2yFkP2ckMODUtZxShO=s64",
      "userId": "06410945177748020218"
     },
     "user_tz": -60
    },
    "id": "XbOpF4bjY14q",
    "outputId": "639cbc32-a9ea-4097-f331-d2d49d55199b"
   },
   "outputs": [
    {
     "data": {
      "text/plain": [
       "10.779999999999998"
      ]
     },
     "execution_count": 25,
     "metadata": {},
     "output_type": "execute_result"
    }
   ],
   "source": [
    "# Importation du module stats\n",
    "from scipy import stats\n",
    "\n",
    "# IQR de la variable 'total_bill'\n",
    "\n",
    "stats.iqr(df['total_bill'])"
   ]
  },
  {
   "cell_type": "code",
   "execution_count": 26,
   "metadata": {
    "colab": {
     "base_uri": "https://localhost:8080/",
     "height": 389
    },
    "executionInfo": {
     "elapsed": 1801,
     "status": "ok",
     "timestamp": 1609327343218,
     "user": {
      "displayName": "J.A DATATECH CONSULTING",
      "photoUrl": "https://lh3.googleusercontent.com/a-/AOh14Gi9wsjK7psnF8z3uOCEcA2yFkP2ckMODUtZxShO=s64",
      "userId": "06410945177748020218"
     },
     "user_tz": -60
    },
    "id": "c1LcrHaOFvHG",
    "outputId": "d5aa319c-2611-432a-a071-a051f9acf728"
   },
   "outputs": [
    {
     "data": {
      "text/html": [
       "<div>\n",
       "<style scoped>\n",
       "    .dataframe tbody tr th:only-of-type {\n",
       "        vertical-align: middle;\n",
       "    }\n",
       "\n",
       "    .dataframe tbody tr th {\n",
       "        vertical-align: top;\n",
       "    }\n",
       "\n",
       "    .dataframe thead th {\n",
       "        text-align: right;\n",
       "    }\n",
       "</style>\n",
       "<table border=\"1\" class=\"dataframe\">\n",
       "  <thead>\n",
       "    <tr style=\"text-align: right;\">\n",
       "      <th></th>\n",
       "      <th>count</th>\n",
       "      <th>unique</th>\n",
       "      <th>top</th>\n",
       "      <th>freq</th>\n",
       "      <th>mean</th>\n",
       "      <th>std</th>\n",
       "      <th>min</th>\n",
       "      <th>25%</th>\n",
       "      <th>50%</th>\n",
       "      <th>75%</th>\n",
       "      <th>max</th>\n",
       "    </tr>\n",
       "  </thead>\n",
       "  <tbody>\n",
       "    <tr>\n",
       "      <th>total_bill</th>\n",
       "      <td>244</td>\n",
       "      <td>NaN</td>\n",
       "      <td>NaN</td>\n",
       "      <td>NaN</td>\n",
       "      <td>19.7859</td>\n",
       "      <td>8.90241</td>\n",
       "      <td>3.07</td>\n",
       "      <td>13.3475</td>\n",
       "      <td>17.795</td>\n",
       "      <td>24.1275</td>\n",
       "      <td>50.81</td>\n",
       "    </tr>\n",
       "    <tr>\n",
       "      <th>tip</th>\n",
       "      <td>244</td>\n",
       "      <td>NaN</td>\n",
       "      <td>NaN</td>\n",
       "      <td>NaN</td>\n",
       "      <td>2.99828</td>\n",
       "      <td>1.38364</td>\n",
       "      <td>1</td>\n",
       "      <td>2</td>\n",
       "      <td>2.9</td>\n",
       "      <td>3.5625</td>\n",
       "      <td>10</td>\n",
       "    </tr>\n",
       "    <tr>\n",
       "      <th>sex</th>\n",
       "      <td>244</td>\n",
       "      <td>2</td>\n",
       "      <td>Male</td>\n",
       "      <td>157</td>\n",
       "      <td>NaN</td>\n",
       "      <td>NaN</td>\n",
       "      <td>NaN</td>\n",
       "      <td>NaN</td>\n",
       "      <td>NaN</td>\n",
       "      <td>NaN</td>\n",
       "      <td>NaN</td>\n",
       "    </tr>\n",
       "    <tr>\n",
       "      <th>smoker</th>\n",
       "      <td>244</td>\n",
       "      <td>2</td>\n",
       "      <td>No</td>\n",
       "      <td>151</td>\n",
       "      <td>NaN</td>\n",
       "      <td>NaN</td>\n",
       "      <td>NaN</td>\n",
       "      <td>NaN</td>\n",
       "      <td>NaN</td>\n",
       "      <td>NaN</td>\n",
       "      <td>NaN</td>\n",
       "    </tr>\n",
       "    <tr>\n",
       "      <th>day</th>\n",
       "      <td>244</td>\n",
       "      <td>4</td>\n",
       "      <td>Sat</td>\n",
       "      <td>87</td>\n",
       "      <td>NaN</td>\n",
       "      <td>NaN</td>\n",
       "      <td>NaN</td>\n",
       "      <td>NaN</td>\n",
       "      <td>NaN</td>\n",
       "      <td>NaN</td>\n",
       "      <td>NaN</td>\n",
       "    </tr>\n",
       "    <tr>\n",
       "      <th>time</th>\n",
       "      <td>244</td>\n",
       "      <td>2</td>\n",
       "      <td>Dinner</td>\n",
       "      <td>176</td>\n",
       "      <td>NaN</td>\n",
       "      <td>NaN</td>\n",
       "      <td>NaN</td>\n",
       "      <td>NaN</td>\n",
       "      <td>NaN</td>\n",
       "      <td>NaN</td>\n",
       "      <td>NaN</td>\n",
       "    </tr>\n",
       "    <tr>\n",
       "      <th>size</th>\n",
       "      <td>244</td>\n",
       "      <td>NaN</td>\n",
       "      <td>NaN</td>\n",
       "      <td>NaN</td>\n",
       "      <td>2.56967</td>\n",
       "      <td>0.9511</td>\n",
       "      <td>1</td>\n",
       "      <td>2</td>\n",
       "      <td>2</td>\n",
       "      <td>3</td>\n",
       "      <td>6</td>\n",
       "    </tr>\n",
       "  </tbody>\n",
       "</table>\n",
       "</div>"
      ],
      "text/plain": [
       "           count unique     top freq     mean      std   min      25%     50%  \\\n",
       "total_bill   244    NaN     NaN  NaN  19.7859  8.90241  3.07  13.3475  17.795   \n",
       "tip          244    NaN     NaN  NaN  2.99828  1.38364     1        2     2.9   \n",
       "sex          244      2    Male  157      NaN      NaN   NaN      NaN     NaN   \n",
       "smoker       244      2      No  151      NaN      NaN   NaN      NaN     NaN   \n",
       "day          244      4     Sat   87      NaN      NaN   NaN      NaN     NaN   \n",
       "time         244      2  Dinner  176      NaN      NaN   NaN      NaN     NaN   \n",
       "size         244    NaN     NaN  NaN  2.56967   0.9511     1        2       2   \n",
       "\n",
       "                75%    max  \n",
       "total_bill  24.1275  50.81  \n",
       "tip          3.5625     10  \n",
       "sex             NaN    NaN  \n",
       "smoker          NaN    NaN  \n",
       "day             NaN    NaN  \n",
       "time            NaN    NaN  \n",
       "size              3      6  "
      ]
     },
     "execution_count": 26,
     "metadata": {},
     "output_type": "execute_result"
    }
   ],
   "source": [
    "# Table de statistiques descriptives incluant toutes les variables\n",
    "df.describe(include='all').transpose()\n"
   ]
  },
  {
   "cell_type": "code",
   "execution_count": 29,
   "metadata": {
    "colab": {
     "base_uri": "https://localhost:8080/",
     "height": 417
    },
    "executionInfo": {
     "elapsed": 1782,
     "status": "ok",
     "timestamp": 1609327343219,
     "user": {
      "displayName": "J.A DATATECH CONSULTING",
      "photoUrl": "https://lh3.googleusercontent.com/a-/AOh14Gi9wsjK7psnF8z3uOCEcA2yFkP2ckMODUtZxShO=s64",
      "userId": "06410945177748020218"
     },
     "user_tz": -60
    },
    "id": "dKrnVCJYm_bp",
    "outputId": "ff41e28c-7c31-45e9-a7b3-255f36d0ec3a"
   },
   "outputs": [
    {
     "data": {
      "text/html": [
       "<div>\n",
       "<style scoped>\n",
       "    .dataframe tbody tr th:only-of-type {\n",
       "        vertical-align: middle;\n",
       "    }\n",
       "\n",
       "    .dataframe tbody tr th {\n",
       "        vertical-align: top;\n",
       "    }\n",
       "\n",
       "    .dataframe thead th {\n",
       "        text-align: right;\n",
       "    }\n",
       "</style>\n",
       "<table border=\"1\" class=\"dataframe\">\n",
       "  <thead>\n",
       "    <tr style=\"text-align: right;\">\n",
       "      <th></th>\n",
       "      <th>total_bill</th>\n",
       "      <th>tip</th>\n",
       "      <th>sex</th>\n",
       "      <th>smoker</th>\n",
       "      <th>day</th>\n",
       "      <th>time</th>\n",
       "      <th>size</th>\n",
       "    </tr>\n",
       "  </thead>\n",
       "  <tbody>\n",
       "    <tr>\n",
       "      <th>0</th>\n",
       "      <td>16.99</td>\n",
       "      <td>1.01</td>\n",
       "      <td>Female</td>\n",
       "      <td>No</td>\n",
       "      <td>Sun</td>\n",
       "      <td>Dinner</td>\n",
       "      <td>2</td>\n",
       "    </tr>\n",
       "    <tr>\n",
       "      <th>1</th>\n",
       "      <td>10.34</td>\n",
       "      <td>1.66</td>\n",
       "      <td>Male</td>\n",
       "      <td>No</td>\n",
       "      <td>Sun</td>\n",
       "      <td>Dinner</td>\n",
       "      <td>3</td>\n",
       "    </tr>\n",
       "    <tr>\n",
       "      <th>2</th>\n",
       "      <td>21.01</td>\n",
       "      <td>3.50</td>\n",
       "      <td>Male</td>\n",
       "      <td>No</td>\n",
       "      <td>Sun</td>\n",
       "      <td>Dinner</td>\n",
       "      <td>3</td>\n",
       "    </tr>\n",
       "    <tr>\n",
       "      <th>3</th>\n",
       "      <td>23.68</td>\n",
       "      <td>3.31</td>\n",
       "      <td>Male</td>\n",
       "      <td>No</td>\n",
       "      <td>Sun</td>\n",
       "      <td>Dinner</td>\n",
       "      <td>2</td>\n",
       "    </tr>\n",
       "    <tr>\n",
       "      <th>4</th>\n",
       "      <td>24.59</td>\n",
       "      <td>3.61</td>\n",
       "      <td>Female</td>\n",
       "      <td>No</td>\n",
       "      <td>Sun</td>\n",
       "      <td>Dinner</td>\n",
       "      <td>4</td>\n",
       "    </tr>\n",
       "  </tbody>\n",
       "</table>\n",
       "</div>"
      ],
      "text/plain": [
       "   total_bill   tip     sex smoker  day    time  size\n",
       "0       16.99  1.01  Female     No  Sun  Dinner     2\n",
       "1       10.34  1.66    Male     No  Sun  Dinner     3\n",
       "2       21.01  3.50    Male     No  Sun  Dinner     3\n",
       "3       23.68  3.31    Male     No  Sun  Dinner     2\n",
       "4       24.59  3.61  Female     No  Sun  Dinner     4"
      ]
     },
     "execution_count": 29,
     "metadata": {},
     "output_type": "execute_result"
    }
   ],
   "source": [
    "# Dataframe des clients du samedi et du dimanche (filtration)\n",
    "clients = df[(df.day=='Sun')|(df.day=='Sat')]\n",
    "clients.head(5)\n"
   ]
  },
  {
   "cell_type": "code",
   "execution_count": 31,
   "metadata": {
    "colab": {
     "base_uri": "https://localhost:8080/",
     "height": 203
    },
    "executionInfo": {
     "elapsed": 1758,
     "status": "ok",
     "timestamp": 1609327343221,
     "user": {
      "displayName": "J.A DATATECH CONSULTING",
      "photoUrl": "https://lh3.googleusercontent.com/a-/AOh14Gi9wsjK7psnF8z3uOCEcA2yFkP2ckMODUtZxShO=s64",
      "userId": "06410945177748020218"
     },
     "user_tz": -60
    },
    "id": "xfgFjnfPn3Ug",
    "outputId": "32653f80-8f9a-4e63-c816-4ec302debbeb"
   },
   "outputs": [
    {
     "data": {
      "text/html": [
       "<div>\n",
       "<style scoped>\n",
       "    .dataframe tbody tr th:only-of-type {\n",
       "        vertical-align: middle;\n",
       "    }\n",
       "\n",
       "    .dataframe tbody tr th {\n",
       "        vertical-align: top;\n",
       "    }\n",
       "\n",
       "    .dataframe thead th {\n",
       "        text-align: right;\n",
       "    }\n",
       "</style>\n",
       "<table border=\"1\" class=\"dataframe\">\n",
       "  <thead>\n",
       "    <tr style=\"text-align: right;\">\n",
       "      <th></th>\n",
       "      <th>mean</th>\n",
       "      <th>median</th>\n",
       "    </tr>\n",
       "    <tr>\n",
       "      <th>day</th>\n",
       "      <th></th>\n",
       "      <th></th>\n",
       "    </tr>\n",
       "  </thead>\n",
       "  <tbody>\n",
       "    <tr>\n",
       "      <th>Thur</th>\n",
       "      <td>NaN</td>\n",
       "      <td>NaN</td>\n",
       "    </tr>\n",
       "    <tr>\n",
       "      <th>Fri</th>\n",
       "      <td>NaN</td>\n",
       "      <td>NaN</td>\n",
       "    </tr>\n",
       "    <tr>\n",
       "      <th>Sat</th>\n",
       "      <td>20.441379</td>\n",
       "      <td>18.24</td>\n",
       "    </tr>\n",
       "    <tr>\n",
       "      <th>Sun</th>\n",
       "      <td>21.410000</td>\n",
       "      <td>19.63</td>\n",
       "    </tr>\n",
       "  </tbody>\n",
       "</table>\n",
       "</div>"
      ],
      "text/plain": [
       "           mean  median\n",
       "day                    \n",
       "Thur        NaN     NaN\n",
       "Fri         NaN     NaN\n",
       "Sat   20.441379   18.24\n",
       "Sun   21.410000   19.63"
      ]
     },
     "execution_count": 31,
     "metadata": {},
     "output_type": "execute_result"
    }
   ],
   "source": [
    "# Consommation moyenne et médiane des clients du samedi et du dimanche\n",
    "clients.groupby('day')['total_bill'].agg(['mean', 'median'])\n"
   ]
  },
  {
   "cell_type": "markdown",
   "metadata": {
    "id": "wr5_TcpHOH81"
   },
   "source": [
    "# <center>**GRAPHIQUES BASIQUES POUR DECRIRE UNE VARIABLE**"
   ]
  }
 ],
 "metadata": {
  "colab": {
   "authorship_tag": "ABX9TyM3mz07K+7xJ1JTTKpcz+Dx",
   "collapsed_sections": [],
   "name": "2_Analyse univariée.ipynb",
   "provenance": []
  },
  "kernelspec": {
   "display_name": "Python 3",
   "language": "python",
   "name": "python3"
  },
  "language_info": {
   "codemirror_mode": {
    "name": "ipython",
    "version": 3
   },
   "file_extension": ".py",
   "mimetype": "text/x-python",
   "name": "python",
   "nbconvert_exporter": "python",
   "pygments_lexer": "ipython3",
   "version": "3.8.5"
  }
 },
 "nbformat": 4,
 "nbformat_minor": 1
}
