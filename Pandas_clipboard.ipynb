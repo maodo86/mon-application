{
 "cells": [
  {
   "cell_type": "code",
   "execution_count": 2,
   "metadata": {},
   "outputs": [
    {
     "data": {
      "text/html": [
       "<div>\n",
       "<style scoped>\n",
       "    .dataframe tbody tr th:only-of-type {\n",
       "        vertical-align: middle;\n",
       "    }\n",
       "\n",
       "    .dataframe tbody tr th {\n",
       "        vertical-align: top;\n",
       "    }\n",
       "\n",
       "    .dataframe thead th {\n",
       "        text-align: right;\n",
       "    }\n",
       "</style>\n",
       "<table border=\"1\" class=\"dataframe\">\n",
       "  <thead>\n",
       "    <tr style=\"text-align: right;\">\n",
       "      <th></th>\n",
       "      <th>Délégation</th>\n",
       "      <th>Type</th>\n",
       "      <th>de</th>\n",
       "      <th>travaux</th>\n",
       "      <th>Count</th>\n",
       "      <th>of</th>\n",
       "      <th>Désignation</th>\n",
       "    </tr>\n",
       "  </thead>\n",
       "  <tbody>\n",
       "    <tr>\n",
       "      <th>0</th>\n",
       "      <td>DRCE</td>\n",
       "      <td>51</td>\n",
       "      <td>None</td>\n",
       "      <td>None</td>\n",
       "      <td>NaN</td>\n",
       "      <td>NaN</td>\n",
       "      <td>NaN</td>\n",
       "    </tr>\n",
       "    <tr>\n",
       "      <th>1</th>\n",
       "      <td>EE</td>\n",
       "      <td>COMPACT</td>\n",
       "      <td>13</td>\n",
       "      <td>None</td>\n",
       "      <td>NaN</td>\n",
       "      <td>NaN</td>\n",
       "      <td>NaN</td>\n",
       "    </tr>\n",
       "    <tr>\n",
       "      <th>2</th>\n",
       "      <td>EE</td>\n",
       "      <td>Modulaire</td>\n",
       "      <td>2</td>\n",
       "      <td>None</td>\n",
       "      <td>NaN</td>\n",
       "      <td>NaN</td>\n",
       "      <td>NaN</td>\n",
       "    </tr>\n",
       "    <tr>\n",
       "      <th>3</th>\n",
       "      <td>KFW/Pose</td>\n",
       "      <td>Pose</td>\n",
       "      <td>ITI</td>\n",
       "      <td>12</td>\n",
       "      <td>NaN</td>\n",
       "      <td>NaN</td>\n",
       "      <td>NaN</td>\n",
       "    </tr>\n",
       "    <tr>\n",
       "      <th>4</th>\n",
       "      <td>Pose</td>\n",
       "      <td>ITI</td>\n",
       "      <td>24</td>\n",
       "      <td>None</td>\n",
       "      <td>NaN</td>\n",
       "      <td>NaN</td>\n",
       "      <td>NaN</td>\n",
       "    </tr>\n",
       "    <tr>\n",
       "      <th>5</th>\n",
       "      <td>DRCO</td>\n",
       "      <td>32</td>\n",
       "      <td>None</td>\n",
       "      <td>None</td>\n",
       "      <td>NaN</td>\n",
       "      <td>NaN</td>\n",
       "      <td>NaN</td>\n",
       "    </tr>\n",
       "    <tr>\n",
       "      <th>6</th>\n",
       "      <td>EE</td>\n",
       "      <td>COMPACT</td>\n",
       "      <td>17</td>\n",
       "      <td>None</td>\n",
       "      <td>NaN</td>\n",
       "      <td>NaN</td>\n",
       "      <td>NaN</td>\n",
       "    </tr>\n",
       "    <tr>\n",
       "      <th>7</th>\n",
       "      <td>EE</td>\n",
       "      <td>Modulaire</td>\n",
       "      <td>5</td>\n",
       "      <td>None</td>\n",
       "      <td>NaN</td>\n",
       "      <td>NaN</td>\n",
       "      <td>NaN</td>\n",
       "    </tr>\n",
       "    <tr>\n",
       "      <th>8</th>\n",
       "      <td>KFW/Pose</td>\n",
       "      <td>ITI</td>\n",
       "      <td>à</td>\n",
       "      <td>poser</td>\n",
       "      <td>2.0</td>\n",
       "      <td>NaN</td>\n",
       "      <td>NaN</td>\n",
       "    </tr>\n",
       "    <tr>\n",
       "      <th>9</th>\n",
       "      <td>Pose</td>\n",
       "      <td>ITI</td>\n",
       "      <td>à</td>\n",
       "      <td>poser</td>\n",
       "      <td>8.0</td>\n",
       "      <td>NaN</td>\n",
       "      <td>NaN</td>\n",
       "    </tr>\n",
       "    <tr>\n",
       "      <th>10</th>\n",
       "      <td>DRN</td>\n",
       "      <td>75</td>\n",
       "      <td>None</td>\n",
       "      <td>None</td>\n",
       "      <td>NaN</td>\n",
       "      <td>NaN</td>\n",
       "      <td>NaN</td>\n",
       "    </tr>\n",
       "    <tr>\n",
       "      <th>11</th>\n",
       "      <td>EE</td>\n",
       "      <td>COMPACT</td>\n",
       "      <td>24</td>\n",
       "      <td>None</td>\n",
       "      <td>NaN</td>\n",
       "      <td>NaN</td>\n",
       "      <td>NaN</td>\n",
       "    </tr>\n",
       "    <tr>\n",
       "      <th>12</th>\n",
       "      <td>EE</td>\n",
       "      <td>Modulaire</td>\n",
       "      <td>11</td>\n",
       "      <td>None</td>\n",
       "      <td>NaN</td>\n",
       "      <td>NaN</td>\n",
       "      <td>NaN</td>\n",
       "    </tr>\n",
       "    <tr>\n",
       "      <th>13</th>\n",
       "      <td>KFW/Pose</td>\n",
       "      <td>Pose</td>\n",
       "      <td>ITI</td>\n",
       "      <td>17</td>\n",
       "      <td>NaN</td>\n",
       "      <td>NaN</td>\n",
       "      <td>NaN</td>\n",
       "    </tr>\n",
       "    <tr>\n",
       "      <th>14</th>\n",
       "      <td>Pose</td>\n",
       "      <td>Pose</td>\n",
       "      <td>ITI</td>\n",
       "      <td>23</td>\n",
       "      <td>NaN</td>\n",
       "      <td>NaN</td>\n",
       "      <td>NaN</td>\n",
       "    </tr>\n",
       "    <tr>\n",
       "      <th>15</th>\n",
       "      <td>Grand</td>\n",
       "      <td>Total</td>\n",
       "      <td>158</td>\n",
       "      <td>None</td>\n",
       "      <td>NaN</td>\n",
       "      <td>NaN</td>\n",
       "      <td>NaN</td>\n",
       "    </tr>\n",
       "  </tbody>\n",
       "</table>\n",
       "</div>"
      ],
      "text/plain": [
       "   Délégation       Type    de travaux  Count  of  Désignation\n",
       "0        DRCE         51  None    None    NaN NaN          NaN\n",
       "1          EE    COMPACT    13    None    NaN NaN          NaN\n",
       "2          EE  Modulaire     2    None    NaN NaN          NaN\n",
       "3    KFW/Pose       Pose   ITI      12    NaN NaN          NaN\n",
       "4        Pose        ITI    24    None    NaN NaN          NaN\n",
       "5        DRCO         32  None    None    NaN NaN          NaN\n",
       "6          EE    COMPACT    17    None    NaN NaN          NaN\n",
       "7          EE  Modulaire     5    None    NaN NaN          NaN\n",
       "8    KFW/Pose        ITI     à   poser    2.0 NaN          NaN\n",
       "9        Pose        ITI     à   poser    8.0 NaN          NaN\n",
       "10        DRN         75  None    None    NaN NaN          NaN\n",
       "11         EE    COMPACT    24    None    NaN NaN          NaN\n",
       "12         EE  Modulaire    11    None    NaN NaN          NaN\n",
       "13   KFW/Pose       Pose   ITI      17    NaN NaN          NaN\n",
       "14       Pose       Pose   ITI      23    NaN NaN          NaN\n",
       "15      Grand      Total   158    None    NaN NaN          NaN"
      ]
     },
     "execution_count": 2,
     "metadata": {},
     "output_type": "execute_result"
    }
   ],
   "source": [
    "import pandas as pd\n",
    "df=pd.read_clipboard()\n",
    "df "
   ]
  },
  {
   "cell_type": "code",
   "execution_count": 1,
   "metadata": {},
   "outputs": [],
   "source": [
    "import os"
   ]
  },
  {
   "cell_type": "code",
   "execution_count": 2,
   "metadata": {},
   "outputs": [
    {
     "data": {
      "text/plain": [
       "'C:\\\\Users\\\\dell'"
      ]
     },
     "execution_count": 2,
     "metadata": {},
     "output_type": "execute_result"
    }
   ],
   "source": [
    "os.getcwd()  #pour afficher le repertoire de travail"
   ]
  },
  {
   "cell_type": "code",
   "execution_count": 7,
   "metadata": {},
   "outputs": [
    {
     "data": {
      "text/plain": [
       "['.android',\n",
       " '.bash_history',\n",
       " '.cache',\n",
       " '.conda',\n",
       " '.condarc',\n",
       " '.deepface',\n",
       " '.freemind',\n",
       " '.idlerc',\n",
       " '.ipynb_checkpoints',\n",
       " '.ipython',\n",
       " '.jupyter',\n",
       " '.keras',\n",
       " '.matplotlib',\n",
       " '.pylint.d',\n",
       " '.spyder-py3',\n",
       " '.vscode',\n",
       " '01-Keras-CNN-MNIST.ipynb',\n",
       " '01_Perceptrons.ipynb',\n",
       " '03-Deep-Learning-Images-Réalistes-Malaria.ipynb',\n",
       " '04-DL-CV-Exercice.ipynb',\n",
       " '04-Solutions-Exercice-Projet-Keras.ipynb',\n",
       " '05-DL-CV-Solution-Exercice.ipynb',\n",
       " '05-Tensorboard.ipynb',\n",
       " '10 - Pandas - cours.ipynb',\n",
       " '10 - Pandas - exercices.ipynb',\n",
       " '11 - data viz - cours.ipynb',\n",
       " '12 - les API - cours.ipynb',\n",
       " '12 - les API - exercices.ipynb',\n",
       " '13 - Maitriser le web scraping - cours.ipynb',\n",
       " '13 - Maitriser le web scraping - exercices.ipynb',\n",
       " '14 - Requêter une base SQL - cours.ipynb',\n",
       " '14 - Requêter une base SQL - exercices.ipynb',\n",
       " '15 - statistique descriptive - cours.ipynb',\n",
       " '16 - machine learning - cours.ipynb',\n",
       " '3D Objects',\n",
       " 'anaconda3',\n",
       " 'API&Web_scrapping.ipynb',\n",
       " 'app.log',\n",
       " 'AppData',\n",
       " 'Application Data',\n",
       " 'arbre_decision.dot',\n",
       " 'arbre_decision.png',\n",
       " 'Classification_course.ipynb',\n",
       " 'Contacts',\n",
       " 'Cookies',\n",
       " 'cours_classification_RNA.ipynb',\n",
       " 'database.db',\n",
       " 'degre_3_solver.ipynb',\n",
       " 'Demarche Data Science-Copy1.ipynb',\n",
       " 'Demarche Data Science.ipynb',\n",
       " 'Desktop',\n",
       " 'detection.ipynb',\n",
       " 'dezip_Mboro.ipynb',\n",
       " 'doc.csv.txt',\n",
       " 'Documents',\n",
       " 'Dossier_EnvironnementV',\n",
       " 'Downloads',\n",
       " 'emotion_class.ipynb',\n",
       " 'emotion_detection.ipynb',\n",
       " 'Emotion_little_vgg.h5',\n",
       " 'Equation.ipynb',\n",
       " 'ESCO.ipynb',\n",
       " 'ESCOSARL.ipynb',\n",
       " 'Exercice Pandas.ipynb',\n",
       " 'face_trained.yml',\n",
       " 'Favorites',\n",
       " 'features.npy',\n",
       " 'fonctions_activation.ipynb',\n",
       " 'foo.png',\n",
       " 'formation pythion linkedine.ipynb',\n",
       " 'Formation_linkediine.ipynb',\n",
       " 'formation_stat_inferentielle.ipynb',\n",
       " 'Formation_stat_openclassroom.ipynb',\n",
       " 'FR_2418_06_01.ipynb',\n",
       " 'FR_2418_06_02.ipynb',\n",
       " 'IntelGraphicsProfiles',\n",
       " 'Kaolack_Kaffrine_ER.ipynb',\n",
       " 'Keras_imreal.ipynb',\n",
       " 'labels.npy',\n",
       " 'Links',\n",
       " 'Local Settings',\n",
       " 'Maitrise_Jupyter',\n",
       " 'Menu Démarrer',\n",
       " 'Mes documents',\n",
       " 'messi.png',\n",
       " 'MicrosoftEdgeBackups',\n",
       " 'model.ipynb',\n",
       " 'Modèles',\n",
       " 'Mon_Env',\n",
       " 'Music',\n",
       " 'Musique',\n",
       " 'NTUSER.DAT',\n",
       " 'ntuser.dat.LOG1',\n",
       " 'ntuser.dat.LOG2',\n",
       " 'NTUSER.DAT{53b39e87-18c4-11ea-a811-000d3aa4692b}.TxR.0.regtrans-ms',\n",
       " 'NTUSER.DAT{53b39e87-18c4-11ea-a811-000d3aa4692b}.TxR.1.regtrans-ms',\n",
       " 'NTUSER.DAT{53b39e87-18c4-11ea-a811-000d3aa4692b}.TxR.2.regtrans-ms',\n",
       " 'NTUSER.DAT{53b39e87-18c4-11ea-a811-000d3aa4692b}.TxR.blf',\n",
       " 'NTUSER.DAT{53b39e88-18c4-11ea-a811-000d3aa4692b}.TM.blf',\n",
       " 'NTUSER.DAT{53b39e88-18c4-11ea-a811-000d3aa4692b}.TMContainer00000000000000000001.regtrans-ms',\n",
       " 'NTUSER.DAT{53b39e88-18c4-11ea-a811-000d3aa4692b}.TMContainer00000000000000000002.regtrans-ms',\n",
       " 'ntuser.ini',\n",
       " 'OneDrive',\n",
       " 'OneDrive - Senelec',\n",
       " 'OpenCV_course.ipynb',\n",
       " 'Pandas_Numpy.ipynb',\n",
       " 'Pertes_Senelec.ipynb',\n",
       " 'Pictures',\n",
       " 'Projet-Keras.ipynb',\n",
       " 'Projet_ANN.ipynb',\n",
       " 'PycharmProjects',\n",
       " 'Recent',\n",
       " 'reponse_projetAPI&WebScaping.ipynb',\n",
       " 'RNN_cours.ipynb',\n",
       " 'RNN_exo.ipynb',\n",
       " 'Saved Games',\n",
       " 'seaborn-data',\n",
       " 'Searches',\n",
       " 'seismic-bumps.csv',\n",
       " 'SendTo',\n",
       " 'Test_mao',\n",
       " 'Titanic.csv',\n",
       " 'Untitled.ipynb',\n",
       " 'Untitled1.ipynb',\n",
       " 'Untitled2.ipynb',\n",
       " 'Untitled3.ipynb',\n",
       " 'Videos',\n",
       " \"Voisinage d'impression\",\n",
       " 'Voisinage réseau']"
      ]
     },
     "execution_count": 7,
     "metadata": {},
     "output_type": "execute_result"
    }
   ],
   "source": [
    "os.listdir()  #pour lister les dossiers et fichiers dans le réperoire de travail"
   ]
  },
  {
   "cell_type": "code",
   "execution_count": 9,
   "metadata": {},
   "outputs": [
    {
     "ename": "NotADirectoryError",
     "evalue": "[WinError 267] Nom de répertoire non valide: 'C:\\\\\\\\Users\\\\\\\\dell\\\\\\\\detection.ipynb'",
     "output_type": "error",
     "traceback": [
      "\u001b[1;31m---------------------------------------------------------------------------\u001b[0m",
      "\u001b[1;31mNotADirectoryError\u001b[0m                        Traceback (most recent call last)",
      "\u001b[1;32m<ipython-input-9-85ad9bc70408>\u001b[0m in \u001b[0;36m<module>\u001b[1;34m\u001b[0m\n\u001b[1;32m----> 1\u001b[1;33m \u001b[0mos\u001b[0m\u001b[1;33m.\u001b[0m\u001b[0mchdir\u001b[0m\u001b[1;33m(\u001b[0m\u001b[1;34mr'C:\\\\Users\\\\dell\\\\detection.ipynb'\u001b[0m\u001b[1;33m)\u001b[0m  \u001b[1;31m#pour changer de repertoire\u001b[0m\u001b[1;33m\u001b[0m\u001b[1;33m\u001b[0m\u001b[0m\n\u001b[0m",
      "\u001b[1;31mNotADirectoryError\u001b[0m: [WinError 267] Nom de répertoire non valide: 'C:\\\\\\\\Users\\\\\\\\dell\\\\\\\\detection.ipynb'"
     ]
    }
   ],
   "source": [
    "os.chdir()  #pour changer de repertoire"
   ]
  },
  {
   "cell_type": "markdown",
   "metadata": {},
   "source": [
    "# JSON: format utilisé pour l'échange de données entre application: ne depend d'aucun langage \n"
   ]
  },
  {
   "cell_type": "code",
   "execution_count": 10,
   "metadata": {},
   "outputs": [],
   "source": [
    "D_pays = {'Pays1':{'Code_pays':'AT',\n",
    "                  'Nom_pays': 'Autriche',\n",
    "                  'Langue': 'Allemand'},\n",
    "          'Pays2':{'Code_pays':'FR',\n",
    "                  'Nom_pays': 'France',\n",
    "                  'Langue': 'Français'},\n",
    "          'Pays3':{'Code_pays':'MA',\n",
    "                  'Nom_pays': 'Maroc',\n",
    "                  'Langue': 'Arabe'}\n",
    "         }"
   ]
  },
  {
   "cell_type": "code",
   "execution_count": 11,
   "metadata": {},
   "outputs": [
    {
     "data": {
      "text/plain": [
       "'{\"Pays1\": {\"Code_pays\": \"AT\", \"Nom_pays\": \"Autriche\", \"Langue\": \"Allemand\"}, \"Pays2\": {\"Code_pays\": \"FR\", \"Nom_pays\": \"France\", \"Langue\": \"Fran\\\\u00e7ais\"}, \"Pays3\": {\"Code_pays\": \"MA\", \"Nom_pays\": \"Maroc\", \"Langue\": \"Arabe\"}}'"
      ]
     },
     "execution_count": 11,
     "metadata": {},
     "output_type": "execute_result"
    }
   ],
   "source": [
    "#convertir le dictionnaire au format json\n",
    "import json\n",
    "json.dumps(D_pays)"
   ]
  },
  {
   "cell_type": "code",
   "execution_count": 12,
   "metadata": {},
   "outputs": [],
   "source": [
    "#enregistrer dans un fichier\n",
    "with open('pays.json', 'w') as f:\n",
    "    f.write(json.dumps(D_pays))\n",
    "    "
   ]
  },
  {
   "cell_type": "code",
   "execution_count": 13,
   "metadata": {},
   "outputs": [],
   "source": [
    "#charger le contenu dans une dictionnaire\n",
    "with open('pays.json', 'r') as f:\n",
    "    pays=json.load(f)"
   ]
  },
  {
   "cell_type": "code",
   "execution_count": 14,
   "metadata": {},
   "outputs": [
    {
     "data": {
      "text/plain": [
       "{'Pays1': {'Code_pays': 'AT', 'Nom_pays': 'Autriche', 'Langue': 'Allemand'},\n",
       " 'Pays2': {'Code_pays': 'FR', 'Nom_pays': 'France', 'Langue': 'Français'},\n",
       " 'Pays3': {'Code_pays': 'MA', 'Nom_pays': 'Maroc', 'Langue': 'Arabe'}}"
      ]
     },
     "execution_count": 14,
     "metadata": {},
     "output_type": "execute_result"
    }
   ],
   "source": [
    "pays"
   ]
  },
  {
   "cell_type": "code",
   "execution_count": 15,
   "metadata": {},
   "outputs": [
    {
     "data": {
      "text/plain": [
       "dict"
      ]
     },
     "execution_count": 15,
     "metadata": {},
     "output_type": "execute_result"
    }
   ],
   "source": [
    "type(pays)"
   ]
  },
  {
   "cell_type": "code",
   "execution_count": 16,
   "metadata": {},
   "outputs": [
    {
     "name": "stdout",
     "output_type": "stream",
     "text": [
      "{\"Pays1\": {\"Code_pays\": \"AT\", \"Langue\": \"Allemand\", \"Nom_pays\": \"Autriche\"}, \"Pays2\": {\"Code_pays\": \"FR\", \"Langue\": \"Fran\\u00e7ais\", \"Nom_pays\": \"France\"}, \"Pays3\": {\"Code_pays\": \"MA\", \"Langue\": \"Arabe\", \"Nom_pays\": \"Maroc\"}}\n"
     ]
    }
   ],
   "source": [
    "print(json.dumps(pays, sort_keys= True))"
   ]
  },
  {
   "cell_type": "code",
   "execution_count": 17,
   "metadata": {},
   "outputs": [],
   "source": [
    "#interroger une base de données SQL server\n",
    "import numpy as np\n",
    "import pandas as pd\n",
    "import pyodbc\n"
   ]
  },
  {
   "cell_type": "code",
   "execution_count": null,
   "metadata": {},
   "outputs": [],
   "source": [
    "conn = pyodbc.connect()"
   ]
  }
 ],
 "metadata": {
  "kernelspec": {
   "display_name": "Python 3",
   "language": "python",
   "name": "python3"
  },
  "language_info": {
   "codemirror_mode": {
    "name": "ipython",
    "version": 3
   },
   "file_extension": ".py",
   "mimetype": "text/x-python",
   "name": "python",
   "nbconvert_exporter": "python",
   "pygments_lexer": "ipython3",
   "version": "3.8.5"
  }
 },
 "nbformat": 4,
 "nbformat_minor": 4
}
