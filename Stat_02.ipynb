{
 "cells": [
  {
   "cell_type": "code",
   "execution_count": 27,
   "metadata": {
    "executionInfo": {
     "elapsed": 836,
     "status": "ok",
     "timestamp": 1609327341990,
     "user": {
      "displayName": "J.A DATATECH CONSULTING",
      "photoUrl": "https://lh3.googleusercontent.com/a-/AOh14Gi9wsjK7psnF8z3uOCEcA2yFkP2ckMODUtZxShO=s64",
      "userId": "06410945177748020218"
     },
     "user_tz": -60
    },
    "id": "DEQE7k1KqRJ4"
   },
   "outputs": [],
   "source": [
    "# Importation des librairies\n",
    "import numpy as np\n",
    "import pandas as pd\n",
    "import matplotlib.pyplot as plt\n",
    "import seaborn as sns\n",
    "plt.style.use('ggplot')"
   ]
  },
  {
   "cell_type": "code",
   "execution_count": 28,
   "metadata": {
    "colab": {
     "base_uri": "https://localhost:8080/",
     "height": 203
    },
    "executionInfo": {
     "elapsed": 1772,
     "status": "ok",
     "timestamp": 1609327342949,
     "user": {
      "displayName": "J.A DATATECH CONSULTING",
      "photoUrl": "https://lh3.googleusercontent.com/a-/AOh14Gi9wsjK7psnF8z3uOCEcA2yFkP2ckMODUtZxShO=s64",
      "userId": "06410945177748020218"
     },
     "user_tz": -60
    },
    "id": "yMRhf2WfqjdV",
    "outputId": "03bb155e-7038-42c4-a7aa-b71fd67483d3"
   },
   "outputs": [
    {
     "data": {
      "text/html": [
       "<div>\n",
       "<style scoped>\n",
       "    .dataframe tbody tr th:only-of-type {\n",
       "        vertical-align: middle;\n",
       "    }\n",
       "\n",
       "    .dataframe tbody tr th {\n",
       "        vertical-align: top;\n",
       "    }\n",
       "\n",
       "    .dataframe thead th {\n",
       "        text-align: right;\n",
       "    }\n",
       "</style>\n",
       "<table border=\"1\" class=\"dataframe\">\n",
       "  <thead>\n",
       "    <tr style=\"text-align: right;\">\n",
       "      <th></th>\n",
       "      <th>total_bill</th>\n",
       "      <th>tip</th>\n",
       "      <th>sex</th>\n",
       "      <th>smoker</th>\n",
       "      <th>day</th>\n",
       "      <th>time</th>\n",
       "      <th>size</th>\n",
       "    </tr>\n",
       "  </thead>\n",
       "  <tbody>\n",
       "    <tr>\n",
       "      <th>0</th>\n",
       "      <td>16.99</td>\n",
       "      <td>1.01</td>\n",
       "      <td>Female</td>\n",
       "      <td>No</td>\n",
       "      <td>Sun</td>\n",
       "      <td>Dinner</td>\n",
       "      <td>2</td>\n",
       "    </tr>\n",
       "    <tr>\n",
       "      <th>1</th>\n",
       "      <td>10.34</td>\n",
       "      <td>1.66</td>\n",
       "      <td>Male</td>\n",
       "      <td>No</td>\n",
       "      <td>Sun</td>\n",
       "      <td>Dinner</td>\n",
       "      <td>3</td>\n",
       "    </tr>\n",
       "    <tr>\n",
       "      <th>2</th>\n",
       "      <td>21.01</td>\n",
       "      <td>3.50</td>\n",
       "      <td>Male</td>\n",
       "      <td>No</td>\n",
       "      <td>Sun</td>\n",
       "      <td>Dinner</td>\n",
       "      <td>3</td>\n",
       "    </tr>\n",
       "    <tr>\n",
       "      <th>3</th>\n",
       "      <td>23.68</td>\n",
       "      <td>3.31</td>\n",
       "      <td>Male</td>\n",
       "      <td>No</td>\n",
       "      <td>Sun</td>\n",
       "      <td>Dinner</td>\n",
       "      <td>2</td>\n",
       "    </tr>\n",
       "    <tr>\n",
       "      <th>4</th>\n",
       "      <td>24.59</td>\n",
       "      <td>3.61</td>\n",
       "      <td>Female</td>\n",
       "      <td>No</td>\n",
       "      <td>Sun</td>\n",
       "      <td>Dinner</td>\n",
       "      <td>4</td>\n",
       "    </tr>\n",
       "    <tr>\n",
       "      <th>...</th>\n",
       "      <td>...</td>\n",
       "      <td>...</td>\n",
       "      <td>...</td>\n",
       "      <td>...</td>\n",
       "      <td>...</td>\n",
       "      <td>...</td>\n",
       "      <td>...</td>\n",
       "    </tr>\n",
       "    <tr>\n",
       "      <th>239</th>\n",
       "      <td>29.03</td>\n",
       "      <td>5.92</td>\n",
       "      <td>Male</td>\n",
       "      <td>No</td>\n",
       "      <td>Sat</td>\n",
       "      <td>Dinner</td>\n",
       "      <td>3</td>\n",
       "    </tr>\n",
       "    <tr>\n",
       "      <th>240</th>\n",
       "      <td>27.18</td>\n",
       "      <td>2.00</td>\n",
       "      <td>Female</td>\n",
       "      <td>Yes</td>\n",
       "      <td>Sat</td>\n",
       "      <td>Dinner</td>\n",
       "      <td>2</td>\n",
       "    </tr>\n",
       "    <tr>\n",
       "      <th>241</th>\n",
       "      <td>22.67</td>\n",
       "      <td>2.00</td>\n",
       "      <td>Male</td>\n",
       "      <td>Yes</td>\n",
       "      <td>Sat</td>\n",
       "      <td>Dinner</td>\n",
       "      <td>2</td>\n",
       "    </tr>\n",
       "    <tr>\n",
       "      <th>242</th>\n",
       "      <td>17.82</td>\n",
       "      <td>1.75</td>\n",
       "      <td>Male</td>\n",
       "      <td>No</td>\n",
       "      <td>Sat</td>\n",
       "      <td>Dinner</td>\n",
       "      <td>2</td>\n",
       "    </tr>\n",
       "    <tr>\n",
       "      <th>243</th>\n",
       "      <td>18.78</td>\n",
       "      <td>3.00</td>\n",
       "      <td>Female</td>\n",
       "      <td>No</td>\n",
       "      <td>Thur</td>\n",
       "      <td>Dinner</td>\n",
       "      <td>2</td>\n",
       "    </tr>\n",
       "  </tbody>\n",
       "</table>\n",
       "<p>244 rows × 7 columns</p>\n",
       "</div>"
      ],
      "text/plain": [
       "     total_bill   tip     sex smoker   day    time  size\n",
       "0         16.99  1.01  Female     No   Sun  Dinner     2\n",
       "1         10.34  1.66    Male     No   Sun  Dinner     3\n",
       "2         21.01  3.50    Male     No   Sun  Dinner     3\n",
       "3         23.68  3.31    Male     No   Sun  Dinner     2\n",
       "4         24.59  3.61  Female     No   Sun  Dinner     4\n",
       "..          ...   ...     ...    ...   ...     ...   ...\n",
       "239       29.03  5.92    Male     No   Sat  Dinner     3\n",
       "240       27.18  2.00  Female    Yes   Sat  Dinner     2\n",
       "241       22.67  2.00    Male    Yes   Sat  Dinner     2\n",
       "242       17.82  1.75    Male     No   Sat  Dinner     2\n",
       "243       18.78  3.00  Female     No  Thur  Dinner     2\n",
       "\n",
       "[244 rows x 7 columns]"
      ]
     },
     "execution_count": 28,
     "metadata": {},
     "output_type": "execute_result"
    }
   ],
   "source": [
    "# Importation du jeu de données 'tips'\n",
    "df = sns.load_dataset('tips')\n",
    "df"
   ]
  },
  {
   "cell_type": "markdown",
   "metadata": {
    "id": "yGRVXVq-Ou1t"
   },
   "source": [
    "# <font color=red> Histogramme"
   ]
  },
  {
   "cell_type": "code",
   "execution_count": 29,
   "metadata": {
    "colab": {
     "base_uri": "https://localhost:8080/",
     "height": 354
    },
    "executionInfo": {
     "elapsed": 1738,
     "status": "ok",
     "timestamp": 1609327343222,
     "user": {
      "displayName": "J.A DATATECH CONSULTING",
      "photoUrl": "https://lh3.googleusercontent.com/a-/AOh14Gi9wsjK7psnF8z3uOCEcA2yFkP2ckMODUtZxShO=s64",
      "userId": "06410945177748020218"
     },
     "user_tz": -60
    },
    "id": "pMw4MEBNOHYi",
    "outputId": "415f4245-f825-4d4c-cd0b-ac71a1e53fdf"
   },
   "outputs": [
    {
     "name": "stderr",
     "output_type": "stream",
     "text": [
      "C:\\Users\\dell\\anaconda3\\lib\\site-packages\\seaborn\\distributions.py:2551: FutureWarning: `distplot` is a deprecated function and will be removed in a future version. Please adapt your code to use either `displot` (a figure-level function with similar flexibility) or `histplot` (an axes-level function for histograms).\n",
      "  warnings.warn(msg, FutureWarning)\n"
     ]
    },
    {
     "data": {
      "image/png": "[encoded data removed]",
      "text/plain": [
       "<Figure size 432x288 with 1 Axes>"
      ]
     },
     "metadata": {},
     "output_type": "display_data"
    }
   ],
   "source": [
    "# Histogramme du montant total de la consommation\n",
    "sns.distplot(df.total_bill, kde=False, bins=20).set_title('Consommation');"
   ]
  },
  {
   "cell_type": "code",
   "execution_count": 30,
   "metadata": {
    "colab": {
     "base_uri": "https://localhost:8080/",
     "height": 354
    },
    "executionInfo": {
     "elapsed": 2014,
     "status": "ok",
     "timestamp": 1609327343518,
     "user": {
      "displayName": "J.A DATATECH CONSULTING",
      "photoUrl": "https://lh3.googleusercontent.com/a-/AOh14Gi9wsjK7psnF8z3uOCEcA2yFkP2ckMODUtZxShO=s64",
      "userId": "06410945177748020218"
     },
     "user_tz": -60
    },
    "id": "Lf3_IApGRNlc",
    "outputId": "273c0017-5b10-4be0-9ead-9d885615e6eb"
   },
   "outputs": [
    {
     "name": "stderr",
     "output_type": "stream",
     "text": [
      "C:\\Users\\dell\\anaconda3\\lib\\site-packages\\seaborn\\distributions.py:2551: FutureWarning: `distplot` is a deprecated function and will be removed in a future version. Please adapt your code to use either `displot` (a figure-level function with similar flexibility) or `kdeplot` (an axes-level function for kernel density plots).\n",
      "  warnings.warn(msg, FutureWarning)\n"
     ]
    },
    {
     "data": {
      "image/png": "[encoded data removed]",
      "text/plain": [
       "<Figure size 432x288 with 1 Axes>"
      ]
     },
     "metadata": {},
     "output_type": "display_data"
    }
   ],
   "source": [
    "# Histogramme du montant total de la consommation\n",
    "sns.distplot(df.total_bill, hist=False, bins=20).set_title('Consommation');\n"
   ]
  },
  {
   "cell_type": "code",
   "execution_count": 31,
   "metadata": {
    "colab": {
     "base_uri": "https://localhost:8080/",
     "height": 354
    },
    "executionInfo": {
     "elapsed": 2529,
     "status": "ok",
     "timestamp": 1609327344064,
     "user": {
      "displayName": "J.A DATATECH CONSULTING",
      "photoUrl": "https://lh3.googleusercontent.com/a-/AOh14Gi9wsjK7psnF8z3uOCEcA2yFkP2ckMODUtZxShO=s64",
      "userId": "06410945177748020218"
     },
     "user_tz": -60
    },
    "id": "OTlttHyTRlv7",
    "outputId": "b272655f-b026-4a58-b664-dd2ba57bf1c5"
   },
   "outputs": [
    {
     "name": "stderr",
     "output_type": "stream",
     "text": [
      "C:\\Users\\dell\\anaconda3\\lib\\site-packages\\seaborn\\distributions.py:2551: FutureWarning: `distplot` is a deprecated function and will be removed in a future version. Please adapt your code to use either `displot` (a figure-level function with similar flexibility) or `histplot` (an axes-level function for histograms).\n",
      "  warnings.warn(msg, FutureWarning)\n"
     ]
    },
    {
     "data": {
      "image/png": "[encoded data removed]",
      "text/plain": [
       "<Figure size 432x288 with 1 Axes>"
      ]
     },
     "metadata": {},
     "output_type": "display_data"
    }
   ],
   "source": [
    "# Histogramme et Densité de probabilité du montant total de la consommation\n",
    "sns.distplot(df.total_bill).set_title('Consommation');\n"
   ]
  },
  {
   "cell_type": "code",
   "execution_count": 77,
   "metadata": {},
   "outputs": [
    {
     "data": {
      "text/plain": [
       "1.1332130376158205"
      ]
     },
     "execution_count": 77,
     "metadata": {},
     "output_type": "execute_result"
    }
   ],
   "source": [
    "df.total_bill.skew()"
   ]
  },
  {
   "cell_type": "code",
   "execution_count": 78,
   "metadata": {},
   "outputs": [
    {
     "data": {
      "text/plain": [
       "1.2184840156638854"
      ]
     },
     "execution_count": 78,
     "metadata": {},
     "output_type": "execute_result"
    }
   ],
   "source": [
    "df.total_bill.kurtosis()"
   ]
  },
  {
   "cell_type": "code",
   "execution_count": 32,
   "metadata": {
    "colab": {
     "base_uri": "https://localhost:8080/",
     "height": 337
    },
    "executionInfo": {
     "elapsed": 2830,
     "status": "ok",
     "timestamp": 1609327344380,
     "user": {
      "displayName": "J.A DATATECH CONSULTING",
      "photoUrl": "https://lh3.googleusercontent.com/a-/AOh14Gi9wsjK7psnF8z3uOCEcA2yFkP2ckMODUtZxShO=s64",
      "userId": "06410945177748020218"
     },
     "user_tz": -60
    },
    "id": "VkktDxeNTwee",
    "outputId": "fca29411-c316-4505-ec9a-b88c9c0cf183"
   },
   "outputs": [
    {
     "name": "stderr",
     "output_type": "stream",
     "text": [
      "C:\\Users\\dell\\anaconda3\\lib\\site-packages\\seaborn\\distributions.py:2551: FutureWarning: `distplot` is a deprecated function and will be removed in a future version. Please adapt your code to use either `displot` (a figure-level function with similar flexibility) or `histplot` (an axes-level function for histograms).\n",
      "  warnings.warn(msg, FutureWarning)\n"
     ]
    },
    {
     "data": {
      "image/png": "[encoded data removed]",
      "text/plain": [
       "<Figure size 432x288 with 1 Axes>"
      ]
     },
     "metadata": {},
     "output_type": "display_data"
    }
   ],
   "source": [
    "# Exemple de distribution normale\n",
    "x = np.random.normal(size=10000)\n",
    "sns.distplot(x, kde=True).set_title('Distribution normal');\n"
   ]
  },
  {
   "cell_type": "code",
   "execution_count": 46,
   "metadata": {
    "executionInfo": {
     "elapsed": 2819,
     "status": "ok",
     "timestamp": 1609327344381,
     "user": {
      "displayName": "J.A DATATECH CONSULTING",
      "photoUrl": "https://lh3.googleusercontent.com/a-/AOh14Gi9wsjK7psnF8z3uOCEcA2yFkP2ckMODUtZxShO=s64",
      "userId": "06410945177748020218"
     },
     "user_tz": -60
    },
    "id": "syROAMd8uTjQ"
   },
   "outputs": [],
   "source": [
    "# Importation du module stats de Scipy\n",
    "from scipy import stats\n",
    "\n",
    "# Fonction pour trouver les outliers\n",
    "def outl(data_in , variable = 'tip'):\n",
    "        # si data > iqr+1.5Q3: upp et si data<iqr-1.5Q1 :low\n",
    "        upp = np.quantile(data_in[variable], 0.75) + 1.5*stats.iqr(data_in[variable])\n",
    "        low = np.quantile(data_in[variable], 0.25)-stats.iqr(data_in[variable])\n",
    "        data_out = data_in[(data_in[variable]<low)|(data_in[variable]>upp)]\n",
    "        return data_out"
   ]
  },
  {
   "cell_type": "code",
   "execution_count": 50,
   "metadata": {
    "colab": {
     "base_uri": "https://localhost:8080/",
     "height": 327
    },
    "executionInfo": {
     "elapsed": 2811,
     "status": "ok",
     "timestamp": 1609327344383,
     "user": {
      "displayName": "J.A DATATECH CONSULTING",
      "photoUrl": "https://lh3.googleusercontent.com/a-/AOh14Gi9wsjK7psnF8z3uOCEcA2yFkP2ckMODUtZxShO=s64",
      "userId": "06410945177748020218"
     },
     "user_tz": -60
    },
    "id": "U8AsfwyXwNZJ",
    "outputId": "4d2a6505-e9f4-41bf-deb8-84298b06b086"
   },
   "outputs": [
    {
     "data": {
      "text/html": [
       "<div>\n",
       "<style scoped>\n",
       "    .dataframe tbody tr th:only-of-type {\n",
       "        vertical-align: middle;\n",
       "    }\n",
       "\n",
       "    .dataframe tbody tr th {\n",
       "        vertical-align: top;\n",
       "    }\n",
       "\n",
       "    .dataframe thead th {\n",
       "        text-align: right;\n",
       "    }\n",
       "</style>\n",
       "<table border=\"1\" class=\"dataframe\">\n",
       "  <thead>\n",
       "    <tr style=\"text-align: right;\">\n",
       "      <th></th>\n",
       "      <th>total_bill</th>\n",
       "      <th>tip</th>\n",
       "      <th>sex</th>\n",
       "      <th>smoker</th>\n",
       "      <th>day</th>\n",
       "      <th>time</th>\n",
       "      <th>size</th>\n",
       "    </tr>\n",
       "  </thead>\n",
       "  <tbody>\n",
       "    <tr>\n",
       "      <th>23</th>\n",
       "      <td>39.42</td>\n",
       "      <td>7.58</td>\n",
       "      <td>Male</td>\n",
       "      <td>No</td>\n",
       "      <td>Sat</td>\n",
       "      <td>Dinner</td>\n",
       "      <td>4</td>\n",
       "    </tr>\n",
       "    <tr>\n",
       "      <th>47</th>\n",
       "      <td>32.40</td>\n",
       "      <td>6.00</td>\n",
       "      <td>Male</td>\n",
       "      <td>No</td>\n",
       "      <td>Sun</td>\n",
       "      <td>Dinner</td>\n",
       "      <td>4</td>\n",
       "    </tr>\n",
       "    <tr>\n",
       "      <th>59</th>\n",
       "      <td>48.27</td>\n",
       "      <td>6.73</td>\n",
       "      <td>Male</td>\n",
       "      <td>No</td>\n",
       "      <td>Sat</td>\n",
       "      <td>Dinner</td>\n",
       "      <td>4</td>\n",
       "    </tr>\n",
       "    <tr>\n",
       "      <th>141</th>\n",
       "      <td>34.30</td>\n",
       "      <td>6.70</td>\n",
       "      <td>Male</td>\n",
       "      <td>No</td>\n",
       "      <td>Thur</td>\n",
       "      <td>Lunch</td>\n",
       "      <td>6</td>\n",
       "    </tr>\n",
       "    <tr>\n",
       "      <th>170</th>\n",
       "      <td>50.81</td>\n",
       "      <td>10.00</td>\n",
       "      <td>Male</td>\n",
       "      <td>Yes</td>\n",
       "      <td>Sat</td>\n",
       "      <td>Dinner</td>\n",
       "      <td>3</td>\n",
       "    </tr>\n",
       "    <tr>\n",
       "      <th>183</th>\n",
       "      <td>23.17</td>\n",
       "      <td>6.50</td>\n",
       "      <td>Male</td>\n",
       "      <td>Yes</td>\n",
       "      <td>Sun</td>\n",
       "      <td>Dinner</td>\n",
       "      <td>4</td>\n",
       "    </tr>\n",
       "    <tr>\n",
       "      <th>212</th>\n",
       "      <td>48.33</td>\n",
       "      <td>9.00</td>\n",
       "      <td>Male</td>\n",
       "      <td>No</td>\n",
       "      <td>Sat</td>\n",
       "      <td>Dinner</td>\n",
       "      <td>4</td>\n",
       "    </tr>\n",
       "    <tr>\n",
       "      <th>214</th>\n",
       "      <td>28.17</td>\n",
       "      <td>6.50</td>\n",
       "      <td>Female</td>\n",
       "      <td>Yes</td>\n",
       "      <td>Sat</td>\n",
       "      <td>Dinner</td>\n",
       "      <td>3</td>\n",
       "    </tr>\n",
       "    <tr>\n",
       "      <th>239</th>\n",
       "      <td>29.03</td>\n",
       "      <td>5.92</td>\n",
       "      <td>Male</td>\n",
       "      <td>No</td>\n",
       "      <td>Sat</td>\n",
       "      <td>Dinner</td>\n",
       "      <td>3</td>\n",
       "    </tr>\n",
       "  </tbody>\n",
       "</table>\n",
       "</div>"
      ],
      "text/plain": [
       "     total_bill    tip     sex smoker   day    time  size\n",
       "23        39.42   7.58    Male     No   Sat  Dinner     4\n",
       "47        32.40   6.00    Male     No   Sun  Dinner     4\n",
       "59        48.27   6.73    Male     No   Sat  Dinner     4\n",
       "141       34.30   6.70    Male     No  Thur   Lunch     6\n",
       "170       50.81  10.00    Male    Yes   Sat  Dinner     3\n",
       "183       23.17   6.50    Male    Yes   Sun  Dinner     4\n",
       "212       48.33   9.00    Male     No   Sat  Dinner     4\n",
       "214       28.17   6.50  Female    Yes   Sat  Dinner     3\n",
       "239       29.03   5.92    Male     No   Sat  Dinner     3"
      ]
     },
     "execution_count": 50,
     "metadata": {},
     "output_type": "execute_result"
    }
   ],
   "source": [
    "# Points de données aberrants de la variable indiquant les pourboires\n",
    "\n",
    "data = outl(df, variable ='tip')\n",
    "data"
   ]
  },
  {
   "cell_type": "code",
   "execution_count": 52,
   "metadata": {},
   "outputs": [
    {
     "data": {
      "text/plain": [
       "Int64Index([23, 47, 59, 141, 170, 183, 212, 214, 239], dtype='int64')"
      ]
     },
     "execution_count": 52,
     "metadata": {},
     "output_type": "execute_result"
    }
   ],
   "source": [
    "data.index"
   ]
  },
  {
   "cell_type": "markdown",
   "metadata": {
    "id": "loay1vcMh2of"
   },
   "source": [
    "# <font color=red> Boîte à moustache"
   ]
  },
  {
   "cell_type": "markdown",
   "metadata": {
    "id": "didkV0VooKEG"
   },
   "source": [
    "![box_plot.png](data:image/png;base64,iVBORw0KGgoAAAANSUhEUgAAASwAAAFpCAIAAACpioL9AAAAGXRFWHRTb2Z0d2FyZQBBZG9iZSBJbWFnZVJlYWR5ccllPAAAAyJpVFh0WE1MOmNvbS5hZG9iZS54bXAAAAAAADw/eHBhY2tldCBiZWdpbj0i77u/IiBpZD0iVzVNME1wQ2VoaUh6cmVTek5UY3prYzlkIj8+IDx4OnhtcG1ldGEgeG1sbnM6eD0iYWRvYmU6bnM6bWV0YS8iIHg6eG1wdGs9IkFkb2JlIFhNUCBDb3JlIDUuMy1jMDExIDY2LjE0NTY2MSwgMjAxMi8wMi8wNi0xNDo1NjoyNyAgICAgICAgIj4gPHJkZjpSREYgeG1sbnM6cmRmPSJodHRwOi8vd3d3LnczLm9yZy8xOTk5LzAyLzIyLXJkZi1zeW50YXgtbnMjIj4gPHJkZjpEZXNjcmlwdGlvbiByZGY6YWJvdXQ9IiIgeG1sbnM6eG1wPSJodHRwOi8vbnMuYWRvYmUuY29tL3hhcC8xLjAvIiB4bWxuczp4bXBNTT0iaHR0cDovL25zLmFkb2JlLmNvbS94YXAvMS4wL21tLyIgeG1sbnM6c3RSZWY9Imh0dHA6Ly9ucy5hZG9iZS5jb20veGFwLzEuMC9zVHlwZS9SZXNvdXJjZVJlZiMiIHhtcDpDcmVhdG9yVG9vbD0iQWRvYmUgUGhvdG9zaG9wIENTNiAoV2luZG93cykiIHhtcE1NOkluc3RhbmNlSUQ9InhtcC5paWQ6OTQwNkYzQjczMjlEMTFFNzlFMjc4MTFDRDczMzBDNjkiIHhtcE1NOkRvY3VtZW50SUQ9InhtcC5kaWQ6OTQwNkYzQjgzMjlEMTFFNzlFMjc4MTFDRDczMzBDNjkiPiA8eG1wTU06RGVyaXZlZEZyb20gc3RSZWY6aW5zdGFuY2VJRD0ieG1wLmlpZDo5NDA2RjNCNTMyOUQxMUU3OUUyNzgxMUNENzMzMEM2OSIgc3RSZWY6ZG9jdW1lbnRJRD0ieG1wLmRpZDo5NDA2RjNCNjMyOUQxMUU3OUUyNzgxMUNENzMzMEM2OSIvPiA8L3JkZjpEZXNjcmlwdGlvbj4gPC9yZGY6UkRGPiA8L3g6eG1wbWV0YT4gPD94cGFja2V0IGVuZD0iciI/Po/TjIkAAEEDSURBVHja7J0JXFRV+8fnzsq+gwKiKIoobuWK5q7lbpprmVlpaqnlkktWZubfzLVe294sX7UsS3MX9zRxB0VARQRlRxAYtmGY9f5/M0fHcVjcBhR8vh8c75w599x7zz2/Z7l35h6O53kBQRBPDiF1AUGQCAmCREgQBImQIEiEBEGQCAmCREgQBImQIEiEBEGQCAmCREgQBImQIEiEBEGQCAmCREgQT5qMjIzp06dv2rQJyzqdLjY2tqCgoIYdo5hOc80jTa5Kkas6NHB6srsRERFx9OjRGzduiESiwMDA/v37+/v7P2wjRUVFx44dc3IyHMvhw4enTJny7rvvfvDBByRC4hG5devWoUOH4uLiMKratWvXqVMn67YvV2j3XcrdHZXdzNf+CYpQr9f/5z//2bhxo6OjY4MGDZRK5enTp7du3frRRx/16tWr4nXz8vJ+//33hg0b9u7d2xCqCYV2dnZSqRTL9evXf/HFF4ODg8kTEo/IuXPnlixZEh8fz95iqA0aNOjDDz+UyWSP33iBUnvwsvzA5dysAo2e520kTzLR2LJly9q1azt27Dh37lwoB5oMDw//7LPPFi1a5Ofn17hx4wrWTU9PX7ly5Zw5c0p/1KhRozVr1tS8gSFC15A8qoCbN2/OmzcvOTn5pZdemjhxYsuWLdPS0sLCwqDA1q1bP07LRSrd/kvyH4+ln0goUOt4mVio5wV13WxCApwrclY8rzcu6HiBWstr9YY/jY5XanQqjV6l1Zdo9QqVrlitZ3/5Sl1hye2/3GJNXrE2T2n4s5UKxULOvOXCwsIvv/wSvmvVqlV169ZFCcdxvr6+7u7uu3btwvHC/4eGhkJpTZo0cXNzY/Zo3bp1bdu2/ffffyEz5H5ZWVkHDx708vJydXWFpCG/Ll26JCQkzJ8/XywWw0+ySPWPP/74+eefjxw5wvM8K0Sdjz/+GHUuXLjw008/tWjRAt6YPCEhYPkMfOCAAQMWLFiAIYI0CUNw9uzZe/bsGTZsGBuLD0uJRn8sLi80Jjcpu0Qi5mzveD+JiIu7qfzPkVSdXqBU6zmjRjBMIVGDJAwKFGh0TIMox7LhQUPGcoMOb5cLBBro8s62DHXuvFHrUNGwIgoWD6kf4Glr4cpga7p37+7j42Ne3qpVq1q1al26dAnLqICwfMKECeyj2NhYZI/Tp09Xq9WIXSFajUajUCi0Wq15C/n5+VgLujJ4/oIC9N7Zs2ebNm0K2aN7EeqPGTMGdWDa5HJ5SUmJh4cH9EzhKCEwjTOkN8iIoMDi4mKMs+bNmyMwi4iIgJN8WBEWq3VnrhfsjclNyFKKhBzc0T3hjZCDj/onNs9iLc7MY3ECruzye+pYlHPm5UyEpVEYgQezHGpisa2tLbSBZfhJZHroEPYRewsFDhw4MCAgYNSoUW+99da4ceOYZzO1wPJDiUSCZTjVkydPfvLJJ8OHD4di33nnHbjToUOHwtOiNWgPSWmdOnUoJyTugqAIriQ7Oxs+EArESFKpVDDntkYeqimVlt90JnP7hWyhkLOXibiy6iBCtEgL+dv/DBoyf8Ke+eP2zEXFNMaZCnlTXf5OQGtYKv2wPhsj8EgW5RAGFAhnyK7clHd0kCL6x8IHlgbGy9nZOSMjAzEnuhT10bdwgFiGJrt27VpdFEgirDratGmzefNmpDeIQoOCgjAckc9cvXoVyaG3t/dDNSUTcyPb1Qqsbbc/JvfqzWKoQGqRlhkVgrzOXFhwjyLhbXWJRRwsARbg38SQMnfbv4lFQqY6/Ce+o278D7vB2jE2wt1uBOtxAgsnDGobiYyMRHzo6elpKr948SJ8ft++fU0iZD6NuThzowCgpYo7AZLGWmgQO4HW4D+Dg4Pt7e3z8vKYIaCro4QlXbp0wfjbsWPHzJkzIUI4CmRHCK4QRz3CiHGUibo0cukY4ByeWBgak3MlvRjpm0x8W07I3+q4yka08YKQpGKWERqFJ7yzLDaI0JRA3hEhx5Z543c4JHdWxFpMkBCexNgIc4ccV/a+IbQeNGjQ119/vXLlyhkzZjAdRkVFffvtt4hRkRWz0BTKiY6OhnJyc3NjYmJQclvzRlBo8PkqVXk9UL9+/RMnTsDjvfTSS0y6yAydnJwSExMt3DuJkLibEc2dO9fDw+PAgQMYPQhBmzVrBgW2b9/+0dsUch0aOLVv4HQ+qXBfTG5UapFGy0sNV0d5JxtxSEBl3SfkLPLFUrzxxhspKSk7d+6EP2zUqJFSqYTMkK2hB/AWFXDULi4u33zzTVhYGOwRwkjEk0w5bka2b98O3b7++utImxE1IMJk/hNNsUh1yJAhR48enT9/PlJBxKVJSUlt27bFW/M61QW6RVF1SKXSDh069OzZs0ePHsOGDcMIgzm3iiR8XGRdAl2CatuXaPQ389VFap2no6RnE1fuSY0qkahz587QGxK8rKwsvMVRz5kzBzphFeAeceyQn0KhGD16NJahtF69esGVOTg4wFThI8ipd+/e0OqVK1eaN2/eqlUr+Lr4+Hj0IZSJ8pCQENSBgOEwYdGGDx/u7u5uXqe6DAyOHoNfw0CWuD0yO1+pXTDQHwEqdQiJkHgywB/CGYqEHHUFiZAgiPtA4QpBkAgJgkRIEASJkCBIhARBkAgJgkRIEASJkCBIhARBkAgJgkRIEASJkCBIhARBkAgJgkRIEASJkCBIhARBkAgJgkRIEASJkCBIhARBkAgJgkRIEASJkCBIhEQ14FahJiKpkPqhukCzMtUoilS6g5flOyKzG9e2bV3PsYYdnVKpzMrK8vPzM5/PkERIPDUDVK0/EivfF5ObKlfpeN5GbP8Ed+bvv/8+c+aMi4vLe++95+R0zwxt69ati4mJad68OZsN+6H48ccf165d+91333Xp0oVESDxFqLT6f+Py90bnJOWUiI3z15do9A/VglZ3d0psLN+ZnIQ3Wxbcs6y/O4OJh4NEUmrG7qioqL1794pEopYtW/br189UnpiYuGHDBniz4uLiRxBhQEBA27Zt2YTbJELiqQBiOBGfvycqJz5LKRJypknqoYprWcq1x9O1eoFJkJCNWmdY5oyTaau1epPw7i4b6vBsZmz8h2WT2FDHJEK2bJjUnhd8Pti/gaet5agSi318fLCwZ8+ePn36mKLH0NBQtOjt7S2VSh/heAcaoZyQKJeMjAwYeI6z2mxkGK9ubm6urq5ler/zSYW7o3NjM7BFgUl+DAgyV6HZG53L5rW+DXfP7Lrmu3n3k4rqmJcbPoEC9WbNW+y5vb093OCBAwfi4+MDAwNRqFAoDh8+3KpVq+TkZDZnPcjJyUEdBKho8vnnn4fbtLGx2bx589mzZ8ePH9+kSRPU+eGHH9C3s2bNOn/+/K5du6ZMmeLv779169bo6Og33njj2LFjsbGxISEhgwcPvnbtGtZVqVS9e/dmIeu5c+dQMnLkSDY/KXYAhoC1gOX9+/dPnDgxMjIS1Zo1azZmzBh4aQTMBQUFHTt27N+/P4mwmrFkyZKTJ0/a2tpa8TrEu++++9Zbb5VSIL/xdOaOC9mQgr1MVKbohRwco+UnvNkSX9Yn5tPkWVTm7xWZwDB5teGTMmfWg+srLCzs3Lnz0aNHMdCZCE+dOpWZmTl58uQ1a9aYan7xxRcohyRyc3N37tyZmpo6bdq0xo0bL126VKvVfv3115AHksCxY8c6ODhcvnx527Zto0ePRn1EvJBTSkpKUVERmsWGsC6aQqelpaX9888/K1eubNeuHQSPVSBRJsK4uDhTC1hGzJyfnw/J3bp1C7bg5s2bCQkJeMXbgwcP4ij69u1bBSOHblFYDaRAYmtT5mVAmZh75XnPqT19G9e2U2n05oGiCRQVq/XFap2C/al0iEuR12nwpzUIR8gZHB1eEbtKxUL8ycRCB5nIwcbw52gjdrOXGP7sJB6OktrOUvbn6yLzczP+ucoaeNoEeNnKJMLyLEjDhg3bt2+PwQ2doAQaa9q0afPmzdVqtakahPqHkU2bNkEYsGLwY/CWkyZNCgsLO3LkyC+//IJV4LvgKiUSCaSIfsaKcJhoB84W6y5btszOzu63336Dx4OHnDFjBkwAfCkLjLEKXm8H6mYtSIx4eXmtX78eztbX1/f333/HDkOlixcvhnXBzpAnrGZoNBoMoIqvnuNTnPjbOtHrsUpFV1xUKniDMj9ytRO/2NStSyOX09cL9sXkxmcVQ1dShKHc7Yso3i6ywa08JEIIjGNuDWIzTdzLlqFFzihCrMYb7TGrzALO28u8IbhFHd5sReYbJaL7BN440kGDBu3bty8iIgLODa9z586FWkyxKEvzTp8+DbcDT8g6EH7J09MTcWZ4eDjEgOwRGoPkLK2MXo9CrI5dbdGiBVZByYsvvoiP4AARDOfl5d33lGEVBLHYBOxF3bp1sfUBAwagHKEpEgG5XE4irGbgLOK0yWSyCuqUlJQgWIIUcfoxHL29vSsWIcZWBRWQCnZr7PJCQ+czNwr2X8q9nFGs1/NwaDqed7EV9whyecKXbVUqBIEY34j6EEk6Ojp269bN3O4gjIQs4dBat24dEBCAHA/KYQEuutHd3R3erE6dOuV1AkTO3w6M9ZAi3B17q9Pp0MMsOWclJk/IfKA5pktEIiOlWyARVidmz5593zoYZxMmTEDeiAGKkYe8xQqnUMR1augcEuAckVS4Lzo3Oq0IkadGb4hRn+yM9RjK0AnSqo0bNyK1e+mll6DDrKwsUwX4QGRxGzZsgO/Kzs7+9ddfTeMeMSHyuqlTp27ZsmXVqlVffvllmZd/zFNSi7cmoUKiSUlJhgBBq0X/W4QqJrfM1n0is8eTCKt6XJoPGmsm95ygrb8j/i6mFG2PzEY2iFwRXvEJRubsAHv16gURKhQKdrERhfiI+UNoEiHlV1991aBBA+SNKET/wDXduHFjxYoV8KLsohSWodKhQ4dCRQglmGzMNwHM80zzTSBprFWrFuQdHx+PRBEmAJ+yFsxbs2jQvAUSIfHQtPRzwF9ybomIe2KO0MfHJygoiEXm9erV69OnDzI9dr8BrikwMBChO5Y7deo0Y8aM/fv3Qxvvv/8+XN+1a9egih07diAKnTx5MhzjiBEjzp8/j4/gSGvXrh0cHIww3mITcG6IZtkCC2XxEbtRiXY+++yzTZs2paSkwApg3b/++ou1gCjX1BrLJtjuWexkFcA9Ef/7zBIZGTlp0iSEo0qlMiQkBIEW9UmZcWbpfKzMwpoB3aIgnjrKFFtNVSCJkCBIhARBIqQuIAgSIUGQCAmCIBESBImQIAgSIUGQCAmCIBESBImQIAgSIUGQCAmCIBESBImQIAgSIUGQCAmCIBESBImQIAgSIUGQCAmCIBESBImQIAgSIUGQCAmCIBESBImQIAgSIUGQCAmCIBESBImQIAgSIUGQCAmCIBESBImQIAgSIUGQCAmCIBESBImQIAgSIUGQCAmCIBESBImQIAgSIUGQCAmCIBESBImQIAgSIUGQCAmCIBESBImQIAgSIUGQCAmCIBESBImQIAgSIUGQCAmCIBESBImQIAgSIUGQCAmCIBESBImQIAgSIUGQCAmCIBESBImQIEiEBEGQCAmCREgQBImQIEiEBEGQCAmCREgQBImQIEiEBEGQCAmCREgQBImQIEiEBEGQCAmCREgQBImQIEiEBEGQCAmCREgQBImQIEiEBEGQCAmCREgQBImQIEiEBEGQCAmCREgQBImQIEiEBEGQCAmCREgQj41CoVCr1SRCgrgHrZ4/eFn+v5M3q2Bb8+fP37lz59NjEfR6PRYyMjLWrFkTHh5eBRsVW7c5nudVKpXYCA3laiq/UwkFe6NzolKLWtd1erRGCgoKTp48mZyczHFcs2bNQkJCKqhcXFxcnidUKpVnz56Nj4/XaDS1atXq2LEjXivv2E+fPj1v3rxx48a98cYb6enpK1asmDVrVps2baqTCPfv3799+/bMzMwxY8ag39F9vXv3trOzo5FdLdDp+ZNG+cVlFnMCgVQslEm4R2tq8+bNP//8s62tLQQGx4Ix/e677wqFwj179jg4OCQkJAwZMkQul+/atathw4aoLxKJSjdy/vx5yCAuLg7tYN3CwkIvL6+ZM2f26tXLWodcUlICY+Hm5taqVStDWCgUSiQStjN4dXJykslk1ckT7t27d8GCBR4eHrBeeXl5KFm2bBmOZMCAATS+TcAkIVhgIUOZI+/JeD8df+r6PfLDq0qjR7lCpSs36sGo5ThbqbC0Ujt16tS5c+e6desmJiYuXLjwr7/+GjRoEN5u27YtKyurb9++aWlpGC2BgYE6nQ6ODiUWLSQlJSFMLSoqmj17dvfu3W1sbM6cObN69epPPvkEMu7QoYNVDjw1NXXq1KnTp09nImzXrt2BAweqvv+tI0J05datW+vXr/+tERgYb2/v2rVrR0VFPf0iDA0NReAEE1gF20KYIJVKsYBXjIBffvmlCjaKWA4CKD3QgVrLh8Xn74vJSbhVwgl4Jj+GTCK8lqWc9vu1cpvV874usk/617OTWVqTpk2bmhZatmyJI7092sTiF198cfLkyevXr4e9XrJkCQovXbpUOhyFL4VQP/3002HDhrGSnj17wjVNmTJl48aNECF6csuWLVho3bo1Po2NjT18+DDqBAUFMQ0jEMvOzsZWunbtCheKwmPHjsEJox9OnDgBJWN8wihgITIy8rvvvkPUBpcIewEpPv/886WP99SpU9HR0ThxiPIaN2781IkQnZibm4vu9vT0hI1HJmCwr1ot8sOqlJNaq9fqBUq1Dpk1dzdNFcBaO8jKdTsIoY8fP141YTO8n729PboImkfWgXNfBRtFTAi/ZCFCBJ9HYvN2X8xJkZfAoUnFOGeWLk3H80Uqfbki1PHFah1fzqUBbBTiR0gZFhYGVwajzD5iSR3MNGK/235Yq2UDxjxKvHDhgr+/P4RhXg69QdVXr17FYINHRaj14YcfMhHGxMTgLRqHCFFh/PjxrE1kp3///fc333yDkXno0CE4uoiIiPDwcMg1ODgYCRTOO6zAuXPnEBhjh7/88ku0aSFC7OHy5cvhZuCQUed///sf3DgO6ukSIaL2Bg0awFTAAomMsLy8TOtrdXIVmvPJRZHJRRn5qkKVDtZdYCbCEo1+UEuP0e29KggRYWJxCFVjKczDUUdHx6qIdsTiskwMB68nEnKPdyzl5lrvvPMO4kxY5/bt28+aNYsFGgqFAtkKFuCdMKbnzJnj4+Nz/fp1dkHSRH5+PsTj6uqKQW9eDt26uLhAY1A4DsrZ2dmUs6F9vGVbgWZGjhw5atQotIAIFpqB6jAU0QmQENqEA3R3d0drAQEBkyZNmjhx4tixY9EU1GjepglId9OmTchsURne9f3334f1hMOEPX26csLXXnvtgw8+eOutt3CocNm//fYbbA9ij8oeYQcu5W49f+tWocbgZ4SGgXWvVTWIUKPjH6Qp2E6cXZzCmpF/Mu3x5QhFJBT0bOLaJdDlZEJBaHTONWSDRn94TwtCzqb8CAK96mAj4riyN/3KK69gvMIQw6d9/PHHixYtgiQgDPg3VIC/guP6999/27Rpg9DOz8/PYnUoBDmOhThZaI3RBZ0UFhaWt2NwcXAJCDIRsqIa6mOBGT40Cy1B+awmi0rQGpNTeX2F/YSZRps4FphOrI6FmzdvQsNPlwjhwVetWoUkB7k4otDnnnsOgkSWWImXE/T8D0fTD12RS0WcjaTcG56ItbgHM/c4wQMHDkQX1wAdYhwj3N23b1/F94okIq5roHPHAKeTCfl7o3KvZRULhRz6kxmvVn4OH75Ut8ILM4bUsYxmJZKhQ4eaov2PPvoI8TC8U//+/U11Whops2W4I4Svly9fTklJCQwMNJXn5OTAbeIjJG/QgPllVfOrXEeOHFmzZg3ywDp16jD/iTPLNIZ4xzz6gM4fpDPhwNHIrl27YBRYttW8eXMrXkSw5i2K1kaqbJz9ejrz0JVcW4mlMbYwZ3pewAseVIQYJexCWQ0ArgDj5kFu2Bql6BLSwPnfuLx9l3Kv31JCirwxskA6/bDbRcCZlpbG7j2YQoyHsmvs+g0ymh9//BHZF7wQu+6wdu1a5DszZsyA5KAf6AGyZKvA9Juk+P3330NpP/zwA5aRECL4NJlhrFLauyJ4rnh/ateujYAWeWbHjh1ZIzhGK+Yv1hEhuhguG64f3ccOmB0q+gKOpVGjRlYfYWdvFO6MzLZQIHyjRssjphIZx9CdESB4wLwHe47OhRTve1aefpD54FgeNAYwgn7r1dS1cyPn49fy98XkXs5QsOz6ES6Vf/rppxi4CAuhmYMHDyLg7Nmz50M1gpAEnvDPP/9MTU194YUXEFefOnXq9OnTffr0gUdlwoCj27lzJyQBfZ49exZjj406xJ83btz4+uuv0QOxsbGmcrwy6Zq7XAxRxAvwdV26dHFwcMBIZpVRzbQM07x///6FCxfiKJBkXblyBZueNm3aU3d1FKkqepxd6cKu48gRaiMuhdfu1q3b3LlzccDW2mlESn+fz7JI/9Q63t1egjzH393GViI0+T94Qi9HiYB4MBBeQoovNHI+fEWenv8oX+mEi+jRo8fu3bvPnTsHJ9arV69x48ZBMw+3GzLZ/PnzmzZtumfPni1btuTm5taqVQteEeJkV2vQ4OzZs+Hu4O3bt28/bNiwn3/+mbn9yZMno5zdwHjzzTexFlsFSsYgNA9coSVIeu/evWgEATPUa7oahKZMywiOlixZglQLcsXYrlu3br9+/azY51x5yejDesLQ0FAcOcLRdu3awQLBRCF2x/I///wDJ/nqq6/OmzfPWjt9Ij5/+YEUW7NsRKvjPR0lH/Xz93WVPmxr06dPh5XF0IEDXLlyZZs2bWqGJ0QEhciNucSQkBBk7A/bCOzXI189VRvBiH/MsA2+Kz8/f+nSpRhFn3zyicXoZ1uBB8MyAjEcLEvVEM7AAZjKIWkIDCUohxRNd0cYxcXFTKLYFvpKasR8+XZv6PXs0i5qPlSIUUWeEGYjPj7e19cXLpvtH3JuqA52aPDgwXDc6MEJEyZ4eHhYKRYt4EoNl9dDaj+CAokKeJz7F+bD93GAjN3c3OAVYRnnzJkDX4TgFr4ILtFiK+ZXXCRGLMplRkpvwnT/BttiurVYvt0bQqG17klY9rNVWoGFOHbsGCIEk4VAXg4fi7QYfdG9e/eCggL2XbbHJ69Yey1LKRbdHSBIXRrWsm1dz5FkU1NBWIuAENY8OTl5/fr1CQkJNenorOMJYY2QsCKoi4mJadasGeQHTaalpSFYZ2YJ4rSIAR6ZtDxVVoHG/I6WTs+3recoEXE0WGsw8FcIpsaOHYuQsmq+V13NRAjfjQR37ty5U6ZMadGiBeLpyMhIaI9dE4uOjoYlc3d3t8q2buardYY89s5FZ4hczAX72tMwfSauG5UTUpIIDfTq1QsBw7Zt22JjY5HCBgUFjRs3jv0W64UXXkBEaq2ro2lylbnL0+t5N3uJJ13/JEiEoLeR0uU9evSw4lYyCu65bq7TC9zsxC629BtigkQoEMTFxcXHx+fn57NboiqVCv4QbtC6e1yi1pvffdfzvKON6DG/iEwQNUGEoaGhS5culcvlpgswxcXFI0aMsLoItXreQnCONuQGiWdehBqN5o8//oADnDp1amBgIPtSAt4+7Pck7r8hHa/W6S2+iFbBbwUJ4hnyhEqlEk5v/Pjxlbq7Wh2v1Vn+WEkmpmfGEdUY6wxfiUTyyiuvFBQUVPZP6ZEB6kt9z87iV3AE8Sx6Qq1WK5PJMjIyZs2a1bZtW1Nh48aNO3XqVOmGhK7KECRCtVq9fv361NTUtLS0sLAwVlhcXDx8+PAqEKGthMJR4pkXIfvhCVRn/juRyrgwQxAkwrKB9qrgQcUEQSK8T0S6Z8+e6OjowsJCvV4vFApLSkpCQkJeffVV6mWCqAoR/v777ytWrGC/npRIJAqFAgsWT9EiCKKyRKjVag8fPtygQQNkhmvXrn3zzTcTExMjIiLGjRtHXUwQFWOd64oajaaoqKh169Zt27Zlv1MeNWpUXFzc3r17qYsJoipEaGNj4+vre+PGDYHxCTxnzpzJyMhATnj9+nXqYoKoChFyHDd48OCkpKTIyMg+ffr89ddfI0eOzMzMLO/prgRBWDknFBh/1ItwVCqV2tvbz549OywsLDg4GMqkLiaIKhIhcHV1ZQuDjMATHj161IpTOhIEibBsrl27du7cOb1e37RpU9OcUvv27Vu2bFm7du1IhARRuSK8dOnShx9+eOPGDbFYbGtru3Dhwu7duy9duvTvv/+uU6cO8kPqYoKoXBFu2rQpOzt71qxZfn5+u3fvXrt2LXzg8ePHhw4d+s4775imhiQIolJEWFJSEhcX17Fjx7fffltgnJXpjTfeCA8PX7x4cdVMD0oQz7oIeSOmn0q4u7vb29u3aNGCFEgQVReOIhVEQnjw4EGB8TvcxcXF+fn5eAtx6nQ6pIXNmzenXiaIShQhxHbmzJlz586xt1KpNCsr69SpU4I7P+olERJEJYpQIpG89dZbcH1sHhjz+VAFxm91W2tSbxMaHa/R6jl6nAVBIjTFoi+99FJV7i4vKGPua45ESVRnqtnTWTQ6vabUw39t6GlrBImwytDqDI8etXj4r5SeO0qQCKsMpUZXrNZx9+41PXeUIBFWHQqVXq29JxyViDiai4Ko1lhz+F66dCk0NDQ1NXXAgAHPP/98YmJiy5YtzR+C+PjkK7Xmb3U872QjdraluSgI8oQCwblz56ZMmfLHH3/8+++/ycnJCoVi1qxZ7IahFckrvkeEer3A0VbkRJMTEiRCnuc3bNggk8nWrVvXr18/lUrl4+Pj5ORkdREm55bcK0LexVZMT+AmSIQCqA5RaMeOHZs3by4Wi6FJRKFYKCwstOK+6vR8ep7afOIJvUDg725DZ5EgERq+rebp6RkVFYUoFPKDS4yLi4Ms3d3drZoQ6rKLNOaT8oo4roWfA51FolpjnWxKKBSOHDly9uzZkydP1ul0SUlJoaGhKOzWrZsV9zUjXyVX3BWhVs97Okrqe5AnJMgTGunZs+fHH3+cm5ubmJh4+fJlSHHBggXWfdra+aQijY43fUcNy428bJ3pqgxBntDEkCFD+vbtCxEiG/T398erFRuH5KLSikSiO98RFwgkQq5XUzc6hcSzK0K9Xn/z5k2NRmMq4TgOCSF75lpmZiY+cnBw8PDwsMqOxmYUJ+eUSO6IUKXRIxts5mtPp5B4dkWoUqnmzJmTkJAglUrLrKBUKgcPHvzRRx89/l7qeX5HZDacoY0xIYQbFHLcgBbuNEUv8UyLUCgUIuXz8vIqL+xUq9XW+j3h6euFkSmFsjv3A0vU+s6Bzm3qOdL5I55pEcpkslmzZlXBLibcUq47kSEU3r4io9XxrvbiV9vVopNHPOsiZL4uPDw8KCjIzc3t6tWrJSUl5r+vRdKI8rp16z7OJmLSFD8cS89VaGTG3yvxvEDHC8Z0qF3bWUonjyARCo4dOzZ58uQpU6Z88MEH8+fPj4+PN88Pi4uLhw0b9tlnnz1ss1o9f+NWSWah+kJS0cmEfLyV3fnFYLFa17e5e48gFzpzBInQQOPGjYcOHdq2bVssDx48+NatW+a/mdBqtY/2lKfMfPWSvUlypZYz/mCXXRHloUCVrmND53Eda9NpI0iEt0Go+dVXX7Hl119/3Vr7pOcFGr0e8rtzP8L4aBle0LOJ64QuPjb0dW2iZmGdAa3T6SZOnLh69WpTiVwuHzt27P/+979H3K17H96k1upDGjhN61mHfjBBkCcs5bWMt+yR/uHV0dExLS0NJUKhEAspKSkJCQmP1qzFI9UkImFUatHhK3I4QzpnBInwHuCx4ADDwsJsbGwiIiJYUIpCyLKoqKhJkyaP1qxWxxer9TIxxxJCIScoVOm+P5aOSLV3U9IhQSK8V4SdO3dWKpVXrlxxcHBo3LgxPCHP89BkYGDgyy+//AhtejhIJnT2TstTx6Qp4jKLoUORkBMLOZ2e//l4urOtqF19JzpzBInwLgMHDuzTp8+8efMaNmw4adKkx2/QVirsHmRwd2odf+iyfPO5TKVaLzZKUaPjfzqeUcfVxseF7hMSNQTrXOcQiUQhISHBwcHW3TmpiOvX3G1SV1+RiNPzLDnkcoo0a4+nQ4108ggS4V10Ot369et3795dGbsYEuA0um0tlVbP3tpIhOeTC/fH5NLJI0iEd5FIJOPHj09OTo6KiqqMvXwx2DXA01Z9x/vJxMKt52+l56no/BGUE96mpKQE8svJyZk6dWpAQIBUKuV5XqVSde3a9c0333z89uH9Xm7lsepQ6u3oV8jJizU7InMmd/OhU0iQCA1Acunp6TY2No6OjpAimxoNyszLy7PWjj5fz8HHWXqzQM1uWkCWp6/nD27lQVdoCBKh0VPZ2Hz11VfQHvtxvancio/ftpOKmnjbpeWp7tw55PKVukNX5GND6DdNBOWExruFDg4OcINQY8Ed8vPzlUqlFfe1jb+j+ZfZxCIuMrmw5M4FG4J4pj0hyMjIWL169ZUrV7RarUajEYvFCoWiX79+c+fOtdYm6rnbuNiKFWod+32vRMhlFKjT5KoAT1s6kcSz7gnBL7/8snfvXnt7e3jFBg0a4NXX17dhw4ZW3FdXe4mbg8Tk+aDEErU+NqOYziJBIjRcg4mMjOzQocNPP/1Ur169adOmLV26FKFp69atrbivUhFX20mq1/NmYbAg9iaJkCARGh/6BOD6WGaYmZnZvHlzpIVbtmyx7u7Wu3fmCSEnuFWo0enp2zPEM58TSqXSoKCg8PBwpVIZEBCwY8cO+MasrCzzp5JaBTd78b0i5ApLtAUlOlc7eg438WyLEIwaNSo7O/vKlSuDBg3atm3b0aNHnZycunbtat3ddbGV3OuBuXyltkCpJRESJEJBkyZNvv32W51OJxKJfvjhh4sXL/r7+7do0cK6u+tgIzKflQmLxWp9XrG2njudSuKZF6HpTr1er69npDJ2107K2UmFKi1v/uxtFd0qrAQikgpvZJcMa+35NOwMb0QoFJIIywUZ4IcffpiYmGh65KFEIikuLu7Vq9e0adOsuLsSkVAqFpZotAKz2/YkQusSk6bYHZVzKiG/RR2HRxNhxZqBmeaMPHiDn332WVJS0ooVK9zd3aOjo+VyeadOnaz4fawa4gltbW0dHBygPXQuehmCtLe3R4l1d1ci4sQizuJiKBwjKceK8ruQXGicgo6zET+i5/n+++/37dvn5ua2ZMkSb29vU7lWq4Wczp8/HxIS8sknnzx4g1lZWampqRA2Wli4cOH169d37Njh5+dHIryLjY3NF198wb63zQzhiRMnfv755xdeeMG6u4uRUXpcWPEHvjgQ2JEaYGLhhXAsjyY/mVhoI+FKNHr2pMn7nZEyCnNyctLT09PS0g4fPjxmzBhT+aVLl44dO6ZQKDIzMx9umIrFOC9sGvY333zz5s2bnp6egpqC1TyhxdxMPXv2/Pbbb3ft2jVz5kxr7q7Q4AktHsZmramZcIKPHz+ekpJi9TsrVQ+GLIKRB7EmF5KL9kbnRKUqNDo9kx8rx/K1rOIPNl8rb0WtTlDbWTrzxTp2UlFpW1m7dm3sA/zh8OHDZTIZK9+9ezciJoRIpSNVdk2hvEL2yt7279+/dDVTndKtldlyDRQh4k8YP4xdU5dFRUXB2iEttLKB5wz3Bisp+oQd2bRpEwKep/ycPWBWBu9hZ2fHl+PL4ObOJRaERudeTlewiQYsnqqMPlBr+fQ8dXmbgM/E6Sizebb17t27//bbb0jh2rRpg8Ls7OywsDAERxcvXjTtFcbMn3/+uWfPnoKCgmbNmk2YMIHN5JWfn79hwwa4TQwtuD5z0bL8cPny5cgP4+Pj//jjD8S3qNa0adO3334bq2Mozpo1q2HDht26dYMnUKlUvXr1QiMPFRpUPxHiOGfPno1InflDDOK8vDx0nNXvE1b2wIWdrkk5Hl9+NGn4CWieOiVXpdbxUnHZZgeF4vKngETbonI+xamHqNq3b79//354PyZChKYYJ3379o2IiDDZ7m+++QZiQ4oICcFtXrt27aeffnJ1dV21atWWLVvatWtXr169zZs3I/40XV+AcU9OToatxDLWPXv2bOfOnZE07t27F/KD6tAs6iCHRLXAwMALFy4gR4VnHjJkSE0WITodhgd2FxEI61ws9+7du0uXLnS14+kE+hnynEfPJq6Hr8gPXZan56kkYq605CqYhtUYlZT7qVqt9vPzgxUODQ29deuWh4cH3F3btm0xTkzRPqw2BDZgwIDFixfjbYsWLebNm3fmzBksQJAvvvji//3f/8F9IUF49913MahM+SFsPTMbiHWxCjOdkyZNSkhIgPXHIEQdVJg/f37dunWh0vfeew/paA0XIYJ+HHB1H5c4bUqlUqfT1RCZiUQYnXyFl1acbEQGKQa5Ho6VH7wszzCTokqrD/ZxmNLDt6KIV8SVTgjNGThwIGR24sQJOLqrV69CJ+z6Cvv08uXL6G2EqQsWLIDGCgsLUQinhzoKhaJHjx4sgISYGzRogNVLt1+rVi1kENAeHC+7fIoMyNnZGTpv1KgRm5YP6yJwxVZqeE6IroyJicHxm2J3dqfItIxymDe4x6d51CLCQcYCm10DdAgFYtjBqzzItRknW4MUuzd2OXBJfiRWnlloeIYIzp5MzHk5Sh4nSWnSpEmrVq3gDBETQkuIS5nSTD4NYwOaQcwJz4m3rVu3Rv20tDTmS001zYeW6cpTbm7uxIkTcb7gS5EKIv9Ezlk6FGe3JVn4WsNzwi+++AIhOHv8NkDAgF5DOesFvN24cSOM09M8cHHWX3vtNQwCnq/2Nx4x7CIjI48fP/7gWa6LnXhEW8/eTV3hEiHFpNwS7ePd+2EBJBSyfPnyixcvjh8/HsPA3MBBotg9RB9IFL29vdntZQgS1VCOZBI5oa+vLxbgBt3c3CxEiGg2Njb2o48+Gjx4MJJJ1Clv5nbBvddOa6YI0SNDhw5Flow8GIMYduuff/6B5XvuuedggdjtHYQE1SIcRSRTUlJS3UWIQA7H8ggjz9X+thR3ReXIix/xVg2Mb1FRERNh586dv//+e7xFjsccFEJN9tyT+vXrv/nmm/gUqR2GB7rd3t7+xx9/xCjCcPr999/HjBnj4OAAL4ew0/QAMayLFnCa4APr1Knz7bffIuLFsqOjIyJS5gZMm7DYYg0XIcIM9NSyZcvYBdJu3botWrRo6tSpiMjpKki1A1IcG1KrRPOI3weEB4MrQ5yJZchjwoQJECHL0FA+ZMgQLy8vVhPuMSgo6PTp09AJanbp0gVqhO2YOXMmpHjp0iVPT89XX311//79KSkpzKt37949ODgYZt3Hxwfj7eDBgxDeiBEj4AwjIiIgRZlMZr4Jiy0+jdbfKqEXbNjo0aNbtmxpmhwbUQfMG3IARAtW3F2FSvfx9hup8tvPXDNsWqN/p4tPn2Zuj9zm9OnTT506hVOFo1i5ciX2uWZ4wvDw8BkzZjCXGBISsmrVKjIuTyfW+Vo6YnFXV1ecdaSFrITdrKf+JYgqCkchQiTHCxYseO+99xCKIA+Eb8ErglLqYoKoChECiBBS3LBhw549ewTGeztICDt27EhdTBBVIUJkgCdOnGjYsOG6devkcjlKXFxc7O3tqX8JoupE+OWXXzZr1uyrr756yu/IE8TThnUuzEil0vHjx6empsbGxlKfEsQT8IQqlSo+Pj4nJ+e9994LDAyUyWRsarQXXnjB/DedBEFUlgj1ev21a9dEIhHkl5iYyAqVSqV1H4NPECTCcrGxsVm2bBm8HxYgRfhAjUaDt6afVFcq9KAngkRo+Nali4sL/GFkZGR2djYiUn9//yo7Bq2OHvREVGOs9iDHzMxMJITjx4+fOnXqoUOH4uLikA0iRrXu7nJcGU+U0ZAICRKhwDg1WkRExMSJE7t06YJA1M/PD7KEGq3suEVCsZiz+LorhaMEhaOGL3CHh4d3794dIoT21Gq1ra2tm5vbzZs3rby7QvbUE978GWsKlY5OJPGse0KhUCiVSk3PVrOxsSkqKkJyaPULM0LO8PAFi+izoIRESDzzIoQCe/XqFRYW9t1338nl8rS0tNWrV0OE7DFb1kUqFpqHo/CLhSU6PU9pIfFsh6NgxIgRcXFx//3vf9mPerVa7SuvvIIA1ep7bDELmlDIyYs1+UqaopB45kXo6Oi4dOnSAQMGxMbGchwXHBwcEhJSGXtcy/GeR32LOC63SJNdqCEREs+0CNVq9U8//VS3bt2BAwd27twZJcgJV65c2bZtW/bWing5Sc1DT44TlGj4yxmKRrVs6XQSz25OCNe3b9++M2fOmEoQju7du/fAgQNW32M/N5mdVGSeA4pEhie608z1xDPqCfV6/Zo1axCCqlSqS5cuzZw5k82/kZWVxZ67bPU99nGR+jhLb+SUSO88ZkYqEl69qTyfUtS2niOdUeKZE6FQKIQOY2JiRCJRQUEBFgTGh8xJpdIXXnjh5Zdftvoey8TCIG+7+CylQHTPl2c2nLzp6yz1cZHRSbUKMWmK67eUg1p5PGsHXlJScvr0aQcHh8q4tl9ZOeHEiROHDh06ZcqUJk2afPjhh0yE0KSLi0slzW/cJdDl8BU5IlLTYzUlIi4jT71od2KvJm713G0Mm70TnOp43ttZVseVxPmgxGUq90Rl/xuXH+xj/zgiZD9wc3V19fHxKf1pZmbm999/jwFT3hMY0tLSbty4UVxcDD0EBQVZPPzXusjl8gULFvj7+8+YMSM/P/+TTz4JDAz8+eefq40IbW1t69at+/HHH3t5eVVG/FmaRl62rfwcTiYU2Envilwq5nIU2o2nM0XCe75fqtToh7f2Gtep9oO0zCYJrQFzo8MIPsJMYEx+ZxMLS9SGDNtisrQHB55k586dUGB6evr06dNfeeUVVp6bm3vu3DlkK88999yOHTsOHjyIsT5gwAAnJyfz1YuKin766ac9e/bk5eXpdDqcDsh4woQJgwYNslb/wE+kpKQoFAp4DoHxMfsI4tRqNZuyAbKvygdEWO2yfrt27SIjI3/55RcYFTbFHw6pVatW6OLK2O9R7WpduVmsKNGJzYJSwxSiUsvv0+jKn8Gr9MA9e/YsUtmaMUko3MiDTzl8LVO5OyrnbGIB5CeTCG2lwhKN/pEfHA91Xbt2DdJSKpWmR9MXFhbOmzeP7RJGOTSAjyIiIrp3724uQgyeZcuWbd26tVevXqNGjfL29o6Kilq/fv3ChQvxqbV0iB2DdUDja9aswVtfX19YDTbZe9VPgmA1Ef7555/oO0QgpmmrYF0wmitJhHXdZO909vn6UKpGx0vuTQ4ths6DjyTs+bp162rSrEwVTBJq4nJ68Z7onPPJhSb5mXLv+FvKD7cklLeiVsfXcpK+37OOrdTSYSI3QZB5+PDh8PDwu9ZQp4Mn7NChA6SFQe/s7AwFfv755xbh6MmTJ6GHnj17fvXVV+yLH/Xq1WvRosX48eNh4rt27YrI69SpU5Bx69atmduE44WrbNq0KdvKpUuXYEmhqODgYDb5AiLb6OhouAQYAnwUEBAQFhYGN4v+OXDgAOK4hg0bQurYk5YtW5Y+0oyMjCtXrgiMk2dAt0+pCOH0EF04OjrOnTsXh8qMn16vR0nlDbKQACeZxO+nfzMyCtSQIdyd0eFZig5x1QOatmdqklB0y8WUon0xuRdTi1Raw0TZFloy3oDV37hV7sPIYf7wV+YXBpEHCu6dVklgfADfqlWr4OJmzZqF1Is9A8U066AJdqNrzJgx5hOwQ4c9evT4448/EhISIBjkPqacDQqZOXMmPOSiRYsgSHwEibLAEjW/+OIL5JMoQZqHqJg9an3y5MkQP3YyMTFx2rRpr7322vvvvz9nzpwy88Dt27f/8MMP7KcIUCCqWf1pulb7US96s1OnTqbov2p4vq7jkqG2x6/lnU8uylVoi0q02lJ3C3meE4vuczUMuUHp0VBJ3onNGcgm66qa5+0j9Cq9IYgnPkt5JUOhVOuQ+wnLmakXmXb5J11gEYNUTFJSElwc/NWhQ4cQrGK0YMf+/vvvIUOGmIejqamp8Eienp4Wq9eqVcswu3B6eqNGjcxzNqRwsPUsAc7Pz4e2Fy9eDB+4b9++1atXh4aGQoTwilgFzhASwkdwwnCqbArRDRs2YOsQbZl5IBwg4ju0sHz5cpwvhMSwI3DL1r1KZLUJYUaPHg1niF5g04BUGS524oEtPfBXWKIr0Rrm5LEUoUBgX+FEliEhIQhazO1u5YEQCBEapIgzio0+99xzVbBRjDDYeMsTL+SGt/Hs2cT1wKXcI7F5twrV0JtF8swbwplyfalOzz/U9+bhCZGtQBUjR44cOnQoxszbb799+fJlGAhzEbKsrLQPZyUVX21CULp06VIEvXCP6F40iwVTJ/Tt25fNDAUQkWJDMIj169fH26ysrDIbPHLkCCwFUirsPLvw8fvvv8NMPI0ixBHmGpk6dWrz5s1NhQhN+/fvXzVqdLQROQpEj7Di2LFjq8xkXL169cSJE7C4GI4YB59++umTjVfd7MWj2nm9GOxmlKL8VqHGJEXEqE297Sd29Sk31oXxFXK20gftc1hnBKLmJa+//nrpanXq1Pnnn39u3LjB5GECgSg006BBA6ZG06xvsGimZeR78FRYF44UhaYZMhlIRM1HbMXhuulyLmS/efNmRMKojIQTDtnqUx1a7eG/u3fvRvqLw4ZtM0VBONQqE2G1wDRnIF6fnitATIq9mrqGRucejcvLVWikxpl6bSXCx7m/iuCCfW3jodbq3LkzRjyiRIQJLLdkiSKUCfvu5+eHaAvNmgJsuVyOZdarv/766/Hjx5HXNW7cODk5GYmlucxKZxz3nb4X7hQyfuONNxAusU1gFYsbKk+LCGEtEH9DciYjgQUU0pPwqxEeDpLXQ2q9FOy2/5JBiul5qkd+eA9SKVjkmJgYZGh4ReQJL8TuyN2X9u3bQzzr1q179913Bw8eXLt27YsXL27duhVNoQRNIQNE2HnhwoXvv/8e3hLxoWnUFRUVYRCePHkS+eeuXbtg5kwfWTg9ByNxcXG//fYbhN2sWbMyd6ZHjx6bNm3673//izwC1eCNYUYnTZr0FIkQBwkTBWsBw4MowuLTyMhIxA/4iMZ3NcLLiUnRdcfFnALlI87zjoH7559/Iv5E4P3XX3+tXbt2xIgRixYtesDV33//fUR927dvX7FiBRwRGunUqRNiV2Q3+BRqnDhxInK/H3/8ERIdOHAgJMfCCixHR0d/8803Hh4eqI9ydsuXRZLmOkSb/fr1W79+/eLFiydMmACvqzNiGthsOSgoCCkDNrR8+XI4UhzRq6++avU+f6xbk8XFxUiyccDw1xYfoe+WLFmCvsNB0sg2N0ywo2yi9qd/4k6FSmcve5Q0G7lZQUGB6YtHGL4I4Upf8Lxv6J6ZmQk9b9myZebMma+99pr5pwhKsRU4AISs169fh3tk7RcWFmZlZaHQzc0tMTERivX29sbOoNDLy8sikkxPT0coi3JoEuErq4yAMzU1lS2zamgzOzsbC1i9MmZ9fyxPCF+PQ4XtmTp1aumPcBjw+CS86sujKRB4GnnMrcNU+fv7Q36QEPwe7FfPnj0h7K5du2JoORthNc2nZHc0wpZND791MlJ6E+ZfajVVFovFFk/NNW+zMnjcnFChUDRt2hSxu0XWC3OC/Nj82hRBPALQ2+effw5VbNu2bffu3S1btuzSpUsNO8bHEqFUKp0xYwacIULn0p8iaSZPSDw+GGaI4YcPHy6XyzGiqmZuhWojQpFIVMFcvB06dKABRFgLdyM18tCEdHYJgkRIECRCgiBIhARBIiQIgkRIECRCgiBIhARBIiQIgkRIECRCgiBIhARBIiQIgkRIECRCgiBIhARBIiQIgkRIECRCgiBIhARBIiQIgkRIECRCgiBIhARBIiQIgkRIECRCgiBIhARBIiQIgkRIlENClvLo1bxqsatxRiquo9PpLl68mJGRQSIkqgE389U/h2XM23b95PX8J7gb69evHzdu3IwZM9gs0yb0ev3y5cvHjBmzevVqvM3NzZ0yZcr777+fl1eRybhy5corr7yyYsWKmnrWxDRwawa3CjX7YnKOxObJi7U8z9tKnqR5TUpKioyM5DiuY8eOw4YNM/d7u3btksvlbKZrBweHQYMGoZq9vX0FrdWuXXv06NHt2rUjERJWwHyWWaHQOjrJVWgOXpbjL6dIIxVzdlJhicZi8vLb8MZXDh6JF2h0t2vwvEBttqzRQcK36xvK+dsrmpdjXbRgaIgX+HvYlBY8Ds3HxwevoaGhgwcPlkgkrHzPnj0ikQiiEosNA08qlcIT3vcAPTw8Fi1aVINHBYnQasTGxsLGY5BVUOf69eusAl4Rg509e7biXKhu3bq+vr7lVSgs0R26Ij9wKTcjXw352Upvi0EqEsbeLP5qX7JWz0OQ5gIT3NaOmQgFt8tZHa1Of0drZuUClN8jQt5YGSwZ2qChl62l2nke5iYkJGTbtm3olubNm6MwPz//2LFj7du3v3r1KjMSKpXqiy++wMKnn36K14ULF2Ktl19++bfffsvKyoIXff3111GSlpb2+eefozWEuGy5c+fOfn5+v/76q5OT0zvvvNOgQYPvvvvuwoUL9erVGz9+PD7CiUC1OnXqzJw5Ey0/QgskwmrJ119/HRYWZmtrW0EdaA8V2Bi9du1axX5AqVROmzZtwoQJpT/KU2pPXMvffyk3JVclERm8372OyKDPM9cLDIIzw/wdgkCLj5hvM1W6d9V76guNyzxbhSvrSoNQWFBQABUdOnRo7969TIRQIHQ4YMAA5HimFDEmJoYtMCuGCvHx8XZ2djdv3kR/opegQ/RDRESEt7c36xOskpGR4enpiV1Cm6gJzaSkpGCj27dvRxb6zTffaLVaxMPFxcWmnnyoFlatWgUvTSKsftjY2CC3qViEzEuwVwiy4lwIY8IUyJmj0vJbwm/tiMyGAOxlIq7MdTmB7N4okTfFo3f/v7s/Jh2aaugtV2T/eLOrLIY3er7snYeX8/f379Sp05EjRyZOnOji4oJssFWrVkFBQWq1usz4HB0IPbz99ttdunSJjo6ePHlyeHg4RAip4CPWFVjGAhSyZMkSLy+vxYsX//nnn4hXN2zYACXDYEHJOTk5qIBVTEJ62BZu3bpVQQBCInx6wbAzmV6rgNY0Gk0ZiaWYG9OhVqu6DqExOTGpCgSNMrHQwiOxTI8zE5JEyIlEHFOcVMSZVpCIOaGAYz5NekfRxmUhWxH/i1FuXFEsErIqeIdtCoWcg0xUgREZNGgQfMvp06ebNGkC/4PgE6q7G9feC9wXAkgEjVhu1KgRskrICcKwSJ5RDWKGfrDcokWLzZs39+zZU2QkMDAQ8QV8nbm2y9zQfVugcLRa0rJlS6kRazUIjwFnUrbXlQjb1HPE38XUotDo3IspRcj9TFKELOu62YwNqQXxSMVCJhoo0OQ0xWYiNCzfCSwld4a7YflObThVsXEZ2hEJuYfaf/RJcHAwItKoqCiEfwhQ7zu+oRDmsiAJ2CAolisV8ppkWfpTzghvxJSfo0EL5d+3BRJhtQRB1xNQfh0H/F3OUOyLyQ1PLIQUoTo9z8NBtfRzsPLGHnJk6nQ6jPX+/ft/991358+fHzlyJGL1wsLCB1mXqag8MZgUZYrtLcolRpKTkzMzM2vVqoWQGGGFuUe9bwskQuLhaOptj7/4LOW+6NwzNwoKSvQqnQ7DqWoN+j0+EIOeXW7p1q3b2rVrFQpFnz592CiHM0TozmqWlJSY1jJfNn+LdtAayyTNl5nbxFu8mm8Xr0i2EdZu2rRp/Pjx7u7u2CI0yRp8kBbKvsNDIiTuS0Mv2yk9fQfmuO+8mH2rUIOcUCZ+Mrfsg4KC4PEcHAyu2Nvbe8SIEUVFRQ0bNmRXYjp16oR8jwWc7BY881Fs2XQLh71lt/KhZLQpMN7fNy0DtIN0jrVm2q6dnR2Wp02b5ubmFh0dHRAQ0Lt3740bNz54C2zPqwzuifhforLJVWicbcUPlcIRTwoSIUE8YegL3ARBIiQIEiFBECRCgiAREgRBIiQIEiFBECRCgiAREgRBIiQIEiFBECRCgiAREgRBIiQIEiFBECRCgqj5/L8AAwBn0mHNKFWpvgAAAABJRU5ErkJggg==)"
   ]
  },
  {
   "cell_type": "code",
   "execution_count": 60,
   "metadata": {
    "colab": {
     "base_uri": "https://localhost:8080/",
     "height": 354
    },
    "executionInfo": {
     "elapsed": 3081,
     "status": "ok",
     "timestamp": 1609327344666,
     "user": {
      "displayName": "J.A DATATECH CONSULTING",
      "photoUrl": "https://lh3.googleusercontent.com/a-/AOh14Gi9wsjK7psnF8z3uOCEcA2yFkP2ckMODUtZxShO=s64",
      "userId": "06410945177748020218"
     },
     "user_tz": -60
    },
    "id": "pa8dMR8mhpyi",
    "outputId": "5f16ef14-7fd3-4f77-cd11-e6de006497dc"
   },
   "outputs": [
    {
     "name": "stderr",
     "output_type": "stream",
     "text": [
      "C:\\Users\\dell\\anaconda3\\lib\\site-packages\\seaborn\\_decorators.py:36: FutureWarning: Pass the following variable as a keyword arg: x. From version 0.12, the only valid positional argument will be `data`, and passing other arguments without an explicit keyword will result in an error or misinterpretation.\n",
      "  warnings.warn(\n"
     ]
    },
    {
     "data": {
      "image/png": "[encoded data removed]",
      "text/plain": [
       "<Figure size 432x288 with 1 Axes>"
      ]
     },
     "metadata": {},
     "output_type": "display_data"
    }
   ],
   "source": [
    "# Boîte à moustache du montant des pourboires\n",
    "\n",
    "sns.boxplot(df.tip).set_title('Pourboir');"
   ]
  },
  {
   "cell_type": "code",
   "execution_count": 61,
   "metadata": {
    "colab": {
     "base_uri": "https://localhost:8080/",
     "height": 269
    },
    "executionInfo": {
     "elapsed": 3069,
     "status": "ok",
     "timestamp": 1609327344668,
     "user": {
      "displayName": "J.A DATATECH CONSULTING",
      "photoUrl": "https://lh3.googleusercontent.com/a-/AOh14Gi9wsjK7psnF8z3uOCEcA2yFkP2ckMODUtZxShO=s64",
      "userId": "06410945177748020218"
     },
     "user_tz": -60
    },
    "id": "d9PEGuK4k9o2",
    "outputId": "1e66d881-b30f-432e-f9b6-04bbcabea112"
   },
   "outputs": [
    {
     "data": {
      "image/png": "[encoded data removed]",
      "text/plain": [
       "<Figure size 432x288 with 1 Axes>"
      ]
     },
     "metadata": {},
     "output_type": "display_data"
    }
   ],
   "source": [
    "# Visualisation verticale de la boîte à moustache du montant des pourboires\n",
    "\n",
    "sns.boxplot(y = df.tip).set_title('Pourboir');"
   ]
  },
  {
   "cell_type": "code",
   "execution_count": 62,
   "metadata": {
    "colab": {
     "base_uri": "https://localhost:8080/",
     "height": 269
    },
    "executionInfo": {
     "elapsed": 3053,
     "status": "ok",
     "timestamp": 1609327344669,
     "user": {
      "displayName": "J.A DATATECH CONSULTING",
      "photoUrl": "https://lh3.googleusercontent.com/a-/AOh14Gi9wsjK7psnF8z3uOCEcA2yFkP2ckMODUtZxShO=s64",
      "userId": "06410945177748020218"
     },
     "user_tz": -60
    },
    "id": "MUwX_JGmo_ej",
    "outputId": "8df4a02f-ce15-466a-f995-fb082009283c"
   },
   "outputs": [
    {
     "data": {
      "image/png": "[encoded data removed]",
      "text/plain": [
       "<Figure size 432x288 with 1 Axes>"
      ]
     },
     "metadata": {},
     "output_type": "display_data"
    }
   ],
   "source": [
    "# Boîte à moustache du montant total de la consommation\n",
    "sns.boxplot(y = df.total_bill).set_title('Consommation');\n"
   ]
  },
  {
   "cell_type": "markdown",
   "metadata": {
    "id": "_53-crFkqdLD"
   },
   "source": [
    "# <font color=red> Diagrammes à barres et circulaires"
   ]
  },
  {
   "cell_type": "code",
   "execution_count": 64,
   "metadata": {
    "colab": {
     "base_uri": "https://localhost:8080/",
     "height": 355
    },
    "executionInfo": {
     "elapsed": 3333,
     "status": "ok",
     "timestamp": 1609327344962,
     "user": {
      "displayName": "J.A DATATECH CONSULTING",
      "photoUrl": "https://lh3.googleusercontent.com/a-/AOh14Gi9wsjK7psnF8z3uOCEcA2yFkP2ckMODUtZxShO=s64",
      "userId": "06410945177748020218"
     },
     "user_tz": -60
    },
    "id": "i6j66F3uHWtF",
    "outputId": "763c115f-0efc-4d14-f025-1dde5f79da55"
   },
   "outputs": [
    {
     "name": "stderr",
     "output_type": "stream",
     "text": [
      "C:\\Users\\dell\\anaconda3\\lib\\site-packages\\seaborn\\_decorators.py:36: FutureWarning: Pass the following variable as a keyword arg: x. From version 0.12, the only valid positional argument will be `data`, and passing other arguments without an explicit keyword will result in an error or misinterpretation.\n",
      "  warnings.warn(\n"
     ]
    },
    {
     "data": {
      "image/png": "[encoded data removed]",
      "text/plain": [
       "<Figure size 432x288 with 1 Axes>"
      ]
     },
     "metadata": {},
     "output_type": "display_data"
    }
   ],
   "source": [
    "# Diagramme à barre de la variable 'day'  : modalité/effectif--diagramme à barre\n",
    "\n",
    "sns.countplot(df.day).set_title('Frequantation');"
   ]
  },
  {
   "cell_type": "code",
   "execution_count": 72,
   "metadata": {
    "colab": {
     "base_uri": "https://localhost:8080/",
     "height": 355
    },
    "executionInfo": {
     "elapsed": 3321,
     "status": "ok",
     "timestamp": 1609327344964,
     "user": {
      "displayName": "J.A DATATECH CONSULTING",
      "photoUrl": "https://lh3.googleusercontent.com/a-/AOh14Gi9wsjK7psnF8z3uOCEcA2yFkP2ckMODUtZxShO=s64",
      "userId": "06410945177748020218"
     },
     "user_tz": -60
    },
    "id": "ucvIv8dgJHzw",
    "outputId": "03c4b9d8-29fb-481a-bde4-1b2f4b44f1a3"
   },
   "outputs": [
    {
     "name": "stderr",
     "output_type": "stream",
     "text": [
      "C:\\Users\\dell\\anaconda3\\lib\\site-packages\\seaborn\\_decorators.py:36: FutureWarning: Pass the following variable as a keyword arg: x. From version 0.12, the only valid positional argument will be `data`, and passing other arguments without an explicit keyword will result in an error or misinterpretation.\n",
      "  warnings.warn(\n"
     ]
    },
    {
     "data": {
      "text/plain": [
       "Text(0.5, 1.0, 'Frequantation')"
      ]
     },
     "execution_count": 72,
     "metadata": {},
     "output_type": "execute_result"
    },
    {
     "data": {
      "image/png": "[encoded data removed]",
      "text/plain": [
       "<Figure size 432x288 with 1 Axes>"
      ]
     },
     "metadata": {},
     "output_type": "display_data"
    }
   ],
   "source": [
    "# Diagramme à barre de la variable 'day' (ordre décroissant)\n",
    "sns.countplot(df.day, order=df.day.value_counts(ascending=False).index).set_title('Frequantation')\n",
    "#plt.title('Frequantation')\n"
   ]
  },
  {
   "cell_type": "code",
   "execution_count": 100,
   "metadata": {
    "colab": {
     "base_uri": "https://localhost:8080/",
     "height": 355
    },
    "executionInfo": {
     "elapsed": 3758,
     "status": "ok",
     "timestamp": 1609327345413,
     "user": {
      "displayName": "J.A DATATECH CONSULTING",
      "photoUrl": "https://lh3.googleusercontent.com/a-/AOh14Gi9wsjK7psnF8z3uOCEcA2yFkP2ckMODUtZxShO=s64",
      "userId": "06410945177748020218"
     },
     "user_tz": -60
    },
    "id": "SNmxhG1JO4-i",
    "outputId": "201b0c23-5f3f-420c-ec60-21c78a858d6d",
    "scrolled": true
   },
   "outputs": [
    {
     "data": {
      "text/plain": [
       "\"for p in ax.patches:\\n    height=p.get_height()\\n    ax.text(p.get_x()+p.get_width()/2.,height+3,\\n           '{1.2f}'.format(height/total), ha='center')\\nplt.show()\""
      ]
     },
     "execution_count": 100,
     "metadata": {},
     "output_type": "execute_result"
    },
    {
     "data": {
      "image/png": "[encoded data removed]",
      "text/plain": [
       "<Figure size 432x288 with 1 Axes>"
      ]
     },
     "metadata": {},
     "output_type": "display_data"
    }
   ],
   "source": [
    "# Diagramme à barre de la variable 'day' (ordre croissant)\n",
    "# Diagramme à barre de la variable 'day' (ordre décroissant)\n",
    "import matplotlib.pyplot as plt\n",
    "sns.set(style='darkgrid')\n",
    "ax=sns.countplot(y=df.day, hue=df.time, order=df.day.value_counts(ascending=True).index).set_title('Frequantation')\n",
    "#plt.title('Frequantation')\n",
    "total =float(len(df))\n",
    "'''for p in ax.patches:\n",
    "    height=p.get_height()\n",
    "    ax.text(p.get_x()+p.get_width()/2.,height+3,\n",
    "           '{1.2f}'.format(height/total), ha='center')\n",
    "plt.show()'''\n"
   ]
  },
  {
   "cell_type": "code",
   "execution_count": 102,
   "metadata": {
    "colab": {
     "base_uri": "https://localhost:8080/",
     "height": 265
    },
    "executionInfo": {
     "elapsed": 3750,
     "status": "ok",
     "timestamp": 1609327345414,
     "user": {
      "displayName": "J.A DATATECH CONSULTING",
      "photoUrl": "https://lh3.googleusercontent.com/a-/AOh14Gi9wsjK7psnF8z3uOCEcA2yFkP2ckMODUtZxShO=s64",
      "userId": "06410945177748020218"
     },
     "user_tz": -60
    },
    "id": "VkSZ541sQqIl",
    "outputId": "2d0c1858-8d0f-4edd-f754-4403c4e99c88"
   },
   "outputs": [
    {
     "data": {
      "image/png": "[encoded data removed]",
      "text/plain": [
       "<Figure size 432x288 with 1 Axes>"
      ]
     },
     "metadata": {},
     "output_type": "display_data"
    }
   ],
   "source": [
    "# Diagramme circulaire de la variable 'time'\n",
    "df.time.value_counts().plot(kind='pie', title='service du restaurant', explode=[0.05]*2, colors= sns.color_palette('bright')[0:2], autopct='%1.1f%%', shadow=True, startangle=0);\n"
   ]
  },
  {
   "cell_type": "markdown",
   "metadata": {
    "id": "QaEZaMaDV9ck"
   },
   "source": [
    "Il est l'heure de pratiquer tout ce que vous avez vu dans cette secion sur l'analyse univariée. Veuillez donc réaliser les exercices se trouvant dans le fichier *2_Exercice.ipynb*.\n",
    "\n",
    "BON TRAVAIL :)"
   ]
  }
 ],
 "metadata": {
  "colab": {
   "authorship_tag": "ABX9TyM3mz07K+7xJ1JTTKpcz+Dx",
   "collapsed_sections": [],
   "name": "2_Analyse univariée.ipynb",
   "provenance": []
  },
  "kernelspec": {
   "display_name": "Python 3",
   "language": "python",
   "name": "python3"
  },
  "language_info": {
   "codemirror_mode": {
    "name": "ipython",
    "version": 3
   },
   "file_extension": ".py",
   "mimetype": "text/x-python",
   "name": "python",
   "nbconvert_exporter": "python",
   "pygments_lexer": "ipython3",
   "version": "3.8.5"
  }
 },
 "nbformat": 4,
 "nbformat_minor": 1
}
