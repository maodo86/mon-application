{
 "cells": [
  {
   "cell_type": "code",
   "execution_count": 58,
   "metadata": {},
   "outputs": [],
   "source": [
    "#Importation des bibliothèques pour l'analyse des données\n",
    "import pandas as pd\n",
    "import numpy as np\n",
    "import matplotlib.pyplot as plt\n",
    "#plt.style.use('ggplot')\n",
    "plt.style.use('ggplot')\n",
    "plt.rcParams.update({'figure.figsize':(6,3), 'figure.dpi':120})\n",
    "\n",
    "# Code optionnel pour éliminer les warnings\n",
    "\n",
    "from warnings import filterwarnings\n",
    "filterwarnings('ignore')"
   ]
  },
  {
   "cell_type": "code",
   "execution_count": 59,
   "metadata": {},
   "outputs": [
    {
     "data": {
      "text/html": [
       "<div>\n",
       "<style scoped>\n",
       "    .dataframe tbody tr th:only-of-type {\n",
       "        vertical-align: middle;\n",
       "    }\n",
       "\n",
       "    .dataframe tbody tr th {\n",
       "        vertical-align: top;\n",
       "    }\n",
       "\n",
       "    .dataframe thead th {\n",
       "        text-align: right;\n",
       "    }\n",
       "</style>\n",
       "<table border=\"1\" class=\"dataframe\">\n",
       "  <thead>\n",
       "    <tr style=\"text-align: right;\">\n",
       "      <th></th>\n",
       "      <th>POSTE_SOURCES</th>\n",
       "      <th>FEDEER</th>\n",
       "      <th>OUVRAGE</th>\n",
       "      <th>Puissance</th>\n",
       "      <th>Rapport_TC</th>\n",
       "      <th>rapport_tp</th>\n",
       "      <th>U1</th>\n",
       "      <th>U2</th>\n",
       "      <th>U3</th>\n",
       "      <th>V1</th>\n",
       "      <th>V2</th>\n",
       "      <th>V3</th>\n",
       "      <th>I1</th>\n",
       "      <th>I2</th>\n",
       "      <th>I3</th>\n",
       "      <th>Puissance Active</th>\n",
       "      <th>S_Approximee</th>\n",
       "      <th>Q_Approximee</th>\n",
       "    </tr>\n",
       "    <tr>\n",
       "      <th>Dates</th>\n",
       "      <th></th>\n",
       "      <th></th>\n",
       "      <th></th>\n",
       "      <th></th>\n",
       "      <th></th>\n",
       "      <th></th>\n",
       "      <th></th>\n",
       "      <th></th>\n",
       "      <th></th>\n",
       "      <th></th>\n",
       "      <th></th>\n",
       "      <th></th>\n",
       "      <th></th>\n",
       "      <th></th>\n",
       "      <th></th>\n",
       "      <th></th>\n",
       "      <th></th>\n",
       "      <th></th>\n",
       "    </tr>\n",
       "  </thead>\n",
       "  <tbody>\n",
       "    <tr>\n",
       "      <th>2021-09-21 00:00:00</th>\n",
       "      <td>TOUBA</td>\n",
       "      <td>MBACKE</td>\n",
       "      <td>DAROU MARNANE</td>\n",
       "      <td>630</td>\n",
       "      <td>200</td>\n",
       "      <td>1</td>\n",
       "      <td>NaN</td>\n",
       "      <td>NaN</td>\n",
       "      <td>NaN</td>\n",
       "      <td>NaN</td>\n",
       "      <td>NaN</td>\n",
       "      <td>NaN</td>\n",
       "      <td>328.0</td>\n",
       "      <td>369.4</td>\n",
       "      <td>444.6</td>\n",
       "      <td>266.006</td>\n",
       "      <td>NaN</td>\n",
       "      <td>NaN</td>\n",
       "    </tr>\n",
       "    <tr>\n",
       "      <th>2021-09-21 00:01:00</th>\n",
       "      <td>TOUBA</td>\n",
       "      <td>MBACKE</td>\n",
       "      <td>DAROU MARNANE</td>\n",
       "      <td>630</td>\n",
       "      <td>200</td>\n",
       "      <td>1</td>\n",
       "      <td>NaN</td>\n",
       "      <td>NaN</td>\n",
       "      <td>NaN</td>\n",
       "      <td>NaN</td>\n",
       "      <td>NaN</td>\n",
       "      <td>NaN</td>\n",
       "      <td>328.8</td>\n",
       "      <td>369.2</td>\n",
       "      <td>440.0</td>\n",
       "      <td>264.843</td>\n",
       "      <td>NaN</td>\n",
       "      <td>NaN</td>\n",
       "    </tr>\n",
       "    <tr>\n",
       "      <th>2021-09-21 00:02:00</th>\n",
       "      <td>TOUBA</td>\n",
       "      <td>MBACKE</td>\n",
       "      <td>DAROU MARNANE</td>\n",
       "      <td>630</td>\n",
       "      <td>200</td>\n",
       "      <td>1</td>\n",
       "      <td>NaN</td>\n",
       "      <td>NaN</td>\n",
       "      <td>NaN</td>\n",
       "      <td>NaN</td>\n",
       "      <td>NaN</td>\n",
       "      <td>NaN</td>\n",
       "      <td>327.0</td>\n",
       "      <td>366.2</td>\n",
       "      <td>434.6</td>\n",
       "      <td>262.643</td>\n",
       "      <td>NaN</td>\n",
       "      <td>NaN</td>\n",
       "    </tr>\n",
       "    <tr>\n",
       "      <th>2021-09-21 00:03:00</th>\n",
       "      <td>TOUBA</td>\n",
       "      <td>MBACKE</td>\n",
       "      <td>DAROU MARNANE</td>\n",
       "      <td>630</td>\n",
       "      <td>200</td>\n",
       "      <td>1</td>\n",
       "      <td>NaN</td>\n",
       "      <td>NaN</td>\n",
       "      <td>NaN</td>\n",
       "      <td>NaN</td>\n",
       "      <td>NaN</td>\n",
       "      <td>NaN</td>\n",
       "      <td>325.2</td>\n",
       "      <td>373.2</td>\n",
       "      <td>433.6</td>\n",
       "      <td>263.213</td>\n",
       "      <td>NaN</td>\n",
       "      <td>NaN</td>\n",
       "    </tr>\n",
       "    <tr>\n",
       "      <th>2021-09-21 00:04:00</th>\n",
       "      <td>TOUBA</td>\n",
       "      <td>MBACKE</td>\n",
       "      <td>DAROU MARNANE</td>\n",
       "      <td>630</td>\n",
       "      <td>200</td>\n",
       "      <td>1</td>\n",
       "      <td>NaN</td>\n",
       "      <td>NaN</td>\n",
       "      <td>NaN</td>\n",
       "      <td>NaN</td>\n",
       "      <td>NaN</td>\n",
       "      <td>NaN</td>\n",
       "      <td>322.2</td>\n",
       "      <td>369.4</td>\n",
       "      <td>437.6</td>\n",
       "      <td>263.493</td>\n",
       "      <td>NaN</td>\n",
       "      <td>NaN</td>\n",
       "    </tr>\n",
       "  </tbody>\n",
       "</table>\n",
       "</div>"
      ],
      "text/plain": [
       "                    POSTE_SOURCES  FEDEER        OUVRAGE  Puissance  \\\n",
       "Dates                                                                 \n",
       "2021-09-21 00:00:00         TOUBA  MBACKE  DAROU MARNANE        630   \n",
       "2021-09-21 00:01:00         TOUBA  MBACKE  DAROU MARNANE        630   \n",
       "2021-09-21 00:02:00         TOUBA  MBACKE  DAROU MARNANE        630   \n",
       "2021-09-21 00:03:00         TOUBA  MBACKE  DAROU MARNANE        630   \n",
       "2021-09-21 00:04:00         TOUBA  MBACKE  DAROU MARNANE        630   \n",
       "\n",
       "                     Rapport_TC  rapport_tp  U1  U2  U3  V1  V2  V3     I1  \\\n",
       "Dates                                                                        \n",
       "2021-09-21 00:00:00         200           1 NaN NaN NaN NaN NaN NaN  328.0   \n",
       "2021-09-21 00:01:00         200           1 NaN NaN NaN NaN NaN NaN  328.8   \n",
       "2021-09-21 00:02:00         200           1 NaN NaN NaN NaN NaN NaN  327.0   \n",
       "2021-09-21 00:03:00         200           1 NaN NaN NaN NaN NaN NaN  325.2   \n",
       "2021-09-21 00:04:00         200           1 NaN NaN NaN NaN NaN NaN  322.2   \n",
       "\n",
       "                        I2     I3  Puissance Active  S_Approximee  \\\n",
       "Dates                                                               \n",
       "2021-09-21 00:00:00  369.4  444.6           266.006           NaN   \n",
       "2021-09-21 00:01:00  369.2  440.0           264.843           NaN   \n",
       "2021-09-21 00:02:00  366.2  434.6           262.643           NaN   \n",
       "2021-09-21 00:03:00  373.2  433.6           263.213           NaN   \n",
       "2021-09-21 00:04:00  369.4  437.6           263.493           NaN   \n",
       "\n",
       "                     Q_Approximee  \n",
       "Dates                              \n",
       "2021-09-21 00:00:00           NaN  \n",
       "2021-09-21 00:01:00           NaN  \n",
       "2021-09-21 00:02:00           NaN  \n",
       "2021-09-21 00:03:00           NaN  \n",
       "2021-09-21 00:04:00           NaN  "
      ]
     },
     "execution_count": 59,
     "metadata": {},
     "output_type": "execute_result"
    }
   ],
   "source": [
    "#Téléchargement du jeu de données et visualisations des 5 premières lignes\n",
    "data=pd.read_excel('rapport_cibles_MAGAL.xlsx', parse_dates=['Dates'], index_col='Dates')\n",
    "data.head()"
   ]
  },
  {
   "cell_type": "markdown",
   "metadata": {},
   "source": [
    "# Analyse exploratoire des données(EDA)"
   ]
  },
  {
   "cell_type": "code",
   "execution_count": 60,
   "metadata": {},
   "outputs": [
    {
     "data": {
      "text/plain": [
       "Index(['POSTE_SOURCES', 'FEDEER', 'OUVRAGE', 'Puissance', 'Rapport_TC',\n",
       "       'rapport_tp', 'U1', 'U2', 'U3', 'V1', 'V2', 'V3', 'I1', 'I2', 'I3',\n",
       "       'Puissance Active', 'S_Approximee', 'Q_Approximee'],\n",
       "      dtype='object')"
      ]
     },
     "execution_count": 60,
     "metadata": {},
     "output_type": "execute_result"
    }
   ],
   "source": [
    "#Voir les colonnes de notre jeu de données\n",
    "data.columns"
   ]
  },
  {
   "cell_type": "code",
   "execution_count": 61,
   "metadata": {},
   "outputs": [
    {
     "data": {
      "text/html": [
       "<div>\n",
       "<style scoped>\n",
       "    .dataframe tbody tr th:only-of-type {\n",
       "        vertical-align: middle;\n",
       "    }\n",
       "\n",
       "    .dataframe tbody tr th {\n",
       "        vertical-align: top;\n",
       "    }\n",
       "\n",
       "    .dataframe thead th {\n",
       "        text-align: right;\n",
       "    }\n",
       "</style>\n",
       "<table border=\"1\" class=\"dataframe\">\n",
       "  <thead>\n",
       "    <tr style=\"text-align: right;\">\n",
       "      <th></th>\n",
       "      <th>OUVRAGE</th>\n",
       "      <th>V1</th>\n",
       "      <th>V2</th>\n",
       "      <th>V3</th>\n",
       "      <th>I1</th>\n",
       "      <th>I2</th>\n",
       "      <th>I3</th>\n",
       "      <th>Puissance Active</th>\n",
       "    </tr>\n",
       "    <tr>\n",
       "      <th>Dates</th>\n",
       "      <th></th>\n",
       "      <th></th>\n",
       "      <th></th>\n",
       "      <th></th>\n",
       "      <th></th>\n",
       "      <th></th>\n",
       "      <th></th>\n",
       "      <th></th>\n",
       "    </tr>\n",
       "  </thead>\n",
       "  <tbody>\n",
       "    <tr>\n",
       "      <th>2021-09-21 00:00:00</th>\n",
       "      <td>DAROU MARNANE</td>\n",
       "      <td>NaN</td>\n",
       "      <td>NaN</td>\n",
       "      <td>NaN</td>\n",
       "      <td>328.0</td>\n",
       "      <td>369.4</td>\n",
       "      <td>444.6</td>\n",
       "      <td>266.006</td>\n",
       "    </tr>\n",
       "    <tr>\n",
       "      <th>2021-09-21 00:01:00</th>\n",
       "      <td>DAROU MARNANE</td>\n",
       "      <td>NaN</td>\n",
       "      <td>NaN</td>\n",
       "      <td>NaN</td>\n",
       "      <td>328.8</td>\n",
       "      <td>369.2</td>\n",
       "      <td>440.0</td>\n",
       "      <td>264.843</td>\n",
       "    </tr>\n",
       "    <tr>\n",
       "      <th>2021-09-21 00:02:00</th>\n",
       "      <td>DAROU MARNANE</td>\n",
       "      <td>NaN</td>\n",
       "      <td>NaN</td>\n",
       "      <td>NaN</td>\n",
       "      <td>327.0</td>\n",
       "      <td>366.2</td>\n",
       "      <td>434.6</td>\n",
       "      <td>262.643</td>\n",
       "    </tr>\n",
       "    <tr>\n",
       "      <th>2021-09-21 00:03:00</th>\n",
       "      <td>DAROU MARNANE</td>\n",
       "      <td>NaN</td>\n",
       "      <td>NaN</td>\n",
       "      <td>NaN</td>\n",
       "      <td>325.2</td>\n",
       "      <td>373.2</td>\n",
       "      <td>433.6</td>\n",
       "      <td>263.213</td>\n",
       "    </tr>\n",
       "    <tr>\n",
       "      <th>2021-09-21 00:04:00</th>\n",
       "      <td>DAROU MARNANE</td>\n",
       "      <td>NaN</td>\n",
       "      <td>NaN</td>\n",
       "      <td>NaN</td>\n",
       "      <td>322.2</td>\n",
       "      <td>369.4</td>\n",
       "      <td>437.6</td>\n",
       "      <td>263.493</td>\n",
       "    </tr>\n",
       "  </tbody>\n",
       "</table>\n",
       "</div>"
      ],
      "text/plain": [
       "                           OUVRAGE  V1  V2  V3     I1     I2     I3  \\\n",
       "Dates                                                                 \n",
       "2021-09-21 00:00:00  DAROU MARNANE NaN NaN NaN  328.0  369.4  444.6   \n",
       "2021-09-21 00:01:00  DAROU MARNANE NaN NaN NaN  328.8  369.2  440.0   \n",
       "2021-09-21 00:02:00  DAROU MARNANE NaN NaN NaN  327.0  366.2  434.6   \n",
       "2021-09-21 00:03:00  DAROU MARNANE NaN NaN NaN  325.2  373.2  433.6   \n",
       "2021-09-21 00:04:00  DAROU MARNANE NaN NaN NaN  322.2  369.4  437.6   \n",
       "\n",
       "                     Puissance Active  \n",
       "Dates                                  \n",
       "2021-09-21 00:00:00           266.006  \n",
       "2021-09-21 00:01:00           264.843  \n",
       "2021-09-21 00:02:00           262.643  \n",
       "2021-09-21 00:03:00           263.213  \n",
       "2021-09-21 00:04:00           263.493  "
      ]
     },
     "execution_count": 61,
     "metadata": {},
     "output_type": "execute_result"
    }
   ],
   "source": [
    "#Sélection de variables\n",
    "df=data[['OUVRAGE', 'V1', 'V2', 'V3', 'I1', 'I2', 'I3',\n",
    "       'Puissance Active']]\n",
    "df.head()"
   ]
  },
  {
   "cell_type": "code",
   "execution_count": 62,
   "metadata": {},
   "outputs": [
    {
     "data": {
      "text/html": [
       "<div>\n",
       "<style scoped>\n",
       "    .dataframe tbody tr th:only-of-type {\n",
       "        vertical-align: middle;\n",
       "    }\n",
       "\n",
       "    .dataframe tbody tr th {\n",
       "        vertical-align: top;\n",
       "    }\n",
       "\n",
       "    .dataframe thead th {\n",
       "        text-align: right;\n",
       "    }\n",
       "</style>\n",
       "<table border=\"1\" class=\"dataframe\">\n",
       "  <thead>\n",
       "    <tr style=\"text-align: right;\">\n",
       "      <th></th>\n",
       "      <th>OUVRAGE</th>\n",
       "      <th>V1</th>\n",
       "      <th>V2</th>\n",
       "      <th>V3</th>\n",
       "      <th>I1</th>\n",
       "      <th>I2</th>\n",
       "      <th>I3</th>\n",
       "      <th>Puissance Active</th>\n",
       "    </tr>\n",
       "    <tr>\n",
       "      <th>Dates</th>\n",
       "      <th></th>\n",
       "      <th></th>\n",
       "      <th></th>\n",
       "      <th></th>\n",
       "      <th></th>\n",
       "      <th></th>\n",
       "      <th></th>\n",
       "      <th></th>\n",
       "    </tr>\n",
       "  </thead>\n",
       "  <tbody>\n",
       "    <tr>\n",
       "      <th>2021-09-21 00:00:00</th>\n",
       "      <td>DAROU MARNANE</td>\n",
       "      <td>NaN</td>\n",
       "      <td>NaN</td>\n",
       "      <td>NaN</td>\n",
       "      <td>328.0</td>\n",
       "      <td>369.4</td>\n",
       "      <td>444.6</td>\n",
       "      <td>266.006</td>\n",
       "    </tr>\n",
       "    <tr>\n",
       "      <th>2021-09-21 00:01:00</th>\n",
       "      <td>DAROU MARNANE</td>\n",
       "      <td>NaN</td>\n",
       "      <td>NaN</td>\n",
       "      <td>NaN</td>\n",
       "      <td>328.8</td>\n",
       "      <td>369.2</td>\n",
       "      <td>440.0</td>\n",
       "      <td>264.843</td>\n",
       "    </tr>\n",
       "    <tr>\n",
       "      <th>2021-09-21 00:02:00</th>\n",
       "      <td>DAROU MARNANE</td>\n",
       "      <td>NaN</td>\n",
       "      <td>NaN</td>\n",
       "      <td>NaN</td>\n",
       "      <td>327.0</td>\n",
       "      <td>366.2</td>\n",
       "      <td>434.6</td>\n",
       "      <td>262.643</td>\n",
       "    </tr>\n",
       "    <tr>\n",
       "      <th>2021-09-21 00:03:00</th>\n",
       "      <td>DAROU MARNANE</td>\n",
       "      <td>NaN</td>\n",
       "      <td>NaN</td>\n",
       "      <td>NaN</td>\n",
       "      <td>325.2</td>\n",
       "      <td>373.2</td>\n",
       "      <td>433.6</td>\n",
       "      <td>263.213</td>\n",
       "    </tr>\n",
       "    <tr>\n",
       "      <th>2021-09-21 00:04:00</th>\n",
       "      <td>DAROU MARNANE</td>\n",
       "      <td>NaN</td>\n",
       "      <td>NaN</td>\n",
       "      <td>NaN</td>\n",
       "      <td>322.2</td>\n",
       "      <td>369.4</td>\n",
       "      <td>437.6</td>\n",
       "      <td>263.493</td>\n",
       "    </tr>\n",
       "  </tbody>\n",
       "</table>\n",
       "</div>"
      ],
      "text/plain": [
       "                           OUVRAGE  V1  V2  V3     I1     I2     I3  \\\n",
       "Dates                                                                 \n",
       "2021-09-21 00:00:00  DAROU MARNANE NaN NaN NaN  328.0  369.4  444.6   \n",
       "2021-09-21 00:01:00  DAROU MARNANE NaN NaN NaN  328.8  369.2  440.0   \n",
       "2021-09-21 00:02:00  DAROU MARNANE NaN NaN NaN  327.0  366.2  434.6   \n",
       "2021-09-21 00:03:00  DAROU MARNANE NaN NaN NaN  325.2  373.2  433.6   \n",
       "2021-09-21 00:04:00  DAROU MARNANE NaN NaN NaN  322.2  369.4  437.6   \n",
       "\n",
       "                     Puissance Active  \n",
       "Dates                                  \n",
       "2021-09-21 00:00:00           266.006  \n",
       "2021-09-21 00:01:00           264.843  \n",
       "2021-09-21 00:02:00           262.643  \n",
       "2021-09-21 00:03:00           263.213  \n",
       "2021-09-21 00:04:00           263.493  "
      ]
     },
     "execution_count": 62,
     "metadata": {},
     "output_type": "execute_result"
    }
   ],
   "source": [
    "#Visualiser les 5 premieres lignes de notre jeu de données\n",
    "df.head()"
   ]
  },
  {
   "cell_type": "code",
   "execution_count": 63,
   "metadata": {},
   "outputs": [
    {
     "data": {
      "text/plain": [
       "62059"
      ]
     },
     "execution_count": 63,
     "metadata": {},
     "output_type": "execute_result"
    }
   ],
   "source": [
    "#la longueur de notre jeu de données\n",
    "len(df)"
   ]
  },
  {
   "cell_type": "code",
   "execution_count": 64,
   "metadata": {},
   "outputs": [],
   "source": [
    "#Renommer la features Puissance Active en P\n",
    "df.rename(columns={'Puissance Active':'P'}, inplace=True)"
   ]
  },
  {
   "cell_type": "code",
   "execution_count": 65,
   "metadata": {},
   "outputs": [
    {
     "data": {
      "text/plain": [
       "OUVRAGE     0.000000\n",
       "V1         21.332925\n",
       "V2         21.332925\n",
       "V3         21.332925\n",
       "I1          5.338468\n",
       "I2          5.338468\n",
       "I3          5.338468\n",
       "P           5.338468\n",
       "dtype: float64"
      ]
     },
     "execution_count": 65,
     "metadata": {},
     "output_type": "execute_result"
    }
   ],
   "source": [
    "#Nombre de ligne null\n",
    "df.isnull().sum(axis=0)/len(df)*100"
   ]
  },
  {
   "cell_type": "code",
   "execution_count": 66,
   "metadata": {},
   "outputs": [
    {
     "data": {
      "text/plain": [
       "58746"
      ]
     },
     "execution_count": 66,
     "metadata": {},
     "output_type": "execute_result"
    }
   ],
   "source": [
    "#Traitement des valeurs manquantes: suppression des lignes où tous les features sont null\n",
    "df.dropna(subset=['V1','V2','V3','I1','I2','I3','P'], axis=0, how='all', inplace=True)\n",
    "len(df)"
   ]
  },
  {
   "cell_type": "code",
   "execution_count": 67,
   "metadata": {},
   "outputs": [
    {
     "data": {
      "text/plain": [
       "OUVRAGE       0\n",
       "V1         9926\n",
       "V2         9926\n",
       "V3         9926\n",
       "I1            0\n",
       "I2            0\n",
       "I3            0\n",
       "P             0\n",
       "dtype: int64"
      ]
     },
     "execution_count": 67,
     "metadata": {},
     "output_type": "execute_result"
    }
   ],
   "source": [
    "df.isnull().sum(axis=0)"
   ]
  },
  {
   "cell_type": "code",
   "execution_count": 68,
   "metadata": {},
   "outputs": [
    {
     "data": {
      "text/html": [
       "<div>\n",
       "<style scoped>\n",
       "    .dataframe tbody tr th:only-of-type {\n",
       "        vertical-align: middle;\n",
       "    }\n",
       "\n",
       "    .dataframe tbody tr th {\n",
       "        vertical-align: top;\n",
       "    }\n",
       "\n",
       "    .dataframe thead th {\n",
       "        text-align: right;\n",
       "    }\n",
       "</style>\n",
       "<table border=\"1\" class=\"dataframe\">\n",
       "  <thead>\n",
       "    <tr style=\"text-align: right;\">\n",
       "      <th></th>\n",
       "      <th>OUVRAGE</th>\n",
       "      <th>V1</th>\n",
       "      <th>V2</th>\n",
       "      <th>V3</th>\n",
       "      <th>I1</th>\n",
       "      <th>I2</th>\n",
       "      <th>I3</th>\n",
       "      <th>P</th>\n",
       "    </tr>\n",
       "    <tr>\n",
       "      <th>Dates</th>\n",
       "      <th></th>\n",
       "      <th></th>\n",
       "      <th></th>\n",
       "      <th></th>\n",
       "      <th></th>\n",
       "      <th></th>\n",
       "      <th></th>\n",
       "      <th></th>\n",
       "    </tr>\n",
       "  </thead>\n",
       "  <tbody>\n",
       "    <tr>\n",
       "      <th>2021-09-21 00:00:00</th>\n",
       "      <td>DAROU MARNANE</td>\n",
       "      <td>240.473232</td>\n",
       "      <td>240.495809</td>\n",
       "      <td>240.045807</td>\n",
       "      <td>328.0</td>\n",
       "      <td>369.4</td>\n",
       "      <td>444.6</td>\n",
       "      <td>266.006</td>\n",
       "    </tr>\n",
       "    <tr>\n",
       "      <th>2021-09-21 00:01:00</th>\n",
       "      <td>DAROU MARNANE</td>\n",
       "      <td>240.473232</td>\n",
       "      <td>240.495809</td>\n",
       "      <td>240.045807</td>\n",
       "      <td>328.8</td>\n",
       "      <td>369.2</td>\n",
       "      <td>440.0</td>\n",
       "      <td>264.843</td>\n",
       "    </tr>\n",
       "    <tr>\n",
       "      <th>2021-09-21 00:02:00</th>\n",
       "      <td>DAROU MARNANE</td>\n",
       "      <td>240.473232</td>\n",
       "      <td>240.495809</td>\n",
       "      <td>240.045807</td>\n",
       "      <td>327.0</td>\n",
       "      <td>366.2</td>\n",
       "      <td>434.6</td>\n",
       "      <td>262.643</td>\n",
       "    </tr>\n",
       "    <tr>\n",
       "      <th>2021-09-21 00:03:00</th>\n",
       "      <td>DAROU MARNANE</td>\n",
       "      <td>240.473232</td>\n",
       "      <td>240.495809</td>\n",
       "      <td>240.045807</td>\n",
       "      <td>325.2</td>\n",
       "      <td>373.2</td>\n",
       "      <td>433.6</td>\n",
       "      <td>263.213</td>\n",
       "    </tr>\n",
       "    <tr>\n",
       "      <th>2021-09-21 00:04:00</th>\n",
       "      <td>DAROU MARNANE</td>\n",
       "      <td>240.473232</td>\n",
       "      <td>240.495809</td>\n",
       "      <td>240.045807</td>\n",
       "      <td>322.2</td>\n",
       "      <td>369.4</td>\n",
       "      <td>437.6</td>\n",
       "      <td>263.493</td>\n",
       "    </tr>\n",
       "    <tr>\n",
       "      <th>...</th>\n",
       "      <td>...</td>\n",
       "      <td>...</td>\n",
       "      <td>...</td>\n",
       "      <td>...</td>\n",
       "      <td>...</td>\n",
       "      <td>...</td>\n",
       "      <td>...</td>\n",
       "      <td>...</td>\n",
       "    </tr>\n",
       "    <tr>\n",
       "      <th>2021-09-28 23:26:00</th>\n",
       "      <td>PALENE ROUTE DE MBACKE</td>\n",
       "      <td>243.400000</td>\n",
       "      <td>243.300000</td>\n",
       "      <td>243.000000</td>\n",
       "      <td>469.6</td>\n",
       "      <td>467.0</td>\n",
       "      <td>475.2</td>\n",
       "      <td>329.796</td>\n",
       "    </tr>\n",
       "    <tr>\n",
       "      <th>2021-09-28 23:27:00</th>\n",
       "      <td>PALENE ROUTE DE MBACKE</td>\n",
       "      <td>243.500000</td>\n",
       "      <td>243.600000</td>\n",
       "      <td>243.100000</td>\n",
       "      <td>487.2</td>\n",
       "      <td>464.4</td>\n",
       "      <td>502.8</td>\n",
       "      <td>340.093</td>\n",
       "    </tr>\n",
       "    <tr>\n",
       "      <th>2021-09-28 23:28:00</th>\n",
       "      <td>PALENE ROUTE DE MBACKE</td>\n",
       "      <td>243.400000</td>\n",
       "      <td>243.400000</td>\n",
       "      <td>243.000000</td>\n",
       "      <td>475.6</td>\n",
       "      <td>464.0</td>\n",
       "      <td>470.8</td>\n",
       "      <td>329.400</td>\n",
       "    </tr>\n",
       "    <tr>\n",
       "      <th>2021-09-28 23:29:00</th>\n",
       "      <td>PALENE ROUTE DE MBACKE</td>\n",
       "      <td>242.900000</td>\n",
       "      <td>243.000000</td>\n",
       "      <td>242.700000</td>\n",
       "      <td>481.6</td>\n",
       "      <td>460.6</td>\n",
       "      <td>468.2</td>\n",
       "      <td>328.756</td>\n",
       "    </tr>\n",
       "    <tr>\n",
       "      <th>2021-09-28 23:30:00</th>\n",
       "      <td>PALENE ROUTE DE MBACKE</td>\n",
       "      <td>242.800000</td>\n",
       "      <td>243.100000</td>\n",
       "      <td>242.700000</td>\n",
       "      <td>518.0</td>\n",
       "      <td>459.6</td>\n",
       "      <td>490.8</td>\n",
       "      <td>342.220</td>\n",
       "    </tr>\n",
       "  </tbody>\n",
       "</table>\n",
       "<p>58746 rows × 8 columns</p>\n",
       "</div>"
      ],
      "text/plain": [
       "                                    OUVRAGE          V1          V2  \\\n",
       "Dates                                                                 \n",
       "2021-09-21 00:00:00           DAROU MARNANE  240.473232  240.495809   \n",
       "2021-09-21 00:01:00           DAROU MARNANE  240.473232  240.495809   \n",
       "2021-09-21 00:02:00           DAROU MARNANE  240.473232  240.495809   \n",
       "2021-09-21 00:03:00           DAROU MARNANE  240.473232  240.495809   \n",
       "2021-09-21 00:04:00           DAROU MARNANE  240.473232  240.495809   \n",
       "...                                     ...         ...         ...   \n",
       "2021-09-28 23:26:00  PALENE ROUTE DE MBACKE  243.400000  243.300000   \n",
       "2021-09-28 23:27:00  PALENE ROUTE DE MBACKE  243.500000  243.600000   \n",
       "2021-09-28 23:28:00  PALENE ROUTE DE MBACKE  243.400000  243.400000   \n",
       "2021-09-28 23:29:00  PALENE ROUTE DE MBACKE  242.900000  243.000000   \n",
       "2021-09-28 23:30:00  PALENE ROUTE DE MBACKE  242.800000  243.100000   \n",
       "\n",
       "                             V3     I1     I2     I3        P  \n",
       "Dates                                                          \n",
       "2021-09-21 00:00:00  240.045807  328.0  369.4  444.6  266.006  \n",
       "2021-09-21 00:01:00  240.045807  328.8  369.2  440.0  264.843  \n",
       "2021-09-21 00:02:00  240.045807  327.0  366.2  434.6  262.643  \n",
       "2021-09-21 00:03:00  240.045807  325.2  373.2  433.6  263.213  \n",
       "2021-09-21 00:04:00  240.045807  322.2  369.4  437.6  263.493  \n",
       "...                         ...    ...    ...    ...      ...  \n",
       "2021-09-28 23:26:00  243.000000  469.6  467.0  475.2  329.796  \n",
       "2021-09-28 23:27:00  243.100000  487.2  464.4  502.8  340.093  \n",
       "2021-09-28 23:28:00  243.000000  475.6  464.0  470.8  329.400  \n",
       "2021-09-28 23:29:00  242.700000  481.6  460.6  468.2  328.756  \n",
       "2021-09-28 23:30:00  242.700000  518.0  459.6  490.8  342.220  \n",
       "\n",
       "[58746 rows x 8 columns]"
      ]
     },
     "execution_count": 68,
     "metadata": {},
     "output_type": "execute_result"
    }
   ],
   "source": [
    "#Remplacement des valeurs null par la moyennne ou la mode: technique d'imputation par la moyenne\n",
    "df['V1'].fillna(value=df['V1'].mean(), axis=0, inplace=True)\n",
    "df['V2'].fillna(value=df['V2'].mean(), axis=0, inplace=True)\n",
    "df['V3'].fillna(value=df['V3'].mean(), axis=0, inplace=True)\n",
    "df"
   ]
  },
  {
   "cell_type": "code",
   "execution_count": 69,
   "metadata": {},
   "outputs": [
    {
     "data": {
      "text/plain": [
       "OUVRAGE    0\n",
       "V1         0\n",
       "V2         0\n",
       "V3         0\n",
       "I1         0\n",
       "I2         0\n",
       "I3         0\n",
       "P          0\n",
       "dtype: int64"
      ]
     },
     "execution_count": 69,
     "metadata": {},
     "output_type": "execute_result"
    }
   ],
   "source": [
    "df.isnull().sum()"
   ]
  },
  {
   "cell_type": "code",
   "execution_count": 70,
   "metadata": {},
   "outputs": [
    {
     "data": {
      "text/plain": [
       "58746"
      ]
     },
     "execution_count": 70,
     "metadata": {},
     "output_type": "execute_result"
    }
   ],
   "source": [
    "len(df)"
   ]
  },
  {
   "cell_type": "code",
   "execution_count": 71,
   "metadata": {},
   "outputs": [
    {
     "data": {
      "text/plain": [
       "MINAM 7                   17013\n",
       "DAROU MARNANE              9471\n",
       "PALENE ROUTE DE MBACKE     9137\n",
       "OCASE CPT2                 7851\n",
       "DAROU MINAM 1              5885\n",
       "PALENE                     5410\n",
       "DAROU MINAM 2              3979\n",
       "Name: OUVRAGE, dtype: int64"
      ]
     },
     "execution_count": 71,
     "metadata": {},
     "output_type": "execute_result"
    }
   ],
   "source": [
    "#Nombre d'observation par ouvrages\n",
    "df.OUVRAGE.value_counts()"
   ]
  },
  {
   "cell_type": "code",
   "execution_count": 72,
   "metadata": {},
   "outputs": [],
   "source": [
    "#df.to_excel(r\"C:\\Users\\dell\\Desktop\\Projet_Analyse_Magal2021\\donnees_utiles.xlsx\")"
   ]
  },
  {
   "cell_type": "markdown",
   "metadata": {},
   "source": [
    "# Analyse univariée des variables U, I, P "
   ]
  },
  {
   "cell_type": "code",
   "execution_count": 73,
   "metadata": {},
   "outputs": [],
   "source": [
    "import seaborn as sns"
   ]
  },
  {
   "cell_type": "code",
   "execution_count": 74,
   "metadata": {},
   "outputs": [
    {
     "data": {
      "text/html": [
       "<div>\n",
       "<style scoped>\n",
       "    .dataframe tbody tr th:only-of-type {\n",
       "        vertical-align: middle;\n",
       "    }\n",
       "\n",
       "    .dataframe tbody tr th {\n",
       "        vertical-align: top;\n",
       "    }\n",
       "\n",
       "    .dataframe thead th {\n",
       "        text-align: right;\n",
       "    }\n",
       "</style>\n",
       "<table border=\"1\" class=\"dataframe\">\n",
       "  <thead>\n",
       "    <tr style=\"text-align: right;\">\n",
       "      <th></th>\n",
       "      <th>OUVRAGE</th>\n",
       "      <th>V1</th>\n",
       "      <th>V2</th>\n",
       "      <th>V3</th>\n",
       "      <th>I1</th>\n",
       "      <th>I2</th>\n",
       "      <th>I3</th>\n",
       "      <th>P</th>\n",
       "    </tr>\n",
       "    <tr>\n",
       "      <th>Dates</th>\n",
       "      <th></th>\n",
       "      <th></th>\n",
       "      <th></th>\n",
       "      <th></th>\n",
       "      <th></th>\n",
       "      <th></th>\n",
       "      <th></th>\n",
       "      <th></th>\n",
       "    </tr>\n",
       "  </thead>\n",
       "  <tbody>\n",
       "    <tr>\n",
       "      <th>2021-09-21 00:00:00</th>\n",
       "      <td>DAROU MARNANE</td>\n",
       "      <td>240.473232</td>\n",
       "      <td>240.495809</td>\n",
       "      <td>240.045807</td>\n",
       "      <td>328.0</td>\n",
       "      <td>369.4</td>\n",
       "      <td>444.6</td>\n",
       "      <td>266.006</td>\n",
       "    </tr>\n",
       "    <tr>\n",
       "      <th>2021-09-21 00:01:00</th>\n",
       "      <td>DAROU MARNANE</td>\n",
       "      <td>240.473232</td>\n",
       "      <td>240.495809</td>\n",
       "      <td>240.045807</td>\n",
       "      <td>328.8</td>\n",
       "      <td>369.2</td>\n",
       "      <td>440.0</td>\n",
       "      <td>264.843</td>\n",
       "    </tr>\n",
       "    <tr>\n",
       "      <th>2021-09-21 00:02:00</th>\n",
       "      <td>DAROU MARNANE</td>\n",
       "      <td>240.473232</td>\n",
       "      <td>240.495809</td>\n",
       "      <td>240.045807</td>\n",
       "      <td>327.0</td>\n",
       "      <td>366.2</td>\n",
       "      <td>434.6</td>\n",
       "      <td>262.643</td>\n",
       "    </tr>\n",
       "    <tr>\n",
       "      <th>2021-09-21 00:03:00</th>\n",
       "      <td>DAROU MARNANE</td>\n",
       "      <td>240.473232</td>\n",
       "      <td>240.495809</td>\n",
       "      <td>240.045807</td>\n",
       "      <td>325.2</td>\n",
       "      <td>373.2</td>\n",
       "      <td>433.6</td>\n",
       "      <td>263.213</td>\n",
       "    </tr>\n",
       "    <tr>\n",
       "      <th>2021-09-21 00:04:00</th>\n",
       "      <td>DAROU MARNANE</td>\n",
       "      <td>240.473232</td>\n",
       "      <td>240.495809</td>\n",
       "      <td>240.045807</td>\n",
       "      <td>322.2</td>\n",
       "      <td>369.4</td>\n",
       "      <td>437.6</td>\n",
       "      <td>263.493</td>\n",
       "    </tr>\n",
       "  </tbody>\n",
       "</table>\n",
       "</div>"
      ],
      "text/plain": [
       "                           OUVRAGE          V1          V2          V3     I1  \\\n",
       "Dates                                                                           \n",
       "2021-09-21 00:00:00  DAROU MARNANE  240.473232  240.495809  240.045807  328.0   \n",
       "2021-09-21 00:01:00  DAROU MARNANE  240.473232  240.495809  240.045807  328.8   \n",
       "2021-09-21 00:02:00  DAROU MARNANE  240.473232  240.495809  240.045807  327.0   \n",
       "2021-09-21 00:03:00  DAROU MARNANE  240.473232  240.495809  240.045807  325.2   \n",
       "2021-09-21 00:04:00  DAROU MARNANE  240.473232  240.495809  240.045807  322.2   \n",
       "\n",
       "                        I2     I3        P  \n",
       "Dates                                       \n",
       "2021-09-21 00:00:00  369.4  444.6  266.006  \n",
       "2021-09-21 00:01:00  369.2  440.0  264.843  \n",
       "2021-09-21 00:02:00  366.2  434.6  262.643  \n",
       "2021-09-21 00:03:00  373.2  433.6  263.213  \n",
       "2021-09-21 00:04:00  369.4  437.6  263.493  "
      ]
     },
     "execution_count": 74,
     "metadata": {},
     "output_type": "execute_result"
    }
   ],
   "source": [
    "#Poste Minam 7\n",
    "df_dmarnane=df[df.OUVRAGE=='DAROU MARNANE']\n",
    "df_dmarnane.head()"
   ]
  },
  {
   "cell_type": "code",
   "execution_count": 75,
   "metadata": {},
   "outputs": [
    {
     "data": {
      "text/plain": [
       "OUVRAGE    0.0\n",
       "V1         0.0\n",
       "V2         0.0\n",
       "V3         0.0\n",
       "I1         0.0\n",
       "I2         0.0\n",
       "I3         0.0\n",
       "P          0.0\n",
       "dtype: float64"
      ]
     },
     "execution_count": 75,
     "metadata": {},
     "output_type": "execute_result"
    }
   ],
   "source": [
    "df_dmarnane.isnull().sum()/len(df_dmarnane)*100"
   ]
  },
  {
   "cell_type": "code",
   "execution_count": 76,
   "metadata": {},
   "outputs": [
    {
     "data": {
      "text/html": [
       "<div>\n",
       "<style scoped>\n",
       "    .dataframe tbody tr th:only-of-type {\n",
       "        vertical-align: middle;\n",
       "    }\n",
       "\n",
       "    .dataframe tbody tr th {\n",
       "        vertical-align: top;\n",
       "    }\n",
       "\n",
       "    .dataframe thead th {\n",
       "        text-align: right;\n",
       "    }\n",
       "</style>\n",
       "<table border=\"1\" class=\"dataframe\">\n",
       "  <thead>\n",
       "    <tr style=\"text-align: right;\">\n",
       "      <th></th>\n",
       "      <th>count</th>\n",
       "      <th>mean</th>\n",
       "      <th>std</th>\n",
       "      <th>min</th>\n",
       "      <th>25%</th>\n",
       "      <th>50%</th>\n",
       "      <th>75%</th>\n",
       "      <th>max</th>\n",
       "    </tr>\n",
       "  </thead>\n",
       "  <tbody>\n",
       "    <tr>\n",
       "      <th>V1</th>\n",
       "      <td>9471.0</td>\n",
       "      <td>238.948184</td>\n",
       "      <td>4.192501</td>\n",
       "      <td>0.0</td>\n",
       "      <td>237.4000</td>\n",
       "      <td>239.70</td>\n",
       "      <td>240.473232</td>\n",
       "      <td>249.20</td>\n",
       "    </tr>\n",
       "    <tr>\n",
       "      <th>V2</th>\n",
       "      <td>9471.0</td>\n",
       "      <td>238.856136</td>\n",
       "      <td>4.194807</td>\n",
       "      <td>0.0</td>\n",
       "      <td>237.3000</td>\n",
       "      <td>239.50</td>\n",
       "      <td>240.495809</td>\n",
       "      <td>249.40</td>\n",
       "    </tr>\n",
       "    <tr>\n",
       "      <th>V3</th>\n",
       "      <td>9471.0</td>\n",
       "      <td>238.203438</td>\n",
       "      <td>4.220290</td>\n",
       "      <td>0.0</td>\n",
       "      <td>236.6000</td>\n",
       "      <td>238.80</td>\n",
       "      <td>240.045807</td>\n",
       "      <td>248.30</td>\n",
       "    </tr>\n",
       "    <tr>\n",
       "      <th>I1</th>\n",
       "      <td>9471.0</td>\n",
       "      <td>382.750987</td>\n",
       "      <td>94.353280</td>\n",
       "      <td>0.0</td>\n",
       "      <td>307.6000</td>\n",
       "      <td>378.20</td>\n",
       "      <td>453.800000</td>\n",
       "      <td>620.20</td>\n",
       "    </tr>\n",
       "    <tr>\n",
       "      <th>I2</th>\n",
       "      <td>9471.0</td>\n",
       "      <td>420.891395</td>\n",
       "      <td>106.646183</td>\n",
       "      <td>0.0</td>\n",
       "      <td>340.2000</td>\n",
       "      <td>413.60</td>\n",
       "      <td>495.800000</td>\n",
       "      <td>691.80</td>\n",
       "    </tr>\n",
       "    <tr>\n",
       "      <th>I3</th>\n",
       "      <td>9471.0</td>\n",
       "      <td>477.025826</td>\n",
       "      <td>122.272323</td>\n",
       "      <td>0.0</td>\n",
       "      <td>375.4000</td>\n",
       "      <td>475.00</td>\n",
       "      <td>569.600000</td>\n",
       "      <td>780.60</td>\n",
       "    </tr>\n",
       "    <tr>\n",
       "      <th>P</th>\n",
       "      <td>9471.0</td>\n",
       "      <td>296.285904</td>\n",
       "      <td>76.739331</td>\n",
       "      <td>0.0</td>\n",
       "      <td>233.9445</td>\n",
       "      <td>290.71</td>\n",
       "      <td>353.428000</td>\n",
       "      <td>484.19</td>\n",
       "    </tr>\n",
       "  </tbody>\n",
       "</table>\n",
       "</div>"
      ],
      "text/plain": [
       "     count        mean         std  min       25%     50%         75%     max\n",
       "V1  9471.0  238.948184    4.192501  0.0  237.4000  239.70  240.473232  249.20\n",
       "V2  9471.0  238.856136    4.194807  0.0  237.3000  239.50  240.495809  249.40\n",
       "V3  9471.0  238.203438    4.220290  0.0  236.6000  238.80  240.045807  248.30\n",
       "I1  9471.0  382.750987   94.353280  0.0  307.6000  378.20  453.800000  620.20\n",
       "I2  9471.0  420.891395  106.646183  0.0  340.2000  413.60  495.800000  691.80\n",
       "I3  9471.0  477.025826  122.272323  0.0  375.4000  475.00  569.600000  780.60\n",
       "P   9471.0  296.285904   76.739331  0.0  233.9445  290.71  353.428000  484.19"
      ]
     },
     "execution_count": 76,
     "metadata": {},
     "output_type": "execute_result"
    }
   ],
   "source": [
    "#Statistiques descriptivesdu jeu de données \n",
    "df_dmarnane.describe().transpose()"
   ]
  },
  {
   "cell_type": "code",
   "execution_count": 77,
   "metadata": {},
   "outputs": [
    {
     "data": {
      "text/plain": [
       "OUVRAGE    0\n",
       "V1         0\n",
       "V2         0\n",
       "V3         0\n",
       "I1         0\n",
       "I2         0\n",
       "I3         0\n",
       "P          0\n",
       "dtype: int64"
      ]
     },
     "execution_count": 77,
     "metadata": {},
     "output_type": "execute_result"
    }
   ],
   "source": [
    "df_dmarnane.isnull().sum()"
   ]
  },
  {
   "cell_type": "code",
   "execution_count": 78,
   "metadata": {},
   "outputs": [
    {
     "data": {
      "text/plain": [
       "9471"
      ]
     },
     "execution_count": 78,
     "metadata": {},
     "output_type": "execute_result"
    }
   ],
   "source": [
    "len(df_dmarnane)"
   ]
  },
  {
   "cell_type": "code",
   "execution_count": 79,
   "metadata": {},
   "outputs": [],
   "source": [
    "#Resample: aggrégation of data: jours en mois, mois en année\n",
    "#data_minam7=df_minam7.resample('H').sum()\n",
    "data_dmarnane=df_dmarnane.copy()"
   ]
  },
  {
   "cell_type": "code",
   "execution_count": 80,
   "metadata": {},
   "outputs": [
    {
     "data": {
      "text/plain": [
       "9471"
      ]
     },
     "execution_count": 80,
     "metadata": {},
     "output_type": "execute_result"
    }
   ],
   "source": [
    "len(data_dmarnane)"
   ]
  },
  {
   "cell_type": "code",
   "execution_count": 81,
   "metadata": {},
   "outputs": [
    {
     "data": {
      "text/plain": [
       "Text(0.5, 1.0, 'Evolution des paramètres électriques de Darou Marnane')"
      ]
     },
     "execution_count": 81,
     "metadata": {},
     "output_type": "execute_result"
    },
    {
     "data": {
      "image/png": "[encoded data removed]",
      "text/plain": [
       "<Figure size 1440x720 with 1 Axes>"
      ]
     },
     "metadata": {},
     "output_type": "display_data"
    }
   ],
   "source": [
    "#Analyse variables quantitatives continues: \n",
    "#Affichage des données\n",
    "plt.figure(figsize=(12,6))\n",
    "plt.plot(data_dmarnane.I2, label='Courant phase1')\n",
    "plt.plot(data_dmarnane.V1, label='Tension phase1')\n",
    "plt.plot(data_dmarnane.V2, label='Tension phase2')\n",
    "plt.plot(data_dmarnane.V3, label='Tension phase3')\n",
    "plt.plot(data_dmarnane['P'], label='Puissance active')\n",
    "plt.legend()\n",
    "plt.xlabel('Date')\n",
    "plt.ylabel('Paramètres')\n",
    "plt.title('Evolution des paramètres électriques de Darou Marnane')"
   ]
  },
  {
   "cell_type": "code",
   "execution_count": 82,
   "metadata": {},
   "outputs": [],
   "source": [
    "#Selection de variables: Features Engeneering\n",
    "Var='V1'  #'V2','V3','I1','I2','I3','P']\n",
    "poste='PALENE'\n",
    "df_params=df[df.OUVRAGE==poste][[Var]]\n",
    "#df_params=df_params.resample('H').sum()\n"
   ]
  },
  {
   "cell_type": "code",
   "execution_count": 83,
   "metadata": {},
   "outputs": [
    {
     "data": {
      "text/html": [
       "<div>\n",
       "<style scoped>\n",
       "    .dataframe tbody tr th:only-of-type {\n",
       "        vertical-align: middle;\n",
       "    }\n",
       "\n",
       "    .dataframe tbody tr th {\n",
       "        vertical-align: top;\n",
       "    }\n",
       "\n",
       "    .dataframe thead th {\n",
       "        text-align: right;\n",
       "    }\n",
       "</style>\n",
       "<table border=\"1\" class=\"dataframe\">\n",
       "  <thead>\n",
       "    <tr style=\"text-align: right;\">\n",
       "      <th></th>\n",
       "      <th>V1</th>\n",
       "    </tr>\n",
       "    <tr>\n",
       "      <th>Dates</th>\n",
       "      <th></th>\n",
       "    </tr>\n",
       "  </thead>\n",
       "  <tbody>\n",
       "    <tr>\n",
       "      <th>2021-09-03 00:00:00</th>\n",
       "      <td>240.473232</td>\n",
       "    </tr>\n",
       "    <tr>\n",
       "      <th>2021-09-03 00:01:00</th>\n",
       "      <td>240.473232</td>\n",
       "    </tr>\n",
       "    <tr>\n",
       "      <th>2021-09-03 00:02:00</th>\n",
       "      <td>240.473232</td>\n",
       "    </tr>\n",
       "    <tr>\n",
       "      <th>2021-09-03 00:03:00</th>\n",
       "      <td>240.473232</td>\n",
       "    </tr>\n",
       "    <tr>\n",
       "      <th>2021-09-03 00:04:00</th>\n",
       "      <td>240.473232</td>\n",
       "    </tr>\n",
       "    <tr>\n",
       "      <th>...</th>\n",
       "      <td>...</td>\n",
       "    </tr>\n",
       "    <tr>\n",
       "      <th>2021-09-28 22:50:00</th>\n",
       "      <td>255.900000</td>\n",
       "    </tr>\n",
       "    <tr>\n",
       "      <th>2021-09-28 23:00:00</th>\n",
       "      <td>256.000000</td>\n",
       "    </tr>\n",
       "    <tr>\n",
       "      <th>2021-09-28 23:10:00</th>\n",
       "      <td>256.100000</td>\n",
       "    </tr>\n",
       "    <tr>\n",
       "      <th>2021-09-28 23:20:00</th>\n",
       "      <td>255.500000</td>\n",
       "    </tr>\n",
       "    <tr>\n",
       "      <th>2021-09-28 23:30:00</th>\n",
       "      <td>255.200000</td>\n",
       "    </tr>\n",
       "  </tbody>\n",
       "</table>\n",
       "<p>5410 rows × 1 columns</p>\n",
       "</div>"
      ],
      "text/plain": [
       "                             V1\n",
       "Dates                          \n",
       "2021-09-03 00:00:00  240.473232\n",
       "2021-09-03 00:01:00  240.473232\n",
       "2021-09-03 00:02:00  240.473232\n",
       "2021-09-03 00:03:00  240.473232\n",
       "2021-09-03 00:04:00  240.473232\n",
       "...                         ...\n",
       "2021-09-28 22:50:00  255.900000\n",
       "2021-09-28 23:00:00  256.000000\n",
       "2021-09-28 23:10:00  256.100000\n",
       "2021-09-28 23:20:00  255.500000\n",
       "2021-09-28 23:30:00  255.200000\n",
       "\n",
       "[5410 rows x 1 columns]"
      ]
     },
     "execution_count": 83,
     "metadata": {},
     "output_type": "execute_result"
    }
   ],
   "source": [
    "df_params"
   ]
  },
  {
   "cell_type": "code",
   "execution_count": 84,
   "metadata": {},
   "outputs": [
    {
     "data": {
      "text/plain": [
       "<matplotlib.legend.Legend at 0x1868605fd00>"
      ]
     },
     "execution_count": 84,
     "metadata": {},
     "output_type": "execute_result"
    },
    {
     "data": {
      "image/png": "[encoded data removed]",
      "text/plain": [
       "<Figure size 1440x720 with 1 Axes>"
      ]
     },
     "metadata": {},
     "output_type": "display_data"
    }
   ],
   "source": [
    "plt.figure(figsize=(12,6))\n",
    "#plt.plot(df_params['P'], label=Var)\n",
    "plt.plot(df_params[Var], label=Var)\n",
    "#plt.plot(df_params[Var], label=Var)\n",
    "plt.title(poste)\n",
    "plt.legend()"
   ]
  },
  {
   "cell_type": "code",
   "execution_count": 85,
   "metadata": {},
   "outputs": [
    {
     "data": {
      "image/png": "[encoded data removed]",
      "text/plain": [
       "<Figure size 1200x480 with 1 Axes>"
      ]
     },
     "metadata": {},
     "output_type": "display_data"
    }
   ],
   "source": [
    "#Boite à moustache\n",
    "df_params[Var].plot(kind='box', figsize=(10,4), label=Var)\n",
    "plt.show()"
   ]
  },
  {
   "cell_type": "code",
   "execution_count": 86,
   "metadata": {},
   "outputs": [
    {
     "data": {
      "image/png": "[encoded data removed]",
      "text/plain": [
       "<Figure size 1200x480 with 1 Axes>"
      ]
     },
     "metadata": {},
     "output_type": "display_data"
    }
   ],
   "source": [
    "#Histogramme\n",
    "df_params[Var].plot(kind='hist', figsize=(10,4), label=Var)\n",
    "plt.show()"
   ]
  },
  {
   "cell_type": "code",
   "execution_count": 87,
   "metadata": {},
   "outputs": [
    {
     "data": {
      "text/html": [
       "<div>\n",
       "<style scoped>\n",
       "    .dataframe tbody tr th:only-of-type {\n",
       "        vertical-align: middle;\n",
       "    }\n",
       "\n",
       "    .dataframe tbody tr th {\n",
       "        vertical-align: top;\n",
       "    }\n",
       "\n",
       "    .dataframe thead th {\n",
       "        text-align: right;\n",
       "    }\n",
       "</style>\n",
       "<table border=\"1\" class=\"dataframe\">\n",
       "  <thead>\n",
       "    <tr style=\"text-align: right;\">\n",
       "      <th></th>\n",
       "      <th>V1</th>\n",
       "    </tr>\n",
       "    <tr>\n",
       "      <th>Dates</th>\n",
       "      <th></th>\n",
       "    </tr>\n",
       "  </thead>\n",
       "  <tbody>\n",
       "    <tr>\n",
       "      <th>2021-09-03 00:00:00</th>\n",
       "      <td>240.473232</td>\n",
       "    </tr>\n",
       "    <tr>\n",
       "      <th>2021-09-03 00:01:00</th>\n",
       "      <td>240.473232</td>\n",
       "    </tr>\n",
       "    <tr>\n",
       "      <th>2021-09-03 00:02:00</th>\n",
       "      <td>240.473232</td>\n",
       "    </tr>\n",
       "    <tr>\n",
       "      <th>2021-09-03 00:03:00</th>\n",
       "      <td>240.473232</td>\n",
       "    </tr>\n",
       "    <tr>\n",
       "      <th>2021-09-03 00:04:00</th>\n",
       "      <td>240.473232</td>\n",
       "    </tr>\n",
       "    <tr>\n",
       "      <th>...</th>\n",
       "      <td>...</td>\n",
       "    </tr>\n",
       "    <tr>\n",
       "      <th>2021-09-28 22:50:00</th>\n",
       "      <td>255.900000</td>\n",
       "    </tr>\n",
       "    <tr>\n",
       "      <th>2021-09-28 23:00:00</th>\n",
       "      <td>256.000000</td>\n",
       "    </tr>\n",
       "    <tr>\n",
       "      <th>2021-09-28 23:10:00</th>\n",
       "      <td>256.100000</td>\n",
       "    </tr>\n",
       "    <tr>\n",
       "      <th>2021-09-28 23:20:00</th>\n",
       "      <td>255.500000</td>\n",
       "    </tr>\n",
       "    <tr>\n",
       "      <th>2021-09-28 23:30:00</th>\n",
       "      <td>255.200000</td>\n",
       "    </tr>\n",
       "  </tbody>\n",
       "</table>\n",
       "<p>5410 rows × 1 columns</p>\n",
       "</div>"
      ],
      "text/plain": [
       "                             V1\n",
       "Dates                          \n",
       "2021-09-03 00:00:00  240.473232\n",
       "2021-09-03 00:01:00  240.473232\n",
       "2021-09-03 00:02:00  240.473232\n",
       "2021-09-03 00:03:00  240.473232\n",
       "2021-09-03 00:04:00  240.473232\n",
       "...                         ...\n",
       "2021-09-28 22:50:00  255.900000\n",
       "2021-09-28 23:00:00  256.000000\n",
       "2021-09-28 23:10:00  256.100000\n",
       "2021-09-28 23:20:00  255.500000\n",
       "2021-09-28 23:30:00  255.200000\n",
       "\n",
       "[5410 rows x 1 columns]"
      ]
     },
     "execution_count": 87,
     "metadata": {},
     "output_type": "execute_result"
    }
   ],
   "source": [
    "df_params"
   ]
  },
  {
   "cell_type": "code",
   "execution_count": 88,
   "metadata": {},
   "outputs": [
    {
     "data": {
      "text/html": [
       "<div>\n",
       "<style scoped>\n",
       "    .dataframe tbody tr th:only-of-type {\n",
       "        vertical-align: middle;\n",
       "    }\n",
       "\n",
       "    .dataframe tbody tr th {\n",
       "        vertical-align: top;\n",
       "    }\n",
       "\n",
       "    .dataframe thead th {\n",
       "        text-align: right;\n",
       "    }\n",
       "</style>\n",
       "<table border=\"1\" class=\"dataframe\">\n",
       "  <thead>\n",
       "    <tr style=\"text-align: right;\">\n",
       "      <th></th>\n",
       "      <th>V1</th>\n",
       "    </tr>\n",
       "    <tr>\n",
       "      <th>Dates</th>\n",
       "      <th></th>\n",
       "    </tr>\n",
       "  </thead>\n",
       "  <tbody>\n",
       "    <tr>\n",
       "      <th>2021-09-03 00:00:00</th>\n",
       "      <td>240.473232</td>\n",
       "    </tr>\n",
       "    <tr>\n",
       "      <th>2021-09-03 00:01:00</th>\n",
       "      <td>240.473232</td>\n",
       "    </tr>\n",
       "    <tr>\n",
       "      <th>2021-09-03 00:02:00</th>\n",
       "      <td>240.473232</td>\n",
       "    </tr>\n",
       "    <tr>\n",
       "      <th>2021-09-03 00:03:00</th>\n",
       "      <td>240.473232</td>\n",
       "    </tr>\n",
       "    <tr>\n",
       "      <th>2021-09-03 00:04:00</th>\n",
       "      <td>240.473232</td>\n",
       "    </tr>\n",
       "    <tr>\n",
       "      <th>...</th>\n",
       "      <td>...</td>\n",
       "    </tr>\n",
       "    <tr>\n",
       "      <th>2021-09-28 22:50:00</th>\n",
       "      <td>255.900000</td>\n",
       "    </tr>\n",
       "    <tr>\n",
       "      <th>2021-09-28 23:00:00</th>\n",
       "      <td>256.000000</td>\n",
       "    </tr>\n",
       "    <tr>\n",
       "      <th>2021-09-28 23:10:00</th>\n",
       "      <td>256.100000</td>\n",
       "    </tr>\n",
       "    <tr>\n",
       "      <th>2021-09-28 23:20:00</th>\n",
       "      <td>255.500000</td>\n",
       "    </tr>\n",
       "    <tr>\n",
       "      <th>2021-09-28 23:30:00</th>\n",
       "      <td>255.200000</td>\n",
       "    </tr>\n",
       "  </tbody>\n",
       "</table>\n",
       "<p>5410 rows × 1 columns</p>\n",
       "</div>"
      ],
      "text/plain": [
       "                             V1\n",
       "Dates                          \n",
       "2021-09-03 00:00:00  240.473232\n",
       "2021-09-03 00:01:00  240.473232\n",
       "2021-09-03 00:02:00  240.473232\n",
       "2021-09-03 00:03:00  240.473232\n",
       "2021-09-03 00:04:00  240.473232\n",
       "...                         ...\n",
       "2021-09-28 22:50:00  255.900000\n",
       "2021-09-28 23:00:00  256.000000\n",
       "2021-09-28 23:10:00  256.100000\n",
       "2021-09-28 23:20:00  255.500000\n",
       "2021-09-28 23:30:00  255.200000\n",
       "\n",
       "[5410 rows x 1 columns]"
      ]
     },
     "execution_count": 88,
     "metadata": {},
     "output_type": "execute_result"
    }
   ],
   "source": [
    "df_params.sort_values(by=['Dates'], inplace=True)\n",
    "df_params"
   ]
  },
  {
   "cell_type": "code",
   "execution_count": 89,
   "metadata": {},
   "outputs": [],
   "source": [
    "#df_params.to_excel(r\"C:\\Users\\dell\\Desktop\\Projet_Analyse_Magal2021\\test.xlsx\")"
   ]
  },
  {
   "cell_type": "markdown",
   "metadata": {},
   "source": [
    "# Data Preprocessing"
   ]
  },
  {
   "cell_type": "code",
   "execution_count": 90,
   "metadata": {},
   "outputs": [
    {
     "name": "stdout",
     "output_type": "stream",
     "text": [
      "(3246, 1)\n",
      "(2164, 1)\n"
     ]
    }
   ],
   "source": [
    "#95% des données pour l'entrainement\n",
    "train_size = int(len(df_params) * 0.60)\n",
    "test_size = len(df_params) - train_size\n",
    "train, test = df_params.iloc[0:train_size], df_params.iloc[train_size:len(df_params)]\n",
    "print(train.shape)\n",
    "print(test.shape)"
   ]
  },
  {
   "cell_type": "code",
   "execution_count": 91,
   "metadata": {},
   "outputs": [
    {
     "data": {
      "text/plain": [
       "2164"
      ]
     },
     "execution_count": 91,
     "metadata": {},
     "output_type": "execute_result"
    }
   ],
   "source": [
    "len(test)"
   ]
  },
  {
   "cell_type": "code",
   "execution_count": 92,
   "metadata": {},
   "outputs": [],
   "source": [
    "#Standardisation des données\n",
    "from sklearn.preprocessing import StandardScaler, RobustScaler\n",
    "#scaler=RobustScaler(quantile_range=(25, 75))\n",
    "scaler=StandardScaler()\n",
    "scaler=scaler.fit(train[[Var]])\n",
    "train[Var]=scaler.transform(train[[Var]])\n",
    "test[Var]=scaler.transform(test[[Var]])"
   ]
  },
  {
   "cell_type": "code",
   "execution_count": 93,
   "metadata": {},
   "outputs": [
    {
     "data": {
      "text/plain": [
       "(3246, 1)"
      ]
     },
     "execution_count": 93,
     "metadata": {},
     "output_type": "execute_result"
    }
   ],
   "source": [
    "train.shape"
   ]
  },
  {
   "cell_type": "code",
   "execution_count": 94,
   "metadata": {},
   "outputs": [],
   "source": [
    "#décomposition en sous-séquence\n",
    "def to_sequence(X, y, time_steps=1):\n",
    "    a, b = [], []\n",
    "    for i in range(len(X)-time_steps):\n",
    "        v=X.iloc[i:(i + time_steps)].values\n",
    "        a.append(v)\n",
    "        b.append(y.iloc[i + time_steps])\n",
    "    return np.array(a), np.array(b)\n"
   ]
  },
  {
   "cell_type": "code",
   "execution_count": 95,
   "metadata": {},
   "outputs": [
    {
     "name": "stdout",
     "output_type": "stream",
     "text": [
      "X_train shape (3241, 5, 1)\n",
      "X_test shape (2159, 5, 1)\n"
     ]
    }
   ],
   "source": [
    "#Séquence avec 30 jours de données historiques\n",
    "n_step=5\n",
    "#remodeler en 3D[n_sample, n_steps, n_features]\n",
    "X_train, y_train = to_sequence(train[[Var]], train[Var],n_step)\n",
    "X_test, y_test = to_sequence(test[[Var]], test[Var],n_step)\n",
    "print('X_train shape', X_train.shape)\n",
    "print('X_test shape', X_test.shape)"
   ]
  },
  {
   "cell_type": "markdown",
   "metadata": {},
   "source": [
    "# Modélisation: LSTM et Auto-encoder"
   ]
  },
  {
   "cell_type": "code",
   "execution_count": 96,
   "metadata": {},
   "outputs": [],
   "source": [
    "#Création du model\n",
    "from tensorflow.keras.models import Sequential\n",
    "from tensorflow.keras.layers import Dense, SimpleRNN, LSTM, GRU, Dropout, RepeatVector, TimeDistributed\n"
   ]
  },
  {
   "cell_type": "code",
   "execution_count": 97,
   "metadata": {},
   "outputs": [],
   "source": [
    "#Création du model\n",
    "model=Sequential()"
   ]
  },
  {
   "cell_type": "code",
   "execution_count": 98,
   "metadata": {},
   "outputs": [
    {
     "name": "stdout",
     "output_type": "stream",
     "text": [
      "Model: \"sequential_1\"\n",
      "_________________________________________________________________\n",
      "Layer (type)                 Output Shape              Param #   \n",
      "=================================================================\n",
      "lstm_2 (LSTM)                (None, 64)                16896     \n",
      "_________________________________________________________________\n",
      "dropout_2 (Dropout)          (None, 64)                0         \n",
      "_________________________________________________________________\n",
      "repeat_vector_1 (RepeatVecto (None, 5, 64)             0         \n",
      "_________________________________________________________________\n",
      "lstm_3 (LSTM)                (None, 5, 64)             33024     \n",
      "_________________________________________________________________\n",
      "dropout_3 (Dropout)          (None, 5, 64)             0         \n",
      "_________________________________________________________________\n",
      "time_distributed_1 (TimeDist (None, 5, 1)              65        \n",
      "=================================================================\n",
      "Total params: 49,985\n",
      "Trainable params: 49,985\n",
      "Non-trainable params: 0\n",
      "_________________________________________________________________\n"
     ]
    }
   ],
   "source": [
    "model.add(LSTM(64, input_shape=(X_train.shape[1], X_train.shape[2])))\n",
    "model.add(Dropout(rate=0.2))\n",
    "model.add(RepeatVector(X_train.shape[1]))\n",
    "model.add(LSTM(64, return_sequences=True))\n",
    "model.add(Dropout(rate=0.2))\n",
    "model.add(TimeDistributed(Dense(X_train.shape[2])))\n",
    "model.compile(optimizer='adam', loss='mse')\n",
    "model.summary()"
   ]
  },
  {
   "cell_type": "code",
   "execution_count": 99,
   "metadata": {},
   "outputs": [],
   "source": [
    "from tensorflow.keras.callbacks import EarlyStopping\n",
    "early_stop = EarlyStopping(monitor='val_loss', patience=2)  #patience= nombre d'epoch avant d'arreter"
   ]
  },
  {
   "cell_type": "code",
   "execution_count": 100,
   "metadata": {},
   "outputs": [
    {
     "name": "stdout",
     "output_type": "stream",
     "text": [
      "Epoch 1/50\n",
      "92/92 [==============================] - 10s 33ms/step - loss: 0.1124 - val_loss: 0.3088\n",
      "Epoch 2/50\n",
      "92/92 [==============================] - 1s 13ms/step - loss: 0.0165 - val_loss: 0.0948\n",
      "Epoch 3/50\n",
      "92/92 [==============================] - 1s 13ms/step - loss: 0.0086 - val_loss: 0.0650\n",
      "Epoch 4/50\n",
      "92/92 [==============================] - 1s 13ms/step - loss: 0.0090 - val_loss: 0.0571\n",
      "Epoch 5/50\n",
      "92/92 [==============================] - 1s 13ms/step - loss: 0.0080 - val_loss: 0.0629\n",
      "Epoch 6/50\n",
      "92/92 [==============================] - 1s 12ms/step - loss: 0.0088 - val_loss: 0.0589\n"
     ]
    }
   ],
   "source": [
    "history = model.fit(X_train, y_train,\n",
    "                   epochs=50,\n",
    "                   batch_size=32,\n",
    "                   validation_split=0.1,\n",
    "                   shuffle=False, callbacks=[early_stop])"
   ]
  },
  {
   "cell_type": "code",
   "execution_count": 101,
   "metadata": {},
   "outputs": [],
   "source": [
    "X_train_pred=model.predict(X_train)\n",
    "train_mae_loss=np.mean(np.abs(X_train_pred - X_train), axis=1)\n"
   ]
  },
  {
   "cell_type": "code",
   "execution_count": 102,
   "metadata": {},
   "outputs": [],
   "source": [
    "X_test_pred = model.predict(X_test, verbose=0)\n",
    "test_mae_loss = np.mean(np.abs(X_test_pred-X_test), axis=1)\n"
   ]
  },
  {
   "cell_type": "code",
   "execution_count": 103,
   "metadata": {},
   "outputs": [
    {
     "data": {
      "text/plain": [
       "array([[0.00962143],\n",
       "       [0.00962143],\n",
       "       [0.00962143],\n",
       "       ...,\n",
       "       [0.14447046],\n",
       "       [0.17658458],\n",
       "       [0.1863368 ]])"
      ]
     },
     "execution_count": 103,
     "metadata": {},
     "output_type": "execute_result"
    }
   ],
   "source": [
    "train_mae_loss"
   ]
  },
  {
   "cell_type": "code",
   "execution_count": 104,
   "metadata": {},
   "outputs": [],
   "source": [
    "test_score_df=pd.DataFrame(index=test[n_step:].index)\n",
    "test_score_df['loss']=test_mae_loss\n"
   ]
  },
  {
   "cell_type": "code",
   "execution_count": 105,
   "metadata": {},
   "outputs": [
    {
     "data": {
      "text/plain": [
       "4.135687211290939"
      ]
     },
     "execution_count": 105,
     "metadata": {},
     "output_type": "execute_result"
    }
   ],
   "source": [
    "#calculer le seuil\n",
    "std_x_train=np.std(test_score_df.loss)*3\n",
    "mean_x_train=np.mean(test_score_df.loss)\n",
    "THRESHOLD = std_x_train\n",
    "THRESHOLD"
   ]
  },
  {
   "cell_type": "code",
   "execution_count": 107,
   "metadata": {},
   "outputs": [],
   "source": [
    "test_score_df['threshold']=THRESHOLD\n",
    "test_score_df['anomaly']=test_score_df.loss>test_score_df.threshold\n",
    "test_score_df[Var]=test[n_step:][Var]"
   ]
  },
  {
   "cell_type": "code",
   "execution_count": 108,
   "metadata": {},
   "outputs": [],
   "source": [
    "anomalies = test_score_df[test_score_df.anomaly==True]"
   ]
  },
  {
   "cell_type": "code",
   "execution_count": 109,
   "metadata": {},
   "outputs": [
    {
     "data": {
      "image/png": "[encoded data removed]",
      "text/plain": [
       "<Figure size 1200x600 with 1 Axes>"
      ]
     },
     "metadata": {},
     "output_type": "display_data"
    }
   ],
   "source": [
    "# history for loss\n",
    "plt.figure(figsize = (10,5))\n",
    "plt.plot(history.history['loss'])\n",
    "plt.plot(history.history['val_loss'])\n",
    "plt.title('model loss')\n",
    "plt.ylabel('loss')\n",
    "plt.xlabel('epoch')\n",
    "plt.legend(['train', 'test'], loc='upper left')\n",
    "plt.show()"
   ]
  },
  {
   "cell_type": "code",
   "execution_count": 110,
   "metadata": {},
   "outputs": [
    {
     "data": {
      "image/png": "[encoded data removed]",
      "text/plain": [
       "<Figure size 1200x600 with 1 Axes>"
      ]
     },
     "metadata": {},
     "output_type": "display_data"
    }
   ],
   "source": [
    "#MAE sur les données d'entrainement\n",
    "plt.figure(figsize=(10,5))\n",
    "sns.distplot(train_mae_loss, bins=50, kde=True)\n",
    "plt.title('Distribution of training loss')\n",
    "plt.show()"
   ]
  },
  {
   "cell_type": "code",
   "execution_count": 111,
   "metadata": {},
   "outputs": [
    {
     "data": {
      "image/png": "[encoded data removed]",
      "text/plain": [
       "<Figure size 720x360 with 1 Axes>"
      ]
     },
     "metadata": {},
     "output_type": "display_data"
    }
   ],
   "source": [
    "plt.plot(test_score_df.index, test_score_df.loss, label='loss')\n",
    "plt.plot(test_score_df.index, test_score_df.threshold, label='threshold', color='r')\n",
    "plt.xticks(rotation=25)\n",
    "plt.legend()\n",
    "plt.show()"
   ]
  },
  {
   "cell_type": "code",
   "execution_count": 112,
   "metadata": {},
   "outputs": [
    {
     "data": {
      "text/html": [
       "<div>\n",
       "<style scoped>\n",
       "    .dataframe tbody tr th:only-of-type {\n",
       "        vertical-align: middle;\n",
       "    }\n",
       "\n",
       "    .dataframe tbody tr th {\n",
       "        vertical-align: top;\n",
       "    }\n",
       "\n",
       "    .dataframe thead th {\n",
       "        text-align: right;\n",
       "    }\n",
       "</style>\n",
       "<table border=\"1\" class=\"dataframe\">\n",
       "  <thead>\n",
       "    <tr style=\"text-align: right;\">\n",
       "      <th></th>\n",
       "      <th>loss</th>\n",
       "      <th>threshold</th>\n",
       "      <th>anomaly</th>\n",
       "      <th>V1</th>\n",
       "    </tr>\n",
       "    <tr>\n",
       "      <th>Dates</th>\n",
       "      <th></th>\n",
       "      <th></th>\n",
       "      <th></th>\n",
       "      <th></th>\n",
       "    </tr>\n",
       "  </thead>\n",
       "  <tbody>\n",
       "    <tr>\n",
       "      <th>2021-09-14 16:22:43</th>\n",
       "      <td>7.486895</td>\n",
       "      <td>4.135687</td>\n",
       "      <td>True</td>\n",
       "      <td>-43.773698</td>\n",
       "    </tr>\n",
       "    <tr>\n",
       "      <th>2021-09-14 16:23:05</th>\n",
       "      <td>15.166164</td>\n",
       "      <td>4.135687</td>\n",
       "      <td>True</td>\n",
       "      <td>1.098347</td>\n",
       "    </tr>\n",
       "    <tr>\n",
       "      <th>2021-09-14 16:23:42</th>\n",
       "      <td>15.025392</td>\n",
       "      <td>4.135687</td>\n",
       "      <td>True</td>\n",
       "      <td>1.134259</td>\n",
       "    </tr>\n",
       "    <tr>\n",
       "      <th>2021-09-14 16:24:45</th>\n",
       "      <td>14.995968</td>\n",
       "      <td>4.135687</td>\n",
       "      <td>True</td>\n",
       "      <td>-33.089877</td>\n",
       "    </tr>\n",
       "    <tr>\n",
       "      <th>2021-09-14 16:26:56</th>\n",
       "      <td>21.184496</td>\n",
       "      <td>4.135687</td>\n",
       "      <td>True</td>\n",
       "      <td>-38.746018</td>\n",
       "    </tr>\n",
       "    <tr>\n",
       "      <th>2021-09-14 16:33:46</th>\n",
       "      <td>23.205940</td>\n",
       "      <td>4.135687</td>\n",
       "      <td>True</td>\n",
       "      <td>1.529291</td>\n",
       "    </tr>\n",
       "    <tr>\n",
       "      <th>2021-09-14 16:35:26</th>\n",
       "      <td>15.403901</td>\n",
       "      <td>4.135687</td>\n",
       "      <td>True</td>\n",
       "      <td>1.457467</td>\n",
       "    </tr>\n",
       "    <tr>\n",
       "      <th>2021-09-14 16:40:00</th>\n",
       "      <td>15.492422</td>\n",
       "      <td>4.135687</td>\n",
       "      <td>True</td>\n",
       "      <td>1.619071</td>\n",
       "    </tr>\n",
       "    <tr>\n",
       "      <th>2021-09-14 16:50:00</th>\n",
       "      <td>15.669177</td>\n",
       "      <td>4.135687</td>\n",
       "      <td>True</td>\n",
       "      <td>1.798631</td>\n",
       "    </tr>\n",
       "    <tr>\n",
       "      <th>2021-09-14 17:00:00</th>\n",
       "      <td>9.381454</td>\n",
       "      <td>4.135687</td>\n",
       "      <td>True</td>\n",
       "      <td>1.654983</td>\n",
       "    </tr>\n",
       "    <tr>\n",
       "      <th>2021-09-14 22:43:50</th>\n",
       "      <td>6.014094</td>\n",
       "      <td>4.135687</td>\n",
       "      <td>True</td>\n",
       "      <td>-24.470997</td>\n",
       "    </tr>\n",
       "    <tr>\n",
       "      <th>2021-09-14 22:50:00</th>\n",
       "      <td>10.378047</td>\n",
       "      <td>4.135687</td>\n",
       "      <td>True</td>\n",
       "      <td>1.726807</td>\n",
       "    </tr>\n",
       "    <tr>\n",
       "      <th>2021-09-14 23:00:00</th>\n",
       "      <td>10.519691</td>\n",
       "      <td>4.135687</td>\n",
       "      <td>True</td>\n",
       "      <td>1.654983</td>\n",
       "    </tr>\n",
       "    <tr>\n",
       "      <th>2021-09-14 23:10:00</th>\n",
       "      <td>10.633757</td>\n",
       "      <td>4.135687</td>\n",
       "      <td>True</td>\n",
       "      <td>1.637027</td>\n",
       "    </tr>\n",
       "    <tr>\n",
       "      <th>2021-09-14 23:20:00</th>\n",
       "      <td>10.768577</td>\n",
       "      <td>4.135687</td>\n",
       "      <td>True</td>\n",
       "      <td>1.619071</td>\n",
       "    </tr>\n",
       "    <tr>\n",
       "      <th>2021-09-14 23:20:55</th>\n",
       "      <td>6.481971</td>\n",
       "      <td>4.135687</td>\n",
       "      <td>True</td>\n",
       "      <td>1.690895</td>\n",
       "    </tr>\n",
       "    <tr>\n",
       "      <th>2021-09-18 11:30:00</th>\n",
       "      <td>4.267164</td>\n",
       "      <td>4.135687</td>\n",
       "      <td>True</td>\n",
       "      <td>1.547247</td>\n",
       "    </tr>\n",
       "    <tr>\n",
       "      <th>2021-09-18 11:40:00</th>\n",
       "      <td>4.157733</td>\n",
       "      <td>4.135687</td>\n",
       "      <td>True</td>\n",
       "      <td>2.014103</td>\n",
       "    </tr>\n",
       "    <tr>\n",
       "      <th>2021-09-23 09:40:00</th>\n",
       "      <td>10.639110</td>\n",
       "      <td>4.135687</td>\n",
       "      <td>True</td>\n",
       "      <td>1.942279</td>\n",
       "    </tr>\n",
       "    <tr>\n",
       "      <th>2021-09-23 09:44:23</th>\n",
       "      <td>10.645120</td>\n",
       "      <td>4.135687</td>\n",
       "      <td>True</td>\n",
       "      <td>1.493379</td>\n",
       "    </tr>\n",
       "    <tr>\n",
       "      <th>2021-09-23 09:50:00</th>\n",
       "      <td>10.573785</td>\n",
       "      <td>4.135687</td>\n",
       "      <td>True</td>\n",
       "      <td>1.780675</td>\n",
       "    </tr>\n",
       "    <tr>\n",
       "      <th>2021-09-23 10:00:00</th>\n",
       "      <td>10.491983</td>\n",
       "      <td>4.135687</td>\n",
       "      <td>True</td>\n",
       "      <td>1.708851</td>\n",
       "    </tr>\n",
       "    <tr>\n",
       "      <th>2021-09-23 10:10:00</th>\n",
       "      <td>10.417469</td>\n",
       "      <td>4.135687</td>\n",
       "      <td>True</td>\n",
       "      <td>1.816587</td>\n",
       "    </tr>\n",
       "    <tr>\n",
       "      <th>2021-09-26 08:10:00</th>\n",
       "      <td>10.847242</td>\n",
       "      <td>4.135687</td>\n",
       "      <td>True</td>\n",
       "      <td>2.032059</td>\n",
       "    </tr>\n",
       "    <tr>\n",
       "      <th>2021-09-26 08:20:00</th>\n",
       "      <td>10.789389</td>\n",
       "      <td>4.135687</td>\n",
       "      <td>True</td>\n",
       "      <td>1.852499</td>\n",
       "    </tr>\n",
       "    <tr>\n",
       "      <th>2021-09-26 08:30:00</th>\n",
       "      <td>10.728274</td>\n",
       "      <td>4.135687</td>\n",
       "      <td>True</td>\n",
       "      <td>2.355267</td>\n",
       "    </tr>\n",
       "    <tr>\n",
       "      <th>2021-09-26 08:40:00</th>\n",
       "      <td>10.630756</td>\n",
       "      <td>4.135687</td>\n",
       "      <td>True</td>\n",
       "      <td>2.103883</td>\n",
       "    </tr>\n",
       "    <tr>\n",
       "      <th>2021-09-26 08:46:27</th>\n",
       "      <td>10.499346</td>\n",
       "      <td>4.135687</td>\n",
       "      <td>True</td>\n",
       "      <td>2.211619</td>\n",
       "    </tr>\n",
       "  </tbody>\n",
       "</table>\n",
       "</div>"
      ],
      "text/plain": [
       "                          loss  threshold  anomaly         V1\n",
       "Dates                                                        \n",
       "2021-09-14 16:22:43   7.486895   4.135687     True -43.773698\n",
       "2021-09-14 16:23:05  15.166164   4.135687     True   1.098347\n",
       "2021-09-14 16:23:42  15.025392   4.135687     True   1.134259\n",
       "2021-09-14 16:24:45  14.995968   4.135687     True -33.089877\n",
       "2021-09-14 16:26:56  21.184496   4.135687     True -38.746018\n",
       "2021-09-14 16:33:46  23.205940   4.135687     True   1.529291\n",
       "2021-09-14 16:35:26  15.403901   4.135687     True   1.457467\n",
       "2021-09-14 16:40:00  15.492422   4.135687     True   1.619071\n",
       "2021-09-14 16:50:00  15.669177   4.135687     True   1.798631\n",
       "2021-09-14 17:00:00   9.381454   4.135687     True   1.654983\n",
       "2021-09-14 22:43:50   6.014094   4.135687     True -24.470997\n",
       "2021-09-14 22:50:00  10.378047   4.135687     True   1.726807\n",
       "2021-09-14 23:00:00  10.519691   4.135687     True   1.654983\n",
       "2021-09-14 23:10:00  10.633757   4.135687     True   1.637027\n",
       "2021-09-14 23:20:00  10.768577   4.135687     True   1.619071\n",
       "2021-09-14 23:20:55   6.481971   4.135687     True   1.690895\n",
       "2021-09-18 11:30:00   4.267164   4.135687     True   1.547247\n",
       "2021-09-18 11:40:00   4.157733   4.135687     True   2.014103\n",
       "2021-09-23 09:40:00  10.639110   4.135687     True   1.942279\n",
       "2021-09-23 09:44:23  10.645120   4.135687     True   1.493379\n",
       "2021-09-23 09:50:00  10.573785   4.135687     True   1.780675\n",
       "2021-09-23 10:00:00  10.491983   4.135687     True   1.708851\n",
       "2021-09-23 10:10:00  10.417469   4.135687     True   1.816587\n",
       "2021-09-26 08:10:00  10.847242   4.135687     True   2.032059\n",
       "2021-09-26 08:20:00  10.789389   4.135687     True   1.852499\n",
       "2021-09-26 08:30:00  10.728274   4.135687     True   2.355267\n",
       "2021-09-26 08:40:00  10.630756   4.135687     True   2.103883\n",
       "2021-09-26 08:46:27  10.499346   4.135687     True   2.211619"
      ]
     },
     "execution_count": 112,
     "metadata": {},
     "output_type": "execute_result"
    }
   ],
   "source": [
    "anomalies "
   ]
  },
  {
   "cell_type": "code",
   "execution_count": 113,
   "metadata": {},
   "outputs": [
    {
     "data": {
      "text/plain": [
       "'loss         28\\nthreshold    28\\nanomaly      28\\nV1           28\\ndtype: int64'"
      ]
     },
     "execution_count": 113,
     "metadata": {},
     "output_type": "execute_result"
    }
   ],
   "source": [
    "#Compter le nombre d'anomalies\n",
    "anomalies_str=str(anomalies.count())\n",
    "anomalies_str"
   ]
  },
  {
   "cell_type": "code",
   "execution_count": 114,
   "metadata": {},
   "outputs": [
    {
     "data": {
      "text/plain": [
       "<matplotlib.legend.Legend at 0x1868859d4c0>"
      ]
     },
     "execution_count": 114,
     "metadata": {},
     "output_type": "execute_result"
    },
    {
     "data": {
      "image/png": "[encoded data removed]",
      "text/plain": [
       "<Figure size 1800x720 with 1 Axes>"
      ]
     },
     "metadata": {},
     "output_type": "display_data"
    }
   ],
   "source": [
    "plt.figure(figsize=(15,6))\n",
    "plt.plot(\n",
    "         test.index,\n",
    "         scaler.inverse_transform(test[Var]),\n",
    "          label=Var);\n",
    "sns.scatterplot(\n",
    "                anomalies.index,\n",
    "                scaler.inverse_transform(anomalies[Var]),\n",
    "                color=sns.color_palette()[3],\n",
    "                 s=52,\n",
    "                 label='Anomaly')\n",
    "plt.xticks(rotation=25)\n",
    "plt.legend()"
   ]
  },
  {
   "cell_type": "code",
   "execution_count": null,
   "metadata": {},
   "outputs": [],
   "source": []
  },
  {
   "cell_type": "code",
   "execution_count": null,
   "metadata": {},
   "outputs": [],
   "source": []
  }
 ],
 "metadata": {
  "kernelspec": {
   "display_name": "Python 3",
   "language": "python",
   "name": "python3"
  },
  "language_info": {
   "codemirror_mode": {
    "name": "ipython",
    "version": 3
   },
   "file_extension": ".py",
   "mimetype": "text/x-python",
   "name": "python",
   "nbconvert_exporter": "python",
   "pygments_lexer": "ipython3",
   "version": "3.8.5"
  }
 },
 "nbformat": 4,
 "nbformat_minor": 4
}
