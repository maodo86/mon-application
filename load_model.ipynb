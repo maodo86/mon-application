{
 "cells": [
  {
   "cell_type": "code",
   "execution_count": 1,
   "metadata": {},
   "outputs": [],
   "source": [
    "import numpy as np\n",
    "import pandas as pd\n",
    "\n",
    "#Creation de série\n",
    "labels = ['a', 'b', 'c']\n",
    "my_list = [10, 20, 30]\n",
    "arr = np.array([10,20, 30])\n",
    "d={'a':10,\n",
    "   'b':20,\n",
    "   'c':30}\n"
   ]
  },
  {
   "cell_type": "code",
   "execution_count": 2,
   "metadata": {},
   "outputs": [
    {
     "data": {
      "text/plain": [
       "a    10\n",
       "b    20\n",
       "c    30\n",
       "dtype: int64"
      ]
     },
     "execution_count": 2,
     "metadata": {},
     "output_type": "execute_result"
    }
   ],
   "source": [
    "Ser_1 =pd.Series(data=my_list, index=labels)\n",
    "Ser_1"
   ]
  },
  {
   "cell_type": "code",
   "execution_count": 3,
   "metadata": {},
   "outputs": [
    {
     "data": {
      "text/plain": [
       "a    10\n",
       "b    20\n",
       "c    30\n",
       "dtype: int32"
      ]
     },
     "execution_count": 3,
     "metadata": {},
     "output_type": "execute_result"
    }
   ],
   "source": [
    "Ser_2=pd.Series(arr, labels)\n",
    "Ser_2"
   ]
  },
  {
   "cell_type": "code",
   "execution_count": 4,
   "metadata": {},
   "outputs": [
    {
     "data": {
      "text/plain": [
       "a    10\n",
       "b    20\n",
       "c    30\n",
       "dtype: int64"
      ]
     },
     "execution_count": 4,
     "metadata": {},
     "output_type": "execute_result"
    }
   ],
   "source": [
    "Ser_3=pd.Series(d)\n",
    "Ser_3"
   ]
  },
  {
   "cell_type": "code",
   "execution_count": 5,
   "metadata": {},
   "outputs": [
    {
     "data": {
      "text/plain": [
       "10"
      ]
     },
     "execution_count": 5,
     "metadata": {},
     "output_type": "execute_result"
    }
   ],
   "source": [
    "Ser_3['a']"
   ]
  },
  {
   "cell_type": "code",
   "execution_count": 6,
   "metadata": {},
   "outputs": [],
   "source": [
    "columns=['W','X','Y','Z']\n",
    "index=['A','B','C','D','E']"
   ]
  },
  {
   "cell_type": "code",
   "execution_count": 7,
   "metadata": {},
   "outputs": [],
   "source": [
    "import random"
   ]
  },
  {
   "cell_type": "code",
   "execution_count": 8,
   "metadata": {},
   "outputs": [
    {
     "data": {
      "text/plain": [
       "array([[  2,  79,  -8, -86],\n",
       "       [  6, -29,  88, -80],\n",
       "       [  2,  21, -26, -13],\n",
       "       [ 16,  -1,   3,  51],\n",
       "       [ 30,  49, -48, -99]])"
      ]
     },
     "execution_count": 8,
     "metadata": {},
     "output_type": "execute_result"
    }
   ],
   "source": [
    "np.random.seed(42)\n",
    "data = np.random.randint(-100, 100,(5,4))\n",
    "data"
   ]
  },
  {
   "cell_type": "code",
   "execution_count": 9,
   "metadata": {},
   "outputs": [
    {
     "data": {
      "text/html": [
       "<div>\n",
       "<style scoped>\n",
       "    .dataframe tbody tr th:only-of-type {\n",
       "        vertical-align: middle;\n",
       "    }\n",
       "\n",
       "    .dataframe tbody tr th {\n",
       "        vertical-align: top;\n",
       "    }\n",
       "\n",
       "    .dataframe thead th {\n",
       "        text-align: right;\n",
       "    }\n",
       "</style>\n",
       "<table border=\"1\" class=\"dataframe\">\n",
       "  <thead>\n",
       "    <tr style=\"text-align: right;\">\n",
       "      <th></th>\n",
       "      <th>W</th>\n",
       "      <th>X</th>\n",
       "      <th>Y</th>\n",
       "      <th>Z</th>\n",
       "    </tr>\n",
       "  </thead>\n",
       "  <tbody>\n",
       "    <tr>\n",
       "      <th>A</th>\n",
       "      <td>2</td>\n",
       "      <td>79</td>\n",
       "      <td>-8</td>\n",
       "      <td>-86</td>\n",
       "    </tr>\n",
       "    <tr>\n",
       "      <th>B</th>\n",
       "      <td>6</td>\n",
       "      <td>-29</td>\n",
       "      <td>88</td>\n",
       "      <td>-80</td>\n",
       "    </tr>\n",
       "    <tr>\n",
       "      <th>C</th>\n",
       "      <td>2</td>\n",
       "      <td>21</td>\n",
       "      <td>-26</td>\n",
       "      <td>-13</td>\n",
       "    </tr>\n",
       "    <tr>\n",
       "      <th>D</th>\n",
       "      <td>16</td>\n",
       "      <td>-1</td>\n",
       "      <td>3</td>\n",
       "      <td>51</td>\n",
       "    </tr>\n",
       "    <tr>\n",
       "      <th>E</th>\n",
       "      <td>30</td>\n",
       "      <td>49</td>\n",
       "      <td>-48</td>\n",
       "      <td>-99</td>\n",
       "    </tr>\n",
       "  </tbody>\n",
       "</table>\n",
       "</div>"
      ],
      "text/plain": [
       "    W   X   Y   Z\n",
       "A   2  79  -8 -86\n",
       "B   6 -29  88 -80\n",
       "C   2  21 -26 -13\n",
       "D  16  -1   3  51\n",
       "E  30  49 -48 -99"
      ]
     },
     "execution_count": 9,
     "metadata": {},
     "output_type": "execute_result"
    }
   ],
   "source": [
    "df=pd.DataFrame(data=data, index=index, columns=columns)\n",
    "df"
   ]
  },
  {
   "cell_type": "code",
   "execution_count": 10,
   "metadata": {},
   "outputs": [
    {
     "data": {
      "text/plain": [
       "A     2\n",
       "B     6\n",
       "C     2\n",
       "D    16\n",
       "E    30\n",
       "Name: W, dtype: int32"
      ]
     },
     "execution_count": 10,
     "metadata": {},
     "output_type": "execute_result"
    }
   ],
   "source": [
    "df[\"W\"]"
   ]
  },
  {
   "cell_type": "code",
   "execution_count": 11,
   "metadata": {},
   "outputs": [
    {
     "data": {
      "text/html": [
       "<div>\n",
       "<style scoped>\n",
       "    .dataframe tbody tr th:only-of-type {\n",
       "        vertical-align: middle;\n",
       "    }\n",
       "\n",
       "    .dataframe tbody tr th {\n",
       "        vertical-align: top;\n",
       "    }\n",
       "\n",
       "    .dataframe thead th {\n",
       "        text-align: right;\n",
       "    }\n",
       "</style>\n",
       "<table border=\"1\" class=\"dataframe\">\n",
       "  <thead>\n",
       "    <tr style=\"text-align: right;\">\n",
       "      <th></th>\n",
       "      <th>W</th>\n",
       "      <th>Z</th>\n",
       "    </tr>\n",
       "  </thead>\n",
       "  <tbody>\n",
       "    <tr>\n",
       "      <th>A</th>\n",
       "      <td>2</td>\n",
       "      <td>-86</td>\n",
       "    </tr>\n",
       "    <tr>\n",
       "      <th>B</th>\n",
       "      <td>6</td>\n",
       "      <td>-80</td>\n",
       "    </tr>\n",
       "    <tr>\n",
       "      <th>C</th>\n",
       "      <td>2</td>\n",
       "      <td>-13</td>\n",
       "    </tr>\n",
       "    <tr>\n",
       "      <th>D</th>\n",
       "      <td>16</td>\n",
       "      <td>51</td>\n",
       "    </tr>\n",
       "    <tr>\n",
       "      <th>E</th>\n",
       "      <td>30</td>\n",
       "      <td>-99</td>\n",
       "    </tr>\n",
       "  </tbody>\n",
       "</table>\n",
       "</div>"
      ],
      "text/plain": [
       "    W   Z\n",
       "A   2 -86\n",
       "B   6 -80\n",
       "C   2 -13\n",
       "D  16  51\n",
       "E  30 -99"
      ]
     },
     "execution_count": 11,
     "metadata": {},
     "output_type": "execute_result"
    }
   ],
   "source": [
    "df[[\"W\",\"Z\"]]"
   ]
  },
  {
   "cell_type": "code",
   "execution_count": 12,
   "metadata": {},
   "outputs": [],
   "source": [
    "df[\"NEW\"]=df[\"W\"]+df[\"Z\"]"
   ]
  },
  {
   "cell_type": "code",
   "execution_count": 13,
   "metadata": {},
   "outputs": [
    {
     "data": {
      "text/html": [
       "<div>\n",
       "<style scoped>\n",
       "    .dataframe tbody tr th:only-of-type {\n",
       "        vertical-align: middle;\n",
       "    }\n",
       "\n",
       "    .dataframe tbody tr th {\n",
       "        vertical-align: top;\n",
       "    }\n",
       "\n",
       "    .dataframe thead th {\n",
       "        text-align: right;\n",
       "    }\n",
       "</style>\n",
       "<table border=\"1\" class=\"dataframe\">\n",
       "  <thead>\n",
       "    <tr style=\"text-align: right;\">\n",
       "      <th></th>\n",
       "      <th>W</th>\n",
       "      <th>X</th>\n",
       "      <th>Y</th>\n",
       "      <th>Z</th>\n",
       "      <th>NEW</th>\n",
       "    </tr>\n",
       "  </thead>\n",
       "  <tbody>\n",
       "    <tr>\n",
       "      <th>A</th>\n",
       "      <td>2</td>\n",
       "      <td>79</td>\n",
       "      <td>-8</td>\n",
       "      <td>-86</td>\n",
       "      <td>-84</td>\n",
       "    </tr>\n",
       "    <tr>\n",
       "      <th>B</th>\n",
       "      <td>6</td>\n",
       "      <td>-29</td>\n",
       "      <td>88</td>\n",
       "      <td>-80</td>\n",
       "      <td>-74</td>\n",
       "    </tr>\n",
       "    <tr>\n",
       "      <th>C</th>\n",
       "      <td>2</td>\n",
       "      <td>21</td>\n",
       "      <td>-26</td>\n",
       "      <td>-13</td>\n",
       "      <td>-11</td>\n",
       "    </tr>\n",
       "    <tr>\n",
       "      <th>D</th>\n",
       "      <td>16</td>\n",
       "      <td>-1</td>\n",
       "      <td>3</td>\n",
       "      <td>51</td>\n",
       "      <td>67</td>\n",
       "    </tr>\n",
       "    <tr>\n",
       "      <th>E</th>\n",
       "      <td>30</td>\n",
       "      <td>49</td>\n",
       "      <td>-48</td>\n",
       "      <td>-99</td>\n",
       "      <td>-69</td>\n",
       "    </tr>\n",
       "  </tbody>\n",
       "</table>\n",
       "</div>"
      ],
      "text/plain": [
       "    W   X   Y   Z  NEW\n",
       "A   2  79  -8 -86  -84\n",
       "B   6 -29  88 -80  -74\n",
       "C   2  21 -26 -13  -11\n",
       "D  16  -1   3  51   67\n",
       "E  30  49 -48 -99  -69"
      ]
     },
     "execution_count": 13,
     "metadata": {},
     "output_type": "execute_result"
    }
   ],
   "source": [
    "df"
   ]
  },
  {
   "cell_type": "code",
   "execution_count": 14,
   "metadata": {},
   "outputs": [],
   "source": [
    "df=df.drop(\"NEW\", axis=1)"
   ]
  },
  {
   "cell_type": "code",
   "execution_count": 15,
   "metadata": {},
   "outputs": [
    {
     "data": {
      "text/html": [
       "<div>\n",
       "<style scoped>\n",
       "    .dataframe tbody tr th:only-of-type {\n",
       "        vertical-align: middle;\n",
       "    }\n",
       "\n",
       "    .dataframe tbody tr th {\n",
       "        vertical-align: top;\n",
       "    }\n",
       "\n",
       "    .dataframe thead th {\n",
       "        text-align: right;\n",
       "    }\n",
       "</style>\n",
       "<table border=\"1\" class=\"dataframe\">\n",
       "  <thead>\n",
       "    <tr style=\"text-align: right;\">\n",
       "      <th></th>\n",
       "      <th>W</th>\n",
       "      <th>X</th>\n",
       "      <th>Y</th>\n",
       "      <th>Z</th>\n",
       "    </tr>\n",
       "  </thead>\n",
       "  <tbody>\n",
       "    <tr>\n",
       "      <th>A</th>\n",
       "      <td>2</td>\n",
       "      <td>79</td>\n",
       "      <td>-8</td>\n",
       "      <td>-86</td>\n",
       "    </tr>\n",
       "    <tr>\n",
       "      <th>B</th>\n",
       "      <td>6</td>\n",
       "      <td>-29</td>\n",
       "      <td>88</td>\n",
       "      <td>-80</td>\n",
       "    </tr>\n",
       "    <tr>\n",
       "      <th>C</th>\n",
       "      <td>2</td>\n",
       "      <td>21</td>\n",
       "      <td>-26</td>\n",
       "      <td>-13</td>\n",
       "    </tr>\n",
       "    <tr>\n",
       "      <th>D</th>\n",
       "      <td>16</td>\n",
       "      <td>-1</td>\n",
       "      <td>3</td>\n",
       "      <td>51</td>\n",
       "    </tr>\n",
       "    <tr>\n",
       "      <th>E</th>\n",
       "      <td>30</td>\n",
       "      <td>49</td>\n",
       "      <td>-48</td>\n",
       "      <td>-99</td>\n",
       "    </tr>\n",
       "  </tbody>\n",
       "</table>\n",
       "</div>"
      ],
      "text/plain": [
       "    W   X   Y   Z\n",
       "A   2  79  -8 -86\n",
       "B   6 -29  88 -80\n",
       "C   2  21 -26 -13\n",
       "D  16  -1   3  51\n",
       "E  30  49 -48 -99"
      ]
     },
     "execution_count": 15,
     "metadata": {},
     "output_type": "execute_result"
    }
   ],
   "source": [
    "df"
   ]
  },
  {
   "cell_type": "code",
   "execution_count": 16,
   "metadata": {},
   "outputs": [
    {
     "data": {
      "text/plain": [
       "W     2\n",
       "X    79\n",
       "Y    -8\n",
       "Z   -86\n",
       "Name: A, dtype: int32"
      ]
     },
     "execution_count": 16,
     "metadata": {},
     "output_type": "execute_result"
    }
   ],
   "source": [
    "#Sélection d'une ligne par son nom\n",
    "df.loc[\"A\"]"
   ]
  },
  {
   "cell_type": "code",
   "execution_count": 17,
   "metadata": {},
   "outputs": [
    {
     "data": {
      "text/plain": [
       "W     2\n",
       "X    79\n",
       "Y    -8\n",
       "Z   -86\n",
       "Name: A, dtype: int32"
      ]
     },
     "execution_count": 17,
     "metadata": {},
     "output_type": "execute_result"
    }
   ],
   "source": [
    "#Sélection d'une ligne par son index de position\n",
    "df.iloc[0]"
   ]
  },
  {
   "cell_type": "code",
   "execution_count": 18,
   "metadata": {},
   "outputs": [
    {
     "data": {
      "text/html": [
       "<div>\n",
       "<style scoped>\n",
       "    .dataframe tbody tr th:only-of-type {\n",
       "        vertical-align: middle;\n",
       "    }\n",
       "\n",
       "    .dataframe tbody tr th {\n",
       "        vertical-align: top;\n",
       "    }\n",
       "\n",
       "    .dataframe thead th {\n",
       "        text-align: right;\n",
       "    }\n",
       "</style>\n",
       "<table border=\"1\" class=\"dataframe\">\n",
       "  <thead>\n",
       "    <tr style=\"text-align: right;\">\n",
       "      <th></th>\n",
       "      <th>W</th>\n",
       "      <th>X</th>\n",
       "      <th>Y</th>\n",
       "      <th>Z</th>\n",
       "    </tr>\n",
       "  </thead>\n",
       "  <tbody>\n",
       "    <tr>\n",
       "      <th>A</th>\n",
       "      <td>2</td>\n",
       "      <td>79</td>\n",
       "      <td>-8</td>\n",
       "      <td>-86</td>\n",
       "    </tr>\n",
       "    <tr>\n",
       "      <th>B</th>\n",
       "      <td>6</td>\n",
       "      <td>-29</td>\n",
       "      <td>88</td>\n",
       "      <td>-80</td>\n",
       "    </tr>\n",
       "    <tr>\n",
       "      <th>C</th>\n",
       "      <td>2</td>\n",
       "      <td>21</td>\n",
       "      <td>-26</td>\n",
       "      <td>-13</td>\n",
       "    </tr>\n",
       "  </tbody>\n",
       "</table>\n",
       "</div>"
      ],
      "text/plain": [
       "   W   X   Y   Z\n",
       "A  2  79  -8 -86\n",
       "B  6 -29  88 -80\n",
       "C  2  21 -26 -13"
      ]
     },
     "execution_count": 18,
     "metadata": {},
     "output_type": "execute_result"
    }
   ],
   "source": [
    "#Slicing sur les lignes\n",
    "df.iloc[:3]"
   ]
  },
  {
   "cell_type": "code",
   "execution_count": 19,
   "metadata": {},
   "outputs": [
    {
     "data": {
      "text/html": [
       "<div>\n",
       "<style scoped>\n",
       "    .dataframe tbody tr th:only-of-type {\n",
       "        vertical-align: middle;\n",
       "    }\n",
       "\n",
       "    .dataframe tbody tr th {\n",
       "        vertical-align: top;\n",
       "    }\n",
       "\n",
       "    .dataframe thead th {\n",
       "        text-align: right;\n",
       "    }\n",
       "</style>\n",
       "<table border=\"1\" class=\"dataframe\">\n",
       "  <thead>\n",
       "    <tr style=\"text-align: right;\">\n",
       "      <th></th>\n",
       "      <th>W</th>\n",
       "      <th>Z</th>\n",
       "    </tr>\n",
       "  </thead>\n",
       "  <tbody>\n",
       "    <tr>\n",
       "      <th>A</th>\n",
       "      <td>2</td>\n",
       "      <td>-86</td>\n",
       "    </tr>\n",
       "    <tr>\n",
       "      <th>B</th>\n",
       "      <td>6</td>\n",
       "      <td>-80</td>\n",
       "    </tr>\n",
       "  </tbody>\n",
       "</table>\n",
       "</div>"
      ],
      "text/plain": [
       "   W   Z\n",
       "A  2 -86\n",
       "B  6 -80"
      ]
     },
     "execution_count": 19,
     "metadata": {},
     "output_type": "execute_result"
    }
   ],
   "source": [
    "#selection une portion \n",
    "df.loc[['A','B'],['W','Z']]"
   ]
  },
  {
   "cell_type": "code",
   "execution_count": 20,
   "metadata": {},
   "outputs": [
    {
     "data": {
      "text/html": [
       "<div>\n",
       "<style scoped>\n",
       "    .dataframe tbody tr th:only-of-type {\n",
       "        vertical-align: middle;\n",
       "    }\n",
       "\n",
       "    .dataframe tbody tr th {\n",
       "        vertical-align: top;\n",
       "    }\n",
       "\n",
       "    .dataframe thead th {\n",
       "        text-align: right;\n",
       "    }\n",
       "</style>\n",
       "<table border=\"1\" class=\"dataframe\">\n",
       "  <thead>\n",
       "    <tr style=\"text-align: right;\">\n",
       "      <th></th>\n",
       "      <th>W</th>\n",
       "      <th>X</th>\n",
       "      <th>Y</th>\n",
       "      <th>Z</th>\n",
       "    </tr>\n",
       "  </thead>\n",
       "  <tbody>\n",
       "    <tr>\n",
       "      <th>A</th>\n",
       "      <td>2</td>\n",
       "      <td>79</td>\n",
       "      <td>-8</td>\n",
       "      <td>-86</td>\n",
       "    </tr>\n",
       "    <tr>\n",
       "      <th>B</th>\n",
       "      <td>6</td>\n",
       "      <td>-29</td>\n",
       "      <td>88</td>\n",
       "      <td>-80</td>\n",
       "    </tr>\n",
       "    <tr>\n",
       "      <th>C</th>\n",
       "      <td>2</td>\n",
       "      <td>21</td>\n",
       "      <td>-26</td>\n",
       "      <td>-13</td>\n",
       "    </tr>\n",
       "    <tr>\n",
       "      <th>D</th>\n",
       "      <td>16</td>\n",
       "      <td>-1</td>\n",
       "      <td>3</td>\n",
       "      <td>51</td>\n",
       "    </tr>\n",
       "    <tr>\n",
       "      <th>E</th>\n",
       "      <td>30</td>\n",
       "      <td>49</td>\n",
       "      <td>-48</td>\n",
       "      <td>-99</td>\n",
       "    </tr>\n",
       "  </tbody>\n",
       "</table>\n",
       "</div>"
      ],
      "text/plain": [
       "    W   X   Y   Z\n",
       "A   2  79  -8 -86\n",
       "B   6 -29  88 -80\n",
       "C   2  21 -26 -13\n",
       "D  16  -1   3  51\n",
       "E  30  49 -48 -99"
      ]
     },
     "execution_count": 20,
     "metadata": {},
     "output_type": "execute_result"
    }
   ],
   "source": [
    "#Sélection conditionnelle\n",
    "df"
   ]
  },
  {
   "cell_type": "code",
   "execution_count": 21,
   "metadata": {},
   "outputs": [
    {
     "data": {
      "text/html": [
       "<div>\n",
       "<style scoped>\n",
       "    .dataframe tbody tr th:only-of-type {\n",
       "        vertical-align: middle;\n",
       "    }\n",
       "\n",
       "    .dataframe tbody tr th {\n",
       "        vertical-align: top;\n",
       "    }\n",
       "\n",
       "    .dataframe thead th {\n",
       "        text-align: right;\n",
       "    }\n",
       "</style>\n",
       "<table border=\"1\" class=\"dataframe\">\n",
       "  <thead>\n",
       "    <tr style=\"text-align: right;\">\n",
       "      <th></th>\n",
       "      <th>W</th>\n",
       "      <th>X</th>\n",
       "      <th>Y</th>\n",
       "      <th>Z</th>\n",
       "    </tr>\n",
       "  </thead>\n",
       "  <tbody>\n",
       "    <tr>\n",
       "      <th>A</th>\n",
       "      <td>True</td>\n",
       "      <td>True</td>\n",
       "      <td>False</td>\n",
       "      <td>False</td>\n",
       "    </tr>\n",
       "    <tr>\n",
       "      <th>B</th>\n",
       "      <td>True</td>\n",
       "      <td>False</td>\n",
       "      <td>True</td>\n",
       "      <td>False</td>\n",
       "    </tr>\n",
       "    <tr>\n",
       "      <th>C</th>\n",
       "      <td>True</td>\n",
       "      <td>True</td>\n",
       "      <td>False</td>\n",
       "      <td>False</td>\n",
       "    </tr>\n",
       "    <tr>\n",
       "      <th>D</th>\n",
       "      <td>True</td>\n",
       "      <td>False</td>\n",
       "      <td>True</td>\n",
       "      <td>True</td>\n",
       "    </tr>\n",
       "    <tr>\n",
       "      <th>E</th>\n",
       "      <td>True</td>\n",
       "      <td>True</td>\n",
       "      <td>False</td>\n",
       "      <td>False</td>\n",
       "    </tr>\n",
       "  </tbody>\n",
       "</table>\n",
       "</div>"
      ],
      "text/plain": [
       "      W      X      Y      Z\n",
       "A  True   True  False  False\n",
       "B  True  False   True  False\n",
       "C  True   True  False  False\n",
       "D  True  False   True   True\n",
       "E  True   True  False  False"
      ]
     },
     "execution_count": 21,
     "metadata": {},
     "output_type": "execute_result"
    }
   ],
   "source": [
    "#extraction d'un sous ensemble pour lequel les valeurssont positifs\n",
    "df>0"
   ]
  },
  {
   "cell_type": "code",
   "execution_count": 22,
   "metadata": {},
   "outputs": [
    {
     "data": {
      "text/html": [
       "<div>\n",
       "<style scoped>\n",
       "    .dataframe tbody tr th:only-of-type {\n",
       "        vertical-align: middle;\n",
       "    }\n",
       "\n",
       "    .dataframe tbody tr th {\n",
       "        vertical-align: top;\n",
       "    }\n",
       "\n",
       "    .dataframe thead th {\n",
       "        text-align: right;\n",
       "    }\n",
       "</style>\n",
       "<table border=\"1\" class=\"dataframe\">\n",
       "  <thead>\n",
       "    <tr style=\"text-align: right;\">\n",
       "      <th></th>\n",
       "      <th>W</th>\n",
       "      <th>X</th>\n",
       "      <th>Y</th>\n",
       "      <th>Z</th>\n",
       "    </tr>\n",
       "  </thead>\n",
       "  <tbody>\n",
       "    <tr>\n",
       "      <th>A</th>\n",
       "      <td>2</td>\n",
       "      <td>79.0</td>\n",
       "      <td>NaN</td>\n",
       "      <td>NaN</td>\n",
       "    </tr>\n",
       "    <tr>\n",
       "      <th>B</th>\n",
       "      <td>6</td>\n",
       "      <td>NaN</td>\n",
       "      <td>88.0</td>\n",
       "      <td>NaN</td>\n",
       "    </tr>\n",
       "    <tr>\n",
       "      <th>C</th>\n",
       "      <td>2</td>\n",
       "      <td>21.0</td>\n",
       "      <td>NaN</td>\n",
       "      <td>NaN</td>\n",
       "    </tr>\n",
       "    <tr>\n",
       "      <th>D</th>\n",
       "      <td>16</td>\n",
       "      <td>NaN</td>\n",
       "      <td>3.0</td>\n",
       "      <td>51.0</td>\n",
       "    </tr>\n",
       "    <tr>\n",
       "      <th>E</th>\n",
       "      <td>30</td>\n",
       "      <td>49.0</td>\n",
       "      <td>NaN</td>\n",
       "      <td>NaN</td>\n",
       "    </tr>\n",
       "  </tbody>\n",
       "</table>\n",
       "</div>"
      ],
      "text/plain": [
       "    W     X     Y     Z\n",
       "A   2  79.0   NaN   NaN\n",
       "B   6   NaN  88.0   NaN\n",
       "C   2  21.0   NaN   NaN\n",
       "D  16   NaN   3.0  51.0\n",
       "E  30  49.0   NaN   NaN"
      ]
     },
     "execution_count": 22,
     "metadata": {},
     "output_type": "execute_result"
    }
   ],
   "source": [
    "df[df>0]"
   ]
  },
  {
   "cell_type": "code",
   "execution_count": 23,
   "metadata": {},
   "outputs": [
    {
     "data": {
      "text/plain": [
       "A     True\n",
       "B    False\n",
       "C     True\n",
       "D    False\n",
       "E     True\n",
       "Name: X, dtype: bool"
      ]
     },
     "execution_count": 23,
     "metadata": {},
     "output_type": "execute_result"
    }
   ],
   "source": [
    "#filtrer le df avec une condition sur une colonne\n",
    "df[\"X\"]>0"
   ]
  },
  {
   "cell_type": "code",
   "execution_count": 24,
   "metadata": {},
   "outputs": [
    {
     "data": {
      "text/html": [
       "<div>\n",
       "<style scoped>\n",
       "    .dataframe tbody tr th:only-of-type {\n",
       "        vertical-align: middle;\n",
       "    }\n",
       "\n",
       "    .dataframe tbody tr th {\n",
       "        vertical-align: top;\n",
       "    }\n",
       "\n",
       "    .dataframe thead th {\n",
       "        text-align: right;\n",
       "    }\n",
       "</style>\n",
       "<table border=\"1\" class=\"dataframe\">\n",
       "  <thead>\n",
       "    <tr style=\"text-align: right;\">\n",
       "      <th></th>\n",
       "      <th>W</th>\n",
       "      <th>X</th>\n",
       "      <th>Y</th>\n",
       "      <th>Z</th>\n",
       "    </tr>\n",
       "  </thead>\n",
       "  <tbody>\n",
       "    <tr>\n",
       "      <th>A</th>\n",
       "      <td>2</td>\n",
       "      <td>79</td>\n",
       "      <td>-8</td>\n",
       "      <td>-86</td>\n",
       "    </tr>\n",
       "    <tr>\n",
       "      <th>C</th>\n",
       "      <td>2</td>\n",
       "      <td>21</td>\n",
       "      <td>-26</td>\n",
       "      <td>-13</td>\n",
       "    </tr>\n",
       "    <tr>\n",
       "      <th>E</th>\n",
       "      <td>30</td>\n",
       "      <td>49</td>\n",
       "      <td>-48</td>\n",
       "      <td>-99</td>\n",
       "    </tr>\n",
       "  </tbody>\n",
       "</table>\n",
       "</div>"
      ],
      "text/plain": [
       "    W   X   Y   Z\n",
       "A   2  79  -8 -86\n",
       "C   2  21 -26 -13\n",
       "E  30  49 -48 -99"
      ]
     },
     "execution_count": 24,
     "metadata": {},
     "output_type": "execute_result"
    }
   ],
   "source": [
    "#Broadcaster la condition sur le dataframe\n",
    "df[df[\"X\"]>0]"
   ]
  },
  {
   "cell_type": "code",
   "execution_count": 25,
   "metadata": {},
   "outputs": [
    {
     "data": {
      "text/html": [
       "<div>\n",
       "<style scoped>\n",
       "    .dataframe tbody tr th:only-of-type {\n",
       "        vertical-align: middle;\n",
       "    }\n",
       "\n",
       "    .dataframe tbody tr th {\n",
       "        vertical-align: top;\n",
       "    }\n",
       "\n",
       "    .dataframe thead th {\n",
       "        text-align: right;\n",
       "    }\n",
       "</style>\n",
       "<table border=\"1\" class=\"dataframe\">\n",
       "  <thead>\n",
       "    <tr style=\"text-align: right;\">\n",
       "      <th></th>\n",
       "      <th>W</th>\n",
       "      <th>X</th>\n",
       "      <th>Y</th>\n",
       "      <th>Z</th>\n",
       "    </tr>\n",
       "  </thead>\n",
       "  <tbody>\n",
       "    <tr>\n",
       "      <th>A</th>\n",
       "      <td>2</td>\n",
       "      <td>79</td>\n",
       "      <td>-8</td>\n",
       "      <td>-86</td>\n",
       "    </tr>\n",
       "    <tr>\n",
       "      <th>B</th>\n",
       "      <td>6</td>\n",
       "      <td>-29</td>\n",
       "      <td>88</td>\n",
       "      <td>-80</td>\n",
       "    </tr>\n",
       "    <tr>\n",
       "      <th>C</th>\n",
       "      <td>2</td>\n",
       "      <td>21</td>\n",
       "      <td>-26</td>\n",
       "      <td>-13</td>\n",
       "    </tr>\n",
       "    <tr>\n",
       "      <th>D</th>\n",
       "      <td>16</td>\n",
       "      <td>-1</td>\n",
       "      <td>3</td>\n",
       "      <td>51</td>\n",
       "    </tr>\n",
       "    <tr>\n",
       "      <th>E</th>\n",
       "      <td>30</td>\n",
       "      <td>49</td>\n",
       "      <td>-48</td>\n",
       "      <td>-99</td>\n",
       "    </tr>\n",
       "  </tbody>\n",
       "</table>\n",
       "</div>"
      ],
      "text/plain": [
       "    W   X   Y   Z\n",
       "A   2  79  -8 -86\n",
       "B   6 -29  88 -80\n",
       "C   2  21 -26 -13\n",
       "D  16  -1   3  51\n",
       "E  30  49 -48 -99"
      ]
     },
     "execution_count": 25,
     "metadata": {},
     "output_type": "execute_result"
    }
   ],
   "source": [
    "df"
   ]
  },
  {
   "cell_type": "code",
   "execution_count": 26,
   "metadata": {},
   "outputs": [
    {
     "data": {
      "text/html": [
       "<div>\n",
       "<style scoped>\n",
       "    .dataframe tbody tr th:only-of-type {\n",
       "        vertical-align: middle;\n",
       "    }\n",
       "\n",
       "    .dataframe tbody tr th {\n",
       "        vertical-align: top;\n",
       "    }\n",
       "\n",
       "    .dataframe thead th {\n",
       "        text-align: right;\n",
       "    }\n",
       "</style>\n",
       "<table border=\"1\" class=\"dataframe\">\n",
       "  <thead>\n",
       "    <tr style=\"text-align: right;\">\n",
       "      <th></th>\n",
       "      <th>W</th>\n",
       "      <th>X</th>\n",
       "      <th>Y</th>\n",
       "      <th>Z</th>\n",
       "    </tr>\n",
       "  </thead>\n",
       "  <tbody>\n",
       "  </tbody>\n",
       "</table>\n",
       "</div>"
      ],
      "text/plain": [
       "Empty DataFrame\n",
       "Columns: [W, X, Y, Z]\n",
       "Index: []"
      ]
     },
     "execution_count": 26,
     "metadata": {},
     "output_type": "execute_result"
    }
   ],
   "source": [
    "df[(df[\"X\"]>0) & (df[\"Y\"]>=3)]"
   ]
  },
  {
   "cell_type": "code",
   "execution_count": 27,
   "metadata": {},
   "outputs": [
    {
     "data": {
      "text/html": [
       "<div>\n",
       "<style scoped>\n",
       "    .dataframe tbody tr th:only-of-type {\n",
       "        vertical-align: middle;\n",
       "    }\n",
       "\n",
       "    .dataframe tbody tr th {\n",
       "        vertical-align: top;\n",
       "    }\n",
       "\n",
       "    .dataframe thead th {\n",
       "        text-align: right;\n",
       "    }\n",
       "</style>\n",
       "<table border=\"1\" class=\"dataframe\">\n",
       "  <thead>\n",
       "    <tr style=\"text-align: right;\">\n",
       "      <th></th>\n",
       "      <th>index</th>\n",
       "      <th>W</th>\n",
       "      <th>X</th>\n",
       "      <th>Y</th>\n",
       "      <th>Z</th>\n",
       "    </tr>\n",
       "  </thead>\n",
       "  <tbody>\n",
       "    <tr>\n",
       "      <th>0</th>\n",
       "      <td>A</td>\n",
       "      <td>2</td>\n",
       "      <td>79</td>\n",
       "      <td>-8</td>\n",
       "      <td>-86</td>\n",
       "    </tr>\n",
       "    <tr>\n",
       "      <th>1</th>\n",
       "      <td>B</td>\n",
       "      <td>6</td>\n",
       "      <td>-29</td>\n",
       "      <td>88</td>\n",
       "      <td>-80</td>\n",
       "    </tr>\n",
       "    <tr>\n",
       "      <th>2</th>\n",
       "      <td>C</td>\n",
       "      <td>2</td>\n",
       "      <td>21</td>\n",
       "      <td>-26</td>\n",
       "      <td>-13</td>\n",
       "    </tr>\n",
       "    <tr>\n",
       "      <th>3</th>\n",
       "      <td>D</td>\n",
       "      <td>16</td>\n",
       "      <td>-1</td>\n",
       "      <td>3</td>\n",
       "      <td>51</td>\n",
       "    </tr>\n",
       "    <tr>\n",
       "      <th>4</th>\n",
       "      <td>E</td>\n",
       "      <td>30</td>\n",
       "      <td>49</td>\n",
       "      <td>-48</td>\n",
       "      <td>-99</td>\n",
       "    </tr>\n",
       "  </tbody>\n",
       "</table>\n",
       "</div>"
      ],
      "text/plain": [
       "  index   W   X   Y   Z\n",
       "0     A   2  79  -8 -86\n",
       "1     B   6 -29  88 -80\n",
       "2     C   2  21 -26 -13\n",
       "3     D  16  -1   3  51\n",
       "4     E  30  49 -48 -99"
      ]
     },
     "execution_count": 27,
     "metadata": {},
     "output_type": "execute_result"
    }
   ],
   "source": [
    "df.reset_index()"
   ]
  },
  {
   "cell_type": "code",
   "execution_count": 28,
   "metadata": {},
   "outputs": [],
   "source": [
    "NEW =['CA','NY','WY','OR','CO']\n",
    "df[\"States\"]=NEW\n",
    "df=df.set_index(\"States\")"
   ]
  },
  {
   "cell_type": "code",
   "execution_count": 29,
   "metadata": {},
   "outputs": [
    {
     "data": {
      "text/html": [
       "<div>\n",
       "<style scoped>\n",
       "    .dataframe tbody tr th:only-of-type {\n",
       "        vertical-align: middle;\n",
       "    }\n",
       "\n",
       "    .dataframe tbody tr th {\n",
       "        vertical-align: top;\n",
       "    }\n",
       "\n",
       "    .dataframe thead th {\n",
       "        text-align: right;\n",
       "    }\n",
       "</style>\n",
       "<table border=\"1\" class=\"dataframe\">\n",
       "  <thead>\n",
       "    <tr style=\"text-align: right;\">\n",
       "      <th></th>\n",
       "      <th>W</th>\n",
       "      <th>X</th>\n",
       "      <th>Y</th>\n",
       "      <th>Z</th>\n",
       "    </tr>\n",
       "    <tr>\n",
       "      <th>States</th>\n",
       "      <th></th>\n",
       "      <th></th>\n",
       "      <th></th>\n",
       "      <th></th>\n",
       "    </tr>\n",
       "  </thead>\n",
       "  <tbody>\n",
       "    <tr>\n",
       "      <th>CA</th>\n",
       "      <td>2</td>\n",
       "      <td>79</td>\n",
       "      <td>-8</td>\n",
       "      <td>-86</td>\n",
       "    </tr>\n",
       "    <tr>\n",
       "      <th>NY</th>\n",
       "      <td>6</td>\n",
       "      <td>-29</td>\n",
       "      <td>88</td>\n",
       "      <td>-80</td>\n",
       "    </tr>\n",
       "    <tr>\n",
       "      <th>WY</th>\n",
       "      <td>2</td>\n",
       "      <td>21</td>\n",
       "      <td>-26</td>\n",
       "      <td>-13</td>\n",
       "    </tr>\n",
       "    <tr>\n",
       "      <th>OR</th>\n",
       "      <td>16</td>\n",
       "      <td>-1</td>\n",
       "      <td>3</td>\n",
       "      <td>51</td>\n",
       "    </tr>\n",
       "    <tr>\n",
       "      <th>CO</th>\n",
       "      <td>30</td>\n",
       "      <td>49</td>\n",
       "      <td>-48</td>\n",
       "      <td>-99</td>\n",
       "    </tr>\n",
       "  </tbody>\n",
       "</table>\n",
       "</div>"
      ],
      "text/plain": [
       "         W   X   Y   Z\n",
       "States                \n",
       "CA       2  79  -8 -86\n",
       "NY       6 -29  88 -80\n",
       "WY       2  21 -26 -13\n",
       "OR      16  -1   3  51\n",
       "CO      30  49 -48 -99"
      ]
     },
     "execution_count": 29,
     "metadata": {},
     "output_type": "execute_result"
    }
   ],
   "source": [
    "df"
   ]
  },
  {
   "cell_type": "code",
   "execution_count": 30,
   "metadata": {},
   "outputs": [
    {
     "data": {
      "text/plain": [
       "Index(['W', 'X', 'Y', 'Z'], dtype='object')"
      ]
     },
     "execution_count": 30,
     "metadata": {},
     "output_type": "execute_result"
    }
   ],
   "source": [
    "df.columns"
   ]
  },
  {
   "cell_type": "code",
   "execution_count": 31,
   "metadata": {},
   "outputs": [
    {
     "data": {
      "text/html": [
       "<div>\n",
       "<style scoped>\n",
       "    .dataframe tbody tr th:only-of-type {\n",
       "        vertical-align: middle;\n",
       "    }\n",
       "\n",
       "    .dataframe tbody tr th {\n",
       "        vertical-align: top;\n",
       "    }\n",
       "\n",
       "    .dataframe thead th {\n",
       "        text-align: right;\n",
       "    }\n",
       "</style>\n",
       "<table border=\"1\" class=\"dataframe\">\n",
       "  <thead>\n",
       "    <tr style=\"text-align: right;\">\n",
       "      <th></th>\n",
       "      <th>W</th>\n",
       "      <th>X</th>\n",
       "      <th>Y</th>\n",
       "      <th>Z</th>\n",
       "    </tr>\n",
       "  </thead>\n",
       "  <tbody>\n",
       "    <tr>\n",
       "      <th>count</th>\n",
       "      <td>5.00000</td>\n",
       "      <td>5.000000</td>\n",
       "      <td>5.000000</td>\n",
       "      <td>5.000000</td>\n",
       "    </tr>\n",
       "    <tr>\n",
       "      <th>mean</th>\n",
       "      <td>11.20000</td>\n",
       "      <td>23.800000</td>\n",
       "      <td>1.800000</td>\n",
       "      <td>-45.400000</td>\n",
       "    </tr>\n",
       "    <tr>\n",
       "      <th>std</th>\n",
       "      <td>11.96662</td>\n",
       "      <td>42.109381</td>\n",
       "      <td>51.915316</td>\n",
       "      <td>63.366395</td>\n",
       "    </tr>\n",
       "    <tr>\n",
       "      <th>min</th>\n",
       "      <td>2.00000</td>\n",
       "      <td>-29.000000</td>\n",
       "      <td>-48.000000</td>\n",
       "      <td>-99.000000</td>\n",
       "    </tr>\n",
       "    <tr>\n",
       "      <th>25%</th>\n",
       "      <td>2.00000</td>\n",
       "      <td>-1.000000</td>\n",
       "      <td>-26.000000</td>\n",
       "      <td>-86.000000</td>\n",
       "    </tr>\n",
       "    <tr>\n",
       "      <th>50%</th>\n",
       "      <td>6.00000</td>\n",
       "      <td>21.000000</td>\n",
       "      <td>-8.000000</td>\n",
       "      <td>-80.000000</td>\n",
       "    </tr>\n",
       "    <tr>\n",
       "      <th>75%</th>\n",
       "      <td>16.00000</td>\n",
       "      <td>49.000000</td>\n",
       "      <td>3.000000</td>\n",
       "      <td>-13.000000</td>\n",
       "    </tr>\n",
       "    <tr>\n",
       "      <th>max</th>\n",
       "      <td>30.00000</td>\n",
       "      <td>79.000000</td>\n",
       "      <td>88.000000</td>\n",
       "      <td>51.000000</td>\n",
       "    </tr>\n",
       "  </tbody>\n",
       "</table>\n",
       "</div>"
      ],
      "text/plain": [
       "              W          X          Y          Z\n",
       "count   5.00000   5.000000   5.000000   5.000000\n",
       "mean   11.20000  23.800000   1.800000 -45.400000\n",
       "std    11.96662  42.109381  51.915316  63.366395\n",
       "min     2.00000 -29.000000 -48.000000 -99.000000\n",
       "25%     2.00000  -1.000000 -26.000000 -86.000000\n",
       "50%     6.00000  21.000000  -8.000000 -80.000000\n",
       "75%    16.00000  49.000000   3.000000 -13.000000\n",
       "max    30.00000  79.000000  88.000000  51.000000"
      ]
     },
     "execution_count": 31,
     "metadata": {},
     "output_type": "execute_result"
    }
   ],
   "source": [
    "df.describe()"
   ]
  },
  {
   "cell_type": "code",
   "execution_count": 32,
   "metadata": {},
   "outputs": [
    {
     "name": "stdout",
     "output_type": "stream",
     "text": [
      "<class 'pandas.core.frame.DataFrame'>\n",
      "Index: 5 entries, CA to CO\n",
      "Data columns (total 4 columns):\n",
      " #   Column  Non-Null Count  Dtype\n",
      "---  ------  --------------  -----\n",
      " 0   W       5 non-null      int32\n",
      " 1   X       5 non-null      int32\n",
      " 2   Y       5 non-null      int32\n",
      " 3   Z       5 non-null      int32\n",
      "dtypes: int32(4)\n",
      "memory usage: 120.0+ bytes\n"
     ]
    }
   ],
   "source": [
    "df.info()"
   ]
  },
  {
   "cell_type": "code",
   "execution_count": 33,
   "metadata": {},
   "outputs": [
    {
     "data": {
      "text/plain": [
       "W    int32\n",
       "X    int32\n",
       "Y    int32\n",
       "Z    int32\n",
       "dtype: object"
      ]
     },
     "execution_count": 33,
     "metadata": {},
     "output_type": "execute_result"
    }
   ],
   "source": [
    "df.dtypes"
   ]
  },
  {
   "cell_type": "code",
   "execution_count": 34,
   "metadata": {},
   "outputs": [
    {
     "data": {
      "text/html": [
       "<div>\n",
       "<style scoped>\n",
       "    .dataframe tbody tr th:only-of-type {\n",
       "        vertical-align: middle;\n",
       "    }\n",
       "\n",
       "    .dataframe tbody tr th {\n",
       "        vertical-align: top;\n",
       "    }\n",
       "\n",
       "    .dataframe thead th {\n",
       "        text-align: right;\n",
       "    }\n",
       "</style>\n",
       "<table border=\"1\" class=\"dataframe\">\n",
       "  <thead>\n",
       "    <tr style=\"text-align: right;\">\n",
       "      <th></th>\n",
       "      <th>A</th>\n",
       "      <th>B</th>\n",
       "      <th>C</th>\n",
       "    </tr>\n",
       "  </thead>\n",
       "  <tbody>\n",
       "    <tr>\n",
       "      <th>0</th>\n",
       "      <td>1.0</td>\n",
       "      <td>5.0</td>\n",
       "      <td>10</td>\n",
       "    </tr>\n",
       "    <tr>\n",
       "      <th>1</th>\n",
       "      <td>2.0</td>\n",
       "      <td>NaN</td>\n",
       "      <td>20</td>\n",
       "    </tr>\n",
       "    <tr>\n",
       "      <th>2</th>\n",
       "      <td>NaN</td>\n",
       "      <td>NaN</td>\n",
       "      <td>30</td>\n",
       "    </tr>\n",
       "    <tr>\n",
       "      <th>3</th>\n",
       "      <td>4.0</td>\n",
       "      <td>8.0</td>\n",
       "      <td>40</td>\n",
       "    </tr>\n",
       "  </tbody>\n",
       "</table>\n",
       "</div>"
      ],
      "text/plain": [
       "     A    B   C\n",
       "0  1.0  5.0  10\n",
       "1  2.0  NaN  20\n",
       "2  NaN  NaN  30\n",
       "3  4.0  8.0  40"
      ]
     },
     "execution_count": 34,
     "metadata": {},
     "output_type": "execute_result"
    }
   ],
   "source": [
    "#Données manquantes: 3 statégies de traitement {1: la laissée comme telle, 2: la supprimée, 3: la remplacer par la médiane, le mode, la moyenne}\n",
    "d={'A':[1,2, np.nan, 4],\n",
    "   'B':[5, np.nan, np.nan, 8],\n",
    "   'C':[10,20,30,40]}\n",
    "df = pd.DataFrame(d)\n",
    "df"
   ]
  },
  {
   "cell_type": "code",
   "execution_count": 35,
   "metadata": {},
   "outputs": [
    {
     "data": {
      "text/html": [
       "<div>\n",
       "<style scoped>\n",
       "    .dataframe tbody tr th:only-of-type {\n",
       "        vertical-align: middle;\n",
       "    }\n",
       "\n",
       "    .dataframe tbody tr th {\n",
       "        vertical-align: top;\n",
       "    }\n",
       "\n",
       "    .dataframe thead th {\n",
       "        text-align: right;\n",
       "    }\n",
       "</style>\n",
       "<table border=\"1\" class=\"dataframe\">\n",
       "  <thead>\n",
       "    <tr style=\"text-align: right;\">\n",
       "      <th></th>\n",
       "      <th>A</th>\n",
       "      <th>B</th>\n",
       "      <th>C</th>\n",
       "    </tr>\n",
       "  </thead>\n",
       "  <tbody>\n",
       "    <tr>\n",
       "      <th>0</th>\n",
       "      <td>1.0</td>\n",
       "      <td>5.0</td>\n",
       "      <td>10</td>\n",
       "    </tr>\n",
       "    <tr>\n",
       "      <th>1</th>\n",
       "      <td>2.0</td>\n",
       "      <td>NaN</td>\n",
       "      <td>20</td>\n",
       "    </tr>\n",
       "    <tr>\n",
       "      <th>3</th>\n",
       "      <td>4.0</td>\n",
       "      <td>8.0</td>\n",
       "      <td>40</td>\n",
       "    </tr>\n",
       "  </tbody>\n",
       "</table>\n",
       "</div>"
      ],
      "text/plain": [
       "     A    B   C\n",
       "0  1.0  5.0  10\n",
       "1  2.0  NaN  20\n",
       "3  4.0  8.0  40"
      ]
     },
     "execution_count": 35,
     "metadata": {},
     "output_type": "execute_result"
    }
   ],
   "source": [
    "df.dropna(axis=0 , thresh=0.5*len(df))"
   ]
  },
  {
   "cell_type": "code",
   "execution_count": 36,
   "metadata": {},
   "outputs": [
    {
     "data": {
      "text/html": [
       "<div>\n",
       "<style scoped>\n",
       "    .dataframe tbody tr th:only-of-type {\n",
       "        vertical-align: middle;\n",
       "    }\n",
       "\n",
       "    .dataframe tbody tr th {\n",
       "        vertical-align: top;\n",
       "    }\n",
       "\n",
       "    .dataframe thead th {\n",
       "        text-align: right;\n",
       "    }\n",
       "</style>\n",
       "<table border=\"1\" class=\"dataframe\">\n",
       "  <thead>\n",
       "    <tr style=\"text-align: right;\">\n",
       "      <th></th>\n",
       "      <th>A</th>\n",
       "      <th>B</th>\n",
       "      <th>C</th>\n",
       "    </tr>\n",
       "  </thead>\n",
       "  <tbody>\n",
       "    <tr>\n",
       "      <th>0</th>\n",
       "      <td>1.0</td>\n",
       "      <td>5.0</td>\n",
       "      <td>10</td>\n",
       "    </tr>\n",
       "    <tr>\n",
       "      <th>1</th>\n",
       "      <td>2.0</td>\n",
       "      <td>0.0</td>\n",
       "      <td>20</td>\n",
       "    </tr>\n",
       "    <tr>\n",
       "      <th>2</th>\n",
       "      <td>0.0</td>\n",
       "      <td>0.0</td>\n",
       "      <td>30</td>\n",
       "    </tr>\n",
       "    <tr>\n",
       "      <th>3</th>\n",
       "      <td>4.0</td>\n",
       "      <td>8.0</td>\n",
       "      <td>40</td>\n",
       "    </tr>\n",
       "  </tbody>\n",
       "</table>\n",
       "</div>"
      ],
      "text/plain": [
       "     A    B   C\n",
       "0  1.0  5.0  10\n",
       "1  2.0  0.0  20\n",
       "2  0.0  0.0  30\n",
       "3  4.0  8.0  40"
      ]
     },
     "execution_count": 36,
     "metadata": {},
     "output_type": "execute_result"
    }
   ],
   "source": [
    "df.fillna(value=0)"
   ]
  },
  {
   "cell_type": "code",
   "execution_count": 37,
   "metadata": {},
   "outputs": [
    {
     "data": {
      "text/plain": [
       "0    1.0\n",
       "1    2.0\n",
       "2    0.0\n",
       "3    4.0\n",
       "Name: A, dtype: float64"
      ]
     },
     "execution_count": 37,
     "metadata": {},
     "output_type": "execute_result"
    }
   ],
   "source": [
    "df[\"A\"].fillna(value=0)"
   ]
  },
  {
   "cell_type": "code",
   "execution_count": 38,
   "metadata": {},
   "outputs": [],
   "source": [
    "df[\"A\"]= df['A'].fillna(df[\"A\"].mean())"
   ]
  },
  {
   "cell_type": "code",
   "execution_count": 39,
   "metadata": {},
   "outputs": [
    {
     "data": {
      "text/html": [
       "<div>\n",
       "<style scoped>\n",
       "    .dataframe tbody tr th:only-of-type {\n",
       "        vertical-align: middle;\n",
       "    }\n",
       "\n",
       "    .dataframe tbody tr th {\n",
       "        vertical-align: top;\n",
       "    }\n",
       "\n",
       "    .dataframe thead th {\n",
       "        text-align: right;\n",
       "    }\n",
       "</style>\n",
       "<table border=\"1\" class=\"dataframe\">\n",
       "  <thead>\n",
       "    <tr style=\"text-align: right;\">\n",
       "      <th></th>\n",
       "      <th>A</th>\n",
       "      <th>B</th>\n",
       "      <th>C</th>\n",
       "    </tr>\n",
       "  </thead>\n",
       "  <tbody>\n",
       "    <tr>\n",
       "      <th>0</th>\n",
       "      <td>1.000000</td>\n",
       "      <td>5.0</td>\n",
       "      <td>10</td>\n",
       "    </tr>\n",
       "    <tr>\n",
       "      <th>1</th>\n",
       "      <td>2.000000</td>\n",
       "      <td>NaN</td>\n",
       "      <td>20</td>\n",
       "    </tr>\n",
       "    <tr>\n",
       "      <th>2</th>\n",
       "      <td>2.333333</td>\n",
       "      <td>NaN</td>\n",
       "      <td>30</td>\n",
       "    </tr>\n",
       "    <tr>\n",
       "      <th>3</th>\n",
       "      <td>4.000000</td>\n",
       "      <td>8.0</td>\n",
       "      <td>40</td>\n",
       "    </tr>\n",
       "  </tbody>\n",
       "</table>\n",
       "</div>"
      ],
      "text/plain": [
       "          A    B   C\n",
       "0  1.000000  5.0  10\n",
       "1  2.000000  NaN  20\n",
       "2  2.333333  NaN  30\n",
       "3  4.000000  8.0  40"
      ]
     },
     "execution_count": 39,
     "metadata": {},
     "output_type": "execute_result"
    }
   ],
   "source": [
    "df"
   ]
  },
  {
   "cell_type": "code",
   "execution_count": 40,
   "metadata": {},
   "outputs": [
    {
     "data": {
      "text/html": [
       "<div>\n",
       "<style scoped>\n",
       "    .dataframe tbody tr th:only-of-type {\n",
       "        vertical-align: middle;\n",
       "    }\n",
       "\n",
       "    .dataframe tbody tr th {\n",
       "        vertical-align: top;\n",
       "    }\n",
       "\n",
       "    .dataframe thead th {\n",
       "        text-align: right;\n",
       "    }\n",
       "</style>\n",
       "<table border=\"1\" class=\"dataframe\">\n",
       "  <thead>\n",
       "    <tr style=\"text-align: right;\">\n",
       "      <th></th>\n",
       "      <th>Sector</th>\n",
       "      <th>University</th>\n",
       "      <th>Year</th>\n",
       "      <th>Completions</th>\n",
       "      <th>Geography</th>\n",
       "    </tr>\n",
       "  </thead>\n",
       "  <tbody>\n",
       "    <tr>\n",
       "      <th>0</th>\n",
       "      <td>Private for-profit, 2-year</td>\n",
       "      <td>Pima Medical Institute-Las Vegas</td>\n",
       "      <td>2016</td>\n",
       "      <td>591</td>\n",
       "      <td>Nevada</td>\n",
       "    </tr>\n",
       "    <tr>\n",
       "      <th>1</th>\n",
       "      <td>Private for-profit, less-than 2-year</td>\n",
       "      <td>Healthcare Preparatory Institute</td>\n",
       "      <td>2016</td>\n",
       "      <td>28</td>\n",
       "      <td>Nevada</td>\n",
       "    </tr>\n",
       "    <tr>\n",
       "      <th>2</th>\n",
       "      <td>Private for-profit, less-than 2-year</td>\n",
       "      <td>Milan Institute-Las Vegas</td>\n",
       "      <td>2016</td>\n",
       "      <td>408</td>\n",
       "      <td>Nevada</td>\n",
       "    </tr>\n",
       "    <tr>\n",
       "      <th>3</th>\n",
       "      <td>Private for-profit, less-than 2-year</td>\n",
       "      <td>Utah College of Massage Therapy-Vegas</td>\n",
       "      <td>2016</td>\n",
       "      <td>240</td>\n",
       "      <td>Nevada</td>\n",
       "    </tr>\n",
       "    <tr>\n",
       "      <th>4</th>\n",
       "      <td>Public, 4-year or above</td>\n",
       "      <td>Western Nevada College</td>\n",
       "      <td>2016</td>\n",
       "      <td>960</td>\n",
       "      <td>Nevada</td>\n",
       "    </tr>\n",
       "    <tr>\n",
       "      <th>...</th>\n",
       "      <td>...</td>\n",
       "      <td>...</td>\n",
       "      <td>...</td>\n",
       "      <td>...</td>\n",
       "      <td>...</td>\n",
       "    </tr>\n",
       "    <tr>\n",
       "      <th>202</th>\n",
       "      <td>Private for-profit, 2-year</td>\n",
       "      <td>Carrington College-Las Vegas</td>\n",
       "      <td>2012</td>\n",
       "      <td>120</td>\n",
       "      <td>Nevada</td>\n",
       "    </tr>\n",
       "    <tr>\n",
       "      <th>203</th>\n",
       "      <td>Public, 4-year or above</td>\n",
       "      <td>Western Nevada College</td>\n",
       "      <td>2012</td>\n",
       "      <td>495</td>\n",
       "      <td>Nevada</td>\n",
       "    </tr>\n",
       "    <tr>\n",
       "      <th>204</th>\n",
       "      <td>Private for-profit, 2-year</td>\n",
       "      <td>Nevada Career Institute</td>\n",
       "      <td>2012</td>\n",
       "      <td>101</td>\n",
       "      <td>Nevada</td>\n",
       "    </tr>\n",
       "    <tr>\n",
       "      <th>205</th>\n",
       "      <td>Private not-for-profit, 2-year</td>\n",
       "      <td>Expertise Cosmetology Institute</td>\n",
       "      <td>2012</td>\n",
       "      <td>129</td>\n",
       "      <td>Nevada</td>\n",
       "    </tr>\n",
       "    <tr>\n",
       "      <th>206</th>\n",
       "      <td>Public, 2-year</td>\n",
       "      <td>Truckee Meadows Community College</td>\n",
       "      <td>2012</td>\n",
       "      <td>1170</td>\n",
       "      <td>Nevada</td>\n",
       "    </tr>\n",
       "  </tbody>\n",
       "</table>\n",
       "<p>207 rows × 5 columns</p>\n",
       "</div>"
      ],
      "text/plain": [
       "                                   Sector  \\\n",
       "0              Private for-profit, 2-year   \n",
       "1    Private for-profit, less-than 2-year   \n",
       "2    Private for-profit, less-than 2-year   \n",
       "3    Private for-profit, less-than 2-year   \n",
       "4                 Public, 4-year or above   \n",
       "..                                    ...   \n",
       "202            Private for-profit, 2-year   \n",
       "203               Public, 4-year or above   \n",
       "204            Private for-profit, 2-year   \n",
       "205        Private not-for-profit, 2-year   \n",
       "206                        Public, 2-year   \n",
       "\n",
       "                                University  Year  Completions Geography  \n",
       "0         Pima Medical Institute-Las Vegas  2016          591    Nevada  \n",
       "1         Healthcare Preparatory Institute  2016           28    Nevada  \n",
       "2                Milan Institute-Las Vegas  2016          408    Nevada  \n",
       "3    Utah College of Massage Therapy-Vegas  2016          240    Nevada  \n",
       "4                   Western Nevada College  2016          960    Nevada  \n",
       "..                                     ...   ...          ...       ...  \n",
       "202           Carrington College-Las Vegas  2012          120    Nevada  \n",
       "203                 Western Nevada College  2012          495    Nevada  \n",
       "204                Nevada Career Institute  2012          101    Nevada  \n",
       "205        Expertise Cosmetology Institute  2012          129    Nevada  \n",
       "206      Truckee Meadows Community College  2012         1170    Nevada  \n",
       "\n",
       "[207 rows x 5 columns]"
      ]
     },
     "execution_count": 40,
     "metadata": {},
     "output_type": "execute_result"
    }
   ],
   "source": [
    "#GroupeBy\n",
    "chemin=r\"C:\\Users\\dell\\Documents\\Perso\\Deep_Learning_TF_2_Notebooks_et_Datasets\\01-Pandas\\Universities.csv\"\n",
    "df = pd.read_csv(chemin)\n",
    "df"
   ]
  },
  {
   "cell_type": "code",
   "execution_count": 41,
   "metadata": {},
   "outputs": [
    {
     "data": {
      "text/html": [
       "<div>\n",
       "<style scoped>\n",
       "    .dataframe tbody tr th:only-of-type {\n",
       "        vertical-align: middle;\n",
       "    }\n",
       "\n",
       "    .dataframe tbody tr th {\n",
       "        vertical-align: top;\n",
       "    }\n",
       "\n",
       "    .dataframe thead th {\n",
       "        text-align: right;\n",
       "    }\n",
       "</style>\n",
       "<table border=\"1\" class=\"dataframe\">\n",
       "  <thead>\n",
       "    <tr style=\"text-align: right;\">\n",
       "      <th></th>\n",
       "      <th>Completions</th>\n",
       "    </tr>\n",
       "    <tr>\n",
       "      <th>Year</th>\n",
       "      <th></th>\n",
       "    </tr>\n",
       "  </thead>\n",
       "  <tbody>\n",
       "    <tr>\n",
       "      <th>2016</th>\n",
       "      <td>26224</td>\n",
       "    </tr>\n",
       "    <tr>\n",
       "      <th>2015</th>\n",
       "      <td>26279</td>\n",
       "    </tr>\n",
       "    <tr>\n",
       "      <th>2014</th>\n",
       "      <td>24730</td>\n",
       "    </tr>\n",
       "    <tr>\n",
       "      <th>2013</th>\n",
       "      <td>21046</td>\n",
       "    </tr>\n",
       "    <tr>\n",
       "      <th>2012</th>\n",
       "      <td>20333</td>\n",
       "    </tr>\n",
       "  </tbody>\n",
       "</table>\n",
       "</div>"
      ],
      "text/plain": [
       "      Completions\n",
       "Year             \n",
       "2016        26224\n",
       "2015        26279\n",
       "2014        24730\n",
       "2013        21046\n",
       "2012        20333"
      ]
     },
     "execution_count": 41,
     "metadata": {},
     "output_type": "execute_result"
    }
   ],
   "source": [
    "df.groupby(\"Year\").sum().sort_index(ascending=False)"
   ]
  },
  {
   "cell_type": "code",
   "execution_count": 42,
   "metadata": {},
   "outputs": [
    {
     "data": {
      "text/html": [
       "<div>\n",
       "<style scoped>\n",
       "    .dataframe tbody tr th:only-of-type {\n",
       "        vertical-align: middle;\n",
       "    }\n",
       "\n",
       "    .dataframe tbody tr th {\n",
       "        vertical-align: top;\n",
       "    }\n",
       "\n",
       "    .dataframe thead th {\n",
       "        text-align: right;\n",
       "    }\n",
       "</style>\n",
       "<table border=\"1\" class=\"dataframe\">\n",
       "  <thead>\n",
       "    <tr style=\"text-align: right;\">\n",
       "      <th></th>\n",
       "      <th></th>\n",
       "      <th>Completions</th>\n",
       "    </tr>\n",
       "    <tr>\n",
       "      <th>Year</th>\n",
       "      <th>Sector</th>\n",
       "      <th></th>\n",
       "    </tr>\n",
       "  </thead>\n",
       "  <tbody>\n",
       "    <tr>\n",
       "      <th rowspan=\"7\" valign=\"top\">2016</th>\n",
       "      <th>Public, 4-year or above</th>\n",
       "      <td>16677</td>\n",
       "    </tr>\n",
       "    <tr>\n",
       "      <th>Public, 2-year</th>\n",
       "      <td>2431</td>\n",
       "    </tr>\n",
       "    <tr>\n",
       "      <th>Private not-for-profit, 4-year or above</th>\n",
       "      <td>1208</td>\n",
       "    </tr>\n",
       "    <tr>\n",
       "      <th>Private not-for-profit, 2-year</th>\n",
       "      <td>322</td>\n",
       "    </tr>\n",
       "    <tr>\n",
       "      <th>Private for-profit, less-than 2-year</th>\n",
       "      <td>1552</td>\n",
       "    </tr>\n",
       "    <tr>\n",
       "      <th>Private for-profit, 4-year or above</th>\n",
       "      <td>748</td>\n",
       "    </tr>\n",
       "    <tr>\n",
       "      <th>Private for-profit, 2-year</th>\n",
       "      <td>3286</td>\n",
       "    </tr>\n",
       "    <tr>\n",
       "      <th rowspan=\"7\" valign=\"top\">2015</th>\n",
       "      <th>Public, 4-year or above</th>\n",
       "      <td>16056</td>\n",
       "    </tr>\n",
       "    <tr>\n",
       "      <th>Public, 2-year</th>\n",
       "      <td>2355</td>\n",
       "    </tr>\n",
       "    <tr>\n",
       "      <th>Private not-for-profit, 4-year or above</th>\n",
       "      <td>1228</td>\n",
       "    </tr>\n",
       "    <tr>\n",
       "      <th>Private not-for-profit, 2-year</th>\n",
       "      <td>425</td>\n",
       "    </tr>\n",
       "    <tr>\n",
       "      <th>Private for-profit, less-than 2-year</th>\n",
       "      <td>1629</td>\n",
       "    </tr>\n",
       "    <tr>\n",
       "      <th>Private for-profit, 4-year or above</th>\n",
       "      <td>1306</td>\n",
       "    </tr>\n",
       "    <tr>\n",
       "      <th>Private for-profit, 2-year</th>\n",
       "      <td>3280</td>\n",
       "    </tr>\n",
       "    <tr>\n",
       "      <th rowspan=\"7\" valign=\"top\">2014</th>\n",
       "      <th>Public, 4-year or above</th>\n",
       "      <td>15162</td>\n",
       "    </tr>\n",
       "    <tr>\n",
       "      <th>Public, 2-year</th>\n",
       "      <td>2286</td>\n",
       "    </tr>\n",
       "    <tr>\n",
       "      <th>Private not-for-profit, 4-year or above</th>\n",
       "      <td>1042</td>\n",
       "    </tr>\n",
       "    <tr>\n",
       "      <th>Private not-for-profit, 2-year</th>\n",
       "      <td>449</td>\n",
       "    </tr>\n",
       "    <tr>\n",
       "      <th>Private for-profit, less-than 2-year</th>\n",
       "      <td>1328</td>\n",
       "    </tr>\n",
       "    <tr>\n",
       "      <th>Private for-profit, 4-year or above</th>\n",
       "      <td>1506</td>\n",
       "    </tr>\n",
       "    <tr>\n",
       "      <th>Private for-profit, 2-year</th>\n",
       "      <td>2957</td>\n",
       "    </tr>\n",
       "    <tr>\n",
       "      <th rowspan=\"7\" valign=\"top\">2013</th>\n",
       "      <th>Public, 4-year or above</th>\n",
       "      <td>12817</td>\n",
       "    </tr>\n",
       "    <tr>\n",
       "      <th>Public, 2-year</th>\n",
       "      <td>1633</td>\n",
       "    </tr>\n",
       "    <tr>\n",
       "      <th>Private not-for-profit, 4-year or above</th>\n",
       "      <td>1016</td>\n",
       "    </tr>\n",
       "    <tr>\n",
       "      <th>Private not-for-profit, 2-year</th>\n",
       "      <td>471</td>\n",
       "    </tr>\n",
       "    <tr>\n",
       "      <th>Private for-profit, less-than 2-year</th>\n",
       "      <td>1281</td>\n",
       "    </tr>\n",
       "    <tr>\n",
       "      <th>Private for-profit, 4-year or above</th>\n",
       "      <td>775</td>\n",
       "    </tr>\n",
       "    <tr>\n",
       "      <th>Private for-profit, 2-year</th>\n",
       "      <td>3053</td>\n",
       "    </tr>\n",
       "    <tr>\n",
       "      <th rowspan=\"7\" valign=\"top\">2012</th>\n",
       "      <th>Public, 4-year or above</th>\n",
       "      <td>12408</td>\n",
       "    </tr>\n",
       "    <tr>\n",
       "      <th>Public, 2-year</th>\n",
       "      <td>1170</td>\n",
       "    </tr>\n",
       "    <tr>\n",
       "      <th>Private not-for-profit, 4-year or above</th>\n",
       "      <td>1059</td>\n",
       "    </tr>\n",
       "    <tr>\n",
       "      <th>Private not-for-profit, 2-year</th>\n",
       "      <td>665</td>\n",
       "    </tr>\n",
       "    <tr>\n",
       "      <th>Private for-profit, less-than 2-year</th>\n",
       "      <td>1327</td>\n",
       "    </tr>\n",
       "    <tr>\n",
       "      <th>Private for-profit, 4-year or above</th>\n",
       "      <td>632</td>\n",
       "    </tr>\n",
       "    <tr>\n",
       "      <th>Private for-profit, 2-year</th>\n",
       "      <td>3072</td>\n",
       "    </tr>\n",
       "  </tbody>\n",
       "</table>\n",
       "</div>"
      ],
      "text/plain": [
       "                                              Completions\n",
       "Year Sector                                              \n",
       "2016 Public, 4-year or above                        16677\n",
       "     Public, 2-year                                  2431\n",
       "     Private not-for-profit, 4-year or above         1208\n",
       "     Private not-for-profit, 2-year                   322\n",
       "     Private for-profit, less-than 2-year            1552\n",
       "     Private for-profit, 4-year or above              748\n",
       "     Private for-profit, 2-year                      3286\n",
       "2015 Public, 4-year or above                        16056\n",
       "     Public, 2-year                                  2355\n",
       "     Private not-for-profit, 4-year or above         1228\n",
       "     Private not-for-profit, 2-year                   425\n",
       "     Private for-profit, less-than 2-year            1629\n",
       "     Private for-profit, 4-year or above             1306\n",
       "     Private for-profit, 2-year                      3280\n",
       "2014 Public, 4-year or above                        15162\n",
       "     Public, 2-year                                  2286\n",
       "     Private not-for-profit, 4-year or above         1042\n",
       "     Private not-for-profit, 2-year                   449\n",
       "     Private for-profit, less-than 2-year            1328\n",
       "     Private for-profit, 4-year or above             1506\n",
       "     Private for-profit, 2-year                      2957\n",
       "2013 Public, 4-year or above                        12817\n",
       "     Public, 2-year                                  1633\n",
       "     Private not-for-profit, 4-year or above         1016\n",
       "     Private not-for-profit, 2-year                   471\n",
       "     Private for-profit, less-than 2-year            1281\n",
       "     Private for-profit, 4-year or above              775\n",
       "     Private for-profit, 2-year                      3053\n",
       "2012 Public, 4-year or above                        12408\n",
       "     Public, 2-year                                  1170\n",
       "     Private not-for-profit, 4-year or above         1059\n",
       "     Private not-for-profit, 2-year                   665\n",
       "     Private for-profit, less-than 2-year            1327\n",
       "     Private for-profit, 4-year or above              632\n",
       "     Private for-profit, 2-year                      3072"
      ]
     },
     "execution_count": 42,
     "metadata": {},
     "output_type": "execute_result"
    }
   ],
   "source": [
    "df.groupby([\"Year\", \"Sector\"]).sum().sort_index(ascending=False)"
   ]
  },
  {
   "cell_type": "code",
   "execution_count": 43,
   "metadata": {},
   "outputs": [
    {
     "data": {
      "text/html": [
       "<div>\n",
       "<style scoped>\n",
       "    .dataframe tbody tr th:only-of-type {\n",
       "        vertical-align: middle;\n",
       "    }\n",
       "\n",
       "    .dataframe tbody tr th {\n",
       "        vertical-align: top;\n",
       "    }\n",
       "\n",
       "    .dataframe thead tr th {\n",
       "        text-align: left;\n",
       "    }\n",
       "\n",
       "    .dataframe thead tr:last-of-type th {\n",
       "        text-align: right;\n",
       "    }\n",
       "</style>\n",
       "<table border=\"1\" class=\"dataframe\">\n",
       "  <thead>\n",
       "    <tr>\n",
       "      <th></th>\n",
       "      <th colspan=\"8\" halign=\"left\">Completions</th>\n",
       "    </tr>\n",
       "    <tr>\n",
       "      <th></th>\n",
       "      <th>count</th>\n",
       "      <th>mean</th>\n",
       "      <th>std</th>\n",
       "      <th>min</th>\n",
       "      <th>25%</th>\n",
       "      <th>50%</th>\n",
       "      <th>75%</th>\n",
       "      <th>max</th>\n",
       "    </tr>\n",
       "    <tr>\n",
       "      <th>Year</th>\n",
       "      <th></th>\n",
       "      <th></th>\n",
       "      <th></th>\n",
       "      <th></th>\n",
       "      <th></th>\n",
       "      <th></th>\n",
       "      <th></th>\n",
       "      <th></th>\n",
       "    </tr>\n",
       "  </thead>\n",
       "  <tbody>\n",
       "    <tr>\n",
       "      <th>2012</th>\n",
       "      <td>38.0</td>\n",
       "      <td>535.078947</td>\n",
       "      <td>1036.433239</td>\n",
       "      <td>13.0</td>\n",
       "      <td>114.25</td>\n",
       "      <td>229.5</td>\n",
       "      <td>420.50</td>\n",
       "      <td>5388.0</td>\n",
       "    </tr>\n",
       "    <tr>\n",
       "      <th>2013</th>\n",
       "      <td>40.0</td>\n",
       "      <td>526.150000</td>\n",
       "      <td>1040.474782</td>\n",
       "      <td>0.0</td>\n",
       "      <td>98.50</td>\n",
       "      <td>189.0</td>\n",
       "      <td>413.00</td>\n",
       "      <td>5278.0</td>\n",
       "    </tr>\n",
       "    <tr>\n",
       "      <th>2014</th>\n",
       "      <td>42.0</td>\n",
       "      <td>588.809524</td>\n",
       "      <td>1150.355857</td>\n",
       "      <td>0.0</td>\n",
       "      <td>104.50</td>\n",
       "      <td>203.5</td>\n",
       "      <td>371.75</td>\n",
       "      <td>5093.0</td>\n",
       "    </tr>\n",
       "    <tr>\n",
       "      <th>2015</th>\n",
       "      <td>44.0</td>\n",
       "      <td>597.250000</td>\n",
       "      <td>1183.371791</td>\n",
       "      <td>0.0</td>\n",
       "      <td>87.75</td>\n",
       "      <td>191.0</td>\n",
       "      <td>405.75</td>\n",
       "      <td>5335.0</td>\n",
       "    </tr>\n",
       "    <tr>\n",
       "      <th>2016</th>\n",
       "      <td>43.0</td>\n",
       "      <td>609.860465</td>\n",
       "      <td>1235.952796</td>\n",
       "      <td>0.0</td>\n",
       "      <td>90.00</td>\n",
       "      <td>208.0</td>\n",
       "      <td>414.00</td>\n",
       "      <td>5367.0</td>\n",
       "    </tr>\n",
       "  </tbody>\n",
       "</table>\n",
       "</div>"
      ],
      "text/plain": [
       "     Completions                                                              \n",
       "           count        mean          std   min     25%    50%     75%     max\n",
       "Year                                                                          \n",
       "2012        38.0  535.078947  1036.433239  13.0  114.25  229.5  420.50  5388.0\n",
       "2013        40.0  526.150000  1040.474782   0.0   98.50  189.0  413.00  5278.0\n",
       "2014        42.0  588.809524  1150.355857   0.0  104.50  203.5  371.75  5093.0\n",
       "2015        44.0  597.250000  1183.371791   0.0   87.75  191.0  405.75  5335.0\n",
       "2016        43.0  609.860465  1235.952796   0.0   90.00  208.0  414.00  5367.0"
      ]
     },
     "execution_count": 43,
     "metadata": {},
     "output_type": "execute_result"
    }
   ],
   "source": [
    "df.groupby(\"Year\").describe()"
   ]
  },
  {
   "cell_type": "code",
   "execution_count": 44,
   "metadata": {},
   "outputs": [
    {
     "data": {
      "text/html": [
       "<div>\n",
       "<style scoped>\n",
       "    .dataframe tbody tr th:only-of-type {\n",
       "        vertical-align: middle;\n",
       "    }\n",
       "\n",
       "    .dataframe tbody tr th {\n",
       "        vertical-align: top;\n",
       "    }\n",
       "\n",
       "    .dataframe thead th {\n",
       "        text-align: right;\n",
       "    }\n",
       "</style>\n",
       "<table border=\"1\" class=\"dataframe\">\n",
       "  <thead>\n",
       "    <tr style=\"text-align: right;\">\n",
       "      <th></th>\n",
       "      <th>Year</th>\n",
       "      <th>2012</th>\n",
       "      <th>2013</th>\n",
       "      <th>2014</th>\n",
       "      <th>2015</th>\n",
       "      <th>2016</th>\n",
       "    </tr>\n",
       "  </thead>\n",
       "  <tbody>\n",
       "    <tr>\n",
       "      <th rowspan=\"8\" valign=\"top\">Completions</th>\n",
       "      <th>count</th>\n",
       "      <td>38.000000</td>\n",
       "      <td>40.000000</td>\n",
       "      <td>42.000000</td>\n",
       "      <td>44.000000</td>\n",
       "      <td>43.000000</td>\n",
       "    </tr>\n",
       "    <tr>\n",
       "      <th>mean</th>\n",
       "      <td>535.078947</td>\n",
       "      <td>526.150000</td>\n",
       "      <td>588.809524</td>\n",
       "      <td>597.250000</td>\n",
       "      <td>609.860465</td>\n",
       "    </tr>\n",
       "    <tr>\n",
       "      <th>std</th>\n",
       "      <td>1036.433239</td>\n",
       "      <td>1040.474782</td>\n",
       "      <td>1150.355857</td>\n",
       "      <td>1183.371791</td>\n",
       "      <td>1235.952796</td>\n",
       "    </tr>\n",
       "    <tr>\n",
       "      <th>min</th>\n",
       "      <td>13.000000</td>\n",
       "      <td>0.000000</td>\n",
       "      <td>0.000000</td>\n",
       "      <td>0.000000</td>\n",
       "      <td>0.000000</td>\n",
       "    </tr>\n",
       "    <tr>\n",
       "      <th>25%</th>\n",
       "      <td>114.250000</td>\n",
       "      <td>98.500000</td>\n",
       "      <td>104.500000</td>\n",
       "      <td>87.750000</td>\n",
       "      <td>90.000000</td>\n",
       "    </tr>\n",
       "    <tr>\n",
       "      <th>50%</th>\n",
       "      <td>229.500000</td>\n",
       "      <td>189.000000</td>\n",
       "      <td>203.500000</td>\n",
       "      <td>191.000000</td>\n",
       "      <td>208.000000</td>\n",
       "    </tr>\n",
       "    <tr>\n",
       "      <th>75%</th>\n",
       "      <td>420.500000</td>\n",
       "      <td>413.000000</td>\n",
       "      <td>371.750000</td>\n",
       "      <td>405.750000</td>\n",
       "      <td>414.000000</td>\n",
       "    </tr>\n",
       "    <tr>\n",
       "      <th>max</th>\n",
       "      <td>5388.000000</td>\n",
       "      <td>5278.000000</td>\n",
       "      <td>5093.000000</td>\n",
       "      <td>5335.000000</td>\n",
       "      <td>5367.000000</td>\n",
       "    </tr>\n",
       "  </tbody>\n",
       "</table>\n",
       "</div>"
      ],
      "text/plain": [
       "Year                      2012         2013         2014         2015  \\\n",
       "Completions count    38.000000    40.000000    42.000000    44.000000   \n",
       "            mean    535.078947   526.150000   588.809524   597.250000   \n",
       "            std    1036.433239  1040.474782  1150.355857  1183.371791   \n",
       "            min      13.000000     0.000000     0.000000     0.000000   \n",
       "            25%     114.250000    98.500000   104.500000    87.750000   \n",
       "            50%     229.500000   189.000000   203.500000   191.000000   \n",
       "            75%     420.500000   413.000000   371.750000   405.750000   \n",
       "            max    5388.000000  5278.000000  5093.000000  5335.000000   \n",
       "\n",
       "Year                      2016  \n",
       "Completions count    43.000000  \n",
       "            mean    609.860465  \n",
       "            std    1235.952796  \n",
       "            min       0.000000  \n",
       "            25%      90.000000  \n",
       "            50%     208.000000  \n",
       "            75%     414.000000  \n",
       "            max    5367.000000  "
      ]
     },
     "execution_count": 44,
     "metadata": {},
     "output_type": "execute_result"
    }
   ],
   "source": [
    "df.groupby(\"Year\").describe().transpose()"
   ]
  },
  {
   "cell_type": "code",
   "execution_count": 45,
   "metadata": {},
   "outputs": [
    {
     "data": {
      "text/html": [
       "<div>\n",
       "<style scoped>\n",
       "    .dataframe tbody tr th:only-of-type {\n",
       "        vertical-align: middle;\n",
       "    }\n",
       "\n",
       "    .dataframe tbody tr th {\n",
       "        vertical-align: top;\n",
       "    }\n",
       "\n",
       "    .dataframe thead th {\n",
       "        text-align: right;\n",
       "    }\n",
       "</style>\n",
       "<table border=\"1\" class=\"dataframe\">\n",
       "  <thead>\n",
       "    <tr style=\"text-align: right;\">\n",
       "      <th></th>\n",
       "      <th>k1</th>\n",
       "      <th>col1</th>\n",
       "      <th>col2</th>\n",
       "    </tr>\n",
       "  </thead>\n",
       "  <tbody>\n",
       "    <tr>\n",
       "      <th>0</th>\n",
       "      <td>A</td>\n",
       "      <td>100</td>\n",
       "      <td>NY</td>\n",
       "    </tr>\n",
       "    <tr>\n",
       "      <th>1</th>\n",
       "      <td>A</td>\n",
       "      <td>200</td>\n",
       "      <td>CA</td>\n",
       "    </tr>\n",
       "    <tr>\n",
       "      <th>2</th>\n",
       "      <td>B</td>\n",
       "      <td>300</td>\n",
       "      <td>WA</td>\n",
       "    </tr>\n",
       "    <tr>\n",
       "      <th>3</th>\n",
       "      <td>B</td>\n",
       "      <td>300</td>\n",
       "      <td>WA</td>\n",
       "    </tr>\n",
       "    <tr>\n",
       "      <th>4</th>\n",
       "      <td>C</td>\n",
       "      <td>400</td>\n",
       "      <td>AK</td>\n",
       "    </tr>\n",
       "    <tr>\n",
       "      <th>5</th>\n",
       "      <td>C</td>\n",
       "      <td>500</td>\n",
       "      <td>NV</td>\n",
       "    </tr>\n",
       "  </tbody>\n",
       "</table>\n",
       "</div>"
      ],
      "text/plain": [
       "  k1  col1 col2\n",
       "0  A   100   NY\n",
       "1  A   200   CA\n",
       "2  B   300   WA\n",
       "3  B   300   WA\n",
       "4  C   400   AK\n",
       "5  C   500   NV"
      ]
     },
     "execution_count": 45,
     "metadata": {},
     "output_type": "execute_result"
    }
   ],
   "source": [
    "d ={'k1':[\"A\",\"A\",\"B\",\"B\",\"C\",\"C\"],\n",
    "    'col1':[100,200,300,300,400,500],\n",
    "    'col2':['NY','CA','WA','WA','AK','NV']\n",
    "   }\n",
    "df_one = pd.DataFrame(d)\n",
    "df_one"
   ]
  },
  {
   "cell_type": "code",
   "execution_count": 46,
   "metadata": {},
   "outputs": [
    {
     "data": {
      "text/plain": [
       "array(['NY', 'CA', 'WA', 'AK', 'NV'], dtype=object)"
      ]
     },
     "execution_count": 46,
     "metadata": {},
     "output_type": "execute_result"
    }
   ],
   "source": [
    "df_one[\"col2\"].unique()"
   ]
  },
  {
   "cell_type": "code",
   "execution_count": 47,
   "metadata": {},
   "outputs": [
    {
     "data": {
      "text/plain": [
       "5"
      ]
     },
     "execution_count": 47,
     "metadata": {},
     "output_type": "execute_result"
    }
   ],
   "source": [
    "df_one[\"col2\"].nunique()"
   ]
  },
  {
   "cell_type": "code",
   "execution_count": 48,
   "metadata": {},
   "outputs": [
    {
     "data": {
      "text/plain": [
       "WA    2\n",
       "CA    1\n",
       "AK    1\n",
       "NV    1\n",
       "NY    1\n",
       "Name: col2, dtype: int64"
      ]
     },
     "execution_count": 48,
     "metadata": {},
     "output_type": "execute_result"
    }
   ],
   "source": [
    "df_one[\"col2\"].value_counts()"
   ]
  },
  {
   "cell_type": "code",
   "execution_count": 49,
   "metadata": {},
   "outputs": [
    {
     "data": {
      "text/html": [
       "<div>\n",
       "<style scoped>\n",
       "    .dataframe tbody tr th:only-of-type {\n",
       "        vertical-align: middle;\n",
       "    }\n",
       "\n",
       "    .dataframe tbody tr th {\n",
       "        vertical-align: top;\n",
       "    }\n",
       "\n",
       "    .dataframe thead th {\n",
       "        text-align: right;\n",
       "    }\n",
       "</style>\n",
       "<table border=\"1\" class=\"dataframe\">\n",
       "  <thead>\n",
       "    <tr style=\"text-align: right;\">\n",
       "      <th></th>\n",
       "      <th>k1</th>\n",
       "      <th>col1</th>\n",
       "      <th>col2</th>\n",
       "    </tr>\n",
       "  </thead>\n",
       "  <tbody>\n",
       "    <tr>\n",
       "      <th>0</th>\n",
       "      <td>A</td>\n",
       "      <td>100</td>\n",
       "      <td>NY</td>\n",
       "    </tr>\n",
       "    <tr>\n",
       "      <th>1</th>\n",
       "      <td>A</td>\n",
       "      <td>200</td>\n",
       "      <td>CA</td>\n",
       "    </tr>\n",
       "    <tr>\n",
       "      <th>2</th>\n",
       "      <td>B</td>\n",
       "      <td>300</td>\n",
       "      <td>WA</td>\n",
       "    </tr>\n",
       "    <tr>\n",
       "      <th>4</th>\n",
       "      <td>C</td>\n",
       "      <td>400</td>\n",
       "      <td>AK</td>\n",
       "    </tr>\n",
       "    <tr>\n",
       "      <th>5</th>\n",
       "      <td>C</td>\n",
       "      <td>500</td>\n",
       "      <td>NV</td>\n",
       "    </tr>\n",
       "  </tbody>\n",
       "</table>\n",
       "</div>"
      ],
      "text/plain": [
       "  k1  col1 col2\n",
       "0  A   100   NY\n",
       "1  A   200   CA\n",
       "2  B   300   WA\n",
       "4  C   400   AK\n",
       "5  C   500   NV"
      ]
     },
     "execution_count": 49,
     "metadata": {},
     "output_type": "execute_result"
    }
   ],
   "source": [
    "df_one.drop_duplicates()"
   ]
  },
  {
   "cell_type": "code",
   "execution_count": 50,
   "metadata": {},
   "outputs": [],
   "source": [
    "df_one[\"New\"]=df_one[\"col1\"]*10"
   ]
  },
  {
   "cell_type": "code",
   "execution_count": 51,
   "metadata": {},
   "outputs": [
    {
     "data": {
      "text/html": [
       "<div>\n",
       "<style scoped>\n",
       "    .dataframe tbody tr th:only-of-type {\n",
       "        vertical-align: middle;\n",
       "    }\n",
       "\n",
       "    .dataframe tbody tr th {\n",
       "        vertical-align: top;\n",
       "    }\n",
       "\n",
       "    .dataframe thead th {\n",
       "        text-align: right;\n",
       "    }\n",
       "</style>\n",
       "<table border=\"1\" class=\"dataframe\">\n",
       "  <thead>\n",
       "    <tr style=\"text-align: right;\">\n",
       "      <th></th>\n",
       "      <th>k1</th>\n",
       "      <th>col1</th>\n",
       "      <th>col2</th>\n",
       "      <th>New</th>\n",
       "    </tr>\n",
       "  </thead>\n",
       "  <tbody>\n",
       "    <tr>\n",
       "      <th>0</th>\n",
       "      <td>A</td>\n",
       "      <td>100</td>\n",
       "      <td>NY</td>\n",
       "      <td>1000</td>\n",
       "    </tr>\n",
       "    <tr>\n",
       "      <th>1</th>\n",
       "      <td>A</td>\n",
       "      <td>200</td>\n",
       "      <td>CA</td>\n",
       "      <td>2000</td>\n",
       "    </tr>\n",
       "    <tr>\n",
       "      <th>2</th>\n",
       "      <td>B</td>\n",
       "      <td>300</td>\n",
       "      <td>WA</td>\n",
       "      <td>3000</td>\n",
       "    </tr>\n",
       "    <tr>\n",
       "      <th>3</th>\n",
       "      <td>B</td>\n",
       "      <td>300</td>\n",
       "      <td>WA</td>\n",
       "      <td>3000</td>\n",
       "    </tr>\n",
       "    <tr>\n",
       "      <th>4</th>\n",
       "      <td>C</td>\n",
       "      <td>400</td>\n",
       "      <td>AK</td>\n",
       "      <td>4000</td>\n",
       "    </tr>\n",
       "    <tr>\n",
       "      <th>5</th>\n",
       "      <td>C</td>\n",
       "      <td>500</td>\n",
       "      <td>NV</td>\n",
       "      <td>5000</td>\n",
       "    </tr>\n",
       "  </tbody>\n",
       "</table>\n",
       "</div>"
      ],
      "text/plain": [
       "  k1  col1 col2   New\n",
       "0  A   100   NY  1000\n",
       "1  A   200   CA  2000\n",
       "2  B   300   WA  3000\n",
       "3  B   300   WA  3000\n",
       "4  C   400   AK  4000\n",
       "5  C   500   NV  5000"
      ]
     },
     "execution_count": 51,
     "metadata": {},
     "output_type": "execute_result"
    }
   ],
   "source": [
    "df_one"
   ]
  },
  {
   "cell_type": "code",
   "execution_count": 52,
   "metadata": {},
   "outputs": [],
   "source": [
    "def grab_first_letter(state):\n",
    "    return state[0]"
   ]
  },
  {
   "cell_type": "code",
   "execution_count": 53,
   "metadata": {},
   "outputs": [
    {
     "data": {
      "text/plain": [
       "'N'"
      ]
     },
     "execution_count": 53,
     "metadata": {},
     "output_type": "execute_result"
    }
   ],
   "source": [
    "grab_first_letter(\"NEW\")"
   ]
  },
  {
   "cell_type": "code",
   "execution_count": 54,
   "metadata": {},
   "outputs": [
    {
     "data": {
      "text/plain": [
       "0    N\n",
       "1    C\n",
       "2    W\n",
       "3    W\n",
       "4    A\n",
       "5    N\n",
       "Name: col2, dtype: object"
      ]
     },
     "execution_count": 54,
     "metadata": {},
     "output_type": "execute_result"
    }
   ],
   "source": [
    "df_one[\"col2\"].apply(grab_first_letter)"
   ]
  },
  {
   "cell_type": "code",
   "execution_count": 55,
   "metadata": {},
   "outputs": [],
   "source": [
    "def lower_letter(letter):\n",
    "    return letter.lower()"
   ]
  },
  {
   "cell_type": "code",
   "execution_count": 56,
   "metadata": {},
   "outputs": [
    {
     "data": {
      "text/plain": [
       "'new'"
      ]
     },
     "execution_count": 56,
     "metadata": {},
     "output_type": "execute_result"
    }
   ],
   "source": [
    "lower_letter(\"NEW\")"
   ]
  },
  {
   "cell_type": "code",
   "execution_count": 57,
   "metadata": {},
   "outputs": [
    {
     "data": {
      "text/plain": [
       "0    ny\n",
       "1    ca\n",
       "2    wa\n",
       "3    wa\n",
       "4    ak\n",
       "5    nv\n",
       "Name: col2, dtype: object"
      ]
     },
     "execution_count": 57,
     "metadata": {},
     "output_type": "execute_result"
    }
   ],
   "source": [
    "df_one[\"col2\"].apply(lower_letter)"
   ]
  },
  {
   "cell_type": "code",
   "execution_count": 58,
   "metadata": {},
   "outputs": [
    {
     "data": {
      "text/plain": [
       "{'k1': ['A', 'A', 'B', 'B', 'C', 'C'],\n",
       " 'col1': [100, 200, 300, 300, 400, 500],\n",
       " 'col2': ['NY', 'CA', 'WA', 'WA', 'AK', 'NV']}"
      ]
     },
     "execution_count": 58,
     "metadata": {},
     "output_type": "execute_result"
    }
   ],
   "source": [
    "d"
   ]
  },
  {
   "cell_type": "code",
   "execution_count": 59,
   "metadata": {},
   "outputs": [
    {
     "data": {
      "text/plain": [
       "0    1\n",
       "1    1\n",
       "2    2\n",
       "3    2\n",
       "4    3\n",
       "5    3\n",
       "Name: k1, dtype: int64"
      ]
     },
     "execution_count": 59,
     "metadata": {},
     "output_type": "execute_result"
    }
   ],
   "source": [
    "map_dic = { 'A':1,\n",
    "       'B':2,\n",
    "       'C':3    \n",
    "}\n",
    "df_one[\"k1\"].map(map_dic)"
   ]
  },
  {
   "cell_type": "code",
   "execution_count": 60,
   "metadata": {},
   "outputs": [],
   "source": [
    "features = pd.DataFrame({'A':[100,200,300,400,500],\n",
    "                        'B':[12,13,14,15,16]})\n",
    "\n",
    "predictions = pd.DataFrame({'pred':[0,1,1,0,1]})"
   ]
  },
  {
   "cell_type": "code",
   "execution_count": 61,
   "metadata": {},
   "outputs": [
    {
     "data": {
      "text/html": [
       "<div>\n",
       "<style scoped>\n",
       "    .dataframe tbody tr th:only-of-type {\n",
       "        vertical-align: middle;\n",
       "    }\n",
       "\n",
       "    .dataframe tbody tr th {\n",
       "        vertical-align: top;\n",
       "    }\n",
       "\n",
       "    .dataframe thead th {\n",
       "        text-align: right;\n",
       "    }\n",
       "</style>\n",
       "<table border=\"1\" class=\"dataframe\">\n",
       "  <thead>\n",
       "    <tr style=\"text-align: right;\">\n",
       "      <th></th>\n",
       "      <th>A</th>\n",
       "      <th>B</th>\n",
       "    </tr>\n",
       "  </thead>\n",
       "  <tbody>\n",
       "    <tr>\n",
       "      <th>0</th>\n",
       "      <td>100</td>\n",
       "      <td>12</td>\n",
       "    </tr>\n",
       "    <tr>\n",
       "      <th>1</th>\n",
       "      <td>200</td>\n",
       "      <td>13</td>\n",
       "    </tr>\n",
       "    <tr>\n",
       "      <th>2</th>\n",
       "      <td>300</td>\n",
       "      <td>14</td>\n",
       "    </tr>\n",
       "    <tr>\n",
       "      <th>3</th>\n",
       "      <td>400</td>\n",
       "      <td>15</td>\n",
       "    </tr>\n",
       "    <tr>\n",
       "      <th>4</th>\n",
       "      <td>500</td>\n",
       "      <td>16</td>\n",
       "    </tr>\n",
       "  </tbody>\n",
       "</table>\n",
       "</div>"
      ],
      "text/plain": [
       "     A   B\n",
       "0  100  12\n",
       "1  200  13\n",
       "2  300  14\n",
       "3  400  15\n",
       "4  500  16"
      ]
     },
     "execution_count": 61,
     "metadata": {},
     "output_type": "execute_result"
    }
   ],
   "source": [
    "features"
   ]
  },
  {
   "cell_type": "code",
   "execution_count": 62,
   "metadata": {},
   "outputs": [
    {
     "data": {
      "text/html": [
       "<div>\n",
       "<style scoped>\n",
       "    .dataframe tbody tr th:only-of-type {\n",
       "        vertical-align: middle;\n",
       "    }\n",
       "\n",
       "    .dataframe tbody tr th {\n",
       "        vertical-align: top;\n",
       "    }\n",
       "\n",
       "    .dataframe thead th {\n",
       "        text-align: right;\n",
       "    }\n",
       "</style>\n",
       "<table border=\"1\" class=\"dataframe\">\n",
       "  <thead>\n",
       "    <tr style=\"text-align: right;\">\n",
       "      <th></th>\n",
       "      <th>pred</th>\n",
       "    </tr>\n",
       "  </thead>\n",
       "  <tbody>\n",
       "    <tr>\n",
       "      <th>0</th>\n",
       "      <td>0</td>\n",
       "    </tr>\n",
       "    <tr>\n",
       "      <th>1</th>\n",
       "      <td>1</td>\n",
       "    </tr>\n",
       "    <tr>\n",
       "      <th>2</th>\n",
       "      <td>1</td>\n",
       "    </tr>\n",
       "    <tr>\n",
       "      <th>3</th>\n",
       "      <td>0</td>\n",
       "    </tr>\n",
       "    <tr>\n",
       "      <th>4</th>\n",
       "      <td>1</td>\n",
       "    </tr>\n",
       "  </tbody>\n",
       "</table>\n",
       "</div>"
      ],
      "text/plain": [
       "   pred\n",
       "0     0\n",
       "1     1\n",
       "2     1\n",
       "3     0\n",
       "4     1"
      ]
     },
     "execution_count": 62,
     "metadata": {},
     "output_type": "execute_result"
    }
   ],
   "source": [
    "predictions"
   ]
  },
  {
   "cell_type": "code",
   "execution_count": 63,
   "metadata": {},
   "outputs": [
    {
     "data": {
      "text/html": [
       "<div>\n",
       "<style scoped>\n",
       "    .dataframe tbody tr th:only-of-type {\n",
       "        vertical-align: middle;\n",
       "    }\n",
       "\n",
       "    .dataframe tbody tr th {\n",
       "        vertical-align: top;\n",
       "    }\n",
       "\n",
       "    .dataframe thead th {\n",
       "        text-align: right;\n",
       "    }\n",
       "</style>\n",
       "<table border=\"1\" class=\"dataframe\">\n",
       "  <thead>\n",
       "    <tr style=\"text-align: right;\">\n",
       "      <th></th>\n",
       "      <th>A</th>\n",
       "      <th>B</th>\n",
       "      <th>pred</th>\n",
       "    </tr>\n",
       "  </thead>\n",
       "  <tbody>\n",
       "    <tr>\n",
       "      <th>0</th>\n",
       "      <td>100</td>\n",
       "      <td>12</td>\n",
       "      <td>0</td>\n",
       "    </tr>\n",
       "    <tr>\n",
       "      <th>1</th>\n",
       "      <td>200</td>\n",
       "      <td>13</td>\n",
       "      <td>1</td>\n",
       "    </tr>\n",
       "    <tr>\n",
       "      <th>2</th>\n",
       "      <td>300</td>\n",
       "      <td>14</td>\n",
       "      <td>1</td>\n",
       "    </tr>\n",
       "    <tr>\n",
       "      <th>3</th>\n",
       "      <td>400</td>\n",
       "      <td>15</td>\n",
       "      <td>0</td>\n",
       "    </tr>\n",
       "    <tr>\n",
       "      <th>4</th>\n",
       "      <td>500</td>\n",
       "      <td>16</td>\n",
       "      <td>1</td>\n",
       "    </tr>\n",
       "  </tbody>\n",
       "</table>\n",
       "</div>"
      ],
      "text/plain": [
       "     A   B  pred\n",
       "0  100  12     0\n",
       "1  200  13     1\n",
       "2  300  14     1\n",
       "3  400  15     0\n",
       "4  500  16     1"
      ]
     },
     "execution_count": 63,
     "metadata": {},
     "output_type": "execute_result"
    }
   ],
   "source": [
    "pd.concat([features, predictions], axis=1)"
   ]
  },
  {
   "cell_type": "code",
   "execution_count": 64,
   "metadata": {},
   "outputs": [
    {
     "data": {
      "text/html": [
       "<div>\n",
       "<style scoped>\n",
       "    .dataframe tbody tr th:only-of-type {\n",
       "        vertical-align: middle;\n",
       "    }\n",
       "\n",
       "    .dataframe tbody tr th {\n",
       "        vertical-align: top;\n",
       "    }\n",
       "\n",
       "    .dataframe thead th {\n",
       "        text-align: right;\n",
       "    }\n",
       "</style>\n",
       "<table border=\"1\" class=\"dataframe\">\n",
       "  <thead>\n",
       "    <tr style=\"text-align: right;\">\n",
       "      <th></th>\n",
       "      <th>k1</th>\n",
       "      <th>col1</th>\n",
       "      <th>col2</th>\n",
       "      <th>New</th>\n",
       "    </tr>\n",
       "  </thead>\n",
       "  <tbody>\n",
       "    <tr>\n",
       "      <th>0</th>\n",
       "      <td>A</td>\n",
       "      <td>100</td>\n",
       "      <td>NY</td>\n",
       "      <td>1000</td>\n",
       "    </tr>\n",
       "    <tr>\n",
       "      <th>1</th>\n",
       "      <td>A</td>\n",
       "      <td>200</td>\n",
       "      <td>CA</td>\n",
       "      <td>2000</td>\n",
       "    </tr>\n",
       "    <tr>\n",
       "      <th>2</th>\n",
       "      <td>B</td>\n",
       "      <td>300</td>\n",
       "      <td>WA</td>\n",
       "      <td>3000</td>\n",
       "    </tr>\n",
       "    <tr>\n",
       "      <th>3</th>\n",
       "      <td>B</td>\n",
       "      <td>300</td>\n",
       "      <td>WA</td>\n",
       "      <td>3000</td>\n",
       "    </tr>\n",
       "    <tr>\n",
       "      <th>4</th>\n",
       "      <td>C</td>\n",
       "      <td>400</td>\n",
       "      <td>AK</td>\n",
       "      <td>4000</td>\n",
       "    </tr>\n",
       "    <tr>\n",
       "      <th>5</th>\n",
       "      <td>C</td>\n",
       "      <td>500</td>\n",
       "      <td>NV</td>\n",
       "      <td>5000</td>\n",
       "    </tr>\n",
       "  </tbody>\n",
       "</table>\n",
       "</div>"
      ],
      "text/plain": [
       "  k1  col1 col2   New\n",
       "0  A   100   NY  1000\n",
       "1  A   200   CA  2000\n",
       "2  B   300   WA  3000\n",
       "3  B   300   WA  3000\n",
       "4  C   400   AK  4000\n",
       "5  C   500   NV  5000"
      ]
     },
     "execution_count": 64,
     "metadata": {},
     "output_type": "execute_result"
    }
   ],
   "source": [
    "df_one"
   ]
  },
  {
   "cell_type": "code",
   "execution_count": 65,
   "metadata": {},
   "outputs": [
    {
     "data": {
      "text/html": [
       "<div>\n",
       "<style scoped>\n",
       "    .dataframe tbody tr th:only-of-type {\n",
       "        vertical-align: middle;\n",
       "    }\n",
       "\n",
       "    .dataframe tbody tr th {\n",
       "        vertical-align: top;\n",
       "    }\n",
       "\n",
       "    .dataframe thead th {\n",
       "        text-align: right;\n",
       "    }\n",
       "</style>\n",
       "<table border=\"1\" class=\"dataframe\">\n",
       "  <thead>\n",
       "    <tr style=\"text-align: right;\">\n",
       "      <th></th>\n",
       "      <th>A</th>\n",
       "      <th>B</th>\n",
       "      <th>C</th>\n",
       "    </tr>\n",
       "  </thead>\n",
       "  <tbody>\n",
       "    <tr>\n",
       "      <th>0</th>\n",
       "      <td>1</td>\n",
       "      <td>0</td>\n",
       "      <td>0</td>\n",
       "    </tr>\n",
       "    <tr>\n",
       "      <th>1</th>\n",
       "      <td>1</td>\n",
       "      <td>0</td>\n",
       "      <td>0</td>\n",
       "    </tr>\n",
       "    <tr>\n",
       "      <th>2</th>\n",
       "      <td>0</td>\n",
       "      <td>1</td>\n",
       "      <td>0</td>\n",
       "    </tr>\n",
       "    <tr>\n",
       "      <th>3</th>\n",
       "      <td>0</td>\n",
       "      <td>1</td>\n",
       "      <td>0</td>\n",
       "    </tr>\n",
       "    <tr>\n",
       "      <th>4</th>\n",
       "      <td>0</td>\n",
       "      <td>0</td>\n",
       "      <td>1</td>\n",
       "    </tr>\n",
       "    <tr>\n",
       "      <th>5</th>\n",
       "      <td>0</td>\n",
       "      <td>0</td>\n",
       "      <td>1</td>\n",
       "    </tr>\n",
       "  </tbody>\n",
       "</table>\n",
       "</div>"
      ],
      "text/plain": [
       "   A  B  C\n",
       "0  1  0  0\n",
       "1  1  0  0\n",
       "2  0  1  0\n",
       "3  0  1  0\n",
       "4  0  0  1\n",
       "5  0  0  1"
      ]
     },
     "execution_count": 65,
     "metadata": {},
     "output_type": "execute_result"
    }
   ],
   "source": [
    "pd.get_dummies(df_one['k1'])"
   ]
  },
  {
   "cell_type": "code",
   "execution_count": 66,
   "metadata": {},
   "outputs": [
    {
     "data": {
      "text/plain": [
       "'C:\\\\Users\\\\dell'"
      ]
     },
     "execution_count": 66,
     "metadata": {},
     "output_type": "execute_result"
    }
   ],
   "source": [
    " pwd"
   ]
  },
  {
   "cell_type": "code",
   "execution_count": 67,
   "metadata": {},
   "outputs": [
    {
     "name": "stdout",
     "output_type": "stream",
     "text": [
      " Le volume dans le lecteur C n’a pas de nom.\n",
      " Le numéro de série du volume est 4812-CB83\n",
      "\n",
      " Répertoire de C:\\Users\\dell\n",
      "\n",
      "31/01/2021  20:20    <DIR>          .\n",
      "31/01/2021  20:20    <DIR>          ..\n",
      "31/01/2021  00:00             3 824 .bash_history\n",
      "29/07/2020  03:18    <DIR>          .cache\n",
      "31/01/2021  20:23    <DIR>          .conda\n",
      "31/01/2021  19:09                43 .condarc\n",
      "03/01/2021  14:10    <DIR>          .idlerc\n",
      "30/01/2021  11:35    <DIR>          .ipynb_checkpoints\n",
      "30/12/2020  18:32    <DIR>          .ipython\n",
      "04/01/2021  13:43    <DIR>          .jupyter\n",
      "31/01/2021  19:10    <DIR>          .keras\n",
      "01/01/2021  00:37    <DIR>          .matplotlib\n",
      "18/01/2021  16:16    <DIR>          .pylint.d\n",
      "13/01/2021  00:03    <DIR>          .spyder-py3\n",
      "05/01/2021  17:47    <DIR>          .vscode\n",
      "23/01/2021  12:01         2 779 302 01_Perceptrons.ipynb\n",
      "23/01/2021  15:13           606 748 10 - Pandas - cours.ipynb\n",
      "23/01/2021  18:04             6 533 10 - Pandas - exercices.ipynb\n",
      "23/01/2021  21:21           424 231 11 - data viz - cours.ipynb\n",
      "23/01/2021  22:25           168 106 12 - les API - cours.ipynb\n",
      "25/01/2021  21:08            31 263 12 - les API - exercices.ipynb\n",
      "25/01/2021  22:42           616 590 13 - Maitriser le web scraping - cours.ipynb\n",
      "26/01/2021  18:52         4 650 162 13 - Maitriser le web scraping - exercices.ipynb\n",
      "26/01/2021  23:11           680 614 14 - Requêter une base SQL - cours.ipynb\n",
      "27/01/2021  08:26            47 661 14 - Requêter une base SQL - exercices.ipynb\n",
      "27/01/2021  20:33         1 800 763 15 - statistique descriptive - cours.ipynb\n",
      "27/01/2021  21:54           168 480 16 - machine learning - cours.ipynb\n",
      "23/10/2020  07:39    <DIR>          3D Objects\n",
      "31/01/2021  01:25    <DIR>          anaconda3\n",
      "17/01/2021  14:48               477 app.log\n",
      "23/10/2020  07:39    <DIR>          Contacts\n",
      "18/01/2021  16:09                 0 database.db\n",
      "29/01/2021  16:24    <DIR>          Desktop\n",
      "04/01/2021  14:41                67 doc.csv.txt\n",
      "29/01/2021  15:03    <DIR>          Documents\n",
      "17/01/2021  16:16    <DIR>          Dossier_EnvironnementV\n",
      "31/01/2021  19:03    <DIR>          Downloads\n",
      "23/01/2021  21:06            57 142 Exercice Pandas.ipynb\n",
      "23/10/2020  07:39    <DIR>          Favorites\n",
      "23/01/2021  21:19            13 100 foo.png\n",
      "23/10/2020  07:39    <DIR>          Links\n",
      "20/01/2021  11:55    <DIR>          Maitrise_Jupyter\n",
      "17/01/2021  15:30    <DIR>          Mon_Env\n",
      "23/10/2020  07:39    <DIR>          Music\n",
      "13/01/2021  13:36    <DIR>          Musique\n",
      "23/10/2020  14:21    <DIR>          OneDrive\n",
      "31/01/2021  19:00    <DIR>          OneDrive - Senelec\n",
      "31/01/2021  20:20           291 435 Pandas_Numpy.ipynb\n",
      "22/01/2021  11:28    <DIR>          Pictures\n",
      "28/12/2020  22:10    <DIR>          PycharmProjects\n",
      "23/10/2020  07:39    <DIR>          Saved Games\n",
      "23/10/2020  07:39    <DIR>          Searches\n",
      "30/01/2021  15:58    <DIR>          Test_mao\n",
      "23/01/2021  12:33            54 328 Titanic.csv\n",
      "05/01/2021  00:55           138 420 Untitled.ipynb\n",
      "22/01/2021  22:17               555 Untitled1.ipynb\n",
      "23/10/2020  07:39    <DIR>          Videos\n",
      "              23 fichier(s)       12 539 844 octets\n",
      "              34 Rép(s)  391 823 482 880 octets libres\n"
     ]
    }
   ],
   "source": [
    "ls"
   ]
  },
  {
   "cell_type": "code",
   "execution_count": 68,
   "metadata": {},
   "outputs": [
    {
     "name": "stdout",
     "output_type": "stream",
     "text": [
      "C:\\Users\\dell\\Documents\n"
     ]
    }
   ],
   "source": [
    "cd Documents"
   ]
  },
  {
   "cell_type": "code",
   "execution_count": 69,
   "metadata": {},
   "outputs": [
    {
     "name": "stdout",
     "output_type": "stream",
     "text": [
      " Le volume dans le lecteur C n’a pas de nom.\n",
      " Le numéro de série du volume est 4812-CB83\n",
      "\n",
      " Répertoire de C:\\Users\\dell\\Documents\n",
      "\n",
      "29/01/2021  15:03    <DIR>          .\n",
      "29/01/2021  15:03    <DIR>          ..\n",
      "24/11/2020  20:36           109 790 13-Figure2.1-1.png\n",
      "30/12/2020  20:05               920 2nd_degre.larp\n",
      "28/12/2020  21:15         2 377 627 Algebre Lineaire.pdf\n",
      "23/11/2020  17:24         2 997 177 AOI 27-2019 P4 POSTE HTB DEMANDE D'AUTORISATION.pdf\n",
      "27/10/2020  23:00         4 674 034 ATTACHEMENT PAUE 2 FIN AOÛT 2020 vf.xlsx\n",
      "02/11/2020  17:10         7 382 435 ATTACHEMENT PAUE 2 FIN OCTOBRE vf 2020 2 MIS EN PAGE.xlsx\n",
      "30/11/2020  23:06         1 677 543 Attachement PAUE 2 Novembre 30 11 2020.xlsx\n",
      "03/11/2020  11:44         2 607 866 BM procédure.pdf\n",
      "04/11/2020  13:16           292 738 Bordereau des prix unitaires HTVA  16 04 2020.xlsx\n",
      "13/11/2020  12:04           109 702 Bulletin de conge _C00768_12-2020.pdf\n",
      "03/11/2020  12:26           199 614 Cadre_Passation_BM_Presentation(FR).pptx\n",
      "02/07/2020  13:47           159 744 Cahier de charge formation ITI et Cellules.doc\n",
      "18/11/2020  22:56           268 021 Compréhension du système de télérelève.docx\n",
      "19/11/2020  10:24           269 590 Compte rendu de réunion.docx\n",
      "25/10/2020  16:52            18 284 Compte rendu réunion N°1.docx\n",
      "25/10/2020  13:53            17 044 Contrats EPC vs EPCM.docx\n",
      "27/11/2020  13:40         1 668 388 Copie de Attachement PAUE 2 Novembre.xlsx\n",
      "30/11/2020  22:40            22 006 Copie de Classeur1.xlsx\n",
      "29/01/2021  09:22            70 772 Copie de Mat projets  CPD  janvier  2021.xlsx\n",
      "26/11/2020  21:11            70 400 Copie de Mat projets  CPD  Novembre  2020 VB.xlsx\n",
      "26/10/2020  22:46            26 837 Copie de Situation PAUE2 au 21102020.xlsx\n",
      "19/11/2020  11:41           136 704 Copie de Tableau final agrément au code des investissements-CPT.xls\n",
      "22/01/2021  13:19           244 816 Courrier à COSELEC_attachement mensuel projet.docx\n",
      "19/11/2020  10:29           276 322 CR REUNION 16 10 2020 SAPCO.docx\n",
      "15/11/2020  13:55    <DIR>          CSS_Mao\n",
      "15/11/2020  13:20    <DIR>          CT_MicroEner\n",
      "16/11/2020  19:52            71 474 DAPT Elagage Thiaméne birane PAUE 2 DRCE.xlsx\n",
      "06/11/2020  09:20               585 debug.log\n",
      "22/01/2021  14:08         4 701 776 Diagnostic des pertes de la SENELEC et plan d'action_ 22 05  2018 _.docx\n",
      "15/11/2020  14:04    <DIR>          doc_call\n",
      "15/11/2020  13:59    <DIR>          doc_projet\n",
      "15/11/2020  13:55    <DIR>          docbur\n",
      "30/12/2020  19:10            53 079 Echeancier _C00768_11-2020 (003).pdf\n",
      "22/01/2021  11:39    <DIR>          ELec Rurale\n",
      "15/11/2020  13:37         1 059 144 Elements_constitutifs_du_plan_de_protection_HTA.pdf\n",
      "28/01/2021  18:00    <DIR>          Evaluation Equipe CPD 2020\n",
      "27/11/2020  21:03    <DIR>          Formation\n",
      "18/11/2020  22:51         1 714 427 Formation agents SCA.pdf\n",
      "10/12/2020  23:56    <DIR>          Formation ESP\n",
      "16/11/2020  16:51    <DIR>          Formation passation des marchés _M. NDOYE\n",
      "10/12/2020  23:08         5 617 391 Formation sur la Gestion de L'énergie_Maodo SENE.pdf\n",
      "16/11/2020  21:46    <DIR>          Formation_ARMP\n",
      "18/11/2020  12:23         1 327 800 grille salariale suite augmentation 8%_ 18112020.pdf\n",
      "03/11/2020  12:12         1 245 405 guide_to_procurement_fr.pdf\n",
      "18/11/2020  22:59         4 482 301 iot maintenance industrielle.pdf\n",
      "06/11/2020  19:52         1 123 020 Liste des villages PAUE 2_revise avec ASER_suivi_avancement.1.xlsx\n",
      "24/11/2020  19:35           154 957 LOGO PSE.PNG\n",
      "29/01/2021  14:38           962 235 Math_Analyse.pdf\n",
      "29/01/2021  14:26           124 433 méca dérivée partielle gradient.pdf\n",
      "03/11/2020  10:49           152 894 Memo AOI62_2018.docx\n",
      "03/01/2021  21:27           606 710 modele FC_CS1.pdf\n",
      "23/10/2020  14:59    <DIR>          Modèles Office personnalisés\n",
      "04/01/2021  01:05            15 855 Modélisation et applications.docx\n",
      "05/01/2021  20:11                 0 monfichier.py\n",
      "30/12/2020  23:03             1 232 Moyenn.larp\n",
      "22/01/2021  11:28    <DIR>          NGOMENE DAKHAR 2\n",
      "03/11/2020  14:22    <DIR>          Passation des marchés\n",
      "27/01/2021  09:04           109 568 PAUE2 AJOUT LOCALITE A ELECTRIFIER.doc\n",
      "31/01/2021  19:04    <DIR>          Perso\n",
      "27/11/2020  12:56    <DIR>          Plans village déjà réalisés dans le PAUE2\n",
      "01/11/2020  14:07            32 955 PROJET Protocole SAL Charif et West Africa ESCo (1).docx\n",
      "05/01/2021  13:32            11 696 Projets en cours Matam.xlsx\n",
      "02/11/2020  21:09         1 202 835 PROTOCOLE D'ACCORD DIRECTION GENERALE - CSTS.pdf\n",
      "21/01/2021  08:12         6 641 426 PV Visite Kaolack Ville Neuve_PAUE2.pdf\n",
      "26/10/2020  17:27    <DIR>          PVRP SAWDATOU\n",
      "03/01/2021  14:59    <DIR>          Python Scripts\n",
      "10/12/2020  22:54            16 328 Questionnaires.docx\n",
      "10/12/2020  22:56            14 651 Questionnaires2.docx\n",
      "29/01/2021  13:40           663 890 Rapport activites CPD 4 eme trimestriel janvier 2021.docx\n",
      "10/12/2020  23:45            97 778 RAPPORT ANNUEL SSCCI_2015 _final.docx\n",
      "22/01/2021  16:26    <DIR>          Rapport projets\n",
      "30/12/2020  13:46            15 325 Ratio demande résidentielle par rapport à la demande globale.xlsx\n",
      "06/11/2020  15:31           180 509 Revue des Contrats de PASE_ P4 Bis au 31 octobre 2020 LSE Lot 1 AO 30.docx\n",
      "06/11/2020  15:42    <DIR>          Revue Projet novembre 2020\n",
      "04/11/2020  10:01            28 118 Situation PAUE2 au 21102020.xlsx\n",
      "06/11/2020  16:33            83 877 Suivi attachement octobre.xlsx\n",
      "02/11/2020  13:36            20 736 Suivi facturation PAUE2_fin octobre.xlsx\n",
      "02/11/2020  19:18           410 002 TABLEAU DE GESTION PROJET PAUE PHASE II 2020 -2023_Octobre.xlsm\n",
      "10/12/2020  23:46            70 004 TC.docx\n",
      "02/11/2020  08:48    <DIR>          Zoom\n",
      "              59 fichier(s)       58 692 790 octets\n",
      "              23 Rép(s)  391 823 482 880 octets libres\n"
     ]
    }
   ],
   "source": [
    "ls"
   ]
  },
  {
   "cell_type": "code",
   "execution_count": 70,
   "metadata": {},
   "outputs": [
    {
     "data": {
      "text/html": [
       "<div>\n",
       "<style scoped>\n",
       "    .dataframe tbody tr th:only-of-type {\n",
       "        vertical-align: middle;\n",
       "    }\n",
       "\n",
       "    .dataframe tbody tr th {\n",
       "        vertical-align: top;\n",
       "    }\n",
       "\n",
       "    .dataframe thead th {\n",
       "        text-align: right;\n",
       "    }\n",
       "</style>\n",
       "<table border=\"1\" class=\"dataframe\">\n",
       "  <thead>\n",
       "    <tr style=\"text-align: right;\">\n",
       "      <th></th>\n",
       "      <th>price</th>\n",
       "      <th>feature1</th>\n",
       "      <th>feature2</th>\n",
       "    </tr>\n",
       "  </thead>\n",
       "  <tbody>\n",
       "    <tr>\n",
       "      <th>0</th>\n",
       "      <td>461.527929</td>\n",
       "      <td>999.787558</td>\n",
       "      <td>999.766096</td>\n",
       "    </tr>\n",
       "    <tr>\n",
       "      <th>1</th>\n",
       "      <td>548.130011</td>\n",
       "      <td>998.861615</td>\n",
       "      <td>1001.042403</td>\n",
       "    </tr>\n",
       "    <tr>\n",
       "      <th>2</th>\n",
       "      <td>410.297162</td>\n",
       "      <td>1000.070267</td>\n",
       "      <td>998.844015</td>\n",
       "    </tr>\n",
       "    <tr>\n",
       "      <th>3</th>\n",
       "      <td>540.382220</td>\n",
       "      <td>999.952251</td>\n",
       "      <td>1000.440940</td>\n",
       "    </tr>\n",
       "    <tr>\n",
       "      <th>4</th>\n",
       "      <td>546.024553</td>\n",
       "      <td>1000.446011</td>\n",
       "      <td>1000.338531</td>\n",
       "    </tr>\n",
       "  </tbody>\n",
       "</table>\n",
       "</div>"
      ],
      "text/plain": [
       "        price     feature1     feature2\n",
       "0  461.527929   999.787558   999.766096\n",
       "1  548.130011   998.861615  1001.042403\n",
       "2  410.297162  1000.070267   998.844015\n",
       "3  540.382220   999.952251  1000.440940\n",
       "4  546.024553  1000.446011  1000.338531"
      ]
     },
     "execution_count": 70,
     "metadata": {},
     "output_type": "execute_result"
    }
   ],
   "source": [
    "import pandas as pd\n",
    "import numpy as np\n",
    "import seaborn as sns\n",
    "\n",
    "chemin=r\"C:\\Users\\dell\\Documents\\Perso\\Deep_Learning_TF_2_Notebooks_et_Datasets\\03-ANNs\\fake_reg.csv\"\n",
    "\n",
    "df=pd.read_csv(chemin)\n",
    "df.head()"
   ]
  },
  {
   "cell_type": "code",
   "execution_count": 71,
   "metadata": {},
   "outputs": [
    {
     "data": {
      "text/plain": [
       "<seaborn.axisgrid.PairGrid at 0x269d63ccca0>"
      ]
     },
     "execution_count": 71,
     "metadata": {},
     "output_type": "execute_result"
    },
    {
     "data": {
      "image/png": "[encoded data removed]",
      "text/plain": [
       "<Figure size 540x540 with 12 Axes>"
      ]
     },
     "metadata": {
      "needs_background": "light"
     },
     "output_type": "display_data"
    }
   ],
   "source": [
    "sns.pairplot(df)"
   ]
  },
  {
   "cell_type": "code",
   "execution_count": 72,
   "metadata": {},
   "outputs": [],
   "source": [
    "from sklearn.model_selection import train_test_split"
   ]
  },
  {
   "cell_type": "code",
   "execution_count": 73,
   "metadata": {},
   "outputs": [],
   "source": [
    "X=df[['feature1', 'feature2']].values"
   ]
  },
  {
   "cell_type": "code",
   "execution_count": 74,
   "metadata": {},
   "outputs": [],
   "source": [
    "y=df['price'].values"
   ]
  },
  {
   "cell_type": "code",
   "execution_count": 75,
   "metadata": {},
   "outputs": [
    {
     "data": {
      "text/plain": [
       "array([[ 999.78755752,  999.7660962 ],\n",
       "       [ 998.86161491, 1001.04240315],\n",
       "       [1000.07026691,  998.84401463],\n",
       "       ...,\n",
       "       [1001.45164617,  998.84760554],\n",
       "       [1000.77102275,  998.56285086],\n",
       "       [ 999.2322436 , 1001.45140713]])"
      ]
     },
     "execution_count": 75,
     "metadata": {},
     "output_type": "execute_result"
    }
   ],
   "source": [
    "X"
   ]
  },
  {
   "cell_type": "code",
   "execution_count": 76,
   "metadata": {},
   "outputs": [],
   "source": [
    "X_train, X_test, y_train, y_test = train_test_split(X, y, test_size=0.3, random_state=42)"
   ]
  },
  {
   "cell_type": "code",
   "execution_count": 77,
   "metadata": {},
   "outputs": [
    {
     "data": {
      "text/plain": [
       "(700, 2)"
      ]
     },
     "execution_count": 77,
     "metadata": {},
     "output_type": "execute_result"
    }
   ],
   "source": [
    "X_train.shape"
   ]
  },
  {
   "cell_type": "code",
   "execution_count": 78,
   "metadata": {},
   "outputs": [
    {
     "data": {
      "text/plain": [
       "(300, 2)"
      ]
     },
     "execution_count": 78,
     "metadata": {},
     "output_type": "execute_result"
    }
   ],
   "source": [
    "X_test.shape"
   ]
  },
  {
   "cell_type": "code",
   "execution_count": 79,
   "metadata": {},
   "outputs": [],
   "source": [
    "#Mise à l'échelle des features (pas les labels): normalisation afin d'éviter le vanishing \n",
    "from sklearn.preprocessing import MinMaxScaler"
   ]
  },
  {
   "cell_type": "code",
   "execution_count": 80,
   "metadata": {},
   "outputs": [],
   "source": [
    "scaler =MinMaxScaler()"
   ]
  },
  {
   "cell_type": "code",
   "execution_count": 81,
   "metadata": {},
   "outputs": [
    {
     "data": {
      "text/plain": [
       "MinMaxScaler()"
      ]
     },
     "execution_count": 81,
     "metadata": {},
     "output_type": "execute_result"
    }
   ],
   "source": [
    "scaler.fit(X_train)"
   ]
  },
  {
   "cell_type": "code",
   "execution_count": 82,
   "metadata": {},
   "outputs": [],
   "source": [
    "X_train = scaler.transform(X_train)"
   ]
  },
  {
   "cell_type": "code",
   "execution_count": 83,
   "metadata": {},
   "outputs": [],
   "source": [
    "X_test = scaler.transform(X_test)"
   ]
  },
  {
   "cell_type": "code",
   "execution_count": 84,
   "metadata": {},
   "outputs": [
    {
     "data": {
      "text/plain": [
       "array([[0.74046017, 0.32583248],\n",
       "       [0.43166001, 0.2555088 ],\n",
       "       [0.18468554, 0.70500664],\n",
       "       ...,\n",
       "       [0.54913363, 0.79933822],\n",
       "       [0.2834197 , 0.38818708],\n",
       "       [0.56282703, 0.42371827]])"
      ]
     },
     "execution_count": 84,
     "metadata": {},
     "output_type": "execute_result"
    }
   ],
   "source": [
    "X_train"
   ]
  },
  {
   "cell_type": "code",
   "execution_count": 85,
   "metadata": {},
   "outputs": [
    {
     "data": {
      "text/plain": [
       "1.0"
      ]
     },
     "execution_count": 85,
     "metadata": {},
     "output_type": "execute_result"
    }
   ],
   "source": [
    "X_train.max()"
   ]
  },
  {
   "cell_type": "code",
   "execution_count": 86,
   "metadata": {},
   "outputs": [],
   "source": [
    "#Création réseau de neurone: appel des méthodes Sequential et Dense de l'API keras \n",
    "from tensorflow.keras.models import Sequential\n",
    "from tensorflow.keras.layers import Dense"
   ]
  },
  {
   "cell_type": "code",
   "execution_count": 95,
   "metadata": {},
   "outputs": [],
   "source": [
    "#Création du model (Sequential : se prépare pour céer le réseau) et des couches (Dense relie les couches) du réseaux\n",
    "model = Sequential()\n",
    "\n",
    "#Création des couches\n",
    "input_layer = Dense(4, activation='relu')\n",
    "hid_layer1 = Dense(4, activation='relu')\n",
    "hid_layer2 = Dense(4, activation='relu')\n",
    "output_layer = Dense(1)\n",
    "\n",
    "#Ajout des couches au model\n",
    "\n",
    "model.add(input_layer)\n",
    "model.add(hid_layer1)\n",
    "model.add(hid_layer2)\n",
    "model.add(output_layer)\n",
    "\n",
    "#Compiler le model\n",
    "\n",
    "model.compile(optimizer='rmsprop' , loss='mse')\n"
   ]
  },
  {
   "cell_type": "code",
   "execution_count": 96,
   "metadata": {},
   "outputs": [
    {
     "name": "stdout",
     "output_type": "stream",
     "text": [
      "Epoch 1/250\n",
      "22/22 [==============================] - 0s 682us/step - loss: 256606.3594\n",
      "Epoch 2/250\n",
      "22/22 [==============================] - 0s 730us/step - loss: 256488.0469\n",
      "Epoch 3/250\n",
      "22/22 [==============================] - 0s 821us/step - loss: 256363.1719\n",
      "Epoch 4/250\n",
      "22/22 [==============================] - 0s 698us/step - loss: 256222.5781\n",
      "Epoch 5/250\n",
      "22/22 [==============================] - 0s 775us/step - loss: 256065.2969\n",
      "Epoch 6/250\n",
      "22/22 [==============================] - 0s 680us/step - loss: 255888.8750\n",
      "Epoch 7/250\n",
      "22/22 [==============================] - 0s 728us/step - loss: 255693.5156\n",
      "Epoch 8/250\n",
      "22/22 [==============================] - 0s 784us/step - loss: 255476.1406\n",
      "Epoch 9/250\n",
      "22/22 [==============================] - 0s 805us/step - loss: 255236.1562\n",
      "Epoch 10/250\n",
      "22/22 [==============================] - 0s 848us/step - loss: 254973.5469\n",
      "Epoch 11/250\n",
      "22/22 [==============================] - 0s 894us/step - loss: 254687.2500\n",
      "Epoch 12/250\n",
      "22/22 [==============================] - 0s 727us/step - loss: 254373.4688\n",
      "Epoch 13/250\n",
      "22/22 [==============================] - 0s 771us/step - loss: 254031.6875\n",
      "Epoch 14/250\n",
      "22/22 [==============================] - 0s 657us/step - loss: 253662.6250\n",
      "Epoch 15/250\n",
      "22/22 [==============================] - 0s 831us/step - loss: 253262.3125\n",
      "Epoch 16/250\n",
      "22/22 [==============================] - 0s 771us/step - loss: 252831.4062\n",
      "Epoch 17/250\n",
      "22/22 [==============================] - 0s 901us/step - loss: 252363.8438\n",
      "Epoch 18/250\n",
      "22/22 [==============================] - 0s 778us/step - loss: 251865.6875\n",
      "Epoch 19/250\n",
      "22/22 [==============================] - 0s 800us/step - loss: 251330.4844\n",
      "Epoch 20/250\n",
      "22/22 [==============================] - 0s 827us/step - loss: 250753.4844\n",
      "Epoch 21/250\n",
      "22/22 [==============================] - 0s 880us/step - loss: 250136.6875\n",
      "Epoch 22/250\n",
      "22/22 [==============================] - 0s 694us/step - loss: 249465.4844\n",
      "Epoch 23/250\n",
      "22/22 [==============================] - 0s 743us/step - loss: 248746.1875\n",
      "Epoch 24/250\n",
      "22/22 [==============================] - 0s 799us/step - loss: 247971.1094\n",
      "Epoch 25/250\n",
      "22/22 [==============================] - 0s 803us/step - loss: 247142.4219\n",
      "Epoch 26/250\n",
      "22/22 [==============================] - 0s 725us/step - loss: 246253.1250\n",
      "Epoch 27/250\n",
      "22/22 [==============================] - 0s 919us/step - loss: 245300.8906\n",
      "Epoch 28/250\n",
      "22/22 [==============================] - 0s 820us/step - loss: 244289.1875\n",
      "Epoch 29/250\n",
      "22/22 [==============================] - 0s 884us/step - loss: 243211.1719\n",
      "Epoch 30/250\n",
      "22/22 [==============================] - 0s 878us/step - loss: 242064.4531\n",
      "Epoch 31/250\n",
      "22/22 [==============================] - 0s 984us/step - loss: 240844.2812\n",
      "Epoch 32/250\n",
      "22/22 [==============================] - 0s 818us/step - loss: 239555.2031\n",
      "Epoch 33/250\n",
      "22/22 [==============================] - 0s 830us/step - loss: 238181.8438\n",
      "Epoch 34/250\n",
      "22/22 [==============================] - 0s 774us/step - loss: 236736.7969\n",
      "Epoch 35/250\n",
      "22/22 [==============================] - 0s 865us/step - loss: 235203.4062\n",
      "Epoch 36/250\n",
      "22/22 [==============================] - 0s 865us/step - loss: 233588.5000\n",
      "Epoch 37/250\n",
      "22/22 [==============================] - 0s 799us/step - loss: 231888.1562\n",
      "Epoch 38/250\n",
      "22/22 [==============================] - 0s 777us/step - loss: 230099.9375\n",
      "Epoch 39/250\n",
      "22/22 [==============================] - 0s 893us/step - loss: 228225.6250\n",
      "Epoch 40/250\n",
      "22/22 [==============================] - 0s 874us/step - loss: 226251.3594\n",
      "Epoch 41/250\n",
      "22/22 [==============================] - 0s 860us/step - loss: 224179.7188\n",
      "Epoch 42/250\n",
      "22/22 [==============================] - 0s 873us/step - loss: 222002.7188\n",
      "Epoch 43/250\n",
      "22/22 [==============================] - 0s 834us/step - loss: 219744.6562\n",
      "Epoch 44/250\n",
      "22/22 [==============================] - 0s 812us/step - loss: 217379.8125\n",
      "Epoch 45/250\n",
      "22/22 [==============================] - 0s 825us/step - loss: 214904.1406\n",
      "Epoch 46/250\n",
      "22/22 [==============================] - 0s 825us/step - loss: 212329.7812\n",
      "Epoch 47/250\n",
      "22/22 [==============================] - 0s 725us/step - loss: 209641.7188\n",
      "Epoch 48/250\n",
      "22/22 [==============================] - 0s 821us/step - loss: 206841.2812\n",
      "Epoch 49/250\n",
      "22/22 [==============================] - 0s 774us/step - loss: 203931.1719\n",
      "Epoch 50/250\n",
      "22/22 [==============================] - 0s 789us/step - loss: 200909.7656\n",
      "Epoch 51/250\n",
      "22/22 [==============================] - 0s 827us/step - loss: 197779.2656\n",
      "Epoch 52/250\n",
      "22/22 [==============================] - 0s 914us/step - loss: 194539.3594\n",
      "Epoch 53/250\n",
      "22/22 [==============================] - 0s 777us/step - loss: 191192.7812\n",
      "Epoch 54/250\n",
      "22/22 [==============================] - 0s 861us/step - loss: 187728.3125\n",
      "Epoch 55/250\n",
      "22/22 [==============================] - 0s 817us/step - loss: 184137.5312\n",
      "Epoch 56/250\n",
      "22/22 [==============================] - 0s 864us/step - loss: 180430.0781\n",
      "Epoch 57/250\n",
      "22/22 [==============================] - 0s 772us/step - loss: 176625.3281\n",
      "Epoch 58/250\n",
      "22/22 [==============================] - 0s 627us/step - loss: 172704.9219\n",
      "Epoch 59/250\n",
      "22/22 [==============================] - 0s 741us/step - loss: 168687.5938\n",
      "Epoch 60/250\n",
      "22/22 [==============================] - 0s 589us/step - loss: 164543.2812\n",
      "Epoch 61/250\n",
      "22/22 [==============================] - 0s 636us/step - loss: 160301.2500\n",
      "Epoch 62/250\n",
      "22/22 [==============================] - 0s 645us/step - loss: 155955.2188\n",
      "Epoch 63/250\n",
      "22/22 [==============================] - 0s 690us/step - loss: 151500.8125\n",
      "Epoch 64/250\n",
      "22/22 [==============================] - 0s 687us/step - loss: 146939.1719\n",
      "Epoch 65/250\n",
      "22/22 [==============================] - 0s 680us/step - loss: 142306.6562\n",
      "Epoch 66/250\n",
      "22/22 [==============================] - 0s 680us/step - loss: 137563.3281\n",
      "Epoch 67/250\n",
      "22/22 [==============================] - 0s 686us/step - loss: 132752.1094\n",
      "Epoch 68/250\n",
      "22/22 [==============================] - 0s 717us/step - loss: 127855.5312\n",
      "Epoch 69/250\n",
      "22/22 [==============================] - 0s 686us/step - loss: 122856.8672\n",
      "Epoch 70/250\n",
      "22/22 [==============================] - 0s 635us/step - loss: 117820.9609\n",
      "Epoch 71/250\n",
      "22/22 [==============================] - 0s 638us/step - loss: 112715.0547\n",
      "Epoch 72/250\n",
      "22/22 [==============================] - 0s 699us/step - loss: 107576.6250\n",
      "Epoch 73/250\n",
      "22/22 [==============================] - 0s 680us/step - loss: 102405.6328\n",
      "Epoch 74/250\n",
      "22/22 [==============================] - 0s 647us/step - loss: 97189.7812\n",
      "Epoch 75/250\n",
      "22/22 [==============================] - 0s 689us/step - loss: 91959.2969\n",
      "Epoch 76/250\n",
      "22/22 [==============================] - 0s 635us/step - loss: 86674.3672\n",
      "Epoch 77/250\n",
      "22/22 [==============================] - 0s 646us/step - loss: 81411.7031\n",
      "Epoch 78/250\n",
      "22/22 [==============================] - 0s 680us/step - loss: 76153.8906\n",
      "Epoch 79/250\n",
      "22/22 [==============================] - 0s 635us/step - loss: 70949.3438\n",
      "Epoch 80/250\n",
      "22/22 [==============================] - 0s 680us/step - loss: 65789.1641\n",
      "Epoch 81/250\n",
      "22/22 [==============================] - 0s 651us/step - loss: 60666.3438\n",
      "Epoch 82/250\n",
      "22/22 [==============================] - 0s 818us/step - loss: 55603.9297\n",
      "Epoch 83/250\n",
      "22/22 [==============================] - 0s 635us/step - loss: 50626.7930\n",
      "Epoch 84/250\n",
      "22/22 [==============================] - 0s 595us/step - loss: 45812.7305\n",
      "Epoch 85/250\n",
      "22/22 [==============================] - 0s 639us/step - loss: 41107.2539\n",
      "Epoch 86/250\n",
      "22/22 [==============================] - 0s 646us/step - loss: 36559.6680\n",
      "Epoch 87/250\n",
      "22/22 [==============================] - 0s 647us/step - loss: 32169.9180\n",
      "Epoch 88/250\n",
      "22/22 [==============================] - 0s 728us/step - loss: 27970.6465\n",
      "Epoch 89/250\n",
      "22/22 [==============================] - 0s 648us/step - loss: 23988.2344\n",
      "Epoch 90/250\n",
      "22/22 [==============================] - 0s 591us/step - loss: 20302.6562\n",
      "Epoch 91/250\n",
      "22/22 [==============================] - 0s 636us/step - loss: 16855.0371\n",
      "Epoch 92/250\n",
      "22/22 [==============================] - 0s 741us/step - loss: 13702.5029\n",
      "Epoch 93/250\n",
      "22/22 [==============================] - 0s 590us/step - loss: 10879.1621\n",
      "Epoch 94/250\n",
      "22/22 [==============================] - 0s 648us/step - loss: 8412.8496\n",
      "Epoch 95/250\n",
      "22/22 [==============================] - 0s 680us/step - loss: 6345.8613\n",
      "Epoch 96/250\n",
      "22/22 [==============================] - 0s 735us/step - loss: 4657.1309\n",
      "Epoch 97/250\n",
      "22/22 [==============================] - 0s 639us/step - loss: 3425.6558\n",
      "Epoch 98/250\n",
      "22/22 [==============================] - 0s 693us/step - loss: 2599.3044\n",
      "Epoch 99/250\n",
      "22/22 [==============================] - 0s 681us/step - loss: 2172.7263\n",
      "Epoch 100/250\n",
      "22/22 [==============================] - 0s 615us/step - loss: 2028.8206\n",
      "Epoch 101/250\n",
      "22/22 [==============================] - 0s 679us/step - loss: 1983.4702\n",
      "Epoch 102/250\n",
      "22/22 [==============================] - 0s 629us/step - loss: 1959.2434\n",
      "Epoch 103/250\n",
      "22/22 [==============================] - 0s 591us/step - loss: 1932.7422\n",
      "Epoch 104/250\n",
      "22/22 [==============================] - 0s 545us/step - loss: 1900.7288\n",
      "Epoch 105/250\n",
      "22/22 [==============================] - 0s 499us/step - loss: 1873.7527\n",
      "Epoch 106/250\n",
      "22/22 [==============================] - 0s 544us/step - loss: 1847.1404\n",
      "Epoch 107/250\n",
      "22/22 [==============================] - 0s 637us/step - loss: 1820.1561\n",
      "Epoch 108/250\n",
      "22/22 [==============================] - 0s 642us/step - loss: 1795.4476\n",
      "Epoch 109/250\n",
      "22/22 [==============================] - 0s 589us/step - loss: 1769.3064\n",
      "Epoch 110/250\n",
      "22/22 [==============================] - 0s 589us/step - loss: 1742.5007\n",
      "Epoch 111/250\n",
      "22/22 [==============================] - 0s 545us/step - loss: 1716.4877\n",
      "Epoch 112/250\n",
      "22/22 [==============================] - 0s 545us/step - loss: 1690.4556\n",
      "Epoch 113/250\n",
      "22/22 [==============================] - 0s 617us/step - loss: 1664.5186\n",
      "Epoch 114/250\n",
      "22/22 [==============================] - 0s 549us/step - loss: 1638.1714\n",
      "Epoch 115/250\n",
      "22/22 [==============================] - 0s 693us/step - loss: 1611.3434\n",
      "Epoch 116/250\n",
      "22/22 [==============================] - 0s 731us/step - loss: 1582.1670\n",
      "Epoch 117/250\n",
      "22/22 [==============================] - 0s 957us/step - loss: 1554.7684\n",
      "Epoch 118/250\n",
      "22/22 [==============================] - ETA: 0s - loss: 2149.73 - 0s 666us/step - loss: 1529.6066\n",
      "Epoch 119/250\n",
      "22/22 [==============================] - 0s 591us/step - loss: 1504.5529\n",
      "Epoch 120/250\n",
      "22/22 [==============================] - 0s 590us/step - loss: 1478.7374\n",
      "Epoch 121/250\n",
      "22/22 [==============================] - 0s 545us/step - loss: 1456.9589\n",
      "Epoch 122/250\n",
      "22/22 [==============================] - 0s 591us/step - loss: 1433.1477\n",
      "Epoch 123/250\n",
      "22/22 [==============================] - 0s 545us/step - loss: 1407.9954\n",
      "Epoch 124/250\n",
      "22/22 [==============================] - 0s 544us/step - loss: 1383.8875\n",
      "Epoch 125/250\n",
      "22/22 [==============================] - 0s 589us/step - loss: 1359.2761\n",
      "Epoch 126/250\n",
      "22/22 [==============================] - 0s 595us/step - loss: 1333.2179\n",
      "Epoch 127/250\n",
      "22/22 [==============================] - 0s 636us/step - loss: 1310.3800\n",
      "Epoch 128/250\n",
      "22/22 [==============================] - 0s 591us/step - loss: 1286.3837\n",
      "Epoch 129/250\n",
      "22/22 [==============================] - 0s 554us/step - loss: 1263.8552\n",
      "Epoch 130/250\n",
      "22/22 [==============================] - 0s 591us/step - loss: 1238.2728\n",
      "Epoch 131/250\n",
      "22/22 [==============================] - 0s 500us/step - loss: 1215.4933\n",
      "Epoch 132/250\n",
      "22/22 [==============================] - 0s 595us/step - loss: 1189.1475\n",
      "Epoch 133/250\n",
      "22/22 [==============================] - 0s 589us/step - loss: 1162.2717\n",
      "Epoch 134/250\n",
      "22/22 [==============================] - 0s 546us/step - loss: 1139.4104\n",
      "Epoch 135/250\n",
      "22/22 [==============================] - 0s 599us/step - loss: 1116.3368\n",
      "Epoch 136/250\n",
      "22/22 [==============================] - 0s 544us/step - loss: 1093.0607\n",
      "Epoch 137/250\n",
      "22/22 [==============================] - 0s 590us/step - loss: 1068.8209\n",
      "Epoch 138/250\n",
      "22/22 [==============================] - 0s 547us/step - loss: 1044.8965\n",
      "Epoch 139/250\n",
      "22/22 [==============================] - 0s 544us/step - loss: 1023.0920\n",
      "Epoch 140/250\n",
      "22/22 [==============================] - 0s 546us/step - loss: 998.3162\n",
      "Epoch 141/250\n",
      "22/22 [==============================] - 0s 639us/step - loss: 975.5162\n",
      "Epoch 142/250\n",
      "22/22 [==============================] - 0s 589us/step - loss: 954.5038\n",
      "Epoch 143/250\n",
      "22/22 [==============================] - 0s 544us/step - loss: 935.5298\n",
      "Epoch 144/250\n",
      "22/22 [==============================] - 0s 544us/step - loss: 916.3218\n",
      "Epoch 145/250\n",
      "22/22 [==============================] - 0s 590us/step - loss: 893.1540\n",
      "Epoch 146/250\n",
      "22/22 [==============================] - 0s 589us/step - loss: 871.2496\n",
      "Epoch 147/250\n",
      "22/22 [==============================] - 0s 544us/step - loss: 848.9466\n",
      "Epoch 148/250\n",
      "22/22 [==============================] - 0s 637us/step - loss: 828.2203\n",
      "Epoch 149/250\n",
      "22/22 [==============================] - 0s 635us/step - loss: 805.5752\n",
      "Epoch 150/250\n",
      "22/22 [==============================] - 0s 589us/step - loss: 782.1135\n",
      "Epoch 151/250\n",
      "22/22 [==============================] - 0s 619us/step - loss: 763.1852\n",
      "Epoch 152/250\n",
      "22/22 [==============================] - 0s 549us/step - loss: 743.3554\n",
      "Epoch 153/250\n",
      "22/22 [==============================] - 0s 589us/step - loss: 721.7575\n",
      "Epoch 154/250\n",
      "22/22 [==============================] - 0s 590us/step - loss: 704.2753\n",
      "Epoch 155/250\n",
      "22/22 [==============================] - 0s 591us/step - loss: 683.5489\n",
      "Epoch 156/250\n",
      "22/22 [==============================] - 0s 596us/step - loss: 665.5065\n",
      "Epoch 157/250\n",
      "22/22 [==============================] - 0s 544us/step - loss: 647.2316\n",
      "Epoch 158/250\n",
      "22/22 [==============================] - 0s 705us/step - loss: 630.7062\n",
      "Epoch 159/250\n",
      "22/22 [==============================] - 0s 546us/step - loss: 611.8053\n",
      "Epoch 160/250\n",
      "22/22 [==============================] - 0s 638us/step - loss: 594.1462\n",
      "Epoch 161/250\n",
      "22/22 [==============================] - 0s 635us/step - loss: 575.5815\n",
      "Epoch 162/250\n",
      "22/22 [==============================] - 0s 560us/step - loss: 555.5009\n",
      "Epoch 163/250\n",
      "22/22 [==============================] - 0s 544us/step - loss: 536.5539\n",
      "Epoch 164/250\n",
      "22/22 [==============================] - 0s 544us/step - loss: 517.5530\n",
      "Epoch 165/250\n",
      "22/22 [==============================] - 0s 589us/step - loss: 498.4406\n",
      "Epoch 166/250\n",
      "22/22 [==============================] - 0s 590us/step - loss: 488.0087\n",
      "Epoch 167/250\n",
      "22/22 [==============================] - 0s 604us/step - loss: 469.7170\n",
      "Epoch 168/250\n",
      "22/22 [==============================] - 0s 590us/step - loss: 454.9742\n",
      "Epoch 169/250\n",
      "22/22 [==============================] - 0s 590us/step - loss: 439.0525\n",
      "Epoch 170/250\n",
      "22/22 [==============================] - 0s 635us/step - loss: 420.1799\n",
      "Epoch 171/250\n",
      "22/22 [==============================] - 0s 635us/step - loss: 402.5902\n",
      "Epoch 172/250\n",
      "22/22 [==============================] - 0s 591us/step - loss: 386.7725\n",
      "Epoch 173/250\n",
      "22/22 [==============================] - 0s 546us/step - loss: 371.3262\n",
      "Epoch 174/250\n",
      "22/22 [==============================] - 0s 591us/step - loss: 357.2510\n",
      "Epoch 175/250\n",
      "22/22 [==============================] - 0s 593us/step - loss: 345.5935\n",
      "Epoch 176/250\n",
      "22/22 [==============================] - 0s 600us/step - loss: 332.0739\n",
      "Epoch 177/250\n",
      "22/22 [==============================] - 0s 636us/step - loss: 318.2853\n",
      "Epoch 178/250\n",
      "22/22 [==============================] - 0s 589us/step - loss: 304.9934\n",
      "Epoch 179/250\n",
      "22/22 [==============================] - 0s 593us/step - loss: 294.3230\n",
      "Epoch 180/250\n",
      "22/22 [==============================] - 0s 544us/step - loss: 281.2200\n",
      "Epoch 181/250\n",
      "22/22 [==============================] - 0s 598us/step - loss: 269.0291\n",
      "Epoch 182/250\n",
      "22/22 [==============================] - 0s 589us/step - loss: 257.0846\n",
      "Epoch 183/250\n",
      "22/22 [==============================] - 0s 728us/step - loss: 245.3319\n",
      "Epoch 184/250\n",
      "22/22 [==============================] - 0s 609us/step - loss: 232.0325\n",
      "Epoch 185/250\n",
      "22/22 [==============================] - 0s 592us/step - loss: 220.4856\n",
      "Epoch 186/250\n",
      "22/22 [==============================] - 0s 545us/step - loss: 211.4740\n",
      "Epoch 187/250\n",
      "22/22 [==============================] - 0s 596us/step - loss: 201.7352\n",
      "Epoch 188/250\n",
      "22/22 [==============================] - 0s 593us/step - loss: 191.6484\n",
      "Epoch 189/250\n",
      "22/22 [==============================] - 0s 592us/step - loss: 182.6984\n",
      "Epoch 190/250\n",
      "22/22 [==============================] - 0s 544us/step - loss: 172.9612\n",
      "Epoch 191/250\n",
      "22/22 [==============================] - 0s 637us/step - loss: 163.0555\n",
      "Epoch 192/250\n",
      "22/22 [==============================] - 0s 625us/step - loss: 155.3347\n",
      "Epoch 193/250\n",
      "22/22 [==============================] - 0s 634us/step - loss: 146.1996\n",
      "Epoch 194/250\n",
      "22/22 [==============================] - 0s 590us/step - loss: 138.7393\n",
      "Epoch 195/250\n",
      "22/22 [==============================] - ETA: 0s - loss: 152.106 - 0s 590us/step - loss: 129.8937\n",
      "Epoch 196/250\n",
      "22/22 [==============================] - 0s 597us/step - loss: 121.2117\n",
      "Epoch 197/250\n",
      "22/22 [==============================] - 0s 544us/step - loss: 113.9799\n",
      "Epoch 198/250\n",
      "22/22 [==============================] - 0s 593us/step - loss: 107.3822\n",
      "Epoch 199/250\n",
      "22/22 [==============================] - 0s 544us/step - loss: 100.7826\n",
      "Epoch 200/250\n",
      "22/22 [==============================] - 0s 546us/step - loss: 95.0233\n",
      "Epoch 201/250\n",
      "22/22 [==============================] - 0s 552us/step - loss: 89.1770\n",
      "Epoch 202/250\n",
      "22/22 [==============================] - 0s 635us/step - loss: 84.2466\n",
      "Epoch 203/250\n",
      "22/22 [==============================] - 0s 817us/step - loss: 78.3573\n",
      "Epoch 204/250\n",
      "22/22 [==============================] - 0s 773us/step - loss: 73.5078\n",
      "Epoch 205/250\n",
      "22/22 [==============================] - 0s 648us/step - loss: 68.0811\n",
      "Epoch 206/250\n",
      "22/22 [==============================] - 0s 592us/step - loss: 63.1929\n",
      "Epoch 207/250\n",
      "22/22 [==============================] - 0s 557us/step - loss: 59.2484\n",
      "Epoch 208/250\n",
      "22/22 [==============================] - 0s 580us/step - loss: 56.1549\n",
      "Epoch 209/250\n",
      "22/22 [==============================] - 0s 548us/step - loss: 52.6187\n",
      "Epoch 210/250\n",
      "22/22 [==============================] - 0s 499us/step - loss: 49.4421\n",
      "Epoch 211/250\n",
      "22/22 [==============================] - 0s 591us/step - loss: 46.2421\n",
      "Epoch 212/250\n",
      "22/22 [==============================] - 0s 546us/step - loss: 43.8428\n",
      "Epoch 213/250\n",
      "22/22 [==============================] - 0s 563us/step - loss: 41.8706\n",
      "Epoch 214/250\n",
      "22/22 [==============================] - 0s 686us/step - loss: 39.4022\n",
      "Epoch 215/250\n",
      "22/22 [==============================] - 0s 592us/step - loss: 36.9982\n",
      "Epoch 216/250\n",
      "22/22 [==============================] - 0s 545us/step - loss: 35.4748\n",
      "Epoch 217/250\n",
      "22/22 [==============================] - 0s 522us/step - loss: 33.7607\n",
      "Epoch 218/250\n",
      "22/22 [==============================] - 0s 544us/step - loss: 32.7797\n",
      "Epoch 219/250\n",
      "22/22 [==============================] - 0s 556us/step - loss: 31.3139\n",
      "Epoch 220/250\n",
      "22/22 [==============================] - 0s 652us/step - loss: 30.5940\n",
      "Epoch 221/250\n",
      "22/22 [==============================] - 0s 589us/step - loss: 29.3430\n",
      "Epoch 222/250\n",
      "22/22 [==============================] - 0s 592us/step - loss: 28.8421\n",
      "Epoch 223/250\n",
      "22/22 [==============================] - 0s 545us/step - loss: 28.2132\n",
      "Epoch 224/250\n",
      "22/22 [==============================] - 0s 499us/step - loss: 27.2458\n",
      "Epoch 225/250\n",
      "22/22 [==============================] - 0s 644us/step - loss: 26.8508\n",
      "Epoch 226/250\n",
      "22/22 [==============================] - 0s 518us/step - loss: 27.1045\n",
      "Epoch 227/250\n",
      "22/22 [==============================] - 0s 555us/step - loss: 26.1646\n",
      "Epoch 228/250\n",
      "22/22 [==============================] - 0s 554us/step - loss: 26.1739\n",
      "Epoch 229/250\n",
      "22/22 [==============================] - 0s 879us/step - loss: 25.7343\n",
      "Epoch 230/250\n",
      "22/22 [==============================] - ETA: 0s - loss: 31.90 - 0s 865us/step - loss: 25.8766\n",
      "Epoch 231/250\n",
      "22/22 [==============================] - 0s 822us/step - loss: 25.1352\n",
      "Epoch 232/250\n",
      "22/22 [==============================] - 0s 863us/step - loss: 25.2940\n",
      "Epoch 233/250\n",
      "22/22 [==============================] - 0s 816us/step - loss: 24.8389\n",
      "Epoch 234/250\n",
      "22/22 [==============================] - 0s 821us/step - loss: 24.7881\n",
      "Epoch 235/250\n",
      "22/22 [==============================] - 0s 807us/step - loss: 24.5190\n",
      "Epoch 236/250\n",
      "22/22 [==============================] - 0s 816us/step - loss: 24.8621\n",
      "Epoch 237/250\n",
      "22/22 [==============================] - 0s 874us/step - loss: 24.3032\n",
      "Epoch 238/250\n",
      "22/22 [==============================] - 0s 756us/step - loss: 24.4863\n",
      "Epoch 239/250\n",
      "22/22 [==============================] - 0s 775us/step - loss: 24.5118\n",
      "Epoch 240/250\n",
      "22/22 [==============================] - 0s 861us/step - loss: 24.4334\n",
      "Epoch 241/250\n",
      "22/22 [==============================] - 0s 775us/step - loss: 24.2251\n",
      "Epoch 242/250\n",
      "22/22 [==============================] - 0s 832us/step - loss: 24.2050\n",
      "Epoch 243/250\n",
      "22/22 [==============================] - 0s 905us/step - loss: 24.7701\n",
      "Epoch 244/250\n",
      "22/22 [==============================] - 0s 827us/step - loss: 24.5435\n",
      "Epoch 245/250\n",
      "22/22 [==============================] - 0s 912us/step - loss: 24.4580\n",
      "Epoch 246/250\n",
      "22/22 [==============================] - 0s 780us/step - loss: 24.4040\n",
      "Epoch 247/250\n",
      "22/22 [==============================] - 0s 865us/step - loss: 24.1057\n",
      "Epoch 248/250\n",
      "22/22 [==============================] - 0s 850us/step - loss: 24.3575\n",
      "Epoch 249/250\n",
      "22/22 [==============================] - 0s 858us/step - loss: 24.6666\n",
      "Epoch 250/250\n",
      "22/22 [==============================] - 0s 780us/step - loss: 24.1664\n"
     ]
    },
    {
     "data": {
      "text/plain": [
       "<tensorflow.python.keras.callbacks.History at 0x269e2263610>"
      ]
     },
     "execution_count": 96,
     "metadata": {},
     "output_type": "execute_result"
    }
   ],
   "source": [
    "model.fit(x=X_train, y=y_train, epochs=250 )"
   ]
  },
  {
   "cell_type": "code",
   "execution_count": 97,
   "metadata": {},
   "outputs": [],
   "source": [
    "#Récupération des résultats de pertes pendant les 250 époques sous une forme de df\n",
    "loss_df=pd.DataFrame(model.history.history)"
   ]
  },
  {
   "cell_type": "code",
   "execution_count": 98,
   "metadata": {},
   "outputs": [
    {
     "data": {
      "text/plain": [
       "<AxesSubplot:>"
      ]
     },
     "execution_count": 98,
     "metadata": {},
     "output_type": "execute_result"
    },
    {
     "data": {
      "image/png": "[encoded data removed]",
      "text/plain": [
       "<Figure size 432x288 with 1 Axes>"
      ]
     },
     "metadata": {
      "needs_background": "light"
     },
     "output_type": "display_data"
    }
   ],
   "source": [
    "#tracé de la fonction perte\n",
    "loss_df.plot()"
   ]
  },
  {
   "cell_type": "code",
   "execution_count": 99,
   "metadata": {},
   "outputs": [
    {
     "data": {
      "text/plain": [
       "25.014253616333008"
      ]
     },
     "execution_count": 99,
     "metadata": {},
     "output_type": "execute_result"
    }
   ],
   "source": [
    "#Evaluation du model: mse sur le test\n",
    "model.evaluate(X_test, y_test, verbose=0)"
   ]
  },
  {
   "cell_type": "code",
   "execution_count": 102,
   "metadata": {},
   "outputs": [
    {
     "data": {
      "text/plain": [
       "24.058441162109375"
      ]
     },
     "execution_count": 102,
     "metadata": {},
     "output_type": "execute_result"
    }
   ],
   "source": [
    "model.evaluate(X_train, y_train, verbose=0)"
   ]
  },
  {
   "cell_type": "code",
   "execution_count": 104,
   "metadata": {},
   "outputs": [],
   "source": [
    "test_predictions=model.predict(X_test)"
   ]
  },
  {
   "cell_type": "code",
   "execution_count": 105,
   "metadata": {},
   "outputs": [
    {
     "data": {
      "text/plain": [
       "array([[405.2658 ],\n",
       "       [623.1362 ],\n",
       "       [591.7307 ],\n",
       "       [572.03143],\n",
       "       [366.88824],\n",
       "       [578.8872 ],\n",
       "       [515.0599 ],\n",
       "       [458.90057],\n",
       "       [549.08624],\n",
       "       [447.31488],\n",
       "       [611.3973 ],\n",
       "       [548.4459 ],\n",
       "       [419.0694 ],\n",
       "       [408.89304],\n",
       "       [650.5526 ],\n",
       "       [437.15558],\n",
       "       [508.0603 ],\n",
       "       [659.6602 ],\n",
       "       [662.1961 ],\n",
       "       [565.1442 ],\n",
       "       [334.4447 ],\n",
       "       [444.75546],\n",
       "       [382.62872],\n",
       "       [378.76718],\n",
       "       [566.30707],\n",
       "       [610.3312 ],\n",
       "       [532.1801 ],\n",
       "       [427.77582],\n",
       "       [655.12085],\n",
       "       [413.95306],\n",
       "       [442.45966],\n",
       "       [484.9646 ],\n",
       "       [438.31604],\n",
       "       [681.4475 ],\n",
       "       [424.5514 ],\n",
       "       [417.73755],\n",
       "       [501.4919 ],\n",
       "       [550.1806 ],\n",
       "       [509.70428],\n",
       "       [395.56766],\n",
       "       [618.14667],\n",
       "       [416.5185 ],\n",
       "       [604.03784],\n",
       "       [445.7041 ],\n",
       "       [501.8017 ],\n",
       "       [581.13727],\n",
       "       [668.33575],\n",
       "       [490.14243],\n",
       "       [318.6026 ],\n",
       "       [485.2862 ],\n",
       "       [517.00977],\n",
       "       [381.70193],\n",
       "       [541.47815],\n",
       "       [408.55786],\n",
       "       [641.0266 ],\n",
       "       [490.94586],\n",
       "       [627.7125 ],\n",
       "       [626.3995 ],\n",
       "       [446.96118],\n",
       "       [484.6536 ],\n",
       "       [491.04907],\n",
       "       [474.33633],\n",
       "       [682.24426],\n",
       "       [403.34576],\n",
       "       [700.58514],\n",
       "       [586.1247 ],\n",
       "       [582.7665 ],\n",
       "       [537.50946],\n",
       "       [484.427  ],\n",
       "       [516.45404],\n",
       "       [361.25223],\n",
       "       [540.49963],\n",
       "       [570.3763 ],\n",
       "       [527.99506],\n",
       "       [453.57532],\n",
       "       [530.83844],\n",
       "       [506.87552],\n",
       "       [443.37244],\n",
       "       [543.14935],\n",
       "       [640.1725 ],\n",
       "       [466.09912],\n",
       "       [566.901  ],\n",
       "       [690.09515],\n",
       "       [458.69476],\n",
       "       [708.4931 ],\n",
       "       [472.5796 ],\n",
       "       [403.09586],\n",
       "       [584.78925],\n",
       "       [436.50327],\n",
       "       [488.7127 ],\n",
       "       [616.60504],\n",
       "       [439.2888 ],\n",
       "       [455.34485],\n",
       "       [435.22784],\n",
       "       [506.852  ],\n",
       "       [608.1322 ],\n",
       "       [321.77063],\n",
       "       [436.14084],\n",
       "       [536.0402 ],\n",
       "       [518.52045],\n",
       "       [604.83154],\n",
       "       [525.26105],\n",
       "       [334.11316],\n",
       "       [575.6867 ],\n",
       "       [431.95966],\n",
       "       [562.02313],\n",
       "       [513.1729 ],\n",
       "       [391.16187],\n",
       "       [566.1712 ],\n",
       "       [454.48297],\n",
       "       [448.46164],\n",
       "       [640.51337],\n",
       "       [524.02734],\n",
       "       [550.3061 ],\n",
       "       [417.6632 ],\n",
       "       [478.63672],\n",
       "       [586.1872 ],\n",
       "       [667.00104],\n",
       "       [700.02203],\n",
       "       [659.15955],\n",
       "       [560.2794 ],\n",
       "       [502.8803 ],\n",
       "       [390.51245],\n",
       "       [281.60333],\n",
       "       [479.4133 ],\n",
       "       [615.83496],\n",
       "       [373.19263],\n",
       "       [512.04724],\n",
       "       [511.00122],\n",
       "       [493.4026 ],\n",
       "       [480.30035],\n",
       "       [423.896  ],\n",
       "       [493.3344 ],\n",
       "       [471.31757],\n",
       "       [599.92426],\n",
       "       [573.0494 ],\n",
       "       [415.13007],\n",
       "       [630.2017 ],\n",
       "       [466.16833],\n",
       "       [563.9489 ],\n",
       "       [405.6831 ],\n",
       "       [531.9586 ],\n",
       "       [572.348  ],\n",
       "       [357.22375],\n",
       "       [549.63074],\n",
       "       [603.0071 ],\n",
       "       [384.37085],\n",
       "       [542.2472 ],\n",
       "       [562.29364],\n",
       "       [452.66998],\n",
       "       [631.7775 ],\n",
       "       [372.46393],\n",
       "       [474.22382],\n",
       "       [528.7839 ],\n",
       "       [372.27078],\n",
       "       [461.2399 ],\n",
       "       [436.359  ],\n",
       "       [498.3374 ],\n",
       "       [346.06012],\n",
       "       [395.1991 ],\n",
       "       [604.1591 ],\n",
       "       [506.40924],\n",
       "       [468.52026],\n",
       "       [490.11   ],\n",
       "       [534.8683 ],\n",
       "       [344.6316 ],\n",
       "       [511.84393],\n",
       "       [250.98741],\n",
       "       [503.89374],\n",
       "       [541.045  ],\n",
       "       [489.2425 ],\n",
       "       [470.72424],\n",
       "       [392.53192],\n",
       "       [416.01547],\n",
       "       [549.3682 ],\n",
       "       [475.78687],\n",
       "       [579.74725],\n",
       "       [489.75592],\n",
       "       [600.8279 ],\n",
       "       [546.63525],\n",
       "       [541.6371 ],\n",
       "       [500.3836 ],\n",
       "       [645.4552 ],\n",
       "       [560.1717 ],\n",
       "       [577.40283],\n",
       "       [443.8663 ],\n",
       "       [415.3488 ],\n",
       "       [420.13608],\n",
       "       [568.7105 ],\n",
       "       [608.71246],\n",
       "       [437.58273],\n",
       "       [487.75757],\n",
       "       [587.56647],\n",
       "       [525.26495],\n",
       "       [357.47632],\n",
       "       [645.06396],\n",
       "       [527.9015 ],\n",
       "       [337.31143],\n",
       "       [492.54147],\n",
       "       [409.9887 ],\n",
       "       [606.2005 ],\n",
       "       [346.47543],\n",
       "       [522.06354],\n",
       "       [404.60248],\n",
       "       [258.88742],\n",
       "       [519.59357],\n",
       "       [340.76093],\n",
       "       [362.26828],\n",
       "       [575.95166],\n",
       "       [416.49158],\n",
       "       [550.7986 ],\n",
       "       [520.9392 ],\n",
       "       [510.87878],\n",
       "       [324.82272],\n",
       "       [404.32355],\n",
       "       [602.1658 ],\n",
       "       [617.5776 ],\n",
       "       [603.16425],\n",
       "       [565.8282 ],\n",
       "       [473.41937],\n",
       "       [460.2372 ],\n",
       "       [508.26776],\n",
       "       [445.71307],\n",
       "       [510.94745],\n",
       "       [502.39563],\n",
       "       [400.05527],\n",
       "       [605.18097],\n",
       "       [258.4089 ],\n",
       "       [627.79065],\n",
       "       [588.5391 ],\n",
       "       [327.15198],\n",
       "       [479.53088],\n",
       "       [594.9578 ],\n",
       "       [378.38983],\n",
       "       [460.06177],\n",
       "       [325.00003],\n",
       "       [518.35077],\n",
       "       [409.41663],\n",
       "       [555.9111 ],\n",
       "       [641.4045 ],\n",
       "       [536.6119 ],\n",
       "       [502.91037],\n",
       "       [634.5002 ],\n",
       "       [514.95886],\n",
       "       [531.476  ],\n",
       "       [518.72797],\n",
       "       [457.2918 ],\n",
       "       [505.50653],\n",
       "       [460.93604],\n",
       "       [591.1604 ],\n",
       "       [465.84235],\n",
       "       [427.23492],\n",
       "       [541.4685 ],\n",
       "       [493.66693],\n",
       "       [679.48346],\n",
       "       [372.82214],\n",
       "       [551.332  ],\n",
       "       [577.6375 ],\n",
       "       [434.01404],\n",
       "       [542.8402 ],\n",
       "       [585.5062 ],\n",
       "       [578.78754],\n",
       "       [720.40497],\n",
       "       [432.87073],\n",
       "       [398.51184],\n",
       "       [314.07175],\n",
       "       [448.26624],\n",
       "       [387.90094],\n",
       "       [543.0454 ],\n",
       "       [522.5566 ],\n",
       "       [563.9853 ],\n",
       "       [447.91205],\n",
       "       [534.1094 ],\n",
       "       [381.77344],\n",
       "       [501.29968],\n",
       "       [636.79285],\n",
       "       [496.18823],\n",
       "       [568.1762 ],\n",
       "       [470.06775],\n",
       "       [273.2792 ],\n",
       "       [517.248  ],\n",
       "       [621.05664],\n",
       "       [350.5936 ],\n",
       "       [450.51953],\n",
       "       [499.1991 ],\n",
       "       [542.731  ],\n",
       "       [611.3586 ],\n",
       "       [388.37714],\n",
       "       [449.4984 ],\n",
       "       [482.20764],\n",
       "       [598.02545],\n",
       "       [499.3728 ],\n",
       "       [321.5776 ],\n",
       "       [554.8809 ],\n",
       "       [444.53027],\n",
       "       [528.9078 ],\n",
       "       [515.489  ],\n",
       "       [609.24646],\n",
       "       [416.80347],\n",
       "       [410.92963]], dtype=float32)"
      ]
     },
     "execution_count": 105,
     "metadata": {},
     "output_type": "execute_result"
    }
   ],
   "source": [
    "test_predictions"
   ]
  },
  {
   "cell_type": "code",
   "execution_count": 106,
   "metadata": {},
   "outputs": [
    {
     "data": {
      "text/plain": [
       "0      405.265808\n",
       "1      623.136230\n",
       "2      591.730713\n",
       "3      572.031433\n",
       "4      366.888245\n",
       "          ...    \n",
       "295    528.907776\n",
       "296    515.489014\n",
       "297    609.246460\n",
       "298    416.803467\n",
       "299    410.929626\n",
       "Length: 300, dtype: float32"
      ]
     },
     "execution_count": 106,
     "metadata": {},
     "output_type": "execute_result"
    }
   ],
   "source": [
    "test_pred =pd.Series(test_predictions.reshape(300,))\n",
    "test_pred"
   ]
  },
  {
   "cell_type": "code",
   "execution_count": 107,
   "metadata": {},
   "outputs": [
    {
     "data": {
      "text/html": [
       "<div>\n",
       "<style scoped>\n",
       "    .dataframe tbody tr th:only-of-type {\n",
       "        vertical-align: middle;\n",
       "    }\n",
       "\n",
       "    .dataframe tbody tr th {\n",
       "        vertical-align: top;\n",
       "    }\n",
       "\n",
       "    .dataframe thead th {\n",
       "        text-align: right;\n",
       "    }\n",
       "</style>\n",
       "<table border=\"1\" class=\"dataframe\">\n",
       "  <thead>\n",
       "    <tr style=\"text-align: right;\">\n",
       "      <th></th>\n",
       "      <th>test y</th>\n",
       "    </tr>\n",
       "  </thead>\n",
       "  <tbody>\n",
       "    <tr>\n",
       "      <th>0</th>\n",
       "      <td>402.296319</td>\n",
       "    </tr>\n",
       "    <tr>\n",
       "      <th>1</th>\n",
       "      <td>624.156198</td>\n",
       "    </tr>\n",
       "    <tr>\n",
       "      <th>2</th>\n",
       "      <td>582.455066</td>\n",
       "    </tr>\n",
       "    <tr>\n",
       "      <th>3</th>\n",
       "      <td>578.588606</td>\n",
       "    </tr>\n",
       "    <tr>\n",
       "      <th>4</th>\n",
       "      <td>371.224104</td>\n",
       "    </tr>\n",
       "    <tr>\n",
       "      <th>...</th>\n",
       "      <td>...</td>\n",
       "    </tr>\n",
       "    <tr>\n",
       "      <th>295</th>\n",
       "      <td>525.704657</td>\n",
       "    </tr>\n",
       "    <tr>\n",
       "      <th>296</th>\n",
       "      <td>502.909473</td>\n",
       "    </tr>\n",
       "    <tr>\n",
       "      <th>297</th>\n",
       "      <td>612.727910</td>\n",
       "    </tr>\n",
       "    <tr>\n",
       "      <th>298</th>\n",
       "      <td>417.569725</td>\n",
       "    </tr>\n",
       "    <tr>\n",
       "      <th>299</th>\n",
       "      <td>410.538250</td>\n",
       "    </tr>\n",
       "  </tbody>\n",
       "</table>\n",
       "<p>300 rows × 1 columns</p>\n",
       "</div>"
      ],
      "text/plain": [
       "         test y\n",
       "0    402.296319\n",
       "1    624.156198\n",
       "2    582.455066\n",
       "3    578.588606\n",
       "4    371.224104\n",
       "..          ...\n",
       "295  525.704657\n",
       "296  502.909473\n",
       "297  612.727910\n",
       "298  417.569725\n",
       "299  410.538250\n",
       "\n",
       "[300 rows x 1 columns]"
      ]
     },
     "execution_count": 107,
     "metadata": {},
     "output_type": "execute_result"
    }
   ],
   "source": [
    "pred_df=pd.DataFrame(y_test, columns=[\"test y\"])\n",
    "pred_df"
   ]
  },
  {
   "cell_type": "code",
   "execution_count": 109,
   "metadata": {},
   "outputs": [],
   "source": [
    "pred_df=pd.concat([pred_df, test_pred], axis=1)"
   ]
  },
  {
   "cell_type": "code",
   "execution_count": 113,
   "metadata": {},
   "outputs": [],
   "source": [
    "pred_df.columns=['test y', 'Model Predictions']"
   ]
  },
  {
   "cell_type": "code",
   "execution_count": 114,
   "metadata": {},
   "outputs": [
    {
     "data": {
      "text/html": [
       "<div>\n",
       "<style scoped>\n",
       "    .dataframe tbody tr th:only-of-type {\n",
       "        vertical-align: middle;\n",
       "    }\n",
       "\n",
       "    .dataframe tbody tr th {\n",
       "        vertical-align: top;\n",
       "    }\n",
       "\n",
       "    .dataframe thead th {\n",
       "        text-align: right;\n",
       "    }\n",
       "</style>\n",
       "<table border=\"1\" class=\"dataframe\">\n",
       "  <thead>\n",
       "    <tr style=\"text-align: right;\">\n",
       "      <th></th>\n",
       "      <th>test y</th>\n",
       "      <th>Model Predictions</th>\n",
       "    </tr>\n",
       "  </thead>\n",
       "  <tbody>\n",
       "    <tr>\n",
       "      <th>0</th>\n",
       "      <td>402.296319</td>\n",
       "      <td>405.265808</td>\n",
       "    </tr>\n",
       "    <tr>\n",
       "      <th>1</th>\n",
       "      <td>624.156198</td>\n",
       "      <td>623.136230</td>\n",
       "    </tr>\n",
       "    <tr>\n",
       "      <th>2</th>\n",
       "      <td>582.455066</td>\n",
       "      <td>591.730713</td>\n",
       "    </tr>\n",
       "    <tr>\n",
       "      <th>3</th>\n",
       "      <td>578.588606</td>\n",
       "      <td>572.031433</td>\n",
       "    </tr>\n",
       "    <tr>\n",
       "      <th>4</th>\n",
       "      <td>371.224104</td>\n",
       "      <td>366.888245</td>\n",
       "    </tr>\n",
       "    <tr>\n",
       "      <th>...</th>\n",
       "      <td>...</td>\n",
       "      <td>...</td>\n",
       "    </tr>\n",
       "    <tr>\n",
       "      <th>295</th>\n",
       "      <td>525.704657</td>\n",
       "      <td>528.907776</td>\n",
       "    </tr>\n",
       "    <tr>\n",
       "      <th>296</th>\n",
       "      <td>502.909473</td>\n",
       "      <td>515.489014</td>\n",
       "    </tr>\n",
       "    <tr>\n",
       "      <th>297</th>\n",
       "      <td>612.727910</td>\n",
       "      <td>609.246460</td>\n",
       "    </tr>\n",
       "    <tr>\n",
       "      <th>298</th>\n",
       "      <td>417.569725</td>\n",
       "      <td>416.803467</td>\n",
       "    </tr>\n",
       "    <tr>\n",
       "      <th>299</th>\n",
       "      <td>410.538250</td>\n",
       "      <td>410.929626</td>\n",
       "    </tr>\n",
       "  </tbody>\n",
       "</table>\n",
       "<p>300 rows × 2 columns</p>\n",
       "</div>"
      ],
      "text/plain": [
       "         test y  Model Predictions\n",
       "0    402.296319         405.265808\n",
       "1    624.156198         623.136230\n",
       "2    582.455066         591.730713\n",
       "3    578.588606         572.031433\n",
       "4    371.224104         366.888245\n",
       "..          ...                ...\n",
       "295  525.704657         528.907776\n",
       "296  502.909473         515.489014\n",
       "297  612.727910         609.246460\n",
       "298  417.569725         416.803467\n",
       "299  410.538250         410.929626\n",
       "\n",
       "[300 rows x 2 columns]"
      ]
     },
     "execution_count": 114,
     "metadata": {},
     "output_type": "execute_result"
    }
   ],
   "source": [
    "pred_df"
   ]
  },
  {
   "cell_type": "code",
   "execution_count": 115,
   "metadata": {},
   "outputs": [
    {
     "data": {
      "text/plain": [
       "<AxesSubplot:xlabel='test y', ylabel='Model Predictions'>"
      ]
     },
     "execution_count": 115,
     "metadata": {},
     "output_type": "execute_result"
    },
    {
     "data": {
      "image/png": "[encoded data removed]",
      "text/plain": [
       "<Figure size 432x288 with 1 Axes>"
      ]
     },
     "metadata": {
      "needs_background": "light"
     },
     "output_type": "display_data"
    }
   ],
   "source": [
    "sns.scatterplot(x='test y', y='Model Predictions', data=pred_df)"
   ]
  },
  {
   "cell_type": "code",
   "execution_count": 118,
   "metadata": {},
   "outputs": [],
   "source": [
    "#Calcul des métriques du model\n",
    "from sklearn.metrics import mean_absolute_error, mean_squared_error"
   ]
  },
  {
   "cell_type": "code",
   "execution_count": 119,
   "metadata": {},
   "outputs": [
    {
     "data": {
      "text/plain": [
       "4.0107518537637805"
      ]
     },
     "execution_count": 119,
     "metadata": {},
     "output_type": "execute_result"
    }
   ],
   "source": [
    "#errur en dollar sur la prédiction : à analyse par rapport à la moyenne du feature (describe)\n",
    "mean_absolute_error(pred_df['test y'], pred_df['Model Predictions'])"
   ]
  },
  {
   "cell_type": "code",
   "execution_count": 121,
   "metadata": {},
   "outputs": [
    {
     "data": {
      "text/plain": [
       "25.014262694922678"
      ]
     },
     "execution_count": 121,
     "metadata": {},
     "output_type": "execute_result"
    }
   ],
   "source": [
    "mean_squared_error(pred_df['test y'], pred_df['Model Predictions'])"
   ]
  },
  {
   "cell_type": "code",
   "execution_count": 122,
   "metadata": {},
   "outputs": [],
   "source": [
    "rmse=mean_squared_error(pred_df['test y'], pred_df['Model Predictions'])**0.5"
   ]
  },
  {
   "cell_type": "code",
   "execution_count": 123,
   "metadata": {},
   "outputs": [
    {
     "data": {
      "text/plain": [
       "5.001426066125808"
      ]
     },
     "execution_count": 123,
     "metadata": {},
     "output_type": "execute_result"
    }
   ],
   "source": [
    "rmse"
   ]
  },
  {
   "cell_type": "code",
   "execution_count": 125,
   "metadata": {},
   "outputs": [
    {
     "data": {
      "text/plain": [
       "array([[419.8499]], dtype=float32)"
      ]
     },
     "execution_count": 125,
     "metadata": {},
     "output_type": "execute_result"
    }
   ],
   "source": [
    "#estimer le prix de new_gem dont les caractérisqtiques sont données: on le normalise d'abord\n",
    "new_gem=[[998, 1000]]\n",
    "new_gem=scaler.transform(new_gem)\n",
    "model.predict(new_gem)"
   ]
  },
  {
   "cell_type": "code",
   "execution_count": 135,
   "metadata": {},
   "outputs": [],
   "source": [
    "#Sauvegarder um model\n",
    "from tensorflow.keras.models import load_model\n",
    "model.save('my_model.h5')"
   ]
  },
  {
   "cell_type": "code",
   "execution_count": 136,
   "metadata": {},
   "outputs": [],
   "source": [
    "later_model = load_model('my_model.h5')"
   ]
  },
  {
   "cell_type": "code",
   "execution_count": 137,
   "metadata": {},
   "outputs": [
    {
     "data": {
      "text/plain": [
       "<tensorflow.python.keras.engine.sequential.Sequential at 0x269e0d2b7f0>"
      ]
     },
     "execution_count": 137,
     "metadata": {},
     "output_type": "execute_result"
    }
   ],
   "source": [
    "later_model"
   ]
  },
  {
   "cell_type": "code",
   "execution_count": 138,
   "metadata": {},
   "outputs": [
    {
     "data": {
      "text/plain": [
       "array([[419.8499]], dtype=float32)"
      ]
     },
     "execution_count": 138,
     "metadata": {},
     "output_type": "execute_result"
    }
   ],
   "source": [
    "later_model.predict(new_gem)"
   ]
  },
  {
   "cell_type": "code",
   "execution_count": null,
   "metadata": {},
   "outputs": [],
   "source": []
  }
 ],
 "metadata": {
  "kernelspec": {
   "display_name": "Python 3",
   "language": "python",
   "name": "python3"
  },
  "language_info": {
   "codemirror_mode": {
    "name": "ipython",
    "version": 3
   },
   "file_extension": ".py",
   "mimetype": "text/x-python",
   "name": "python",
   "nbconvert_exporter": "python",
   "pygments_lexer": "ipython3",
   "version": "3.8.5"
  }
 },
 "nbformat": 4,
 "nbformat_minor": 4
}
